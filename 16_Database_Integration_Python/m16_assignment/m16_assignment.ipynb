{
 "cells": [
  {
   "cell_type": "markdown",
   "id": "1cd2b24e-8589-46ec-9400-ad857d779244",
   "metadata": {},
   "source": [
    "# Module 16: Database Integration with Python\n",
    "## Assignment\n",
    "\n"
   ]
  },
  {
   "cell_type": "code",
   "execution_count": 1,
   "id": "80df4807-48b8-4e19-b9d7-e355acabab76",
   "metadata": {},
   "outputs": [
    {
     "name": "stdout",
     "output_type": "stream",
     "text": [
      "mysql-connector-python is not installed. Installing now...\n"
     ]
    }
   ],
   "source": [
    "import subprocess\n",
    "import sys\n",
    "\n",
    "# Step 1: Install mysql-connector-python if not installed\n",
    "try:\n",
    "    import mysql.connector\n",
    "except ImportError:\n",
    "    print(\"mysql-connector-python is not installed. Installing now...\")\n",
    "    subprocess.check_call([sys.executable, \"-m\", \"pip\", \"install\", \"mysql-connector-python\"])\n",
    "    import mysql.connector\n"
   ]
  },
  {
   "cell_type": "code",
   "execution_count": 4,
   "id": "3286d093-64cb-4a55-bbfa-7861d1e068e1",
   "metadata": {},
   "outputs": [
    {
     "name": "stdout",
     "output_type": "stream",
     "text": [
      "Database 'retails' created!\n"
     ]
    }
   ],
   "source": [
    "# Step 1: Connect to the MySQL Server and create the \"retails\" database\n",
    "db_connection = mysql.connector.connect(\n",
    "    host=\"127.0.0.1\",\n",
    "    user=\"john\",\n",
    "    password=\"P@ssw0rd12345\"\n",
    ")\n",
    "cursor = db_connection.cursor()\n",
    "\n",
    "cursor.execute(\"CREATE DATABASE IF NOT EXISTS retails\")\n",
    "print(\"Database 'retails' created!\")"
   ]
  },
  {
   "cell_type": "code",
   "execution_count": 6,
   "id": "d3ee1cfc-2b77-4a63-8e89-ac40c978e52a",
   "metadata": {},
   "outputs": [
    {
     "name": "stdout",
     "output_type": "stream",
     "text": [
      "Existing tables dropped!\n",
      "Table 'customer' created!\n",
      "Table 'orders' created!\n"
     ]
    }
   ],
   "source": [
    "# Step 2: Connect to the \"retails\" database and create tables\n",
    "# Switch to the \"retails\" database\n",
    "# Use the newly created database for subsequent operations\n",
    "db_connection.database = \"retails\"\n",
    "\n",
    "#  Clean up existing tables if they exist\n",
    "# Drop tables \"orders\" and \"customer\" if they already exist to start fresh\n",
    "cursor.execute(\"DROP TABLE IF EXISTS orders\")\n",
    "cursor.execute(\"DROP TABLE IF EXISTS customer\")\n",
    "print(\"Existing tables dropped!\")\n",
    "\n",
    "# Create \"customer\" table\n",
    "# Define the schema for the \"customer\" table\n",
    "cursor.execute(\n",
    "    \"\"\"\n",
    "    CREATE TABLE IF NOT EXISTS customer (\n",
    "        customer_id INT PRIMARY KEY,\n",
    "        age INT,\n",
    "        city VARCHAR(50),\n",
    "        gender VARCHAR(10)\n",
    "    )\n",
    "    \"\"\"\n",
    ")\n",
    "print(\"Table 'customer' created!\")\n",
    "\n",
    "# Create \"orders\" table\n",
    "# Define the schema for the \"orders\" table\n",
    "cursor.execute(\n",
    "    \"\"\"\n",
    "    CREATE TABLE IF NOT EXISTS orders (\n",
    "        order_id INT AUTO_INCREMENT PRIMARY KEY,\n",
    "        order_date DATE,\n",
    "        amount DECIMAL(10, 2),\n",
    "        customer_id INT,\n",
    "        FOREIGN KEY (customer_id) REFERENCES customer(customer_id)\n",
    "    )\n",
    "    \"\"\"\n",
    ")\n",
    "print(\"Table 'orders' created!\")"
   ]
  },
  {
   "cell_type": "code",
   "execution_count": 8,
   "id": "6ce110bb-2690-41f8-bd30-3b19da66c51c",
   "metadata": {},
   "outputs": [
    {
     "name": "stdout",
     "output_type": "stream",
     "text": [
      "Column 'is_sale' added to 'orders' table.\n"
     ]
    }
   ],
   "source": [
    "# Step 3: Add 'is_sale' column to the \"orders\" table\n",
    "# Alter the \"orders\" table to add a new column \"is_sale\"\n",
    "cursor.execute(\"ALTER TABLE orders ADD COLUMN is_sale BOOLEAN DEFAULT FALSE\")\n",
    "print(\"Column 'is_sale' added to 'orders' table.\")\n"
   ]
  },
  {
   "cell_type": "code",
   "execution_count": 9,
   "id": "03c60bbe-ccba-4ace-8ac6-dee2b75afc02",
   "metadata": {},
   "outputs": [
    {
     "name": "stdout",
     "output_type": "stream",
     "text": [
      "Data inserted into 'customer' table.\n"
     ]
    }
   ],
   "source": [
    "# Step 4: Insert data into \"customer\" table\n",
    "# Populate the \"customer\" table with sample data\n",
    "customer_data = [\n",
    "    (1001, 34, 'Austin', 'male'),\n",
    "    (1002, 37, 'Houston', 'male'),\n",
    "    (1003, 25, 'Austin', 'female'),\n",
    "    (1004, 28, 'Houston', 'female'),\n",
    "    (1005, 22, 'Dallas', 'male')\n",
    "]\n",
    "cursor.executemany(\n",
    "    \"INSERT INTO customer (customer_id, age, city, gender) VALUES (%s, %s, %s, %s)\", customer_data\n",
    ")\n",
    "db_connection.commit()\n",
    "print(\"Data inserted into 'customer' table.\")"
   ]
  },
  {
   "cell_type": "code",
   "execution_count": 11,
   "id": "3d08f62d-e547-467c-a40d-51bcf3f9cfd9",
   "metadata": {},
   "outputs": [
    {
     "name": "stdout",
     "output_type": "stream",
     "text": [
      "\n",
      "Customers in Austin:\n",
      "(1001, 34, 'Austin', 'male')\n",
      "(1003, 25, 'Austin', 'female')\n"
     ]
    }
   ],
   "source": [
    "# Step 5: Query customers in Austin\n",
    "# Retrieve and display customers located in Austin\n",
    "cursor.execute(\"SELECT * FROM customer WHERE city = 'Austin'\")\n",
    "print(\"\\nCustomers in Austin:\")\n",
    "for row in cursor.fetchall():\n",
    "    print(row)"
   ]
  },
  {
   "cell_type": "code",
   "execution_count": 12,
   "id": "792d1d3b-5f32-4e5f-a54a-def5177b7a09",
   "metadata": {},
   "outputs": [
    {
     "name": "stdout",
     "output_type": "stream",
     "text": [
      "\n",
      "Customers grouped by city:\n",
      "('Austin', 2)\n",
      "('Houston', 2)\n",
      "('Dallas', 1)\n"
     ]
    }
   ],
   "source": [
    "# Step 6: Group customers by city\n",
    "# Count and group customers by their city\n",
    "cursor.execute(\"SELECT city, COUNT(*) AS num_customers FROM customer GROUP BY city\")\n",
    "print(\"\\nCustomers grouped by city:\")\n",
    "for row in cursor.fetchall():\n",
    "    print(row)"
   ]
  },
  {
   "cell_type": "code",
   "execution_count": 14,
   "id": "de13a8d7-e021-4a02-9dcf-bf4b7d8d261b",
   "metadata": {},
   "outputs": [
    {
     "name": "stdout",
     "output_type": "stream",
     "text": [
      "\n",
      "Customers grouped by gender:\n",
      "('male', 3)\n",
      "('female', 2)\n"
     ]
    }
   ],
   "source": [
    "# Step 7: Group customers by gender\n",
    "# Count and group customers by their city\n",
    "cursor.execute(\"SELECT gender, COUNT(*) AS num_customers FROM customer GROUP BY gender\")\n",
    "print(\"\\nCustomers grouped by gender:\")\n",
    "for row in cursor.fetchall():\n",
    "    print(row)"
   ]
  },
  {
   "cell_type": "code",
   "execution_count": 15,
   "id": "b74452a1-13e5-41ec-aebe-66013a4601c3",
   "metadata": {},
   "outputs": [
    {
     "name": "stdout",
     "output_type": "stream",
     "text": [
      "Data inserted into 'orders' table.\n"
     ]
    }
   ],
   "source": [
    "# Step 8: Insert data into \"orders\" table\n",
    "# Populate the \"orders\" table with sample data\n",
    "orders_data = [\n",
    "    ('2022-10-1', 100.25, 1001),\n",
    "    ('2022-10-2', 200.75, 1002),\n",
    "    ('2022-10-3', 500.00, 1003),\n",
    "    ('2022-10-3', 600.00, 1004),\n",
    "    ('2022-10-4', 600.00, 1005)\n",
    "]\n",
    "cursor.executemany(\n",
    "    \"INSERT INTO orders (order_date, amount, customer_id) VALUES (%s, %s, %s)\", orders_data\n",
    ")\n",
    "db_connection.commit()\n",
    "print(\"Data inserted into 'orders' table.\")"
   ]
  },
  {
   "cell_type": "code",
   "execution_count": 16,
   "id": "117469e9-b26c-40ab-a1ed-8c3f65eaaf92",
   "metadata": {},
   "outputs": [
    {
     "name": "stdout",
     "output_type": "stream",
     "text": [
      "\n",
      "Orders on 2022-10-03:\n",
      "(8, datetime.date(2022, 10, 3), Decimal('500.00'), 1003, 0)\n",
      "(9, datetime.date(2022, 10, 3), Decimal('600.00'), 1004, 0)\n"
     ]
    }
   ],
   "source": [
    "# Step 9: Query orders on '2022-10-03'\n",
    "# Retrieve and display orders placed on the specified date\n",
    "cursor.execute(\"SELECT * FROM orders WHERE order_date = '2022-10-03'\")\n",
    "print(\"\\nOrders on 2022-10-03:\")\n",
    "for row in cursor.fetchall():\n",
    "    print(row)"
   ]
  },
  {
   "cell_type": "code",
   "execution_count": 17,
   "id": "ee068ca2-ffb2-4e76-9a75-f99d4a1c17cb",
   "metadata": {},
   "outputs": [
    {
     "name": "stdout",
     "output_type": "stream",
     "text": [
      "Orders with amount > 300:\n",
      "(8, datetime.date(2022, 10, 3), Decimal('500.00'), 1003, 0)\n",
      "(9, datetime.date(2022, 10, 3), Decimal('600.00'), 1004, 0)\n",
      "(10, datetime.date(2022, 10, 4), Decimal('600.00'), 1005, 0)\n"
     ]
    }
   ],
   "source": [
    "# Step 10: Show orders with amount > 300\n",
    "cursor.execute(\"SELECT * FROM orders WHERE amount > 300\")\n",
    "print(\"Orders with amount > 300:\")\n",
    "for row in cursor.fetchall():\n",
    "    print(row)"
   ]
  },
  {
   "cell_type": "code",
   "execution_count": 19,
   "id": "5742ff65-6883-4535-ac69-59525d6698dd",
   "metadata": {},
   "outputs": [
    {
     "name": "stdout",
     "output_type": "stream",
     "text": [
      "Sorted orders on 2022-10-03:\n",
      "(9, datetime.date(2022, 10, 3), Decimal('600.00'), 1004, 0)\n",
      "(8, datetime.date(2022, 10, 3), Decimal('500.00'), 1003, 0)\n"
     ]
    }
   ],
   "source": [
    "# Step 11: Show and sort orders placed on '2022-10-03'\n",
    "cursor.execute(\"SELECT * FROM orders WHERE order_date = '2022-10-03' ORDER BY amount DESC\")\n",
    "print(\"Sorted orders on 2022-10-03:\")\n",
    "for row in cursor.fetchall():\n",
    "    print(row)"
   ]
  },
  {
   "cell_type": "code",
   "execution_count": 21,
   "id": "8b868c63-a65e-4f3d-8dfd-22a51354cdd5",
   "metadata": {},
   "outputs": [
    {
     "name": "stdout",
     "output_type": "stream",
     "text": [
      "Number of distinct days: 4\n",
      "Distinct days are:\n",
      "2022-10-01\n",
      "2022-10-02\n",
      "2022-10-03\n",
      "2022-10-04\n"
     ]
    }
   ],
   "source": [
    "# Step 12: Count the number of distinct days\n",
    "cursor.execute(\"SELECT COUNT(DISTINCT order_date) FROM orders\")\n",
    "distinct_days = cursor.fetchone()[0]\n",
    "print(f\"Number of distinct days: {distinct_days}\")\n",
    "\n",
    "cursor.execute(\"SELECT DISTINCT order_date FROM orders\")\n",
    "distinct_dates = cursor.fetchall()\n",
    "\n",
    "#print(f\"Number of distinct days: {len(distinct_dates)}\")\n",
    "print(\"Distinct days are:\")\n",
    "for date in distinct_dates:\n",
    "    print(date[0])\n"
   ]
  },
  {
   "cell_type": "code",
   "execution_count": 22,
   "id": "80d77cc8-251e-47eb-b5e4-d2228cb530d7",
   "metadata": {},
   "outputs": [
    {
     "name": "stdout",
     "output_type": "stream",
     "text": [
      "Orders grouped by date:\n",
      "(datetime.date(2022, 10, 1), 1)\n",
      "(datetime.date(2022, 10, 2), 1)\n",
      "(datetime.date(2022, 10, 3), 2)\n",
      "(datetime.date(2022, 10, 4), 1)\n"
     ]
    }
   ],
   "source": [
    "# Step 13: Count the orders grouped by date\n",
    "cursor.execute(\"SELECT order_date, COUNT(*) AS num_orders FROM orders GROUP BY order_date\")\n",
    "print(\"Orders grouped by date:\")\n",
    "for row in cursor.fetchall():\n",
    "    print(row)\n"
   ]
  },
  {
   "cell_type": "code",
   "execution_count": 23,
   "id": "d8173f99-9655-4f6c-8fe2-76b9877990c5",
   "metadata": {},
   "outputs": [
    {
     "name": "stdout",
     "output_type": "stream",
     "text": [
      "Average order amount: 400.20\n"
     ]
    }
   ],
   "source": [
    "# Step 14: Calculate average order amount\n",
    "cursor.execute(\"SELECT AVG(amount) AS avg_amount FROM orders\")\n",
    "avg_amount = cursor.fetchone()[0]\n",
    "print(f\"Average order amount: {avg_amount:.2f}\")"
   ]
  },
  {
   "cell_type": "code",
   "execution_count": 24,
   "id": "24a82aa8-6f1d-4aa6-88cf-dfe2e80652e7",
   "metadata": {},
   "outputs": [],
   "source": [
    "# Close the connection\n",
    "cursor.close()\n",
    "db_connection.close()"
   ]
  },
  {
   "cell_type": "code",
   "execution_count": null,
   "id": "e8f985f8-c57a-445c-a287-c5c7aea1b563",
   "metadata": {},
   "outputs": [],
   "source": []
  }
 ],
 "metadata": {
  "kernelspec": {
   "display_name": "Python 3 (ipykernel)",
   "language": "python",
   "name": "python3"
  },
  "language_info": {
   "codemirror_mode": {
    "name": "ipython",
    "version": 3
   },
   "file_extension": ".py",
   "mimetype": "text/x-python",
   "name": "python",
   "nbconvert_exporter": "python",
   "pygments_lexer": "ipython3",
   "version": "3.10.1"
  }
 },
 "nbformat": 4,
 "nbformat_minor": 5
}
