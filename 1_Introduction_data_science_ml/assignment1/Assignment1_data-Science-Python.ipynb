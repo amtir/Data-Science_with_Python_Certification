{
 "cells": [
  {
   "cell_type": "markdown",
   "id": "d1dd96fe-5a9e-4187-a03c-ddef6e922a95",
   "metadata": {},
   "source": [
    "# Assignment 1: Introduction to Data Science & Python "
   ]
  },
  {
   "cell_type": "markdown",
   "id": "bcfa7752-ad80-4086-9692-aa6b2a4fdf5d",
   "metadata": {},
   "source": [
    "### 1. Factors of a Number with Even or Odd Check:\n",
    "This program finds the factors of a number and determines if each factor is even or odd.\n",
    "Example: For 20, the factors are 1 (odd), 2 (even), 4 (even), 5 (odd), 10 (even), and 20 (even)."
   ]
  },
  {
   "cell_type": "code",
   "execution_count": 3,
   "id": "eaec4c48-d239-4fc6-96a8-9f4cec155d85",
   "metadata": {},
   "outputs": [
    {
     "name": "stdout",
     "output_type": "stream",
     "text": [
      "Factors of 20 and their type:\n",
      "1 is an odd factor\n",
      "2 is an even factor\n",
      "4 is an even factor\n",
      "5 is an odd factor\n",
      "10 is an even factor\n",
      "20 is an even factor\n"
     ]
    },
    {
     "data": {
      "text/plain": [
       "[1, 2, 4, 5, 10, 20]"
      ]
     },
     "execution_count": 3,
     "metadata": {},
     "output_type": "execute_result"
    }
   ],
   "source": [
    "# 1. Program to find factors of a number and check if the factor is even or odd\n",
    "def find_factors(num):\n",
    "    factors = []\n",
    "    for i in range(1, num + 1):\n",
    "        if num % i == 0:\n",
    "            if i % 2 == 0:\n",
    "                print(f\"{i} is an even factor\")\n",
    "            else:\n",
    "                print(f\"{i} is an odd factor\")\n",
    "            factors.append(i)\n",
    "    return factors\n",
    "\n",
    "# Example usage:\n",
    "print(\"Factors of 20 and their type:\")\n",
    "find_factors(20)"
   ]
  },
  {
   "cell_type": "markdown",
   "id": "fce1b57c-4bf4-4bd2-9e0c-c0ccf862e815",
   "metadata": {},
   "source": [
    "### 2. Sort Words Alphabetically:\n",
    "This program accepts a sequence of words from the user and prints them in alphabetical order.\n",
    "You can run this function interactively with user input.\n"
   ]
  },
  {
   "cell_type": "code",
   "execution_count": 4,
   "id": "7316fecc-1d63-4bfb-b8a9-c29f2c8c6767",
   "metadata": {},
   "outputs": [
    {
     "name": "stdin",
     "output_type": "stream",
     "text": [
      "Enter a sequence of words, separated by spaces:  one two three four five\n"
     ]
    },
    {
     "name": "stdout",
     "output_type": "stream",
     "text": [
      "Sorted sequence of words: five four one three two\n"
     ]
    }
   ],
   "source": [
    "# 2. Program to sort input words alphabetically\n",
    "def sort_words():\n",
    "    words = input(\"Enter a sequence of words, separated by spaces: \").split()\n",
    "    words.sort()\n",
    "    print(\"Sorted sequence of words:\", \" \".join(words))\n",
    "\n",
    "# Example usage:\n",
    "sort_words()"
   ]
  },
  {
   "cell_type": "markdown",
   "id": "c8f9ca71-9059-4c41-aa3a-b3a1bc8fa159",
   "metadata": {},
   "source": [
    "### 3. Find Numbers with All Even Digits Between 1000 and 3000:\n",
    "This program finds numbers between 1000 and 3000 where all digits are even.\n",
    "Example: Some of the numbers found are 2000, 2020, 2040, etc."
   ]
  },
  {
   "cell_type": "code",
   "execution_count": 5,
   "id": "ebf3bdb4-f694-4fb9-91d1-3c41e72a587d",
   "metadata": {},
   "outputs": [
    {
     "name": "stdout",
     "output_type": "stream",
     "text": [
      "2000,2002,2004,2006,2008,2020,2022,2024,2026,2028,2040,2042,2044,2046,2048,2060,2062,2064,2066,2068,2080,2082,2084,2086,2088,2200,2202,2204,2206,2208,2220,2222,2224,2226,2228,2240,2242,2244,2246,2248,2260,2262,2264,2266,2268,2280,2282,2284,2286,2288,2400,2402,2404,2406,2408,2420,2422,2424,2426,2428,2440,2442,2444,2446,2448,2460,2462,2464,2466,2468,2480,2482,2484,2486,2488,2600,2602,2604,2606,2608,2620,2622,2624,2626,2628,2640,2642,2644,2646,2648,2660,2662,2664,2666,2668,2680,2682,2684,2686,2688,2800,2802,2804,2806,2808,2820,2822,2824,2826,2828,2840,2842,2844,2846,2848,2860,2862,2864,2866,2868,2880,2882,2884,2886,2888\n"
     ]
    }
   ],
   "source": [
    "# 3. Program to find numbers between 1000 and 3000 where all digits are even\n",
    "def even_digit_numbers():\n",
    "    result = []\n",
    "    for num in range(1000, 3001):\n",
    "        digits = str(num)\n",
    "        if all(int(digit) % 2 == 0 for digit in digits):\n",
    "            result.append(digits)\n",
    "    print(\",\".join(result))\n",
    "\n",
    "# Example usage:\n",
    "even_digit_numbers()"
   ]
  },
  {
   "cell_type": "markdown",
   "id": "36bba620-8bc9-4bcc-af4b-12a422b39ca8",
   "metadata": {},
   "source": [
    "### 4. Count Letters and Digits in a Sentence:\n",
    "This program accepts a sentence and calculates the number of letters and digits in it.\n",
    "You can run this function interactively with user input."
   ]
  },
  {
   "cell_type": "code",
   "execution_count": 7,
   "id": "45a36d55-36e4-4694-88a1-85bf50dce622",
   "metadata": {},
   "outputs": [
    {
     "name": "stdin",
     "output_type": "stream",
     "text": [
      "Enter a sentence:  Python12345\n"
     ]
    },
    {
     "name": "stdout",
     "output_type": "stream",
     "text": [
      "LETTERS: 6 DIGITS: 5\n"
     ]
    }
   ],
   "source": [
    "# 4. Program to count the number of letters and digits in a sentence\n",
    "def count_letters_digits():\n",
    "    sentence = input(\"Enter a sentence: \")\n",
    "    letters = sum(c.isalpha() for c in sentence)\n",
    "    digits = sum(c.isdigit() for c in sentence)\n",
    "    print(f\"LETTERS: {letters} DIGITS: {digits}\")\n",
    "\n",
    "# Example usage:\n",
    "count_letters_digits()"
   ]
  },
  {
   "cell_type": "markdown",
   "id": "75493a1f-cbec-4073-baf8-e4f5bcda9eba",
   "metadata": {},
   "source": [
    "### 5. Palindrome Number Check:\n",
    "This program checks whether a given number is a palindrome (reads the same forwards and backwards).\n",
    "Example: 12321 is a palindrome, but 12345 is not."
   ]
  },
  {
   "cell_type": "code",
   "execution_count": 8,
   "id": "dd2f0eb9-1f31-4d1c-967c-fbdfc2598232",
   "metadata": {},
   "outputs": [
    {
     "name": "stdout",
     "output_type": "stream",
     "text": [
      "12321 is a palindrome\n",
      "12345 is not a palindrome\n"
     ]
    }
   ],
   "source": [
    "# 5. Program to check if a number is a palindrome\n",
    "def is_palindrome(num):\n",
    "    num_str = str(num)\n",
    "    if num_str == num_str[::-1]:\n",
    "        print(f\"{num} is a palindrome\")\n",
    "    else:\n",
    "        print(f\"{num} is not a palindrome\")\n",
    "\n",
    "# Example usage:\n",
    "is_palindrome(12321)\n",
    "is_palindrome(12345)"
   ]
  }
 ],
 "metadata": {
  "kernelspec": {
   "display_name": "Python 3 (ipykernel)",
   "language": "python",
   "name": "python3"
  },
  "language_info": {
   "codemirror_mode": {
    "name": "ipython",
    "version": 3
   },
   "file_extension": ".py",
   "mimetype": "text/x-python",
   "name": "python",
   "nbconvert_exporter": "python",
   "pygments_lexer": "ipython3",
   "version": "3.10.1"
  }
 },
 "nbformat": 4,
 "nbformat_minor": 5
}
