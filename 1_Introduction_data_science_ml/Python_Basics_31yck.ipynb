{
 "cells": [
  {
   "cell_type": "code",
   "execution_count": 3,
   "id": "d86e1ba3-d2e1-4057-8bf3-a2db5f7a12fa",
   "metadata": {},
   "outputs": [
    {
     "name": "stdout",
     "output_type": "stream",
     "text": [
      "This is a sample Code\n"
     ]
    }
   ],
   "source": [
    "print(\"This is a sample Code\")"
   ]
  },
  {
   "cell_type": "code",
   "execution_count": 4,
   "id": "fe2fe405-d1ff-41f0-a5b1-09bf39b5ff4f",
   "metadata": {},
   "outputs": [],
   "source": [
    "#This is a comment"
   ]
  },
  {
   "cell_type": "code",
   "execution_count": 5,
   "id": "497bcb38-f8fb-4c8b-8070-3d105482066c",
   "metadata": {},
   "outputs": [
    {
     "data": {
      "text/plain": [
       "'This is \\na multiline  \\ncomment'"
      ]
     },
     "execution_count": 5,
     "metadata": {},
     "output_type": "execute_result"
    }
   ],
   "source": [
    "\"\"\"This is \n",
    "a multiline  \n",
    "comment\"\"\""
   ]
  },
  {
   "cell_type": "code",
   "execution_count": null,
   "id": "94823356-8b7c-470f-8a6b-0bddccc94017",
   "metadata": {},
   "outputs": [],
   "source": [
    "#Python Data Types:\n",
    "\"\"\"\n",
    "Numerical Data: int,float,bool\n",
    "String: str\n",
    "Collection(Sequences): List,Tuple,Dict,Set\n",
    "\n",
    "Dynamic Typing\n",
    "\"\"\""
   ]
  },
  {
   "cell_type": "code",
   "execution_count": 6,
   "id": "062e8729-0af5-4cc3-b925-fd5d00dda978",
   "metadata": {},
   "outputs": [
    {
     "data": {
      "text/plain": [
       "int"
      ]
     },
     "execution_count": 6,
     "metadata": {},
     "output_type": "execute_result"
    }
   ],
   "source": [
    "#int and FLoat\n",
    "#int: 120,36,-96\n",
    "age=35\n",
    "type(age)"
   ]
  },
  {
   "cell_type": "code",
   "execution_count": 7,
   "id": "fee0b27d-5741-4522-abb7-a6044386e6cd",
   "metadata": {},
   "outputs": [
    {
     "data": {
      "text/plain": [
       "float"
      ]
     },
     "execution_count": 7,
     "metadata": {},
     "output_type": "execute_result"
    }
   ],
   "source": [
    "#Float \n",
    "roi=12.99\n",
    "type(roi)"
   ]
  },
  {
   "cell_type": "code",
   "execution_count": 8,
   "id": "59e03cd8-b146-4864-a106-d55649b6b5be",
   "metadata": {},
   "outputs": [
    {
     "data": {
      "text/plain": [
       "str"
      ]
     },
     "execution_count": 8,
     "metadata": {},
     "output_type": "execute_result"
    }
   ],
   "source": [
    "#Python String\n",
    "emp_name='Amit Sharma'\n",
    "type(emp_name)"
   ]
  },
  {
   "cell_type": "code",
   "execution_count": null,
   "id": "b46ca760-688f-469a-8c0b-a2360b116c63",
   "metadata": {},
   "outputs": [],
   "source": [
    "#Dynamic Typing\n",
    "#int age=36--->Static Typing"
   ]
  },
  {
   "cell_type": "code",
   "execution_count": 12,
   "id": "be037bcf-8995-4f30-bb6c-eb7a0442a7d2",
   "metadata": {},
   "outputs": [
    {
     "name": "stdout",
     "output_type": "stream",
     "text": [
      "<class 'int'>\n",
      "<class 'float'>\n",
      "<class 'str'>\n",
      "<class 'list'>\n"
     ]
    }
   ],
   "source": [
    "#Dynamic Typing\n",
    "var=123\n",
    "print(type(var))\n",
    "var=36.98\n",
    "print(type(var))\n",
    "var='Rohan'\n",
    "print(type(var))\n",
    "var=[45,63,98,78,36]  #List\n",
    "print(type(var))"
   ]
  },
  {
   "cell_type": "code",
   "execution_count": 18,
   "id": "1f67cc76-33af-4ae0-9cb6-713efa967a5f",
   "metadata": {},
   "outputs": [
    {
     "name": "stdout",
     "output_type": "stream",
     "text": [
      "141\n",
      "7.5\n",
      "7\n",
      "1\n",
      "184528125\n"
     ]
    }
   ],
   "source": [
    "#Operators in Python   a+b\n",
    "#Airthmetical Operators: + - * / //(floor Division) **(power), %(Modulo/remainder)\n",
    "print(45+96)\n",
    "print(45/6)  #Returns float\n",
    "print(45//6)  #returns int\n",
    "print(10%3)  #Returns remainder\n",
    "\n",
    "#power Operator  X**Y\n",
    "print(45**5) \n"
   ]
  },
  {
   "cell_type": "code",
   "execution_count": 19,
   "id": "20c19b6d-ecb8-48e9-9b20-204583741085",
   "metadata": {},
   "outputs": [
    {
     "name": "stdout",
     "output_type": "stream",
     "text": [
      "6.428571428571429\n"
     ]
    }
   ],
   "source": [
    "var1=45\n",
    "var2=7\n",
    "print(var1/var2)"
   ]
  },
  {
   "cell_type": "code",
   "execution_count": 21,
   "id": "18eaf76b-3844-4e1c-81b6-9eb223310d08",
   "metadata": {},
   "outputs": [
    {
     "name": "stdout",
     "output_type": "stream",
     "text": [
      "110\n",
      "60\n"
     ]
    }
   ],
   "source": [
    "#Assignement Operators  =,+=,-=,*=\n",
    "#var1=var2   #Assignment is always right to left\n",
    "\n",
    "var=100\n",
    "\n",
    "var+=10   #var=var+10\n",
    "print(var)\n",
    "\n",
    "var-=50  #var=var-50\n",
    "print(var)"
   ]
  },
  {
   "cell_type": "code",
   "execution_count": 26,
   "id": "882d8ea6-98a1-4769-9416-274185946465",
   "metadata": {},
   "outputs": [
    {
     "name": "stdout",
     "output_type": "stream",
     "text": [
      "False\n",
      "True\n",
      "False\n",
      "True\n"
     ]
    }
   ],
   "source": [
    "#Comparision/Relational Operators : >,<,<=,>=,==(equality),!=(no equal)\n",
    "#Out of Relational Operators is Bool True/False\n",
    "var1=45\n",
    "var2=63\n",
    "print(var1==var2)\n",
    "print(var1!=var2)\n",
    "print(var1>var2)\n",
    "print(var1<=var2)"
   ]
  },
  {
   "cell_type": "code",
   "execution_count": 28,
   "id": "fc3c3880-d474-4300-84ff-72217b5448d1",
   "metadata": {},
   "outputs": [
    {
     "name": "stdout",
     "output_type": "stream",
     "text": [
      "False\n"
     ]
    }
   ],
   "source": [
    "#Logical Operators : and,or,not\n",
    "age=45\n",
    "print(age>=18 and age<40) "
   ]
  },
  {
   "cell_type": "code",
   "execution_count": 29,
   "id": "f7e135de-b295-474a-88bc-dda36388671d",
   "metadata": {},
   "outputs": [
    {
     "name": "stdout",
     "output_type": "stream",
     "text": [
      "True\n"
     ]
    }
   ],
   "source": [
    "print(age>=18 or age<40) "
   ]
  },
  {
   "cell_type": "code",
   "execution_count": 30,
   "id": "23aef18b-f774-4e89-a412-fc2858c3d28c",
   "metadata": {},
   "outputs": [
    {
     "name": "stdout",
     "output_type": "stream",
     "text": [
      "False\n"
     ]
    }
   ],
   "source": [
    "print((age>=18 and age<40) or age>60)"
   ]
  },
  {
   "cell_type": "code",
   "execution_count": 31,
   "id": "e4dc658f-346a-40e4-bc58-836a78bb7bd0",
   "metadata": {},
   "outputs": [
    {
     "name": "stdout",
     "output_type": "stream",
     "text": [
      "False\n"
     ]
    }
   ],
   "source": [
    "print((age>=18 or age<40) and age>60)"
   ]
  },
  {
   "cell_type": "code",
   "execution_count": 32,
   "id": "489ace57-8de4-4cc2-b6b5-47d20f8db7a4",
   "metadata": {},
   "outputs": [
    {
     "name": "stdout",
     "output_type": "stream",
     "text": [
      "False\n"
     ]
    }
   ],
   "source": [
    "var1=45 #int\n",
    "var2=\"45\"  #str\n",
    "print(var1==var2)"
   ]
  },
  {
   "cell_type": "code",
   "execution_count": 33,
   "id": "9a893ce8-089c-459d-ae41-39f6b3f766f4",
   "metadata": {},
   "outputs": [
    {
     "name": "stdout",
     "output_type": "stream",
     "text": [
      "True\n"
     ]
    }
   ],
   "source": [
    "print(not age>60)"
   ]
  },
  {
   "cell_type": "code",
   "execution_count": null,
   "id": "31630481-425e-4179-b1b5-ec9d17f1d0e1",
   "metadata": {},
   "outputs": [],
   "source": [
    "#Flow Control: Conditional Statement,Iterative Statements(Loops)"
   ]
  },
  {
   "cell_type": "code",
   "execution_count": null,
   "id": "ed3dff9a-96a8-4946-8333-1e348ee7051f",
   "metadata": {},
   "outputs": [],
   "source": [
    "#Conditional Statement: if, else, elif, nested statements"
   ]
  },
  {
   "cell_type": "code",
   "execution_count": 35,
   "id": "50b4efe3-2a2e-41cb-ab24-7faf5b31487b",
   "metadata": {},
   "outputs": [
    {
     "name": "stdout",
     "output_type": "stream",
     "text": [
      "Num is odd\n"
     ]
    }
   ],
   "source": [
    "#Check given number is even or odd ?\n",
    "num=47\n",
    "\n",
    "if num%2==0:\n",
    "    print('Num is Even')\n",
    "else:\n",
    "    print('Num is odd')"
   ]
  },
  {
   "cell_type": "code",
   "execution_count": null,
   "id": "d91552bc-a17f-4245-ab73-7b0e920804af",
   "metadata": {},
   "outputs": [],
   "source": [
    "#Iterative Statements(Loops): For, While"
   ]
  },
  {
   "cell_type": "code",
   "execution_count": 44,
   "id": "51b8a5eb-424d-442e-8609-67f4c3965707",
   "metadata": {},
   "outputs": [
    {
     "name": "stdin",
     "output_type": "stream",
     "text": [
      "Enter any number: 15\n"
     ]
    },
    {
     "name": "stdout",
     "output_type": "stream",
     "text": [
      "15\n",
      "30\n",
      "45\n",
      "60\n",
      "75\n",
      "90\n",
      "105\n",
      "120\n",
      "135\n",
      "150\n",
      "Loop ends\n"
     ]
    }
   ],
   "source": [
    "#Get input from user\n",
    "\n",
    "#Default input is string, convert input into desired datatype\n",
    "\n",
    "#for---->Sequences/Collection---->Know how many u r running ?\n",
    "\n",
    "num=int(input('Enter any number:'))\n",
    "\n",
    "for i in range(1,11): #[1,2,3,4,5,6,7,8,9,10]\n",
    "    print(num*i)\n",
    "print(\"Loop ends\")"
   ]
  },
  {
   "cell_type": "code",
   "execution_count": 40,
   "id": "0fe4e81b-07e7-4128-91a1-af3cc2965bc7",
   "metadata": {},
   "outputs": [
    {
     "name": "stdout",
     "output_type": "stream",
     "text": [
      "[1, 2, 3, 4, 5, 6, 7, 8, 9]\n"
     ]
    }
   ],
   "source": [
    "print(list(range(1,10))) #[1,2,3,4,5,6,7,8,9,10]  (start,stop,step)"
   ]
  },
  {
   "cell_type": "code",
   "execution_count": 45,
   "id": "381ae449-16ba-440d-8aa5-ba05d647a4a7",
   "metadata": {},
   "outputs": [
    {
     "name": "stdin",
     "output_type": "stream",
     "text": [
      "Enter any number: 17\n"
     ]
    },
    {
     "name": "stdout",
     "output_type": "stream",
     "text": [
      "17\n",
      "34\n",
      "51\n",
      "68\n",
      "85\n",
      "102\n",
      "119\n",
      "136\n",
      "153\n",
      "170\n"
     ]
    }
   ],
   "source": [
    "#While---->Condition\n",
    "num=int(input('Enter any number:'))\n",
    "\n",
    "i=1\n",
    "while i<=10:  #TErminating condition---->Unknow number of iteration\n",
    "    print(num*i)\n",
    "    i+=1"
   ]
  },
  {
   "cell_type": "code",
   "execution_count": 46,
   "id": "4d430c2b-6695-4642-a394-be11e0b23cff",
   "metadata": {},
   "outputs": [
    {
     "name": "stdin",
     "output_type": "stream",
     "text": [
      "Guess a number between 1 and 100: 50\n"
     ]
    },
    {
     "name": "stdout",
     "output_type": "stream",
     "text": [
      "Too high, try again\n"
     ]
    },
    {
     "name": "stdin",
     "output_type": "stream",
     "text": [
      "Guess a number between 1 and 100: 10\n"
     ]
    },
    {
     "name": "stdout",
     "output_type": "stream",
     "text": [
      "Too low, try again\n"
     ]
    },
    {
     "name": "stdin",
     "output_type": "stream",
     "text": [
      "Guess a number between 1 and 100: 25\n"
     ]
    },
    {
     "name": "stdout",
     "output_type": "stream",
     "text": [
      "Too high, try again\n"
     ]
    },
    {
     "name": "stdin",
     "output_type": "stream",
     "text": [
      "Guess a number between 1 and 100: 15\n"
     ]
    },
    {
     "name": "stdout",
     "output_type": "stream",
     "text": [
      "Too low, try again\n"
     ]
    },
    {
     "name": "stdin",
     "output_type": "stream",
     "text": [
      "Guess a number between 1 and 100: 22\n"
     ]
    },
    {
     "name": "stdout",
     "output_type": "stream",
     "text": [
      "Too high, try again\n"
     ]
    },
    {
     "name": "stdin",
     "output_type": "stream",
     "text": [
      "Guess a number between 1 and 100: 18\n"
     ]
    },
    {
     "name": "stdout",
     "output_type": "stream",
     "text": [
      "Too low, try again\n"
     ]
    },
    {
     "name": "stdin",
     "output_type": "stream",
     "text": [
      "Guess a number between 1 and 100: 19\n"
     ]
    },
    {
     "name": "stdout",
     "output_type": "stream",
     "text": [
      "COngratulations! yo guessed number in 7 attempts\n"
     ]
    }
   ],
   "source": [
    "#Guess the number\n",
    "\n",
    "import random\n",
    "\n",
    "number=random.randint(1,100)\n",
    "attemps=0\n",
    "\n",
    "while True:\n",
    "    guess=int(input(\"Guess a number between 1 and 100:\"))\n",
    "    attemps+=1\n",
    "\n",
    "    if guess==number:\n",
    "        print(f\"COngratulations! yo guessed number in {attemps} attempts\")\n",
    "        break   #Terminating loop in between\n",
    "    elif guess<number:\n",
    "        print(\"Too low, try again\")\n",
    "    else:\n",
    "        print(\"Too high, try again\")"
   ]
  },
  {
   "cell_type": "code",
   "execution_count": null,
   "id": "1d1a3784-ec1c-46e6-be0c-2ba19e2a8601",
   "metadata": {},
   "outputs": [],
   "source": []
  }
 ],
 "metadata": {
  "kernelspec": {
   "display_name": "Python 3 (ipykernel)",
   "language": "python",
   "name": "python3"
  },
  "language_info": {
   "codemirror_mode": {
    "name": "ipython",
    "version": 3
   },
   "file_extension": ".py",
   "mimetype": "text/x-python",
   "name": "python",
   "nbconvert_exporter": "python",
   "pygments_lexer": "ipython3",
   "version": "3.12.4"
  }
 },
 "nbformat": 4,
 "nbformat_minor": 5
}
