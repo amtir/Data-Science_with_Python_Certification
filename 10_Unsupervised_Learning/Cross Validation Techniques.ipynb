{
 "cells": [
  {
   "cell_type": "markdown",
   "id": "ace2c196",
   "metadata": {},
   "source": [
    "## Hold Out Cross Validation\n",
    "Here  we split the data into 2 sets - train and test set. The split (either 70:30 or 80:20 or even 60:40) is totally dependent on the use case we are working on."
   ]
  },
  {
   "cell_type": "code",
   "execution_count": 1,
   "id": "c51d26e0",
   "metadata": {},
   "outputs": [],
   "source": [
    "from sklearn.model_selection import train_test_split"
   ]
  },
  {
   "cell_type": "code",
   "execution_count": 3,
   "id": "e2f0361f",
   "metadata": {},
   "outputs": [
    {
     "name": "stdout",
     "output_type": "stream",
     "text": [
      "Train: [100, 20, 70, 80, 40, 10, 60] Test: [30, 90, 50]\n"
     ]
    }
   ],
   "source": [
    "X = [10,20,30,40,50,60,70,80,90,100]\n",
    "\n",
    "X_train,X_test= train_test_split(X,test_size=0.3, random_state=0)\n",
    "print(\"Train:\",X_train,\"Test:\" ,X_test)"
   ]
  },
  {
   "cell_type": "markdown",
   "id": "25bb4028",
   "metadata": {},
   "source": [
    "## Leave One Out Cross Validation\n",
    "This is a simple technique in which training data inlcudes all observations in the data except one observation which will be used to test.\n",
    "\n",
    "For n samples, we have n different training sets. \n",
    "\n",
    "Although this model is trained on almost all of the data, the number of iterations and n different training sets, makes it computationally very expensive."
   ]
  },
  {
   "cell_type": "code",
   "execution_count": 4,
   "id": "68f9d8b7",
   "metadata": {},
   "outputs": [
    {
     "name": "stdout",
     "output_type": "stream",
     "text": [
      "[1 2 3 4 5 6 7 8 9] [0]\n",
      "[0 2 3 4 5 6 7 8 9] [1]\n",
      "[0 1 3 4 5 6 7 8 9] [2]\n",
      "[0 1 2 4 5 6 7 8 9] [3]\n",
      "[0 1 2 3 5 6 7 8 9] [4]\n",
      "[0 1 2 3 4 6 7 8 9] [5]\n",
      "[0 1 2 3 4 5 7 8 9] [6]\n",
      "[0 1 2 3 4 5 6 8 9] [7]\n",
      "[0 1 2 3 4 5 6 7 9] [8]\n",
      "[0 1 2 3 4 5 6 7 8] [9]\n"
     ]
    }
   ],
   "source": [
    "from sklearn.model_selection import LeaveOneOut\n",
    "X = [10,20,30,40,50,60,70,80,90,100]\n",
    "l = LeaveOneOut()\n",
    "\n",
    "for train, test in l.split(X):\n",
    "    print(\"%s %s\"% (train,test))"
   ]
  },
  {
   "cell_type": "markdown",
   "id": "e69fdf24",
   "metadata": {},
   "source": [
    "### K-Fold Cross-Validation"
   ]
  },
  {
   "cell_type": "markdown",
   "id": "324347c6",
   "metadata": {},
   "source": [
    "KFold divides the samples into k groups (folds) of approximately equal sizes. Out of these k groups, k-1 folds are used for training and the remaning one is used for testing.\n",
    "This process is repeated k times \n",
    "\n",
    "##### KFold(n_splits=5, *, shuffle=False, random_state=None)\n",
    "\n",
    "n_splits --> number of folds, default=5\n",
    "shuffle: bool, default=False\n",
    "Shuffle is used to shuffle the data before splitting it into batches. Samples within each split will not be shuffled.\n",
    "\n",
    "random_state --> int, default=None\n",
    "This is used to control the randomness of each fold and it affects the ordering of indices only when shuffle=True, else it doesn't have any effect"
   ]
  },
  {
   "cell_type": "code",
   "execution_count": 5,
   "id": "a9ef4781",
   "metadata": {},
   "outputs": [],
   "source": [
    "import numpy as np\n",
    "from sklearn.model_selection import KFold\n",
    "import pandas as pd\n",
    "from sklearn.tree import DecisionTreeClassifier"
   ]
  },
  {
   "cell_type": "code",
   "execution_count": 6,
   "id": "f8df77d1",
   "metadata": {},
   "outputs": [],
   "source": [
    "X = [\"a\",'b','c','d','e','f']\n",
    "kf = KFold(n_splits=3,shuffle=False,random_state=None)"
   ]
  },
  {
   "cell_type": "code",
   "execution_count": 7,
   "id": "4efeb2d1",
   "metadata": {},
   "outputs": [
    {
     "name": "stdout",
     "output_type": "stream",
     "text": [
      "KFold(n_splits=3, random_state=None, shuffle=False)\n"
     ]
    }
   ],
   "source": [
    "print(kf)"
   ]
  },
  {
   "cell_type": "code",
   "execution_count": 4,
   "id": "d11fee33",
   "metadata": {},
   "outputs": [
    {
     "name": "stdout",
     "output_type": "stream",
     "text": [
      "Train: [2 3 4 5] Test: [0 1]\n",
      "Train: [0 1 4 5] Test: [2 3]\n",
      "Train: [0 1 2 3] Test: [4 5]\n"
     ]
    }
   ],
   "source": [
    "#i=0\n",
    "for train, test in kf.split(X):\n",
    "    #print(\"Iteration:\",i)\n",
    "    print(\"Train:\",train,\"Test:\",test)"
   ]
  },
  {
   "cell_type": "markdown",
   "id": "b82da9cc",
   "metadata": {},
   "source": [
    "## Stratified K-Fold \n",
    "\n",
    "This technique is a variation of K-Fold, and it divides the data into k-stratified folds.\n",
    "This way it preserves the percentage of samples of each class present in the data\n",
    "* It generates test sets such that all sets contain the same distribution of classes, or as close as possible\n",
    "\n",
    "##### sklearn.model_selection.StratifiedKFold(n_splits=5, *, shuffle=False, random_state=None)"
   ]
  },
  {
   "cell_type": "code",
   "execution_count": 9,
   "id": "880ab173",
   "metadata": {},
   "outputs": [],
   "source": [
    "from sklearn.model_selection import StratifiedKFold"
   ]
  },
  {
   "cell_type": "code",
   "execution_count": 10,
   "id": "b992975a",
   "metadata": {},
   "outputs": [
    {
     "name": "stdout",
     "output_type": "stream",
     "text": [
      "Train: [1 3 4 5] Test: [0 2]\n",
      "Train: [0 2 3 5] Test: [1 4]\n",
      "Train: [0 1 2 4] Test: [3 5]\n"
     ]
    }
   ],
   "source": [
    "X = np.array([[1,2],[3,4],[5,6],[7,8],[9,10],[11,12]])\n",
    "y= np.array([0,0,1,0,1,1])\n",
    "skf = StratifiedKFold(n_splits=3,random_state=None,shuffle=False)\n",
    "\n",
    "for train_index,test_index in skf.split(X,y):\n",
    "    print(\"Train:\",train_index,'Test:',test_index)\n",
    "    X_train,X_test = X[train_index], X[test_index]\n",
    "    y_train,y_test = y[train_index], y[test_index]\n"
   ]
  },
  {
   "cell_type": "code",
   "execution_count": null,
   "id": "2116f11a",
   "metadata": {},
   "outputs": [],
   "source": []
  }
 ],
 "metadata": {
  "kernelspec": {
   "display_name": "Python 3 (ipykernel)",
   "language": "python",
   "name": "python3"
  },
  "language_info": {
   "codemirror_mode": {
    "name": "ipython",
    "version": 3
   },
   "file_extension": ".py",
   "mimetype": "text/x-python",
   "name": "python",
   "nbconvert_exporter": "python",
   "pygments_lexer": "ipython3",
   "version": "3.10.1"
  }
 },
 "nbformat": 4,
 "nbformat_minor": 5
}
