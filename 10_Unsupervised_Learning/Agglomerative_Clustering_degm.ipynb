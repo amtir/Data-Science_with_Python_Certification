{
 "cells": [
  {
   "cell_type": "code",
   "execution_count": null,
   "metadata": {
    "colab": {
     "base_uri": "https://localhost:8080/",
     "height": 424
    },
    "id": "M2SYlbWHTtsK",
    "outputId": "00d94458-dfd0-43de-843a-fefc4ce634d3"
   },
   "outputs": [],
   "source": [
    "import numpy as np\n",
    "import pandas as pd\n",
    "import matplotlib.pyplot as plt\n",
    "\n",
    "df = pd.read_csv(\"shopping_data.csv\")\n",
    "df"
   ]
  },
  {
   "cell_type": "code",
   "execution_count": null,
   "metadata": {
    "id": "2QiWbHkaT6RM"
   },
   "outputs": [],
   "source": [
    "from scipy.cluster.hierarchy import dendrogram,linkage"
   ]
  },
  {
   "cell_type": "code",
   "execution_count": null,
   "metadata": {
    "id": "7vSizIOCUfWa"
   },
   "outputs": [],
   "source": [
    "data = df[['Age','Annual Income (k$)']]"
   ]
  },
  {
   "cell_type": "code",
   "execution_count": null,
   "metadata": {
    "colab": {
     "base_uri": "https://localhost:8080/",
     "height": 206
    },
    "id": "k78KdurvVGOI",
    "outputId": "88a8d389-4a15-4d33-fbee-3987ce980b2b"
   },
   "outputs": [],
   "source": [
    "data.head()"
   ]
  },
  {
   "cell_type": "code",
   "execution_count": null,
   "metadata": {
    "colab": {
     "base_uri": "https://localhost:8080/",
     "height": 428
    },
    "id": "7a5xB-L_VHG6",
    "outputId": "28477436-be0c-4af6-e65d-34e71508e5b3"
   },
   "outputs": [],
   "source": [
    "link = linkage(data,method='ward')\n",
    "plt.figure(figsize=(10,7))\n",
    "dendrogram(link)\n",
    "plt.show()"
   ]
  },
  {
   "cell_type": "code",
   "execution_count": null,
   "metadata": {
    "colab": {
     "base_uri": "https://localhost:8080/"
    },
    "id": "aTecl71AVWx2",
    "outputId": "fb32ea4d-8181-4215-ad2e-26861aafcd3d"
   },
   "outputs": [],
   "source": [
    "data.shape"
   ]
  },
  {
   "cell_type": "code",
   "execution_count": null,
   "metadata": {
    "colab": {
     "base_uri": "https://localhost:8080/"
    },
    "id": "eM_kxMcJVjp4",
    "outputId": "9f8f6216-296c-43ac-beaa-e16cd17c3a33"
   },
   "outputs": [],
   "source": [
    "# Optional\n",
    "from sklearn.cluster import AgglomerativeClustering\n",
    "\n",
    "cluster = AgglomerativeClustering(n_clusters=5,linkage='ward')\n",
    "cluster.fit_predict(data)"
   ]
  },
  {
   "cell_type": "code",
   "execution_count": null,
   "metadata": {
    "colab": {
     "base_uri": "https://localhost:8080/",
     "height": 283
    },
    "id": "WprCrhP7WNG9",
    "outputId": "d44ed547-e811-40fc-f872-b9fd17bde0e2"
   },
   "outputs": [],
   "source": [
    "plt.scatter(data.loc[:,'Age'],data.loc[:,'Annual Income (k$)'], c = cluster.labels_ )"
   ]
  },
  {
   "cell_type": "code",
   "execution_count": null,
   "metadata": {
    "id": "ZEDN4GukWhyN"
   },
   "outputs": [],
   "source": []
  }
 ],
 "metadata": {
  "colab": {
   "collapsed_sections": [],
   "name": "Clustering DSML Internship.ipynb",
   "provenance": []
  },
  "kernelspec": {
   "display_name": "Python 3 (ipykernel)",
   "language": "python",
   "name": "python3"
  },
  "language_info": {
   "codemirror_mode": {
    "name": "ipython",
    "version": 3
   },
   "file_extension": ".py",
   "mimetype": "text/x-python",
   "name": "python",
   "nbconvert_exporter": "python",
   "pygments_lexer": "ipython3",
   "version": "3.12.4"
  }
 },
 "nbformat": 4,
 "nbformat_minor": 4
}
