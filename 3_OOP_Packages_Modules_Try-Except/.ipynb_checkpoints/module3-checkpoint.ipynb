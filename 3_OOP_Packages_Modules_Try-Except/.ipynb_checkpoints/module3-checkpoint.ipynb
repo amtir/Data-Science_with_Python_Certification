{
 "cells": [
  {
   "cell_type": "markdown",
   "id": "8c90e4d5-0e07-4d6b-9f1b-9535cf923a56",
   "metadata": {},
   "source": [
    "# Agenda for the week\n",
    "1. Function: Arguments, Lambda, map, filter, reduce\n",
    "2. OOPS an Intro\n",
    "3. Exception Handling\n",
    "4. Working with Modules\n",
    "5. Numpy"
   ]
  },
  {
   "cell_type": "code",
   "execution_count": 3,
   "id": "0cca4c3b-60cd-4f6a-9c7c-e8ea6f977934",
   "metadata": {},
   "outputs": [
    {
     "name": "stdout",
     "output_type": "stream",
     "text": [
      "3\n"
     ]
    }
   ],
   "source": [
    "# Write once-Use Many \n",
    "# Define \n",
    "def add(num1, num2): # num1 is an argument, paramters \n",
    "    result = num1 + num2\n",
    "    return result\n",
    "\n",
    "#call the function\n",
    "output = add(1,2)\n",
    "print(output)\n"
   ]
  },
  {
   "cell_type": "code",
   "execution_count": 11,
   "id": "109ace3a-358e-4550-9e97-dbba81b9c8dd",
   "metadata": {},
   "outputs": [
    {
     "name": "stdin",
     "output_type": "stream",
     "text": [
      "Enter your name:  John Smith\n",
      "Enter your age:  45\n"
     ]
    },
    {
     "name": "stdout",
     "output_type": "stream",
     "text": [
      "Hi John Smith, you are 45 years old\n",
      "Hi 45, you are John Smith years old\n"
     ]
    }
   ],
   "source": [
    "#Types of Arguments\n",
    "uname = input(\"Enter your name: \")\n",
    "uage=int(input(\"Enter your age: \"))\n",
    "\n",
    "def func1(name,age):\n",
    "    print(f'Hi {name}, you are {age} years old')\n",
    "\n",
    "#Position-Required Arguments\n",
    "func1(uname,uage)\n",
    "func1(uage,uname)"
   ]
  },
  {
   "cell_type": "code",
   "execution_count": 15,
   "id": "2c611151-100e-4c79-9354-e0f024d5552f",
   "metadata": {},
   "outputs": [
    {
     "name": "stdout",
     "output_type": "stream",
     "text": [
      "Hi John Smith, you are 45 years old\n",
      "Hi John Smith, you are 45 years old\n"
     ]
    },
    {
     "ename": "TypeError",
     "evalue": "func1() missing 1 required positional argument: 'name'",
     "output_type": "error",
     "traceback": [
      "\u001b[1;31m---------------------------------------------------------------------------\u001b[0m",
      "\u001b[1;31mTypeError\u001b[0m                                 Traceback (most recent call last)",
      "Cell \u001b[1;32mIn[15], line 4\u001b[0m\n\u001b[0;32m      2\u001b[0m func1(name\u001b[38;5;241m=\u001b[39muname, age\u001b[38;5;241m=\u001b[39muage)\n\u001b[0;32m      3\u001b[0m func1(age\u001b[38;5;241m=\u001b[39muage, name\u001b[38;5;241m=\u001b[39muname)\n\u001b[1;32m----> 4\u001b[0m \u001b[43mfunc1\u001b[49m\u001b[43m(\u001b[49m\u001b[43mage\u001b[49m\u001b[38;5;241;43m=\u001b[39;49m\u001b[43muage\u001b[49m\u001b[43m)\u001b[49m\n",
      "\u001b[1;31mTypeError\u001b[0m: func1() missing 1 required positional argument: 'name'"
     ]
    }
   ],
   "source": [
    "#Keyword arguments Args\n",
    "func1(name=uname, age=uage)\n",
    "func1(age=uage, name=uname)\n",
    "func1(age=uage)"
   ]
  },
  {
   "cell_type": "code",
   "execution_count": 20,
   "id": "7f0aaa29-6783-40c8-946c-dbbbd18b0539",
   "metadata": {},
   "outputs": [
    {
     "name": "stdout",
     "output_type": "stream",
     "text": [
      "Hi John Smith, you are 20 years\n",
      "Hi Tom, you are 45 years\n"
     ]
    }
   ],
   "source": [
    "#Default Arguments\n",
    "def func2(name,age=20): #Default value\n",
    "    print(f'Hi {name}, you are {age} years')\n",
    "\n",
    "func2(uname)\n",
    "func2('Tom',45)"
   ]
  },
  {
   "cell_type": "code",
   "execution_count": 25,
   "id": "b1c4ed9f-00e9-46e7-a383-14cc15d9d158",
   "metadata": {},
   "outputs": [
    {
     "name": "stdout",
     "output_type": "stream",
     "text": [
      "Hi Tim\n",
      "Hi John\n",
      "Hi Alice\n"
     ]
    }
   ],
   "source": [
    "#Arbitrary Arguments (many values against single arguments)\n",
    "def func3(*names):  \n",
    "    for name in names: \n",
    "        print(f'Hi {name}')\n",
    "\n",
    "func3(\"Tim\", 'John', 'Alice')"
   ]
  },
  {
   "cell_type": "code",
   "execution_count": 24,
   "id": "0191d183-7d07-4212-865b-ed2298604c1b",
   "metadata": {},
   "outputs": [
    {
     "name": "stdout",
     "output_type": "stream",
     "text": [
      "Hi Tim\n",
      "Hi John\n",
      "Hi Alice\n"
     ]
    }
   ],
   "source": [
    "#Arbitrary Arguments (many values against single arguments)\n",
    "def func4(names):  \n",
    "    for name in names: \n",
    "        print(f'Hi {name}')\n",
    "\n",
    "func4([\"Tim\", 'John', 'Alice'])\n"
   ]
  },
  {
   "cell_type": "code",
   "execution_count": 26,
   "id": "d8188bab-4c25-4b45-a416-c3db80b9a26b",
   "metadata": {},
   "outputs": [
    {
     "name": "stdin",
     "output_type": "stream",
     "text": [
      "Enter your name:  John\n",
      "Enter your age:  23\n"
     ]
    },
    {
     "name": "stdout",
     "output_type": "stream",
     "text": [
      "Hi John, you are 23 years old\n"
     ]
    }
   ],
   "source": [
    "uname = input(\"Enter your name: \")\n",
    "uage=int(input(\"Enter your age: \"))\n",
    "\n",
    "def func5(name,age):\n",
    "    print(f'Hi {name}, you are {age} years old')\n",
    "\n",
    "func5(uname,age=uage)"
   ]
  },
  {
   "cell_type": "code",
   "execution_count": 27,
   "id": "84e006ce-0ae9-42de-b754-c448848601b2",
   "metadata": {},
   "outputs": [
    {
     "ename": "SyntaxError",
     "evalue": "positional argument follows keyword argument (1125387877.py, line 1)",
     "output_type": "error",
     "traceback": [
      "\u001b[1;36m  Cell \u001b[1;32mIn[27], line 1\u001b[1;36m\u001b[0m\n\u001b[1;33m    func5(age=uage, uname)\u001b[0m\n\u001b[1;37m                         ^\u001b[0m\n\u001b[1;31mSyntaxError\u001b[0m\u001b[1;31m:\u001b[0m positional argument follows keyword argument\n"
     ]
    }
   ],
   "source": [
    "func5(age=uage, uname)"
   ]
  },
  {
   "cell_type": "code",
   "execution_count": 32,
   "id": "b401f1d6-6ad2-4363-99fb-03f6e2bd9d21",
   "metadata": {},
   "outputs": [
    {
     "name": "stdout",
     "output_type": "stream",
     "text": [
      "Positional arguments: ('Tim', 'John')\n",
      "Keyword arguments: {'name': 'Alice', 'age': 25}\n"
     ]
    }
   ],
   "source": [
    "#*args is used to capture a variable number of positional #arguments (which will be packed into a tuple).\n",
    "#**kwargs is used to capture a variable number of keyword #arguments (which will be packed into a dictionary).\n",
    "def func_combined(*args, **kwargs):\n",
    "    print(\"Positional arguments:\", args)\n",
    "    print(\"Keyword arguments:\", kwargs)\n",
    "\n",
    "func_combined(\"Tim\", \"John\", name=\"Alice\", age=25)"
   ]
  },
  {
   "cell_type": "code",
   "execution_count": 33,
   "id": "bc20f556-c360-4f93-9b6d-3b07906c3459",
   "metadata": {},
   "outputs": [
    {
     "name": "stdout",
     "output_type": "stream",
     "text": [
      "Var1:  100\n",
      "Var2:  200\n",
      "Var1:  100\n"
     ]
    },
    {
     "ename": "NameError",
     "evalue": "name 'var2' is not defined",
     "output_type": "error",
     "traceback": [
      "\u001b[1;31m---------------------------------------------------------------------------\u001b[0m",
      "\u001b[1;31mNameError\u001b[0m                                 Traceback (most recent call last)",
      "Cell \u001b[1;32mIn[33], line 11\u001b[0m\n\u001b[0;32m      9\u001b[0m func6()\n\u001b[0;32m     10\u001b[0m \u001b[38;5;28mprint\u001b[39m(\u001b[38;5;124m'\u001b[39m\u001b[38;5;124mVar1: \u001b[39m\u001b[38;5;124m'\u001b[39m, var1)\n\u001b[1;32m---> 11\u001b[0m \u001b[38;5;28mprint\u001b[39m(\u001b[38;5;124m'\u001b[39m\u001b[38;5;124mVar2: \u001b[39m\u001b[38;5;124m'\u001b[39m, \u001b[43mvar2\u001b[49m)\n",
      "\u001b[1;31mNameError\u001b[0m: name 'var2' is not defined"
     ]
    }
   ],
   "source": [
    "#Scope of variables --> Local, Global\n",
    "\n",
    "var1=100 # Global scope variable\n",
    "\n",
    "def func6():\n",
    "    var2=200 # Local scope variable\n",
    "    print('Var1: ', var1)\n",
    "    print('Var2: ', var2)\n",
    "\n",
    "func6()\n",
    "print('Var1: ', var1) # Global variable\n",
    "print('Var2: ', var2) # Local variable"
   ]
  },
  {
   "cell_type": "code",
   "execution_count": 41,
   "id": "54d52cd7-3698-44db-9c0d-d064cda6f69b",
   "metadata": {},
   "outputs": [
    {
     "name": "stdout",
     "output_type": "stream",
     "text": [
      "Inside Var1:  300\n",
      "Inside Var2:  200\n",
      "Outside Var1:  300\n",
      "Outside Var2:  200\n"
     ]
    }
   ],
   "source": [
    "#Scope of variables --> Local, Global\n",
    "\n",
    "#var1=100 # Global scope variable\n",
    "\n",
    "def func7():\n",
    "    global var1 # Accessing Global scope variable\n",
    "    global var2 # Global scope variable creation\n",
    "    var2=200\n",
    "    var1=300\n",
    "    print('Inside Var1: ', var1)\n",
    "    print('Inside Var2: ', var2)\n",
    "\n",
    "func7()\n",
    "print('Outside Var1: ', var1) # Global variable\n",
    "print('Outside Var2: ', var2) # Local variable"
   ]
  },
  {
   "cell_type": "code",
   "execution_count": 44,
   "id": "0e85e258-a4ef-4e00-82b6-d03fc9d5668b",
   "metadata": {},
   "outputs": [
    {
     "name": "stdout",
     "output_type": "stream",
     "text": [
      "<function <lambda> at 0x0000014746C54F70>\n",
      "7\n"
     ]
    }
   ],
   "source": [
    "#Less code more value more work\n",
    "#Lambda Function/Expression: No name, single line body \n",
    "#small & restricted\n",
    "# default return \n",
    "#Syntax: lambda arguments:expression\n",
    "\n",
    "add2=lambda x,y:x+y\n",
    "print(add2)\n",
    "add2(1,2)\n",
    "\n",
    "var=(lambda x,y:x+y)(3,4)\n",
    "print(var)"
   ]
  },
  {
   "cell_type": "code",
   "execution_count": 46,
   "id": "3bd11be5-cbeb-4e15-9e5d-28e83608ae0a",
   "metadata": {},
   "outputs": [
    {
     "name": "stdout",
     "output_type": "stream",
     "text": [
      "Even items: [236, 98, 64, 78, 96, 32]\n",
      "Odd items: [45, 23, 15, 35]\n"
     ]
    }
   ],
   "source": [
    "#Advanced: filter(), map(), Reduce() Working with sequences\n",
    "lst=[45,236,98,23,64,15,78,96,32,35]\n",
    "\n",
    "def even_odd(lst):\n",
    "    even=[]\n",
    "    odd= []\n",
    "    for i in lst:\n",
    "        if i%2==0:\n",
    "            even.append(i)\n",
    "        else:\n",
    "            odd.append(i)\n",
    "    print(f'Even items: {even}')\n",
    "    print(f'Odd items: {odd}')\n",
    "\n",
    "even_odd(lst)"
   ]
  },
  {
   "cell_type": "code",
   "execution_count": 50,
   "id": "88692445-e8d3-417c-8f3a-16b8dbd7fb46",
   "metadata": {},
   "outputs": [
    {
     "name": "stdout",
     "output_type": "stream",
     "text": [
      "[236, 98, 64, 78, 96, 32]\n",
      "[45, 23, 15, 35]\n"
     ]
    }
   ],
   "source": [
    "# Filter(lambda exp, sequences)\n",
    "even=list(filter(lambda i:i%2==0, lst))\n",
    "odd=list(filter(lambda i:i%2!=0, lst))\n",
    "print(even)\n",
    "print(odd)\n"
   ]
  },
  {
   "cell_type": "code",
   "execution_count": 54,
   "id": "8fae6199-e649-4aca-b2f0-79cf50848de6",
   "metadata": {},
   "outputs": [
    {
     "name": "stdout",
     "output_type": "stream",
     "text": [
      "[1, 8, 27, 64, 125, 216]\n"
     ]
    }
   ],
   "source": [
    "#Map(Lambda exp,sequences)\n",
    "# map the expression to each element \n",
    "lst=[1,2,3,4,5,6]\n",
    "cubes=list(map(lambda x:x**3, lst))\n",
    "print(cubes)"
   ]
  },
  {
   "cell_type": "code",
   "execution_count": 58,
   "id": "6acff17d-e693-4768-9d48-e942955cb9a5",
   "metadata": {},
   "outputs": [
    {
     "name": "stdout",
     "output_type": "stream",
     "text": [
      "Total Sales: 2050, Avereage Sales: 341.6666666666667\n"
     ]
    }
   ],
   "source": [
    "#Reduce(aggregation)\n",
    "# reduce to one value\n",
    "from functools import reduce\n",
    "sales=[450,234,178,954, 234]\n",
    "total_sales=reduce(lambda x,y:x+y, sales) # x to fetch each element, y for intermediate results \n",
    "print(f'Total Sales: {total_sales}, Avereage Sales: {total_sales/6}')"
   ]
  },
  {
   "cell_type": "code",
   "execution_count": 2,
   "id": "846c7be6-9cf3-48d6-8089-49cc338800d1",
   "metadata": {},
   "outputs": [
    {
     "name": "stdout",
     "output_type": "stream",
     "text": [
      "\n",
      "    This is a sample doc string\n",
      "    \n",
      "<__main__.sample_class object at 0x0000015DB4F93A90>\n",
      "<class '__main__.sample_class'>\n",
      "1501979818640\n",
      "1501979818640\n"
     ]
    }
   ],
   "source": [
    "class sample_class:\n",
    "    '''\n",
    "    This is a sample doc string\n",
    "    '''\n",
    "    def method(self):\n",
    "        print(self)\n",
    "        print(type(self))\n",
    "        print(id(self))\n",
    "        \n",
    "print(sample_class.__doc__)\n",
    "\n",
    "obj=sample_class()\n",
    "obj.method()\n",
    "print(id(obj))"
   ]
  },
  {
   "cell_type": "code",
   "execution_count": 7,
   "id": "268a466f-f3bc-4f32-b00a-9db228cccdd8",
   "metadata": {},
   "outputs": [
    {
     "ename": "AttributeError",
     "evalue": "'Edureka' object has no attribute 'pub'",
     "output_type": "error",
     "traceback": [
      "\u001b[1;31m---------------------------------------------------------------------------\u001b[0m",
      "\u001b[1;31mAttributeError\u001b[0m                            Traceback (most recent call last)",
      "Cell \u001b[1;32mIn[7], line 14\u001b[0m\n\u001b[0;32m     11\u001b[0m         \u001b[38;5;28mprint\u001b[39m(\u001b[38;5;28mself\u001b[39m\u001b[38;5;241m.\u001b[39m__pri)\n\u001b[0;32m     13\u001b[0m ob\u001b[38;5;241m=\u001b[39mEdureka()\n\u001b[1;32m---> 14\u001b[0m \u001b[38;5;28mprint\u001b[39m(\u001b[43mob\u001b[49m\u001b[38;5;241;43m.\u001b[39;49m\u001b[43mpub\u001b[49m)\n\u001b[0;32m     15\u001b[0m \u001b[38;5;28mprint\u001b[39m(ob\u001b[38;5;241m.\u001b[39mpro)\n\u001b[0;32m     17\u001b[0m ob\u001b[38;5;241m.\u001b[39mfunc()\n",
      "\u001b[1;31mAttributeError\u001b[0m: 'Edureka' object has no attribute 'pub'"
     ]
    }
   ],
   "source": [
    "class Edureka:\n",
    "    # Access Specifiers/Modifiers: public, private, protected\n",
    "    def __intit__(self):\n",
    "        self.__pri=\"I am Private\"\n",
    "        self._pro=\"I am Private\"\n",
    "        self.pub=\"I am Public\"\n",
    "        \n",
    "    def func(self): \n",
    "        # Encapsulation protection \n",
    "        # ==>  data abstraction to hide\n",
    "        print(self.__pri)\n",
    "\n",
    "ob=Edureka()\n",
    "print(ob.pub)\n",
    "print(ob.pro)\n",
    "\n",
    "ob.func()"
   ]
  },
  {
   "cell_type": "markdown",
   "id": "05a85181-1a31-443a-ae35-cd97227bbb27",
   "metadata": {},
   "source": [
    "| Accessor Type | Inside Class | Outside Class | Derived Class |\n",
    "|---------------|--------------|---------------|---------------|\n",
    "| **Public**    | Yes          | Yes           | Yes           |\n",
    "| **Private**   | Yes          | No            | No            |\n",
    "| **Protected** | Yes          | No            | Yes           |\n"
   ]
  },
  {
   "cell_type": "code",
   "execution_count": null,
   "id": "0682331d-03b2-4f2b-950a-8214b47c8ed1",
   "metadata": {},
   "outputs": [],
   "source": []
  }
 ],
 "metadata": {
  "kernelspec": {
   "display_name": "Python 3 (ipykernel)",
   "language": "python",
   "name": "python3"
  },
  "language_info": {
   "codemirror_mode": {
    "name": "ipython",
    "version": 3
   },
   "file_extension": ".py",
   "mimetype": "text/x-python",
   "name": "python",
   "nbconvert_exporter": "python",
   "pygments_lexer": "ipython3",
   "version": "3.10.1"
  }
 },
 "nbformat": 4,
 "nbformat_minor": 5
}
