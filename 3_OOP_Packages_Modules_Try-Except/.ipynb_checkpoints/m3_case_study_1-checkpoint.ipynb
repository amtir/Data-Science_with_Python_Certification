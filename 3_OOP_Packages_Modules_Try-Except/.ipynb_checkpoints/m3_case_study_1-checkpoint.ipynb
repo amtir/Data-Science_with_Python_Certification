{
 "cells": [
  {
   "cell_type": "markdown",
   "id": "58cb2dad-e5f5-4e39-9257-5676b27dd15f",
   "metadata": {},
   "source": [
    "### Module 3 – OOP Packages Modules Try-Except"
   ]
  },
  {
   "cell_type": "markdown",
   "id": "5b1d0864-07f8-4228-a096-4b3b488a9619",
   "metadata": {},
   "source": [
    "## Case Study – 1"
   ]
  },
  {
   "cell_type": "markdown",
   "id": "b497e9aa-72b8-4631-8e0b-2d62236d2ae9",
   "metadata": {},
   "source": [
    "1. A Robot moves in a Plane starting from the origin point (0,0). The robot can move \n",
    "UP, DOWN, LEFT, or RIGHT. The trace of Robot movement is as given following:\n",
    "UP 5\n",
    "DOWN 3\n",
    "LEFT 3\n",
    "RIGHT 2\n",
    "The numbers after directions are steps. Write a program to compute the \n",
    "distance current position after a sequence of movements.\n",
    "Hint: Use the math module.\n"
   ]
  },
  {
   "cell_type": "code",
   "execution_count": 6,
   "id": "9c3c9fc3-9fb2-4ad0-8605-148c10fc0912",
   "metadata": {},
   "outputs": [
    {
     "data": {
      "image/png": "[encoded data removed]",
      "text/plain": [
       "<Figure size 600x600 with 1 Axes>"
      ]
     },
     "metadata": {},
     "output_type": "display_data"
    },
    {
     "name": "stdout",
     "output_type": "stream",
     "text": [
      "The distance from the origin is: 3.35 units\n"
     ]
    }
   ],
   "source": [
    "# Here’s a Python program to calculate the distance of the robot from the origin after a sequence of movements:\n",
    "import math\n",
    "import matplotlib.pyplot as plt\n",
    "\n",
    "def calculate_and_plot_movements(movements):\n",
    "    \"\"\"\n",
    "    This function calculates the final distance of the robot from the origin and \n",
    "    also plots the path of the robot's movements on a 2D plane.\n",
    "\n",
    "    Parameters:\n",
    "    movements (list): A list of tuples where each tuple contains a direction and the number of steps.\n",
    "\n",
    "    Returns:\n",
    "    float: The distance from the origin after completing the movements.\n",
    "    \"\"\"\n",
    "    \n",
    "    # Starting coordinates at origin (0, 0)\n",
    "    x, y = 0, 0\n",
    "\n",
    "    # Lists to store the x and y coordinates for plotting\n",
    "    x_coords = [x]\n",
    "    y_coords = [y]\n",
    "\n",
    "    # Processing each movement in the list\n",
    "    for direction, steps in movements:\n",
    "        if direction == 'UP':\n",
    "            y += steps\n",
    "        elif direction == 'DOWN':\n",
    "            y -= steps\n",
    "        elif direction == 'LEFT':\n",
    "            x -= steps\n",
    "        elif direction == 'RIGHT':\n",
    "            x += steps\n",
    "        \n",
    "        # Append the new coordinates after the movement\n",
    "        x_coords.append(x)\n",
    "        y_coords.append(y)\n",
    "\n",
    "    # Calculate the Euclidean distance from the origin (0, 0)\n",
    "    distance = math.sqrt(x**2 + y**2)\n",
    "\n",
    "    # Plotting the movements\n",
    "    plt.figure(figsize=(6,6))\n",
    "    plt.plot(x_coords, y_coords, marker='o', color='b', linestyle='-', markersize=10, markerfacecolor='red')\n",
    "\n",
    "    # Mark the origin and the final point\n",
    "    plt.text(0, 0, \"Start (0,0)\", fontsize=12, verticalalignment='bottom', horizontalalignment='right')\n",
    "    plt.text(x_coords[-1], y_coords[-1], f\"End ({x_coords[-1]},{y_coords[-1]})\", fontsize=12, verticalalignment='bottom', horizontalalignment='right')\n",
    "\n",
    "    # Set labels and title\n",
    "    plt.xlabel('X-axis')\n",
    "    plt.ylabel('Y-axis')\n",
    "    plt.title('Robot Movement on 2D Plane')\n",
    "\n",
    "    # Display the grid\n",
    "    plt.grid(True)\n",
    "\n",
    "    # Show the plot\n",
    "    plt.show()\n",
    "\n",
    "    return distance\n",
    "\n",
    "# List of movements: (direction, steps)\n",
    "movements = [('UP', 5), ('RIGHT', 3), ('DOWN', 3), ('LEFT', 2),('UP', 2), ('RIGHT', 1), ('DOWN', 1), ('LEFT', 0.5) ]\n",
    "\n",
    "# Calculate the distance and plot the movement\n",
    "distance = calculate_and_plot_movements(movements)\n",
    "\n",
    "# Print the final distance\n",
    "print(f\"The distance from the origin is: {round(distance, 2)} units\")\n"
   ]
  },
  {
   "cell_type": "markdown",
   "id": "d5c32bbb-3521-4d08-921d-f6bff288b3b6",
   "metadata": {},
   "source": [
    "2. Data of XYZ company is stored in the sorted list.\n",
    "Write a program for searching specific data from that list.\n",
    "Hint: Use if/elif to deal with conditions."
   ]
  },
  {
   "cell_type": "markdown",
   "id": "86b0d392-1656-4d23-a2de-a65f0aee17bd",
   "metadata": {},
   "source": [
    "> To search for a specific data point in a sorted list, you can implement binary search as it is more efficient for sorted data. Binary search works by repeatedly dividing the search interval in half, checking if the target element is in the left or right half of the list.\n",
    "> This approach is efficient for large, sorted datasets because binary search has a time complexity of O(log n), making it faster than linear search."
   ]
  },
  {
   "cell_type": "code",
   "execution_count": 7,
   "id": "8c7eb6cf-6936-4db6-bf0b-f76f8b6abd6c",
   "metadata": {},
   "outputs": [
    {
     "name": "stdin",
     "output_type": "stream",
     "text": [
      "Enter the value to search for:  142\n"
     ]
    },
    {
     "name": "stdout",
     "output_type": "stream",
     "text": [
      "Value 142 found at index 4.\n"
     ]
    }
   ],
   "source": [
    "def binary_search(sorted_list, target):\n",
    "    \"\"\"\n",
    "    This function performs binary search to find the target value in a sorted list.\n",
    "\n",
    "    Parameters:\n",
    "    sorted_list (list): The sorted list in which to search for the target value.\n",
    "    target (int/str): The value to search for in the list.\n",
    "\n",
    "    Returns:\n",
    "    int: The index of the target value if found, else -1.\n",
    "    \"\"\"\n",
    "    \n",
    "    # Initialize the starting and ending indices\n",
    "    low = 0\n",
    "    high = len(sorted_list) - 1\n",
    "\n",
    "    # Loop until the range is valid\n",
    "    while low <= high:\n",
    "        # Calculate the middle index\n",
    "        mid = (low + high) // 2\n",
    "\n",
    "        # Check if the target is at the mid index\n",
    "        if sorted_list[mid] == target:\n",
    "            return mid  # Target found\n",
    "\n",
    "        # If the target is less than the mid element, search in the left half\n",
    "        elif sorted_list[mid] > target:\n",
    "            high = mid - 1\n",
    "\n",
    "        # If the target is greater, search in the right half\n",
    "        else:\n",
    "            low = mid + 1\n",
    "\n",
    "    # Target not found\n",
    "    return -1\n",
    "\n",
    "# Example sorted list (XYZ company data)\n",
    "company_data = [101, 105, 123, 135, 142, 155, 178, 200, 245, 300]\n",
    "\n",
    "# Input: Asking the user to enter the value to search\n",
    "target_value = int(input(\"Enter the value to search for: \"))\n",
    "\n",
    "# Perform the search\n",
    "result_index = binary_search(company_data, target_value)\n",
    "\n",
    "# Output the result\n",
    "if result_index != -1:\n",
    "    print(f\"Value {target_value} found at index {result_index}.\")\n",
    "else:\n",
    "    print(f\"Value {target_value} not found in the list.\")\n"
   ]
  },
  {
   "cell_type": "markdown",
   "id": "18a7b4cc-1845-4b33-9101-55489971643f",
   "metadata": {},
   "source": [
    "3. Weather forecasting organization wants to show whether is it day or night. So, write a program for such an organization to find whether is it dark outside or not.\n",
    "Hint: Use the time module."
   ]
  },
  {
   "cell_type": "markdown",
   "id": "7abb4e8e-c69d-4078-a11d-ec21b78cdfb0",
   "metadata": {},
   "source": [
    "> To determine whether it is currently day or night, you can use Python's time module to check the current hour and compare it to a typical day-night range (e.g., daytime might be between 6 AM and 6 PM)."
   ]
  },
  {
   "cell_type": "code",
   "execution_count": 10,
   "id": "284326f2-85ac-4798-8df4-fc4d9bb9c575",
   "metadata": {},
   "outputs": [
    {
     "name": "stdout",
     "output_type": "stream",
     "text": [
      "It's night.\n"
     ]
    }
   ],
   "source": [
    "import time\n",
    "\n",
    "def is_it_dark():\n",
    "    \"\"\"\n",
    "    This function checks the current time and determines if it's day or night based on typical time ranges.\n",
    "\n",
    "    Returns:\n",
    "    str: \"It's day.\" or \"It's night.\"\n",
    "    \"\"\"\n",
    "\n",
    "    # Get the current hour (24-hour format)\n",
    "    current_hour = time.localtime().tm_hour\n",
    "\n",
    "    # Define day time between 6 AM (06:00) and 6 PM (18:00)\n",
    "    if 6 <= current_hour < 18:\n",
    "        return \"It's day.\"\n",
    "    else:\n",
    "        return \"It's night.\"\n",
    "\n",
    "# Example usage\n",
    "result = is_it_dark()\n",
    "print(result)\n"
   ]
  },
  {
   "cell_type": "code",
   "execution_count": 1,
   "id": "b479d5c6-2398-448b-8924-88a83844ab30",
   "metadata": {},
   "outputs": [
    {
     "name": "stdin",
     "output_type": "stream",
     "text": [
      "Enter the latitude of the first location:  52.2296756\n",
      "Enter the longitude of the first location:  21.0122287\n",
      "Enter the latitude of the second location:  41.8919300\n",
      "Enter the longitude of the second location:  12.5113300\n"
     ]
    },
    {
     "name": "stdout",
     "output_type": "stream",
     "text": [
      "The distance between the two locations is 1315.51 kilometers.\n"
     ]
    }
   ],
   "source": [
    "# 4.Write a program to find the distancebetween two locations when their latitude and longitudes are given.\n",
    "# Hint: Use the math module.\n",
    "\n",
    "import math\n",
    "\n",
    "# Function to calculate the distance between two locations\n",
    "def haversine(lat1, lon1, lat2, lon2):\n",
    "    # Radius of the Earth in kilometers\n",
    "    R = 6371.0\n",
    "\n",
    "    # Convert latitude and longitude from degrees to radians\n",
    "    lat1_rad = math.radians(lat1)\n",
    "    lon1_rad = math.radians(lon1)\n",
    "    lat2_rad = math.radians(lat2)\n",
    "    lon2_rad = math.radians(lon2)\n",
    "\n",
    "    # Difference in coordinates\n",
    "    dlat = lat2_rad - lat1_rad\n",
    "    dlon = lon2_rad - lon1_rad\n",
    "\n",
    "    # Haversine formula\n",
    "    a = math.sin(dlat / 2)**2 + math.cos(lat1_rad) * math.cos(lat2_rad) * math.sin(dlon / 2)**2\n",
    "    c = 2 * math.atan2(math.sqrt(a), math.sqrt(1 - a))\n",
    "\n",
    "    # Distance in kilometers\n",
    "    distance = R * c\n",
    "\n",
    "    return distance\n",
    "\n",
    "# Input coordinates of the two locations\n",
    "lat1 = float(input(\"Enter the latitude of the first location: \"))\n",
    "lon1 = float(input(\"Enter the longitude of the first location: \"))\n",
    "lat2 = float(input(\"Enter the latitude of the second location: \"))\n",
    "lon2 = float(input(\"Enter the longitude of the second location: \"))\n",
    "\n",
    "# Calculate the distance\n",
    "distance = haversine(lat1, lon1, lat2, lon2)\n",
    "\n",
    "# Print the distance\n",
    "print(f\"The distance between the two locations is {distance:.2f} kilometers.\")\n"
   ]
  },
  {
   "cell_type": "code",
   "execution_count": 2,
   "id": "3d798f9e-e0d7-4c63-a533-2f41b24fc952",
   "metadata": {},
   "outputs": [
    {
     "name": "stdout",
     "output_type": "stream",
     "text": [
      "Welcome to the bank system!\n",
      "\n",
      "Please select an option:\n",
      "1. Cash Withdrawal\n",
      "2. Cash Credit\n",
      "3. Change Password\n",
      "4. Exit\n"
     ]
    },
    {
     "name": "stdin",
     "output_type": "stream",
     "text": [
      "Enter your choice (1-4):  1\n",
      "Enter the amount to withdraw:  500\n"
     ]
    },
    {
     "name": "stdout",
     "output_type": "stream",
     "text": [
      "Withdrawal successful! Your new balance is: 9500.0\n",
      "\n",
      "Please select an option:\n",
      "1. Cash Withdrawal\n",
      "2. Cash Credit\n",
      "3. Change Password\n",
      "4. Exit\n"
     ]
    },
    {
     "name": "stdin",
     "output_type": "stream",
     "text": [
      "Enter your choice (1-4):  3\n",
      "Enter your current password:  1234\n",
      "Enter your new password:  5678\n",
      "Confirm your new password:  5678\n"
     ]
    },
    {
     "name": "stdout",
     "output_type": "stream",
     "text": [
      "Password changed successfully!\n",
      "\n",
      "Please select an option:\n",
      "1. Cash Withdrawal\n",
      "2. Cash Credit\n",
      "3. Change Password\n",
      "4. Exit\n"
     ]
    },
    {
     "name": "stdin",
     "output_type": "stream",
     "text": [
      "Enter your choice (1-4):  4\n"
     ]
    },
    {
     "name": "stdout",
     "output_type": "stream",
     "text": [
      "Thank you for using the bank system. Goodbye!\n"
     ]
    }
   ],
   "source": [
    "# 5. Design software for bank systems. There should be options like cash withdrawal, cash credit, and a change password. \n",
    "# According to user input, the software should provide the required output.\n",
    "#Hint: Use if else statements and functions.\n",
    "\n",
    "# Bank system software\n",
    "\n",
    "# Simulated database for user details\n",
    "user_balance = 10000  # Initial balance\n",
    "user_password = \"1234\"  # Initial password\n",
    "\n",
    "# Function to handle cash withdrawal\n",
    "def cash_withdrawal():\n",
    "    global user_balance\n",
    "    amount = float(input(\"Enter the amount to withdraw: \"))\n",
    "    if amount > user_balance:\n",
    "        print(\"Insufficient balance!\")\n",
    "    else:\n",
    "        user_balance -= amount\n",
    "        print(f\"Withdrawal successful! Your new balance is: {user_balance}\")\n",
    "\n",
    "# Function to handle cash credit (deposit)\n",
    "def cash_credit():\n",
    "    global user_balance\n",
    "    amount = float(input(\"Enter the amount to deposit: \"))\n",
    "    user_balance += amount\n",
    "    print(f\"Deposit successful! Your new balance is: {user_balance}\")\n",
    "\n",
    "# Function to handle password change\n",
    "def change_password():\n",
    "    global user_password\n",
    "    current_password = input(\"Enter your current password: \")\n",
    "    if current_password == user_password:\n",
    "        new_password = input(\"Enter your new password: \")\n",
    "        confirm_password = input(\"Confirm your new password: \")\n",
    "        if new_password == confirm_password:\n",
    "            user_password = new_password\n",
    "            print(\"Password changed successfully!\")\n",
    "        else:\n",
    "            print(\"Passwords do not match!\")\n",
    "    else:\n",
    "        print(\"Incorrect current password!\")\n",
    "\n",
    "# Main function to display options and handle user input\n",
    "def bank_system():\n",
    "    print(\"Welcome to the bank system!\")\n",
    "    while True:\n",
    "        print(\"\\nPlease select an option:\")\n",
    "        print(\"1. Cash Withdrawal\")\n",
    "        print(\"2. Cash Credit\")\n",
    "        print(\"3. Change Password\")\n",
    "        print(\"4. Exit\")\n",
    "\n",
    "        choice = input(\"Enter your choice (1-4): \")\n",
    "\n",
    "        if choice == '1':\n",
    "            cash_withdrawal()\n",
    "        elif choice == '2':\n",
    "            cash_credit()\n",
    "        elif choice == '3':\n",
    "            change_password()\n",
    "        elif choice == '4':\n",
    "            print(\"Thank you for using the bank system. Goodbye!\")\n",
    "            break\n",
    "        else:\n",
    "            print(\"Invalid choice! Please select a valid option.\")\n",
    "\n",
    "# Run the bank system\n",
    "bank_system()\n"
   ]
  },
  {
   "cell_type": "code",
   "execution_count": 3,
   "id": "45e509c7-3488-48a0-bf89-beae90fdf4fd",
   "metadata": {},
   "outputs": [
    {
     "name": "stdout",
     "output_type": "stream",
     "text": [
      "2002, 2009, 2016, 2023, 2037, 2044, 2051, 2058, 2072, 2079, 2086, 2093, 2107, 2114, 2121, 2128, 2142, 2149, 2156, 2163, 2177, 2184, 2191, 2198, 2212, 2219, 2226, 2233, 2247, 2254, 2261, 2268, 2282, 2289, 2296, 2303, 2317, 2324, 2331, 2338, 2352, 2359, 2366, 2373, 2387, 2394, 2401, 2408, 2422, 2429, 2436, 2443, 2457, 2464, 2471, 2478, 2492, 2499, 2506, 2513, 2527, 2534, 2541, 2548, 2562, 2569, 2576, 2583, 2597, 2604, 2611, 2618, 2632, 2639, 2646, 2653, 2667, 2674, 2681, 2688, 2702, 2709, 2716, 2723, 2737, 2744, 2751, 2758, 2772, 2779, 2786, 2793, 2807, 2814, 2821, 2828, 2842, 2849, 2856, 2863, 2877, 2884, 2891, 2898, 2912, 2919, 2926, 2933, 2947, 2954, 2961, 2968, 2982, 2989, 2996, 3003, 3017, 3024, 3031, 3038, 3052, 3059, 3066, 3073, 3087, 3094, 3101, 3108, 3122, 3129, 3136, 3143, 3157, 3164, 3171, 3178, 3192, 3199\n"
     ]
    }
   ],
   "source": [
    "# 6. Write a program that will find all such numbers which are divisible by 7 but are not a multiple of 5, between 2000 and 3200 (both included). \n",
    "# The numbers obtained should be printed in a comma-separated sequence on a single line.\n",
    "\n",
    "# Function to find and print numbers divisible by 7 but not a multiple of 5\n",
    "def find_numbers():\n",
    "    result = []\n",
    "    \n",
    "    # Loop through the range from 2000 to 3200\n",
    "    for num in range(2000, 3201):\n",
    "        if num % 7 == 0 and num % 5 != 0:\n",
    "            result.append(str(num))\n",
    "    \n",
    "    # Join the result list with commas and print the final output\n",
    "    print(\", \".join(result))\n",
    "\n",
    "# Call the function to display the result\n",
    "find_numbers()\n"
   ]
  },
  {
   "cell_type": "code",
   "execution_count": 4,
   "id": "f48049bd-f931-4116-94fb-e94d8c2084b5",
   "metadata": {},
   "outputs": [
    {
     "name": "stdin",
     "output_type": "stream",
     "text": [
      "Enter a number to find its factorial:  8\n"
     ]
    },
    {
     "name": "stdout",
     "output_type": "stream",
     "text": [
      "The factorial of 8 is: 40320\n"
     ]
    }
   ],
   "source": [
    "# 7. Write a program that can compute the factorial of a given numb. Use recursion to find it. \n",
    "# Hint: Suppose the following input is supplied to the program: 8\n",
    "# Then, the output should be: 40320\n",
    "\n",
    "# Function to compute factorial using recursion\n",
    "def factorial(n):\n",
    "    # Base case: factorial of 0 or 1 is 1\n",
    "    if n == 0 or n == 1:\n",
    "        return 1\n",
    "    else:\n",
    "        # Recursive case: n * factorial of (n-1)\n",
    "        return n * factorial(n - 1)\n",
    "\n",
    "# Input: Get the number from the user\n",
    "num = int(input(\"Enter a number to find its factorial: \"))\n",
    "\n",
    "# Output: Compute and display the factorial\n",
    "result = factorial(num)\n",
    "print(f\"The factorial of {num} is: {result}\")\n"
   ]
  },
  {
   "cell_type": "code",
   "execution_count": 5,
   "id": "b6181d90-2340-441a-8ae8-a4d064fbd4af",
   "metadata": {},
   "outputs": [
    {
     "name": "stdin",
     "output_type": "stream",
     "text": [
      "Enter comma-separated values for D:  100,150,180\n"
     ]
    },
    {
     "name": "stdout",
     "output_type": "stream",
     "text": [
      "18, 22, 24\n"
     ]
    }
   ],
   "source": [
    "# 8. Write a program that calculates and prints the value according to the given formula:\n",
    "# Q = Square root of [(2 * C * D)/H]\n",
    "# Following are the fixed values of C and H: C is 50. H is 30.\n",
    "# D is the variable whose values should be input to your program in a comma separated sequence. \n",
    "# Example:\n",
    "# Let us assume the following comma-separated input sequence is given to the program: 100,150,180\n",
    "# The output of the program should be: 18,22,24\n",
    "\n",
    "import math\n",
    "\n",
    "# Fixed values of C and H\n",
    "C = 50\n",
    "H = 30\n",
    "\n",
    "# Function to calculate Q for a given D\n",
    "def calculate_Q(D):\n",
    "    return int(math.sqrt((2 * C * D) / H))\n",
    "\n",
    "# Input: Get comma-separated values of D\n",
    "input_values = input(\"Enter comma-separated values for D: \")\n",
    "\n",
    "# Split the input into a list of strings, convert to integers\n",
    "D_values = [int(d) for d in input_values.split(\",\")]\n",
    "\n",
    "# Calculate the corresponding Q values using the formula\n",
    "Q_values = [calculate_Q(D) for D in D_values]\n",
    "\n",
    "# Output: Print the Q values as a comma-separated sequence\n",
    "print(\", \".join(map(str, Q_values)))\n"
   ]
  },
  {
   "cell_type": "code",
   "execution_count": 6,
   "id": "62155a9f-aa24-4c4d-901d-f736c051be79",
   "metadata": {},
   "outputs": [
    {
     "name": "stdin",
     "output_type": "stream",
     "text": [
      "Enter two digits X and Y (comma-separated):  3,5\n"
     ]
    },
    {
     "name": "stdout",
     "output_type": "stream",
     "text": [
      "[[0, 0, 0, 0, 0], [0, 1, 2, 3, 4], [0, 2, 4, 6, 8]]\n"
     ]
    }
   ],
   "source": [
    "# 9. Write a program that takes 2 digits, X, Y as input and generates a 2-dimensional array. \n",
    "# The element value in the i-th row and j-th column of the array should be i*j.\n",
    "# Note: i=0,1.., X-1; j=0,1,¡-Y-1.\n",
    "# Example:\n",
    "# Suppose the following inputs are given to the program: 3,5\n",
    "# Then, the output of the program should be: [[0, 0, 0, 0, 0], [0, 1, 2, 3, 4], [0, 2, 4, 6, 8]]\n",
    "\n",
    "# Function to generate 2D array\n",
    "def generate_2d_array(X, Y):\n",
    "    # Create a 2D array using list comprehension\n",
    "    array = [[i * j for j in range(Y)] for i in range(X)]\n",
    "    return array\n",
    "\n",
    "# Input: Get X and Y from the user\n",
    "X, Y = map(int, input(\"Enter two digits X and Y (comma-separated): \").split(','))\n",
    "\n",
    "# Generate the 2D array\n",
    "result_array = generate_2d_array(X, Y)\n",
    "\n",
    "# Output: Print the 2D array\n",
    "print(result_array)\n"
   ]
  },
  {
   "cell_type": "code",
   "execution_count": 7,
   "id": "de095c09-309a-4c6f-89fa-93dc0d78a0e7",
   "metadata": {},
   "outputs": [
    {
     "name": "stdin",
     "output_type": "stream",
     "text": [
      "Enter a comma-separated sequence of words:  without,hello,bag,world\n"
     ]
    },
    {
     "name": "stdout",
     "output_type": "stream",
     "text": [
      "bag,hello,without,world\n"
     ]
    }
   ],
   "source": [
    "# 10.Write a program that accepts a comma-separated sequence of words as input and prints the words in a comma-separated sequence after sorting them alphabetically. \n",
    "# Suppose the following input is supplied to the program:  without,hello,bag,world\n",
    "# Then, the output should be:  bag,hello,without,world\n",
    "\n",
    "# Input: Get a comma-separated sequence of words from the user\n",
    "input_words = input(\"Enter a comma-separated sequence of words: \")\n",
    "\n",
    "# Split the input into a list of words\n",
    "words_list = input_words.split(',')\n",
    "\n",
    "# Sort the list of words alphabetically\n",
    "sorted_words = sorted(words_list)\n",
    "\n",
    "# Join the sorted list back into a comma-separated string\n",
    "result = \",\".join(sorted_words)\n",
    "\n",
    "# Output: Print the sorted words\n",
    "print(result)\n"
   ]
  },
  {
   "cell_type": "code",
   "execution_count": 8,
   "id": "8e7dbe2c-09d4-4aa5-9d60-fd377e48dca2",
   "metadata": {},
   "outputs": [
    {
     "name": "stdout",
     "output_type": "stream",
     "text": [
      "Enter your lines of text (type 'done' when finished):\n"
     ]
    },
    {
     "name": "stdin",
     "output_type": "stream",
     "text": [
      " Hello world\n",
      " Practice makes perfect\n",
      " done\n"
     ]
    },
    {
     "name": "stdout",
     "output_type": "stream",
     "text": [
      "HELLO WORLD\n",
      "PRACTICE MAKES PERFECT\n"
     ]
    }
   ],
   "source": [
    "# 11.Write a program that accepts sequence of lines as input and prints the lines after making all characters in the sentence capitalized. \n",
    "# Suppose the following input is supplied to the program:\n",
    "# Hello world\n",
    "# Practice makes perfect\n",
    "\n",
    "# Then, the output should be:\n",
    "# HELLO WORLD\n",
    "# PRACTICE MAKES PERFECT\n",
    "\n",
    "# Function to accept multiple lines as input and return them capitalized\n",
    "def capitalize_lines():\n",
    "    lines = []\n",
    "    print(\"Enter your lines of text (type 'done' when finished):\")\n",
    "    \n",
    "    # Accept multiple lines of input from the user\n",
    "    while True:\n",
    "        line = input()\n",
    "        if line.lower() == 'done':  # Stop when 'done' is typed\n",
    "            break\n",
    "        lines.append(line.upper())  # Convert the line to uppercase\n",
    "    \n",
    "    # Output: Print each line capitalized\n",
    "    for line in lines:\n",
    "        print(line)\n",
    "\n",
    "# Call the function to get and display the capitalized lines\n",
    "capitalize_lines()\n"
   ]
  },
  {
   "cell_type": "code",
   "execution_count": 10,
   "id": "2ec10984-4b47-4c50-b430-de6e8f90e4e0",
   "metadata": {},
   "outputs": [
    {
     "name": "stdin",
     "output_type": "stream",
     "text": [
      "Enter a sequence of whitespace-separated words:  hello world and practice makes perfect and hello world again\n"
     ]
    },
    {
     "name": "stdout",
     "output_type": "stream",
     "text": [
      "again and hello makes perfect practice world\n"
     ]
    }
   ],
   "source": [
    "# 12.Write a program that accepts a sequence of whitespace-separated words as input and prints the words after removing all duplicate words and sorting them alphanumerically. \n",
    "# Suppose the following input is supplied to the program:\n",
    "# hello world and practice makes perfect and hello world again\n",
    "# Then, the output should be:\n",
    "# again and hello makes perfect practice world\n",
    "\n",
    "# Function to process input, remove duplicates, and sort the words\n",
    "def process_words():\n",
    "    # Input: Get a sequence of whitespace-separated words from the user\n",
    "    input_words = input(\"Enter a sequence of whitespace-separated words: \")\n",
    "    \n",
    "    # Split the input into a list of words\n",
    "    words_list = input_words.split()\n",
    "    \n",
    "    # Remove duplicates by converting the list to a set\n",
    "    unique_words = set(words_list)\n",
    "    \n",
    "    # Sort the unique words alphanumerically\n",
    "    sorted_words = sorted(unique_words)\n",
    "    \n",
    "    # Output: Print the sorted words as a space-separated sequence\n",
    "    print(\" \".join(sorted_words))\n",
    "\n",
    "# Call the function to execute the program\n",
    "process_words()\n"
   ]
  },
  {
   "cell_type": "code",
   "execution_count": 11,
   "id": "6969c74e-2bbf-4ec6-a7a9-01fea70d4d22",
   "metadata": {},
   "outputs": [
    {
     "name": "stdin",
     "output_type": "stream",
     "text": [
      "Enter comma-separated 4-digit binary numbers:  0100,0011,1010,1001\n"
     ]
    },
    {
     "name": "stdout",
     "output_type": "stream",
     "text": [
      "1010\n"
     ]
    }
   ],
   "source": [
    "# 13.Write a program that accepts a sequence of comma separated 4 digit binary numbers as its input and then check whether they are divisible by 5 or not. \n",
    "# The numbers that are divisible by 5 are to be printed in a comma-separated sequence.\n",
    "# Example: 0100,0011,1010,1001\n",
    "# Then the output should be: 1010\n",
    "\n",
    "# Function to check if binary numbers are divisible by 5\n",
    "def check_divisible_by_5():\n",
    "    # Input: Get a sequence of comma-separated binary numbers from the user\n",
    "    input_numbers = input(\"Enter comma-separated 4-digit binary numbers: \")\n",
    "    \n",
    "    # Split the input into a list of binary numbers\n",
    "    binary_numbers = input_numbers.split(',')\n",
    "    \n",
    "    # List to store numbers that are divisible by 5\n",
    "    divisible_by_5 = []\n",
    "    \n",
    "    # Iterate through each binary number\n",
    "    for binary in binary_numbers:\n",
    "        # Convert binary to decimal\n",
    "        decimal_value = int(binary, 2)\n",
    "        \n",
    "        # Check if the decimal value is divisible by 5\n",
    "        if decimal_value % 5 == 0:\n",
    "            divisible_by_5.append(binary)\n",
    "    \n",
    "    # Output: Print the binary numbers divisible by 5 as a comma-separated sequence\n",
    "    print(\",\".join(divisible_by_5))\n",
    "\n",
    "# Call the function to execute the program\n",
    "check_divisible_by_5()\n"
   ]
  },
  {
   "cell_type": "code",
   "execution_count": 12,
   "id": "f5262437-73a8-4f2a-930e-c8b6e1d1c326",
   "metadata": {},
   "outputs": [
    {
     "name": "stdin",
     "output_type": "stream",
     "text": [
      "Enter a sentence:  Hello world!\n"
     ]
    },
    {
     "name": "stdout",
     "output_type": "stream",
     "text": [
      "UPPER CASE 1\n",
      "LOWER CASE 9\n"
     ]
    }
   ],
   "source": [
    "# 14.Write a program that accepts a sentence and calculates the number of upper case letters and lower case letters.\n",
    "# Suppose the following input is supplied to the program:\n",
    "# Hello world!\n",
    "# Then, the output should be:\n",
    "# UPPER CASE 1\n",
    "# LOWER CASE 9\n",
    "\n",
    "# Function to count upper case and lower case letters in a sentence\n",
    "def count_case(sentence):\n",
    "    upper_count = 0\n",
    "    lower_count = 0\n",
    "    \n",
    "    # Iterate through each character in the sentence\n",
    "    for char in sentence:\n",
    "        if char.isupper():\n",
    "            upper_count += 1\n",
    "        elif char.islower():\n",
    "            lower_count += 1\n",
    "    \n",
    "    # Output: Print the counts of upper and lower case letters\n",
    "    print(f\"UPPER CASE {upper_count}\")\n",
    "    print(f\"LOWER CASE {lower_count}\")\n",
    "\n",
    "# Input: Get the sentence from the user\n",
    "sentence = input(\"Enter a sentence: \")\n",
    "\n",
    "# Call the function to count upper and lower case letters\n",
    "count_case(sentence)\n"
   ]
  },
  {
   "cell_type": "code",
   "execution_count": 13,
   "id": "98eb0745-6e29-4bb3-a95a-1d881faf45a3",
   "metadata": {},
   "outputs": [
    {
     "name": "stdout",
     "output_type": "stream",
     "text": [
      "Result using sum(): 0.9999999999999999\n",
      "Result using math.fsum(): 1.0\n"
     ]
    }
   ],
   "source": [
    "# 15. Give an example of the fsum and sum function of the math library.\n",
    "# The built-in sum() adds the floating-point numbers in the list, but due to rounding errors, the result might not be exact.\n",
    "# The math.fsum() performs a high-precision sum of floating-point numbers, ensuring more accuracy.\n",
    "\n",
    "import math\n",
    "\n",
    "# List of floating-point numbers\n",
    "numbers = [0.1, 0.1, 0.1, 0.1, 0.1, 0.1, 0.1, 0.1, 0.1, 0.1]\n",
    "\n",
    "# Using built-in sum function\n",
    "sum_result = sum(numbers)\n",
    "\n",
    "# Using math.fsum function\n",
    "fsum_result = math.fsum(numbers)\n",
    "\n",
    "# Output results\n",
    "print(f\"Result using sum(): {sum_result}\")\n",
    "print(f\"Result using math.fsum(): {fsum_result}\")\n"
   ]
  },
  {
   "cell_type": "code",
   "execution_count": null,
   "id": "191be892-8e9b-44d1-abb5-41f581d34f6e",
   "metadata": {},
   "outputs": [],
   "source": []
  },
  {
   "cell_type": "code",
   "execution_count": 8,
   "id": "6ce9d69c-c5fa-44fb-8aa6-a664ca4692a4",
   "metadata": {},
   "outputs": [],
   "source": [
    "#### Mr Akram M'Tir 12/22-10-2024"
   ]
  }
 ],
 "metadata": {
  "kernelspec": {
   "display_name": "Python 3 (ipykernel)",
   "language": "python",
   "name": "python3"
  },
  "language_info": {
   "codemirror_mode": {
    "name": "ipython",
    "version": 3
   },
   "file_extension": ".py",
   "mimetype": "text/x-python",
   "name": "python",
   "nbconvert_exporter": "python",
   "pygments_lexer": "ipython3",
   "version": "3.10.1"
  }
 },
 "nbformat": 4,
 "nbformat_minor": 5
}
