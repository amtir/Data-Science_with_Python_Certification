{
 "cells": [
  {
   "cell_type": "code",
   "execution_count": 3,
   "id": "3e69c66b-d204-4c71-b805-3e886fe4cca1",
   "metadata": {},
   "outputs": [],
   "source": [
    "#Create class--->Define members(variables and methods) of the class\n",
    "\n",
    "class sample_class:\n",
    "    \"This is a sample doc string\"\n",
    "    name=\"\"  #Member variable\n",
    "    def method1(self,name):  #member function/method\n",
    "        print(f\"Hello {name}, welcome to OOP.\")"
   ]
  },
  {
   "cell_type": "code",
   "execution_count": 4,
   "id": "ff4e237c-23bb-4699-988e-d7f1a7c8df49",
   "metadata": {},
   "outputs": [
    {
     "name": "stdout",
     "output_type": "stream",
     "text": [
      "Hello Rakesh, welcome to OOP.\n"
     ]
    }
   ],
   "source": [
    "#Create objects\n",
    "obj1=sample_class()\n",
    "obj1.method1('Rakesh')"
   ]
  },
  {
   "cell_type": "code",
   "execution_count": 5,
   "id": "0ec02918-5042-4d05-8b4f-c74328d19909",
   "metadata": {},
   "outputs": [
    {
     "name": "stdout",
     "output_type": "stream",
     "text": [
      "Hello Pooja, welcome to OOP.\n"
     ]
    }
   ],
   "source": [
    "obj2=sample_class()\n",
    "obj2.method1(\"Pooja\")   #obj2.method1(obj2,'Pooja')"
   ]
  },
  {
   "cell_type": "code",
   "execution_count": 6,
   "id": "e2e21c3b-fe83-4d61-8036-ac4947c31740",
   "metadata": {},
   "outputs": [
    {
     "ename": "TypeError",
     "evalue": "sample_class2.method1() takes 1 positional argument but 2 were given",
     "output_type": "error",
     "traceback": [
      "\u001b[1;31m---------------------------------------------------------------------------\u001b[0m",
      "\u001b[1;31mTypeError\u001b[0m                                 Traceback (most recent call last)",
      "Cell \u001b[1;32mIn[6], line 8\u001b[0m\n\u001b[0;32m      5\u001b[0m         \u001b[38;5;28mprint\u001b[39m(\u001b[38;5;124mf\u001b[39m\u001b[38;5;124m\"\u001b[39m\u001b[38;5;124mHello \u001b[39m\u001b[38;5;132;01m{\u001b[39;00mname\u001b[38;5;132;01m}\u001b[39;00m\u001b[38;5;124m, welcome to OOP.\u001b[39m\u001b[38;5;124m\"\u001b[39m)\n\u001b[0;32m      7\u001b[0m obj3\u001b[38;5;241m=\u001b[39msample_class2()\n\u001b[1;32m----> 8\u001b[0m \u001b[43mobj3\u001b[49m\u001b[38;5;241;43m.\u001b[39;49m\u001b[43mmethod1\u001b[49m\u001b[43m(\u001b[49m\u001b[38;5;124;43m'\u001b[39;49m\u001b[38;5;124;43mKapil\u001b[39;49m\u001b[38;5;124;43m'\u001b[39;49m\u001b[43m)\u001b[49m  \u001b[38;5;66;03m#obj3.method1(obj3,'Kapil')\u001b[39;00m\n",
      "\u001b[1;31mTypeError\u001b[0m: sample_class2.method1() takes 1 positional argument but 2 were given"
     ]
    }
   ],
   "source": [
    "class sample_class2:\n",
    "    \"This is a sample doc string\"\n",
    "    name=\"\"  #Member variable\n",
    "    def method1(name):  #member function/method\n",
    "        print(f\"Hello {name}, welcome to OOP.\")\n",
    "\n",
    "obj3=sample_class2()\n",
    "obj3.method1('Kapil')  #obj3.method1(obj3,'Kapil')"
   ]
  },
  {
   "cell_type": "code",
   "execution_count": 7,
   "id": "6517a28c-7cd6-4646-8723-77d4274c2030",
   "metadata": {},
   "outputs": [
    {
     "name": "stdout",
     "output_type": "stream",
     "text": [
      "<__main__.Edureka object at 0x000001B60BA0C3E0>\n",
      "<class '__main__.Edureka'>\n",
      "Memorey ID of self: 1881390760928\n",
      "Memorey ID of Object: 1881390760928\n",
      "<__main__.Edureka object at 0x000001B60B9049B0>\n",
      "<class '__main__.Edureka'>\n",
      "Memorey ID of self: 1881389681072\n",
      "Memorey ID of Object: 1881389681072\n"
     ]
    }
   ],
   "source": [
    "#understanding Self\n",
    "class Edureka:\n",
    "    def method2(self):\n",
    "        print(self)\n",
    "        print(type(self))\n",
    "        print(\"Memorey ID of self:\",id(self))\n",
    "\n",
    "object1=Edureka()\n",
    "object1.method2()  #object1.method2(object1)\n",
    "print(\"Memorey ID of Object:\",id(object1))\n",
    "\n",
    "object2=Edureka()\n",
    "object2.method2()  #object2.method2(object2)\n",
    "print(\"Memorey ID of Object:\",id(object2))"
   ]
  },
  {
   "cell_type": "code",
   "execution_count": 8,
   "id": "fdaf7413-a2be-4fc0-815f-d188bd901fce",
   "metadata": {},
   "outputs": [
    {
     "name": "stdout",
     "output_type": "stream",
     "text": [
      "This is a sample doc string\n"
     ]
    }
   ],
   "source": [
    "print(sample_class.__doc__)"
   ]
  },
  {
   "cell_type": "code",
   "execution_count": 11,
   "id": "d1948577-b2a0-4cdc-9478-977a327a50ef",
   "metadata": {},
   "outputs": [
    {
     "name": "stdout",
     "output_type": "stream",
     "text": [
      "I am Public\n",
      "I am Private\n"
     ]
    }
   ],
   "source": [
    "#Constructors and Encapsulation\n",
    "#Access Specifiers/Modifiers : public,private,protected\n",
    "#public   var_name\n",
    "#private  __var_name\n",
    "#protected _var_name\n",
    "\n",
    "class Edureka:\n",
    "    def __init__(self):   #Constructor\n",
    "        self.__pri=\"I am Private\"\n",
    "        self._pro=\"I am Protected\"\n",
    "        self.pub=\"I am Public\"\n",
    "\n",
    "    def __del__(self):\n",
    "        #destructor code\n",
    "        \n",
    "    def func(self):\n",
    "        print(self.__pri)\n",
    "    \n",
    "ob=Edureka()\n",
    "print(ob.pub)  #access in outside the class\n",
    "#print(ob.__pri)  # This line of code will throw error because private attributes can't be accessed outside the class in this way\n",
    "ob.func()"
   ]
  },
  {
   "cell_type": "code",
   "execution_count": 15,
   "id": "072a667c-ad20-43d0-ba77-4cecfc54c27a",
   "metadata": {},
   "outputs": [
    {
     "ename": "AttributeError",
     "evalue": "'Employee' object has no attribute '__empId'",
     "output_type": "error",
     "traceback": [
      "\u001b[1;31m---------------------------------------------------------------------------\u001b[0m",
      "\u001b[1;31mAttributeError\u001b[0m                            Traceback (most recent call last)",
      "Cell \u001b[1;32mIn[15], line 15\u001b[0m\n\u001b[0;32m     13\u001b[0m         \u001b[38;5;28mprint\u001b[39m(\u001b[38;5;124m'\u001b[39m\u001b[38;5;124mThis is a private method\u001b[39m\u001b[38;5;124m'\u001b[39m)\n\u001b[0;32m     14\u001b[0m Employee1\u001b[38;5;241m=\u001b[39mEmployee()\n\u001b[1;32m---> 15\u001b[0m \u001b[38;5;28mprint\u001b[39m(\u001b[43mEmployee1\u001b[49m\u001b[38;5;241;43m.\u001b[39;49m\u001b[43m__empId\u001b[49m)\n\u001b[0;32m     16\u001b[0m Employee1\u001b[38;5;241m.\u001b[39mpublic_method()\n\u001b[0;32m     17\u001b[0m Employee1\u001b[38;5;241m.\u001b[39m_protected_method()\n",
      "\u001b[1;31mAttributeError\u001b[0m: 'Employee' object has no attribute '__empId'"
     ]
    }
   ],
   "source": [
    "# Example 10\n",
    "class Employee:\n",
    "    def __init__(self):  \n",
    "        self.__empId=101\n",
    "        self._empName='Smith'\n",
    "        self.salary=25000\n",
    "    def public_method(self):\n",
    "        print('This is a public method')\n",
    "        print(self.__empId)\n",
    "    def _protected_method(self):\n",
    "        print('This is a protected method')\n",
    "    def __private_method(self):\n",
    "        print('This is a private method')\n",
    "Employee1=Employee()\n",
    "print(Employee1.__empId)\n",
    "Employee1.public_method()\n",
    "Employee1._protected_method()\n",
    "#Employee1.__private_method()"
   ]
  },
  {
   "cell_type": "code",
   "execution_count": 14,
   "id": "4cb5edff-951f-4681-ba82-67a32167db35",
   "metadata": {},
   "outputs": [
    {
     "name": "stdout",
     "output_type": "stream",
     "text": [
      "constructor called, object created\n",
      "destructor\n",
      "constructor called, object created\n",
      "destructor\n"
     ]
    }
   ],
   "source": [
    "#Constructors \n",
    "class TestClass:\n",
    "    def __init__(self):\n",
    "        print(\"constructor called, object created\")\n",
    "    \n",
    "    def __del__(self):\n",
    "        print(\"destructor\")\n",
    "\n",
    "obj=TestClass()#--->pointing to the constructor\n",
    "obj1=TestClass()\n",
    "#obj2=TestClass()\n",
    "#del obj\n",
    "#obj3=TestClass()\n",
    "#del obj3"
   ]
  },
  {
   "cell_type": "code",
   "execution_count": 17,
   "id": "7e272118-fb1b-424c-885e-16193cba1b6d",
   "metadata": {},
   "outputs": [
    {
     "name": "stdout",
     "output_type": "stream",
     "text": [
      "This is parent class constructor\n",
      "This is child class constructor\n",
      "This is parent method\n"
     ]
    },
    {
     "ename": "AttributeError",
     "evalue": "'Parent' object has no attribute 'child_method'",
     "output_type": "error",
     "traceback": [
      "\u001b[1;31m---------------------------------------------------------------------------\u001b[0m",
      "\u001b[1;31mAttributeError\u001b[0m                            Traceback (most recent call last)",
      "Cell \u001b[1;32mIn[17], line 21\u001b[0m\n\u001b[0;32m     18\u001b[0m Child_Object\u001b[38;5;241m=\u001b[39mChild()   \u001b[38;5;66;03m# child object creation\u001b[39;00m\n\u001b[0;32m     20\u001b[0m Child_Object\u001b[38;5;241m.\u001b[39mparent_method() \u001b[38;5;66;03m# calling parent method using child object. This is the advantage of inheritance. \u001b[39;00m\n\u001b[1;32m---> 21\u001b[0m \u001b[43mParent_Object\u001b[49m\u001b[38;5;241;43m.\u001b[39;49m\u001b[43mchild_method\u001b[49m() \u001b[38;5;66;03m# This line will throw error if executed because parent can't access child\u001b[39;00m\n",
      "\u001b[1;31mAttributeError\u001b[0m: 'Parent' object has no attribute 'child_method'"
     ]
    }
   ],
   "source": [
    "#Inheritence--->Code Reusability\n",
    "# Single Inheritance\n",
    "# Example 1\n",
    "\n",
    "class Parent:  #Base\n",
    "    def __init__(self):\n",
    "        print('This is parent class constructor')\n",
    "    def parent_method(self):\n",
    "        print('This is parent method')\n",
    "\n",
    "class Child(Parent):  #Derived\n",
    "    def __init__(self):\n",
    "        print('This is child class constructor')\n",
    "    def child_method(self):\n",
    "        print('This is child method')\n",
    "        \n",
    "Parent_Object=Parent() # parent object creation\n",
    "Child_Object=Child()   # child object creation\n",
    "\n",
    "Child_Object.parent_method() # calling parent method using child object. This is the advantage of inheritance. \n",
    "Parent_Object.child_method() # This line will throw error if executed because parent can't access child"
   ]
  },
  {
   "cell_type": "code",
   "execution_count": 18,
   "id": "fc09fd4d-7dd4-4762-b3bb-00720c78066f",
   "metadata": {},
   "outputs": [
    {
     "name": "stdout",
     "output_type": "stream",
     "text": [
      "This is child class constructor\n",
      "This is child method\n",
      "This is 1st parent method\n",
      "This is 2nd parent method\n"
     ]
    }
   ],
   "source": [
    "# Multiple Inheritance\n",
    "# Example 2\n",
    "\n",
    "class Parent_1:\n",
    "    def __init__(self):\n",
    "        print('This is 1st parent class constructor')\n",
    "    def parent_method_1(self):\n",
    "        print('This is 1st parent method')\n",
    "        \n",
    "class Parent_2:\n",
    "    def __init__(self):\n",
    "        print('This is 2nd parent class constructor')\n",
    "    def parent_method_2(self):\n",
    "        print('This is 2nd parent method')\n",
    "\n",
    "class Child(Parent_1,Parent_2):\n",
    "    \n",
    "    def __init__(self):\n",
    "        print('This is child class constructor')\n",
    "    def child_method(self):\n",
    "        print('This is child method')\n",
    "\n",
    "Child_Object=Child()\n",
    "Child_Object.child_method()\n",
    "Child_Object.parent_method_1()\n",
    "Child_Object.parent_method_2()"
   ]
  },
  {
   "cell_type": "code",
   "execution_count": 20,
   "id": "ed963741-2a43-48a2-b2ed-f07d596b342d",
   "metadata": {},
   "outputs": [
    {
     "name": "stdout",
     "output_type": "stream",
     "text": [
      "This is child class constructor\n",
      "This is child method\n",
      "This is 2nd parent method\n"
     ]
    }
   ],
   "source": [
    "# Problem with Multiple Inheritance---->MRO(method resolution order)\n",
    "\n",
    "class Parent_1:\n",
    "    def __init__(self):\n",
    "        print('This is 1st parent class constructor')\n",
    "    def parent_method(self):\n",
    "        print('This is 1st parent method')\n",
    "        \n",
    "class Parent_2:\n",
    "    def __init__(self):\n",
    "        print('This is 2nd parent class constructor')\n",
    "    def parent_method(self):\n",
    "        print('This is 2nd parent method')\n",
    "\n",
    "class Child(Parent_2,Parent_1):\n",
    "    \n",
    "    def __init__(self):\n",
    "        print('This is child class constructor')\n",
    "        Parent_1.__init__() #explicitly calling constructor of base\n",
    "        super().__init__()\n",
    "        \n",
    "    def child_method(self):\n",
    "        print('This is child method')\n",
    "\n",
    "Child_Object=Child()\n",
    "Child_Object.child_method()\n",
    "Child_Object.parent_method()"
   ]
  },
  {
   "cell_type": "code",
   "execution_count": 21,
   "id": "5372ad9b-911f-410a-8483-6fec331cd321",
   "metadata": {},
   "outputs": [
    {
     "name": "stdout",
     "output_type": "stream",
     "text": [
      "This is grandparent method\n",
      "This is parent method\n",
      "This is child method\n"
     ]
    }
   ],
   "source": [
    "# Multilevel Inheritance\n",
    "# Example 6\n",
    "\n",
    "class Grand_Parent:\n",
    "    def method_1(self):\n",
    "        print('This is grandparent method')\n",
    "\n",
    "class Parent(Grand_Parent):\n",
    "    def method_2(self):\n",
    "        print('This is parent method')\n",
    "\n",
    "class Child(Parent):\n",
    "    def method_3(self):\n",
    "        print('This is child method')\n",
    "        \n",
    "Child_Object=Child()\n",
    "Child_Object.method_1() # Child is accessing grandparent method\n",
    "Child_Object.method_2() # Child is accessing parent method\n",
    "Child_Object.method_3() # Child is accessing its own method"
   ]
  },
  {
   "cell_type": "code",
   "execution_count": null,
   "id": "e7c34251-aed2-4bb4-abb4-1b521cc8edf9",
   "metadata": {},
   "outputs": [],
   "source": []
  }
 ],
 "metadata": {
  "kernelspec": {
   "display_name": "Python 3 (ipykernel)",
   "language": "python",
   "name": "python3"
  },
  "language_info": {
   "codemirror_mode": {
    "name": "ipython",
    "version": 3
   },
   "file_extension": ".py",
   "mimetype": "text/x-python",
   "name": "python",
   "nbconvert_exporter": "python",
   "pygments_lexer": "ipython3",
   "version": "3.12.4"
  }
 },
 "nbformat": 4,
 "nbformat_minor": 5
}
