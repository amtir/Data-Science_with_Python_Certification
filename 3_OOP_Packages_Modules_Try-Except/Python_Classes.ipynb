{
 "cells": [
  {
   "cell_type": "markdown",
   "id": "5b2f202b-5ac1-4d88-a5ca-4e28223097a3",
   "metadata": {},
   "source": [
    "# Python Classes"
   ]
  },
  {
   "cell_type": "markdown",
   "id": "b023cfed-68bd-47d0-bf31-4105937e1c63",
   "metadata": {},
   "source": [
    "| Accessor Type | Inside Class | Outside Class | Derived Class |\n",
    "|---------------|--------------|---------------|---------------|\n",
    "| **Public**    | Yes          | Yes           | Yes           |\n",
    "| **Private**   | Yes          | No            | No            |\n",
    "| **Protected** | Yes          | No            | Yes           |\n"
   ]
  },
  {
   "cell_type": "markdown",
   "id": "dd97ea88-940b-4750-b049-6b9c88c2a45f",
   "metadata": {},
   "source": [
    "* Private (__): Accessible only within the class.\n",
    "* Protected (_): Accessible within the class and subclasses (and technically outside, though not recommended).\n",
    "* Public: Accessible from anywhere."
   ]
  },
  {
   "cell_type": "code",
   "execution_count": 2,
   "id": "bae0c1e8-798f-4c69-8009-467958125d81",
   "metadata": {},
   "outputs": [
    {
     "name": "stdout",
     "output_type": "stream",
     "text": [
      "\n",
      "    This is a sample doc string\n",
      "    \n",
      "<__main__.sample_class object at 0x0000024CC138E1D0>\n",
      "<class '__main__.sample_class'>\n",
      "2528682500560\n",
      "2528682500560\n"
     ]
    }
   ],
   "source": [
    "class sample_class:\n",
    "    '''\n",
    "    This is a sample doc string\n",
    "    '''\n",
    "    def method(self):\n",
    "        print(self)\n",
    "        print(type(self))\n",
    "        print(id(self))\n",
    "        \n",
    "print(sample_class.__doc__)\n",
    "\n",
    "obj=sample_class()\n",
    "obj.method()\n",
    "print(id(obj))"
   ]
  },
  {
   "cell_type": "code",
   "execution_count": 19,
   "id": "20fa7697-9a12-4ead-8ac6-0f96c1336d3f",
   "metadata": {},
   "outputs": [
    {
     "name": "stdout",
     "output_type": "stream",
     "text": [
      "I am public\n",
      "Protected\n",
      "Private\n"
     ]
    }
   ],
   "source": [
    "class Edureka:\n",
    "    def __init__(self):\n",
    "        self.pub=\"I am public\"\n",
    "        self.__pri = \"Private\"\n",
    "        self._pro = \"Protected\"\n",
    "\n",
    "    def func(self): \n",
    "        # Encap£sulation protection \n",
    "        # ==>  data abstraction to hide\n",
    "        print(self.__pri)\n",
    "\n",
    "obj2=Edureka()\n",
    "print(obj2.pub) # public outside the class\n",
    "print(obj2._pro) # protected outside the class\n",
    "#print(obj2.__pri)\n",
    "\n",
    "obj2.func() # private "
   ]
  },
  {
   "cell_type": "code",
   "execution_count": 47,
   "id": "8f85905b-4c03-4dea-aa22-a04dd2825a3b",
   "metadata": {},
   "outputs": [
    {
     "name": "stdout",
     "output_type": "stream",
     "text": [
      "constructor called\n",
      "destructor called\n",
      "\n",
      "constructor called\n",
      "destructor called\n",
      "\n",
      "Public method\n",
      "Protected method\n"
     ]
    }
   ],
   "source": [
    "class Employee:\n",
    "    def __init__(self):\n",
    "        self.__empId=101\n",
    "        self._empName=\"Smith\"\n",
    "        self.salary=25000\n",
    "        print(\"constructor called\")\n",
    "\n",
    "    def __del__(self):\n",
    "        print('destructor called\\n')\n",
    "\n",
    "    def __private(self):\n",
    "        print(\"Private method\")\n",
    "\n",
    "    def _protected(self):\n",
    "        print(\"Protected method\")\n",
    "\n",
    "    def public(self):\n",
    "        print(\"Public method\")\n",
    "obj = Employee()\n",
    "obj1 = Employee()\n",
    "#del obj\n",
    "\n",
    "obj1.public()\n",
    "#obj1.__private()\n",
    "obj1._protected()\n",
    "\n",
    "        "
   ]
  },
  {
   "cell_type": "markdown",
   "id": "c53a3aa0-c1f6-4c9a-a9f6-46f1dae04bd4",
   "metadata": {},
   "source": [
    "* Private (__): Accessible only within the class.\n",
    "* Protected (_): Accessible within the class and subclasses (and technically outside, though not recommended).\n",
    "* Public: Accessible from anywhere."
   ]
  },
  {
   "cell_type": "code",
   "execution_count": 53,
   "id": "ce5800fc-0497-4fbe-8e4e-1d983e4e4f0a",
   "metadata": {},
   "outputs": [
    {
     "name": "stdout",
     "output_type": "stream",
     "text": [
      "Parent construcotr\n",
      "Child construcotr\n",
      "Parent method\n"
     ]
    }
   ],
   "source": [
    "class Parent: \n",
    "    def __init__(self):\n",
    "        print(\"Parent construcotr\")\n",
    "\n",
    "    def parent_method(self):\n",
    "        print(\"Parent method\")\n",
    "\n",
    "class Child(Parent):\n",
    "    def __init__(self):\n",
    "        print(\"Child construcotr\")\n",
    "\n",
    "    def chlid_method(self):\n",
    "        print(\"child method\")\n",
    "\n",
    "Parent_Obj=Parent()\n",
    "Child_Obj=Child()\n",
    "\n",
    "Child_Obj.parent_method()\n",
    "#Parent_Obj.chlid_method()"
   ]
  },
  {
   "cell_type": "markdown",
   "id": "62cd6e82-fc09-4d8f-8d70-fb504502df38",
   "metadata": {},
   "source": [
    "1. Single/Simple Inheritance \n",
    "2. Multiple Inheritance (more than one class)\n",
    "3.  Multi-level Inheritance\n",
    "```\n",
    "1. Single/Simple Inheritance\n",
    "-----------------------------\n",
    "A (Parent Class)\n",
    "   |\n",
    "   v\n",
    "B (Child Class)\n",
    "\n",
    "\n",
    "2. Multiple Inheritance (more than one class)\n",
    "------------------------------------------------\n",
    "A (Parent Class 1)    C (Parent Class 2)\n",
    "       |                   |\n",
    "       |                   |\n",
    "       v                   v\n",
    "             B (Child Class)\n",
    "\n",
    "3. Multi-level Inheritance\n",
    "---------------------------\n",
    "A (Grandparent Class)\n",
    "   |\n",
    "   v\n",
    "B (Parent Class)\n",
    "   |\n",
    "   v\n",
    "C (Child Class)\n",
    "\n",
    "```\n"
   ]
  },
  {
   "cell_type": "code",
   "execution_count": 55,
   "id": "ff436e8f-19bc-4206-bafc-eb640ac71c24",
   "metadata": {},
   "outputs": [
    {
     "name": "stdout",
     "output_type": "stream",
     "text": [
      "Child construcotr\n",
      "Parent1 method\n",
      "Parent2 method\n"
     ]
    }
   ],
   "source": [
    "#  Multiple Inheritance \n",
    "\n",
    "class Parent1: \n",
    "    def __init__(self):\n",
    "        print(\"Parent1 construcotr\")\n",
    "\n",
    "    def parent1_method(self):\n",
    "        print(\"Parent1 method\")\n",
    "\n",
    "class Parent2: \n",
    "    def __init__(self):\n",
    "        print(\"Parent2 construcotr\")\n",
    "\n",
    "    def parent2_method(self):\n",
    "        print(\"Parent2 method\")\n",
    "\n",
    "class Child(Parent1, Parent2):\n",
    "    def __init__(self):\n",
    "        print(\"Child construcotr\")\n",
    "\n",
    "    def chlid_method(self):\n",
    "        print(\"child method\")\n",
    "\n",
    "Child_Obj=Child()\n",
    "\n",
    "Child_Obj.parent1_method()\n",
    "Child_Obj.parent2_method()\n"
   ]
  },
  {
   "cell_type": "code",
   "execution_count": 60,
   "id": "7f68093e-982c-464f-83dd-1a4a3a0e1352",
   "metadata": {},
   "outputs": [
    {
     "name": "stdout",
     "output_type": "stream",
     "text": [
      "Child construcotr\n",
      "Parent2 method\n",
      "Parent2 method\n"
     ]
    }
   ],
   "source": [
    "# Problem with Multiple Inheritance  \n",
    "# Same Name function\n",
    "# MRO Method Resolution Order\n",
    "\n",
    "class Parent1: \n",
    "    def __init__(self):\n",
    "        print(\"Parent1 construcotr\")\n",
    "\n",
    "    def parent_method(self):\n",
    "        print(\"Parent1 method\")\n",
    "\n",
    "class Parent2: \n",
    "    def __init__(self):\n",
    "        print(\"Parent2 construcotr\")\n",
    "\n",
    "    def parent_method(self):\n",
    "        print(\"Parent2 method\")\n",
    "\n",
    "class Child(Parent2, Parent1): # order inheritance matters\n",
    "    # First inheritance matter, has a higher priority \n",
    "    def __init__(self):\n",
    "        print(\"Child construcotr\")\n",
    "\n",
    "    def chlid_method(self):\n",
    "        print(\"child method\")\n",
    "\n",
    "Child_Obj=Child()\n",
    "\n",
    "Child_Obj.parent_method()\n",
    "Child_Obj.parent_method()\n"
   ]
  },
  {
   "cell_type": "code",
   "execution_count": 65,
   "id": "b3bc46ff-1083-46df-ab78-89ddfa038e0f",
   "metadata": {},
   "outputs": [
    {
     "name": "stdout",
     "output_type": "stream",
     "text": [
      "Child construcotr\n",
      "Parent method\n",
      "Grand-Parent method\n"
     ]
    }
   ],
   "source": [
    "# Multi-level Inheritance  \n",
    "\n",
    "class Grand_Parent: \n",
    "    def __init__(self):\n",
    "        print(\"Grand-Parent construcotr\")\n",
    "\n",
    "    def grand_parent_method(self):\n",
    "        print(\"Grand-Parent method\")\n",
    "\n",
    "class Parent(Grand_Parent): \n",
    "    def __init__(self):\n",
    "        print(\"Parent construcotr\")\n",
    "\n",
    "    def parent_method(self):\n",
    "        print(\"Parent method\")\n",
    "\n",
    "class Child(Parent): # order inheritance matters\n",
    "    # First inheritance matter, has a higher priority \n",
    "    def __init__(self):\n",
    "        print(\"Child construcotr\")\n",
    "\n",
    "    def chlid_method(self):\n",
    "        print(\"Child method\")\n",
    "\n",
    "Child_Obj=Child()\n",
    "\n",
    "Child_Obj.parent_method()\n",
    "Child_Obj.grand_parent_method()\n"
   ]
  },
  {
   "cell_type": "code",
   "execution_count": 66,
   "id": "4b8688f5-fe7c-45aa-ba58-ddc332753714",
   "metadata": {},
   "outputs": [
    {
     "name": "stdout",
     "output_type": "stream",
     "text": [
      "Parent constructor called. Name: John\n",
      "Child constructor called. Age: 12\n"
     ]
    }
   ],
   "source": [
    "# Accessing the Parent Constructor with super() (Single Inheritance)\n",
    "class Parent:\n",
    "    def __init__(self, name):\n",
    "        self.name = name\n",
    "        print(f\"Parent constructor called. Name: {self.name}\")\n",
    "\n",
    "class Child(Parent):\n",
    "    def __init__(self, name, age):\n",
    "        # Call the Parent's constructor\n",
    "        super().__init__(name)\n",
    "        self.age = age\n",
    "        print(f\"Child constructor called. Age: {self.age}\")\n",
    "\n",
    "# Instantiate Child class\n",
    "child = Child(\"John\", 12)\n"
   ]
  },
  {
   "cell_type": "code",
   "execution_count": 69,
   "id": "5103f912-7e93-43d9-91ab-3fd5c0c5351d",
   "metadata": {},
   "outputs": [
    {
     "name": "stdout",
     "output_type": "stream",
     "text": [
      "Grandparent constructor called. Name: John\n",
      "Parent constructor called. Age: 40\n",
      "Child constructor called. Grade: 5th Grade\n"
     ]
    }
   ],
   "source": [
    "# Multi-level Inheritance: Accessing a Specific Parent Constructor\n",
    "'''\n",
    "In multiple inheritance, when you have more than one parent class, super() follows the method resolution order (MRO) to determine which parent constructor to call. If you need to call a specific parent's constructor, you can do so by calling the class name directly.\n",
    "'''\n",
    "class Grandparent:\n",
    "    def __init__(self, name):\n",
    "        self.name = name\n",
    "        print(f\"Grandparent constructor called. Name: {self.name}\")\n",
    "\n",
    "class Parent(Grandparent):\n",
    "    def __init__(self, name, age):\n",
    "        # Call the Grandparent's constructor\n",
    "        super().__init__(name)\n",
    "        self.age = age\n",
    "        print(f\"Parent constructor called. Age: {self.age}\")\n",
    "\n",
    "class Child(Parent):\n",
    "    def __init__(self, name, age, grade):\n",
    "        # Call the Parent's constructor\n",
    "        super().__init__(name, age)\n",
    "        self.grade = grade\n",
    "        print(f\"Child constructor called. Grade: {self.grade}\")\n",
    "\n",
    "# Instantiate Child class\n",
    "child = Child(\"John\", 40, \"5th Grade\")\n"
   ]
  },
  {
   "cell_type": "code",
   "execution_count": 70,
   "id": "0d59b24d-263f-454d-b3b8-0bf78105c9cc",
   "metadata": {},
   "outputs": [
    {
     "name": "stdout",
     "output_type": "stream",
     "text": [
      "Parent1 constructor called. Name: John\n",
      "Parent2 constructor called. Age: 12\n",
      "Child constructor called.\n"
     ]
    }
   ],
   "source": [
    "# Calling a Specific Parent in Multiple Inheritance\n",
    "'''\n",
    "In multiple inheritance, when you have more than one parent class, \n",
    "super() follows the method resolution order (MRO) \n",
    "to determine which parent constructor to call. \n",
    "If you need to call a specific parent's constructor, \n",
    "you can do so by calling the class name directly.\n",
    "'''\n",
    "class Parent1:\n",
    "    def __init__(self, name):\n",
    "        self.name = name\n",
    "        print(f\"Parent1 constructor called. Name: {self.name}\")\n",
    "\n",
    "class Parent2:\n",
    "    def __init__(self, age):\n",
    "        self.age = age\n",
    "        print(f\"Parent2 constructor called. Age: {self.age}\")\n",
    "\n",
    "class Child(Parent1, Parent2):\n",
    "    def __init__(self, name, age):\n",
    "        # Call specific parent constructors\n",
    "        Parent1.__init__(self, name)  # Calling Parent1 constructor\n",
    "        Parent2.__init__(self, age)   # Calling Parent2 constructor\n",
    "        print(\"Child constructor called.\")\n",
    "\n",
    "# Instantiate Child class\n",
    "child = Child(\"John\", 12)\n"
   ]
  },
  {
   "cell_type": "markdown",
   "id": "db3c007f-7d27-4086-b8c9-565208fda989",
   "metadata": {},
   "source": [
    "### Accessing the Parent Constructor\n",
    "* Use super() to call the immediate parent class's constructor.\n",
    "* In multi-level inheritance, super() moves up one level in the hierarchy.\n",
    "* In multiple inheritance, super() follows method resolution order (MRO) to decide which parent constructor to call. You can call specific parent constructors using the class name.\n",
    "* The MRO is determined by Python’s C3 linearization algorithm, which ensures a consistent order of resolution.\n"
   ]
  },
  {
   "cell_type": "markdown",
   "id": "7a1702ee-5864-4585-a2c6-09fde6ed21af",
   "metadata": {},
   "source": [
    "### Method Resolution Order (MRO) in Python\n",
    "The Method Resolution Order (MRO) is the order in which Python looks for a method in a hierarchy of classes. When a class inherits from multiple classes, the MRO defines the order in which the base classes are searched when executing a method or accessing an attribute.\n",
    "\n",
    "The concept of MRO is essential in multiple inheritance because it dictates how Python resolves which parent class to prioritize if a method or attribute is present in more than one parent class."
   ]
  },
  {
   "cell_type": "code",
   "execution_count": 1,
   "id": "2de737e4-739c-47c1-b1b4-1fff30626124",
   "metadata": {},
   "outputs": [
    {
     "name": "stdout",
     "output_type": "stream",
     "text": [
      "[<class '__main__.D'>, <class '__main__.B'>, <class '__main__.C'>, <class '__main__.A'>, <class 'object'>]\n"
     ]
    }
   ],
   "source": [
    "class A:\n",
    "    pass\n",
    "\n",
    "class B(A):\n",
    "    pass\n",
    "\n",
    "class C(A):\n",
    "    pass\n",
    "\n",
    "class D(B, C):\n",
    "    pass\n",
    "\n",
    "print(D.mro())  # Shows the MRO for class D\n"
   ]
  },
  {
   "cell_type": "code",
   "execution_count": null,
   "id": "84ee114e-f063-4137-9eaf-9db54f3322a0",
   "metadata": {},
   "outputs": [],
   "source": []
  }
 ],
 "metadata": {
  "kernelspec": {
   "display_name": "Python 3 (ipykernel)",
   "language": "python",
   "name": "python3"
  },
  "language_info": {
   "codemirror_mode": {
    "name": "ipython",
    "version": 3
   },
   "file_extension": ".py",
   "mimetype": "text/x-python",
   "name": "python",
   "nbconvert_exporter": "python",
   "pygments_lexer": "ipython3",
   "version": "3.10.1"
  }
 },
 "nbformat": 4,
 "nbformat_minor": 5
}
