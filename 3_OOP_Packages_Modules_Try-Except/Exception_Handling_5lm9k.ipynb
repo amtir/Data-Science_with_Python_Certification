{
 "cells": [
  {
   "cell_type": "code",
   "execution_count": 6,
   "id": "dff48376-e998-4d5d-a7d0-44e8557aba56",
   "metadata": {},
   "outputs": [
    {
     "name": "stdin",
     "output_type": "stream",
     "text": [
      "Enter any number for var1: 45\n",
      "Enter any number for var2: 0\n"
     ]
    },
    {
     "ename": "ZeroDivisionError",
     "evalue": "division by zero",
     "output_type": "error",
     "traceback": [
      "\u001b[1;31m---------------------------------------------------------------------------\u001b[0m",
      "\u001b[1;31mZeroDivisionError\u001b[0m                         Traceback (most recent call last)",
      "Cell \u001b[1;32mIn[6], line 3\u001b[0m\n\u001b[0;32m      1\u001b[0m var1\u001b[38;5;241m=\u001b[39m\u001b[38;5;28mint\u001b[39m(\u001b[38;5;28minput\u001b[39m(\u001b[38;5;124m\"\u001b[39m\u001b[38;5;124mEnter any number for var1:\u001b[39m\u001b[38;5;124m\"\u001b[39m))\n\u001b[0;32m      2\u001b[0m var2\u001b[38;5;241m=\u001b[39m\u001b[38;5;28mint\u001b[39m(\u001b[38;5;28minput\u001b[39m(\u001b[38;5;124m\"\u001b[39m\u001b[38;5;124mEnter any number for var2:\u001b[39m\u001b[38;5;124m\"\u001b[39m))\n\u001b[1;32m----> 3\u001b[0m var3\u001b[38;5;241m=\u001b[39m\u001b[43mvar1\u001b[49m\u001b[38;5;241;43m/\u001b[39;49m\u001b[43mvar2\u001b[49m\n\u001b[0;32m      4\u001b[0m \u001b[38;5;28mprint\u001b[39m(var3)\n",
      "\u001b[1;31mZeroDivisionError\u001b[0m: division by zero"
     ]
    }
   ],
   "source": [
    "var1=int(input(\"Enter any number for var1:\"))\n",
    "var2=int(input(\"Enter any number for var2:\"))\n",
    "var3=var1/var2\n",
    "print(var3)"
   ]
  },
  {
   "cell_type": "code",
   "execution_count": null,
   "id": "84d1788a-794c-47e3-b264-4f0b1c487012",
   "metadata": {},
   "outputs": [],
   "source": [
    "#Excrption handling: try-except-finally-else"
   ]
  },
  {
   "cell_type": "code",
   "execution_count": 12,
   "id": "3a3f43f6-1c20-4cac-b590-c78939e1aead",
   "metadata": {},
   "outputs": [
    {
     "name": "stdin",
     "output_type": "stream",
     "text": [
      "Enter any number for var1: 45\n",
      "Enter any number for var2: 0\n"
     ]
    },
    {
     "name": "stdout",
     "output_type": "stream",
     "text": [
      "Some Exception occured, try again\n",
      "Invalid Inputs\n",
      "(<class 'ZeroDivisionError'>, ZeroDivisionError('division by zero'), <traceback object at 0x000001B5F64264C0>)\n"
     ]
    },
    {
     "name": "stdin",
     "output_type": "stream",
     "text": [
      "Enter any number for var1: 45\n",
      "Enter any number for var2: 3\n"
     ]
    },
    {
     "name": "stdout",
     "output_type": "stream",
     "text": [
      "15.0\n",
      "Always excecuting\n"
     ]
    }
   ],
   "source": [
    "import sys\n",
    "try:\n",
    "    var1=int(input(\"Enter any number for var1:\"))\n",
    "    var2=int(input(\"Enter any number for var2:\"))\n",
    "    var3=var1/var2\n",
    "    print(var3)\n",
    "except:\n",
    "    print(\"Some Exception occured, try again\")\n",
    "    print(\"Invalid Inputs\")\n",
    "    print(sys.exc_info())\n",
    "    var1=int(input(\"Enter any number for var1:\"))\n",
    "    var2=int(input(\"Enter any number for var2:\"))\n",
    "    var3=var1/var2\n",
    "    print(var3)\n",
    "else:\n",
    "    print(\"No exception in the code, go ahead\")\n",
    "finally:\n",
    "    print(\"Always excecuting\")"
   ]
  },
  {
   "cell_type": "code",
   "execution_count": 13,
   "id": "cfbf7670-577f-4745-bf57-eb6dd0ce5975",
   "metadata": {},
   "outputs": [
    {
     "name": "stdout",
     "output_type": "stream",
     "text": [
      "The index is out of range\n"
     ]
    }
   ],
   "source": [
    "# Example 8 -- Multiple Except Blocks \n",
    "try:\n",
    "    var1=10\n",
    "    var2=5\n",
    "    if var2==0:\n",
    "        raise ZeroDivisionError\n",
    "    list1=[1,2,3]\n",
    "    list1[2]=var1/var2\n",
    "    print(list1[3])\n",
    "except ZeroDivisionError:\n",
    "    print('Numbers cant be divided by zero')\n",
    "except ValueError:\n",
    "    print('It is a value error')\n",
    "except IndexError:\n",
    "    print('The index is out of range')\n",
    "except:\n",
    "    print('Some Exception Happened')\n",
    "    print(sys.exc_info()) "
   ]
  },
  {
   "cell_type": "code",
   "execution_count": null,
   "id": "5f9638a4-d810-4182-a7a2-b53d16ec5619",
   "metadata": {},
   "outputs": [],
   "source": [
    "#Userdefined exceptions--->Try after some practice in OOPS"
   ]
  }
 ],
 "metadata": {
  "kernelspec": {
   "display_name": "Python 3 (ipykernel)",
   "language": "python",
   "name": "python3"
  },
  "language_info": {
   "codemirror_mode": {
    "name": "ipython",
    "version": 3
   },
   "file_extension": ".py",
   "mimetype": "text/x-python",
   "name": "python",
   "nbconvert_exporter": "python",
   "pygments_lexer": "ipython3",
   "version": "3.12.4"
  }
 },
 "nbformat": 4,
 "nbformat_minor": 5
}
