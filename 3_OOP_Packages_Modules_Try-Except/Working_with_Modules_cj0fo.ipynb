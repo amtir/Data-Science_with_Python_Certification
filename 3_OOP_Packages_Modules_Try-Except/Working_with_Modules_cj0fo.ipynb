{
 "cells": [
  {
   "cell_type": "code",
   "execution_count": null,
   "id": "cd0e770f-a6cb-45e6-aa3f-c87d958722c0",
   "metadata": {},
   "outputs": [],
   "source": [
    "#Modules/Libraries--->Collection pre defined functions that can be used directly into our code\n",
    "\n",
    "#Types of Modules:\n",
    "#1.Built-in/Standard Libs\n",
    "#2.Third Party Lib\n",
    "#3.User defined Libs"
   ]
  },
  {
   "cell_type": "code",
   "execution_count": 1,
   "id": "b9ac5e1e-e7c2-450f-88fb-7864a8cb38b1",
   "metadata": {},
   "outputs": [
    {
     "name": "stdout",
     "output_type": "stream",
     "text": [
      "8.831760866327848\n"
     ]
    }
   ],
   "source": [
    "#Import Statement\n",
    "import math\n",
    "print(math.sqrt(78))"
   ]
  },
  {
   "cell_type": "code",
   "execution_count": 4,
   "id": "21ace470-9f3b-4e5d-8ff4-9c5c94ea007a",
   "metadata": {},
   "outputs": [
    {
     "name": "stdout",
     "output_type": "stream",
     "text": [
      "9.797958971132712\n",
      "91125.0\n"
     ]
    }
   ],
   "source": [
    "from math import sqrt,pow\n",
    "print(math.sqrt(96))\n",
    "print(math.pow(45,3))"
   ]
  },
  {
   "cell_type": "code",
   "execution_count": 5,
   "id": "6380c3ed-e416-431f-9aff-f16ae80eb3e8",
   "metadata": {},
   "outputs": [
    {
     "name": "stdout",
     "output_type": "stream",
     "text": [
      "3.7416573867739413\n"
     ]
    }
   ],
   "source": [
    "#Alias\n",
    "import math as m\n",
    "print(m.sqrt(14))\n",
    "\n",
    "#import pandas as pd\n",
    "#import numpy as np"
   ]
  },
  {
   "cell_type": "code",
   "execution_count": 9,
   "id": "ef9b6b00-0633-4277-ac4d-3da3306b727a",
   "metadata": {},
   "outputs": [
    {
     "data": {
      "text/plain": [
       "25"
      ]
     },
     "execution_count": 9,
     "metadata": {},
     "output_type": "execute_result"
    }
   ],
   "source": [
    "import random as rd\n",
    "rd.randint(1,100)"
   ]
  },
  {
   "cell_type": "code",
   "execution_count": null,
   "id": "8676150c-d107-4e8c-9454-d700b605b3ea",
   "metadata": {},
   "outputs": [],
   "source": [
    "#Important built in Libs: sys,math,os,datetime,re,random"
   ]
  }
 ],
 "metadata": {
  "kernelspec": {
   "display_name": "Python 3 (ipykernel)",
   "language": "python",
   "name": "python3"
  },
  "language_info": {
   "codemirror_mode": {
    "name": "ipython",
    "version": 3
   },
   "file_extension": ".py",
   "mimetype": "text/x-python",
   "name": "python",
   "nbconvert_exporter": "python",
   "pygments_lexer": "ipython3",
   "version": "3.12.4"
  }
 },
 "nbformat": 4,
 "nbformat_minor": 5
}
