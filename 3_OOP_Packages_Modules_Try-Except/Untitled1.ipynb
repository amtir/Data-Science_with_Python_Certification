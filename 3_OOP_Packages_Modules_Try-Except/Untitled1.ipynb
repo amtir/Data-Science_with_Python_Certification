{
 "cells": [
  {
   "cell_type": "markdown",
   "id": "7a60dd74-cd2c-44f9-8642-128db135b041",
   "metadata": {},
   "source": [
    "# Modules"
   ]
  },
  {
   "cell_type": "markdown",
   "id": "975ecc43-6d5a-4f3f-96f3-861b198747dc",
   "metadata": {},
   "source": [
    "### Types of Modules  \n",
    "1. Build-in/Standard Libs\n",
    "2. Third Party Lib (sys, math,os, datetime,re,random)\n",
    "3. User defined Libs"
   ]
  },
  {
   "cell_type": "code",
   "execution_count": 8,
   "id": "37a596e0-4e57-4910-bbb0-054e61990459",
   "metadata": {},
   "outputs": [
    {
     "name": "stdout",
     "output_type": "stream",
     "text": [
      "32.0\n"
     ]
    }
   ],
   "source": [
    "import math \n",
    "print(math.sqrt(1024))"
   ]
  },
  {
   "cell_type": "code",
   "execution_count": 7,
   "id": "a189e657-3849-4af4-b91d-8071368e77f9",
   "metadata": {},
   "outputs": [
    {
     "name": "stdout",
     "output_type": "stream",
     "text": [
      "32.0\n",
      "1024.0\n"
     ]
    }
   ],
   "source": [
    "from math import sqrt,pow\n",
    "print(sqrt(1024))\n",
    "print(pow(32,2))"
   ]
  },
  {
   "cell_type": "code",
   "execution_count": 10,
   "id": "a7572a78-f2b3-4820-b475-6ee991f8a277",
   "metadata": {},
   "outputs": [
    {
     "name": "stdout",
     "output_type": "stream",
     "text": [
      "32.0\n",
      "3.141592653589793\n"
     ]
    }
   ],
   "source": [
    "# Alias\n",
    "import math as m\n",
    "print(m.sqrt(1024))\n",
    "print(m.pi)"
   ]
  },
  {
   "cell_type": "code",
   "execution_count": 16,
   "id": "77a077f5-eb2f-4abb-aae7-87075e0e9971",
   "metadata": {},
   "outputs": [
    {
     "data": {
      "text/plain": [
       "33"
      ]
     },
     "execution_count": 16,
     "metadata": {},
     "output_type": "execute_result"
    }
   ],
   "source": [
    "import random as rd\n",
    "rd.randint(1,100)"
   ]
  },
  {
   "cell_type": "code",
   "execution_count": 17,
   "id": "e93499c3-8a4f-4c3b-8699-6244a0f352eb",
   "metadata": {},
   "outputs": [
    {
     "data": {
      "text/plain": [
       "['In',\n",
       " 'Out',\n",
       " '_',\n",
       " '_11',\n",
       " '_12',\n",
       " '_13',\n",
       " '_14',\n",
       " '_15',\n",
       " '_16',\n",
       " '__',\n",
       " '___',\n",
       " '__builtin__',\n",
       " '__builtins__',\n",
       " '__doc__',\n",
       " '__loader__',\n",
       " '__name__',\n",
       " '__package__',\n",
       " '__session__',\n",
       " '__spec__',\n",
       " '_dh',\n",
       " '_i',\n",
       " '_i1',\n",
       " '_i10',\n",
       " '_i11',\n",
       " '_i12',\n",
       " '_i13',\n",
       " '_i14',\n",
       " '_i15',\n",
       " '_i16',\n",
       " '_i17',\n",
       " '_i2',\n",
       " '_i3',\n",
       " '_i4',\n",
       " '_i5',\n",
       " '_i6',\n",
       " '_i7',\n",
       " '_i8',\n",
       " '_i9',\n",
       " '_ih',\n",
       " '_ii',\n",
       " '_iii',\n",
       " '_oh',\n",
       " 'exit',\n",
       " 'get_ipython',\n",
       " 'm',\n",
       " 'math',\n",
       " 'open',\n",
       " 'pow',\n",
       " 'quit',\n",
       " 'rd',\n",
       " 'sqrt']"
      ]
     },
     "execution_count": 17,
     "metadata": {},
     "output_type": "execute_result"
    }
   ],
   "source": [
    "dir()"
   ]
  },
  {
   "cell_type": "code",
   "execution_count": null,
   "id": "77b98e37-5652-4860-842d-5c73424cff50",
   "metadata": {},
   "outputs": [],
   "source": []
  }
 ],
 "metadata": {
  "kernelspec": {
   "display_name": "Python 3 (ipykernel)",
   "language": "python",
   "name": "python3"
  },
  "language_info": {
   "codemirror_mode": {
    "name": "ipython",
    "version": 3
   },
   "file_extension": ".py",
   "mimetype": "text/x-python",
   "name": "python",
   "nbconvert_exporter": "python",
   "pygments_lexer": "ipython3",
   "version": "3.10.1"
  }
 },
 "nbformat": 4,
 "nbformat_minor": 5
}
