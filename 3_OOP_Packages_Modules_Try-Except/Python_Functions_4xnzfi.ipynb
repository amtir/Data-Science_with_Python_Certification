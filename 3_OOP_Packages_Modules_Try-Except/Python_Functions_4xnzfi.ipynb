{
 "cells": [
  {
   "cell_type": "code",
   "execution_count": 1,
   "id": "0efd8564-155c-4a10-a583-43176b21a04b",
   "metadata": {},
   "outputs": [],
   "source": [
    "#Write once-Use Many\n",
    "\n",
    "#Define\n",
    "def add(num1,num2):  #num1,num2 are arguments/parameters\n",
    "    result=num1+num2\n",
    "    return result"
   ]
  },
  {
   "cell_type": "code",
   "execution_count": 3,
   "id": "1041a3f9-cab2-42f7-a5b8-1214bf66f144",
   "metadata": {},
   "outputs": [
    {
     "name": "stdout",
     "output_type": "stream",
     "text": [
      "300\n"
     ]
    }
   ],
   "source": [
    "#Call the function-On demand\n",
    "output=add(100,200)\n",
    "print(output)"
   ]
  },
  {
   "cell_type": "code",
   "execution_count": 4,
   "id": "d63cfede-765e-4a24-b0f7-20254b0fdece",
   "metadata": {},
   "outputs": [
    {
     "data": {
      "text/plain": [
       "1155"
      ]
     },
     "execution_count": 4,
     "metadata": {},
     "output_type": "execute_result"
    }
   ],
   "source": [
    "add(786,369)"
   ]
  },
  {
   "cell_type": "code",
   "execution_count": 5,
   "id": "fbe71727-6f8a-406c-ab12-9d930cb425c8",
   "metadata": {},
   "outputs": [
    {
     "data": {
      "text/plain": [
       "6330"
      ]
     },
     "execution_count": 5,
     "metadata": {},
     "output_type": "execute_result"
    }
   ],
   "source": [
    "add(5632,698)"
   ]
  },
  {
   "cell_type": "code",
   "execution_count": 6,
   "id": "3a6a56df-dccb-4b3d-887d-c96af79496aa",
   "metadata": {},
   "outputs": [
    {
     "name": "stdin",
     "output_type": "stream",
     "text": [
      "Enter your name: Amit\n",
      "Enter you age: 45\n"
     ]
    }
   ],
   "source": [
    "#Types of Arguments\n",
    "uname=input(\"Enter your name:\")\n",
    "uage=int(input(\"Enter you age:\"))\n",
    "\n",
    "def func1(name,age):\n",
    "    print(f'Hi,{name} you are {age} years old')"
   ]
  },
  {
   "cell_type": "code",
   "execution_count": 9,
   "id": "009005c1-f64e-4945-96c6-a54de74e71ef",
   "metadata": {},
   "outputs": [
    {
     "name": "stdout",
     "output_type": "stream",
     "text": [
      "Hi,Amit you are 45 years old\n",
      "Hi,45 you are Amit years old\n"
     ]
    }
   ],
   "source": [
    "#1.Positional-Required Arguments\n",
    "func1(uname,uage)\n",
    "#func1(uname)\n",
    "func1(uage,uname)  #Change in order"
   ]
  },
  {
   "cell_type": "code",
   "execution_count": 12,
   "id": "8c59bb85-36f8-47fb-9a96-64c44eadcce7",
   "metadata": {},
   "outputs": [
    {
     "name": "stdout",
     "output_type": "stream",
     "text": [
      "Hi,Amit you are 45 years old\n",
      "Hi,Amit you are 45 years old\n"
     ]
    },
    {
     "ename": "TypeError",
     "evalue": "func1() missing 1 required positional argument: 'name'",
     "output_type": "error",
     "traceback": [
      "\u001b[1;31m---------------------------------------------------------------------------\u001b[0m",
      "\u001b[1;31mTypeError\u001b[0m                                 Traceback (most recent call last)",
      "Cell \u001b[1;32mIn[12], line 4\u001b[0m\n\u001b[0;32m      2\u001b[0m func1(name\u001b[38;5;241m=\u001b[39muname,age\u001b[38;5;241m=\u001b[39muage)\n\u001b[0;32m      3\u001b[0m func1(age\u001b[38;5;241m=\u001b[39muage,name\u001b[38;5;241m=\u001b[39muname)\n\u001b[1;32m----> 4\u001b[0m \u001b[43mfunc1\u001b[49m\u001b[43m(\u001b[49m\u001b[43mage\u001b[49m\u001b[38;5;241;43m=\u001b[39;49m\u001b[43muage\u001b[49m\u001b[43m)\u001b[49m\n",
      "\u001b[1;31mTypeError\u001b[0m: func1() missing 1 required positional argument: 'name'"
     ]
    }
   ],
   "source": [
    "#Keywords Args\n",
    "func1(name=uname,age=uage)\n",
    "func1(age=uage,name=uname)\n",
    "#func1(age=uage)"
   ]
  },
  {
   "cell_type": "code",
   "execution_count": 14,
   "id": "fd5dad08-19a9-44fc-acff-492c033aa653",
   "metadata": {},
   "outputs": [
    {
     "name": "stdout",
     "output_type": "stream",
     "text": [
      "Hi,Amit you are 20 years\n",
      "Hi,Tarun you are 45 years\n"
     ]
    }
   ],
   "source": [
    "#3.Default Arguments\n",
    "def func2(name,age=20):  #Default Value\n",
    "    print(f'Hi,{name} you are {age} years')\n",
    "\n",
    "func2('Amit')\n",
    "func2('Tarun',45)"
   ]
  },
  {
   "cell_type": "code",
   "execution_count": 19,
   "id": "e071671f-e61f-415c-a160-f9df1072d9c3",
   "metadata": {},
   "outputs": [
    {
     "name": "stdout",
     "output_type": "stream",
     "text": [
      "Hi,Kapil\n",
      "Hi,Amit\n",
      "Hi,Pooja\n",
      "Hi,Ramesh\n"
     ]
    }
   ],
   "source": [
    "#4.Arbitary Arguments(many value agaist single argument)\n",
    "def func3(*names):\n",
    "    for name in names:\n",
    "        print(f\"Hi,{name}\")\n",
    "\n",
    "func3('Kapil','Amit','Pooja','Ramesh')"
   ]
  },
  {
   "cell_type": "code",
   "execution_count": 17,
   "id": "1852943b-bea8-47ed-8803-28fa3d113bf9",
   "metadata": {},
   "outputs": [
    {
     "name": "stdout",
     "output_type": "stream",
     "text": [
      "Hi,Kapil\n",
      "Hi,Amit\n",
      "Hi,Pooja\n"
     ]
    }
   ],
   "source": [
    "def func4(names):\n",
    "    for name in names:\n",
    "        print(f\"Hi,{name}\")\n",
    "\n",
    "func4(['Kapil','Amit','Pooja'])"
   ]
  },
  {
   "cell_type": "code",
   "execution_count": 18,
   "id": "06e32c48-9b66-461e-9544-829253ba427c",
   "metadata": {},
   "outputs": [
    {
     "name": "stdout",
     "output_type": "stream",
     "text": [
      "['Kapil', 'Amit', 'Pooja']\n"
     ]
    }
   ],
   "source": [
    "def func5(names):\n",
    "    print(names)\n",
    "\n",
    "func5(['Kapil','Amit','Pooja'])"
   ]
  },
  {
   "cell_type": "code",
   "execution_count": null,
   "id": "0ca1cbd1-69fe-447d-b578-67c23d50eda4",
   "metadata": {},
   "outputs": [],
   "source": [
    "#5.Key-Arbitary Argument---->DIY"
   ]
  },
  {
   "cell_type": "code",
   "execution_count": 21,
   "id": "bcbbe24e-43bf-4ae2-9149-a92f816f3a71",
   "metadata": {},
   "outputs": [
    {
     "name": "stdin",
     "output_type": "stream",
     "text": [
      "Enter your name: AMit\n",
      "Enter you age: 60\n"
     ]
    },
    {
     "name": "stdout",
     "output_type": "stream",
     "text": [
      "Hi,AMit you are 60 years old\n"
     ]
    }
   ],
   "source": [
    "uname=input(\"Enter your name:\")\n",
    "uage=int(input(\"Enter you age:\"))\n",
    "\n",
    "def func5(name,age):\n",
    "    print(f'Hi,{name} you are {age} years old')\n",
    "\n",
    "func5(uname,age=uage)"
   ]
  },
  {
   "cell_type": "code",
   "execution_count": 22,
   "id": "0c7996c9-fd8f-4982-9414-1bd4b5c3dc7f",
   "metadata": {},
   "outputs": [
    {
     "ename": "SyntaxError",
     "evalue": "positional argument follows keyword argument (2441845577.py, line 1)",
     "output_type": "error",
     "traceback": [
      "\u001b[1;36m  Cell \u001b[1;32mIn[22], line 1\u001b[1;36m\u001b[0m\n\u001b[1;33m    func5(name=uname,age)   #Wrong !\u001b[0m\n\u001b[1;37m                        ^\u001b[0m\n\u001b[1;31mSyntaxError\u001b[0m\u001b[1;31m:\u001b[0m positional argument follows keyword argument\n"
     ]
    }
   ],
   "source": [
    "func5(name=uname,age)   #Wrong !"
   ]
  },
  {
   "cell_type": "code",
   "execution_count": 24,
   "id": "b81602f9-fbd2-496d-ba65-290ad42208e8",
   "metadata": {},
   "outputs": [
    {
     "name": "stdout",
     "output_type": "stream",
     "text": [
      "Var1: 100\n",
      "Var2: 200\n",
      "Var1: 100\n"
     ]
    },
    {
     "ename": "NameError",
     "evalue": "name 'var2' is not defined",
     "output_type": "error",
     "traceback": [
      "\u001b[1;31m---------------------------------------------------------------------------\u001b[0m",
      "\u001b[1;31mNameError\u001b[0m                                 Traceback (most recent call last)",
      "Cell \u001b[1;32mIn[24], line 13\u001b[0m\n\u001b[0;32m     11\u001b[0m \u001b[38;5;66;03m#outside the function\u001b[39;00m\n\u001b[0;32m     12\u001b[0m \u001b[38;5;28mprint\u001b[39m(\u001b[38;5;124m\"\u001b[39m\u001b[38;5;124mVar1:\u001b[39m\u001b[38;5;124m\"\u001b[39m,var1)\n\u001b[1;32m---> 13\u001b[0m \u001b[38;5;28mprint\u001b[39m(\u001b[38;5;124m\"\u001b[39m\u001b[38;5;124mVar2:\u001b[39m\u001b[38;5;124m\"\u001b[39m,\u001b[43mvar2\u001b[49m)\n",
      "\u001b[1;31mNameError\u001b[0m: name 'var2' is not defined"
     ]
    }
   ],
   "source": [
    "#Scope of the Varibles-->Local,Global\n",
    "\n",
    "var1=100   #Global Scope\n",
    "\n",
    "def func7():\n",
    "    var2=200  #Local Scope\n",
    "    print(\"Var1:\",var1)\n",
    "    print(\"Var2:\",var2)\n",
    "\n",
    "func7()\n",
    "#outside the function\n",
    "print(\"Var1:\",var1)\n",
    "print(\"Var2:\",var2)\n",
    "    "
   ]
  },
  {
   "cell_type": "code",
   "execution_count": 29,
   "id": "a4f33fdb-d157-44ed-880d-10cc50a8dcd9",
   "metadata": {},
   "outputs": [
    {
     "name": "stdout",
     "output_type": "stream",
     "text": [
      "Inside function Var1: 300\n",
      "Var2: 200\n",
      "outside function Var1: 300\n",
      "1000\n"
     ]
    }
   ],
   "source": [
    "var1=100   #Global Scope\n",
    "\n",
    "def func7():\n",
    "    global var1   #Accessing Global scope variable\n",
    "    var2=200  #Local Scope\n",
    "    var1=300\n",
    "    global var3\n",
    "    var3=1000\n",
    "    print(\"Inside function Var1:\",var1)\n",
    "    print(\"Var2:\",var2)\n",
    "\n",
    "func7()\n",
    "#outside the function\n",
    "print(\"outside function Var1:\",var1)\n",
    "print(var3)"
   ]
  },
  {
   "cell_type": "code",
   "execution_count": 30,
   "id": "90b21e9f-6b74-45b8-80ef-daf1bf5776e6",
   "metadata": {},
   "outputs": [
    {
     "name": "stdout",
     "output_type": "stream",
     "text": [
      "821\n"
     ]
    }
   ],
   "source": [
    "#Less Code more work\n",
    "\n",
    "#Lambda Function/Expression: No name,single line body(small and restricted),default return\n",
    "#Syntax:   lambda arguments:expression\n",
    "\n",
    "def add(num1,num2):  #num1,num2 are arguments/parameters\n",
    "    result=num1+num2\n",
    "    return result\n",
    "\n",
    "var=(lambda num1,num2:num1+num2)(452,369)\n",
    "print(var)"
   ]
  },
  {
   "cell_type": "code",
   "execution_count": 31,
   "id": "721a4da5-0c63-4fea-ab23-caad358fa972",
   "metadata": {},
   "outputs": [
    {
     "name": "stdout",
     "output_type": "stream",
     "text": [
      "821\n"
     ]
    }
   ],
   "source": [
    "var=lambda num1,num2:num1+num2\n",
    "print(var(452,369))"
   ]
  },
  {
   "cell_type": "code",
   "execution_count": null,
   "id": "5db518d2-2d27-4078-9d94-44feaae7e893",
   "metadata": {},
   "outputs": [],
   "source": [
    "#Advanced: filter(),map(),Reduce()   Working with sequences"
   ]
  },
  {
   "cell_type": "code",
   "execution_count": 32,
   "id": "1b004975-85c5-4066-a65e-f515395f137a",
   "metadata": {},
   "outputs": [
    {
     "name": "stdout",
     "output_type": "stream",
     "text": [
      "Even items:[236, 98, 64, 78, 96, 32],odd items:[45, 75, 23, 15, 35]\n"
     ]
    }
   ],
   "source": [
    "lst=[45,236,98,75,23,64,15,78,96,32,35]\n",
    "\n",
    "def even_odd(lst):\n",
    "    even=[]\n",
    "    odd=[]\n",
    "    for i in lst:\n",
    "        if i%2==0:\n",
    "            even.append(i)\n",
    "        else:\n",
    "            odd.append(i)\n",
    "    print(f'Even items:{even},odd items:{odd}')\n",
    "\n",
    "even_odd(lst)"
   ]
  },
  {
   "cell_type": "code",
   "execution_count": 35,
   "id": "b899332e-7b34-4258-b05c-bd9fb814b966",
   "metadata": {},
   "outputs": [
    {
     "name": "stdout",
     "output_type": "stream",
     "text": [
      "Even items:[236, 98, 64, 78, 96, 32],odd items:[45, 75, 23, 15, 35]\n"
     ]
    }
   ],
   "source": [
    "#Filter(lambda exp,sequences)\n",
    "even=list(filter(lambda i:i%2==0,lst))\n",
    "odd=list(filter(lambda i:i%2!=0,lst))\n",
    "print(f'Even items:{even},odd items:{odd}')"
   ]
  },
  {
   "cell_type": "code",
   "execution_count": 38,
   "id": "ef9296fb-233a-42bb-bdc2-c3cd9afcba2b",
   "metadata": {},
   "outputs": [
    {
     "name": "stdout",
     "output_type": "stream",
     "text": [
      "[125, 216, 729, 512, 343, 27]\n"
     ]
    }
   ],
   "source": [
    "#Map(lambda exp,sequences)\n",
    "lst=[5,6,9,8,7,3]\n",
    "cubes=list(map(lambda i:i**3,lst))\n",
    "print(cubes)"
   ]
  },
  {
   "cell_type": "code",
   "execution_count": 40,
   "id": "2f9b5605-43d8-4b25-b075-d1b7d443c891",
   "metadata": {},
   "outputs": [
    {
     "name": "stdout",
     "output_type": "stream",
     "text": [
      "Total Sales:3322,Average Sales:553.6666666666666\n"
     ]
    }
   ],
   "source": [
    "#Reduce(aggregation)\n",
    "from functools import reduce\n",
    "sales=[450,236,178,963,754,741]\n",
    "total_sales=reduce(lambda x,y:x+y,sales)\n",
    "print(f\"Total Sales:{total_sales},Average Sales:{total_sales/len(sales)}\")"
   ]
  },
  {
   "cell_type": "code",
   "execution_count": null,
   "id": "37ebe8c9-1889-4c1c-b822-100e63b51b11",
   "metadata": {},
   "outputs": [],
   "source": []
  }
 ],
 "metadata": {
  "kernelspec": {
   "display_name": "Python 3 (ipykernel)",
   "language": "python",
   "name": "python3"
  },
  "language_info": {
   "codemirror_mode": {
    "name": "ipython",
    "version": 3
   },
   "file_extension": ".py",
   "mimetype": "text/x-python",
   "name": "python",
   "nbconvert_exporter": "python",
   "pygments_lexer": "ipython3",
   "version": "3.12.4"
  }
 },
 "nbformat": 4,
 "nbformat_minor": 5
}
