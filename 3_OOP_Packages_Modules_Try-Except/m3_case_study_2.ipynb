{
 "cells": [
  {
   "cell_type": "markdown",
   "id": "58cb2dad-e5f5-4e39-9257-5676b27dd15f",
   "metadata": {},
   "source": [
    "### Module 3 – OOP Packages Modules Try-Except"
   ]
  },
  {
   "cell_type": "markdown",
   "id": "5b1d0864-07f8-4228-a096-4b3b488a9619",
   "metadata": {},
   "source": [
    "## Case Study – 2"
   ]
  },
  {
   "cell_type": "markdown",
   "id": "b497e9aa-72b8-4631-8e0b-2d62236d2ae9",
   "metadata": {},
   "source": [
    "### Approach to Solve the Problem\n",
    "In this task, we need to create a program that helps Bank of Portugal optimize their marketing campaign by focusing on eligible clients based on their profession. The task can be broken down into the following steps:\n",
    "\n",
    "1. Read the CSV file (bank-data.csv) containing client data.\n",
    "2. Extract and build a set of unique professions from the dataset.\n",
    "3. Input a profession from the user (tele-caller).\n",
    "4. Check if the input profession is in the set of eligible professions.\n",
    "5. Output whether the client is eligible to be approached for the campaign based on their profession."
   ]
  },
  {
   "cell_type": "code",
   "execution_count": 9,
   "id": "9c3c9fc3-9fb2-4ad0-8605-148c10fc0912",
   "metadata": {},
   "outputs": [
    {
     "name": "stdout",
     "output_type": "stream",
     "text": [
      "<class 'pandas.core.frame.DataFrame'>\n",
      "RangeIndex: 447 entries, 0 to 446\n",
      "Data columns (total 4 columns):\n",
      " #   Column   Non-Null Count  Dtype \n",
      "---  ------   --------------  ----- \n",
      " 0   age      447 non-null    int64 \n",
      " 1   job      447 non-null    object\n",
      " 2   marital  447 non-null    object\n",
      " 3   y        447 non-null    object\n",
      "dtypes: int64(1), object(3)\n",
      "memory usage: 14.1+ KB\n",
      "None\n",
      "\n",
      "-------------------\n",
      "\n",
      "   age          job  marital    y\n",
      "0   20      student   single  yes\n",
      "1   32   management   single  yes\n",
      "2   49   technician  married  yes\n",
      "3   32  blue-collar  married  yes\n",
      "4   33   management  married  yes\n",
      "\n",
      "-------------------\n",
      "\n",
      "Set of unique professions 9 {'technician', 'student', 'blue-collar', 'admin.', 'entrepreneur', 'self-employed', 'management', 'services', 'housemaid'}\n"
     ]
    },
    {
     "name": "stdin",
     "output_type": "stream",
     "text": [
      "Enter the profession of the client:  student\n"
     ]
    },
    {
     "name": "stdout",
     "output_type": "stream",
     "text": [
      "The profession 'student' is eligible for the marketing campaign.\n"
     ]
    }
   ],
   "source": [
    "import pandas as pd\n",
    "\n",
    "# Step 1: Read the CSV file\n",
    "bank_data = pd.read_csv('bank-data.csv')\n",
    "\n",
    "print(bank_data.info())\n",
    "print(\"\\n-------------------\\n\")\n",
    "print(bank_data.head())\n",
    "print(\"\\n-------------------\\n\")\n",
    "\n",
    "\n",
    "# Step 2: Build a set of unique professions\n",
    "unique_professions = set(bank_data['job'].unique())\n",
    "print('Set of unique professions',str(len(unique_professions)),  unique_professions)\n",
    "\n",
    "# Step 3: Function to check eligibility\n",
    "def check_eligibility(profession):\n",
    "    if profession in unique_professions:\n",
    "        print(f\"The profession '{profession}' is eligible for the marketing campaign.\")\n",
    "    else:\n",
    "        print(f\"The profession '{profession}' is not eligible for the marketing campaign.\")\n",
    "\n",
    "# Step 4: Get profession input from the user\n",
    "input_profession = input(\"Enter the profession of the client: \").strip().lower()\n",
    "\n",
    "# Step 5: Check if the profession is eligible\n",
    "check_eligibility(input_profession)\n"
   ]
  },
  {
   "cell_type": "markdown",
   "id": "f8062789-78df-46fb-ab7d-4c940d6d190e",
   "metadata": {},
   "source": [
    "### Here’s an enhanced version of the code that includes the following features:\n",
    "\n",
    "1. Compute max and min age for loan eligibility based on the data in the CSV file.\n",
    "2. Store max and min age in a dictionary.\n",
    "3. Make the profession check case insensitive.\n",
    "4. Keep taking input in a while loop, and end only if the user types \"END\" for the profession."
   ]
  },
  {
   "cell_type": "code",
   "execution_count": 10,
   "id": "79add847-3a5c-4bd7-b234-088f56372932",
   "metadata": {},
   "outputs": [
    {
     "name": "stdout",
     "output_type": "stream",
     "text": [
      "<class 'pandas.core.frame.DataFrame'>\n",
      "RangeIndex: 447 entries, 0 to 446\n",
      "Data columns (total 4 columns):\n",
      " #   Column   Non-Null Count  Dtype \n",
      "---  ------   --------------  ----- \n",
      " 0   age      447 non-null    int64 \n",
      " 1   job      447 non-null    object\n",
      " 2   marital  447 non-null    object\n",
      " 3   y        447 non-null    object\n",
      "dtypes: int64(1), object(3)\n",
      "memory usage: 14.1+ KB\n",
      "None\n",
      "\n",
      "-------------------\n",
      "\n",
      "   age          job  marital    y\n",
      "0   20      student   single  yes\n",
      "1   32   management   single  yes\n",
      "2   49   technician  married  yes\n",
      "3   32  blue-collar  married  yes\n",
      "4   33   management  married  yes\n",
      "\n",
      "-------------------\n",
      "\n",
      "age_eligibility {'min_age': np.int64(19), 'max_age': np.int64(80)}\n"
     ]
    },
    {
     "name": "stdin",
     "output_type": "stream",
     "text": [
      "Enter the profession of the client (type 'END' to stop):  Student\n",
      "Enter the age of the client:  23\n"
     ]
    },
    {
     "name": "stdout",
     "output_type": "stream",
     "text": [
      "The profession 'student' is eligible for the marketing campaign.\n"
     ]
    },
    {
     "name": "stdin",
     "output_type": "stream",
     "text": [
      "Enter the profession of the client (type 'END' to stop):  Artist\n",
      "Enter the age of the client:  23\n"
     ]
    },
    {
     "name": "stdout",
     "output_type": "stream",
     "text": [
      "The profession 'artist' is not eligible for the marketing campaign.\n"
     ]
    },
    {
     "name": "stdin",
     "output_type": "stream",
     "text": [
      "Enter the profession of the client (type 'END' to stop):  student\n",
      "Enter the age of the client:  17\n"
     ]
    },
    {
     "name": "stdout",
     "output_type": "stream",
     "text": [
      "The profession 'student' is eligible, but age 17 is not in the eligible range (19-80).\n"
     ]
    },
    {
     "name": "stdin",
     "output_type": "stream",
     "text": [
      "Enter the profession of the client (type 'END' to stop):  END\n"
     ]
    },
    {
     "name": "stdout",
     "output_type": "stream",
     "text": [
      "Program terminated.\n"
     ]
    }
   ],
   "source": [
    "import pandas as pd\n",
    "\n",
    "# Step 1: Read the CSV file\n",
    "bank_data = pd.read_csv('bank-data.csv')\n",
    "\n",
    "print(bank_data.info())\n",
    "print(\"\\n-------------------\\n\")\n",
    "print(bank_data.head())\n",
    "print(\"\\n-------------------\\n\")\n",
    "\n",
    "# Step 2: Build a set of unique professions (case-insensitive)\n",
    "unique_professions = set(bank_data['job'].str.lower().unique())\n",
    "\n",
    "# Step 3: Compute max and min age for loan eligibility based on the dataset\n",
    "max_age = bank_data['age'].max()\n",
    "min_age = bank_data['age'].min()\n",
    "\n",
    "# Store max and min age in a dictionary\n",
    "age_eligibility = {\n",
    "    \"min_age\": min_age,\n",
    "    \"max_age\": max_age\n",
    "}\n",
    "\n",
    "print(\"age_eligibility\", age_eligibility)\n",
    "\n",
    "# Function to check eligibility\n",
    "def check_eligibility(profession, age):\n",
    "    profession = profession.lower()  # Making the profession check case-insensitive\n",
    "    if profession in unique_professions:\n",
    "        # Check if the age is within the eligibility range\n",
    "        if age_eligibility['min_age'] <= age <= age_eligibility['max_age']:\n",
    "            print(f\"The profession '{profession}' is eligible for the marketing campaign.\")\n",
    "        else:\n",
    "            print(f\"The profession '{profession}' is eligible, but age {age} is not in the eligible range ({min_age}-{max_age}).\")\n",
    "    else:\n",
    "        print(f\"The profession '{profession}' is not eligible for the marketing campaign.\")\n",
    "\n",
    "# Step 4: Start a while loop to continuously ask for input\n",
    "while True:\n",
    "    # Get profession and age input from the user\n",
    "    input_profession = input(\"Enter the profession of the client (type 'END' to stop): \").strip()\n",
    "    \n",
    "    if input_profession.upper() == \"END\":\n",
    "        print(\"Program terminated.\")\n",
    "        break  # Exit the loop if the user types \"END\"\n",
    "    \n",
    "    try:\n",
    "        input_age = int(input(\"Enter the age of the client: \"))\n",
    "    except ValueError:\n",
    "        print(\"Invalid age input. Please enter a valid integer for age.\")\n",
    "        continue  # Skip to the next iteration of the loop\n",
    "    \n",
    "    # Check if the profession is eligible and age is within the range\n",
    "    check_eligibility(input_profession, input_age)\n"
   ]
  },
  {
   "cell_type": "code",
   "execution_count": 8,
   "id": "6ce9d69c-c5fa-44fb-8aa6-a664ca4692a4",
   "metadata": {},
   "outputs": [],
   "source": [
    "#### Mr Akram M'Tir 12/22-10-2024"
   ]
  }
 ],
 "metadata": {
  "kernelspec": {
   "display_name": "Python 3 (ipykernel)",
   "language": "python",
   "name": "python3"
  },
  "language_info": {
   "codemirror_mode": {
    "name": "ipython",
    "version": 3
   },
   "file_extension": ".py",
   "mimetype": "text/x-python",
   "name": "python",
   "nbconvert_exporter": "python",
   "pygments_lexer": "ipython3",
   "version": "3.10.1"
  }
 },
 "nbformat": 4,
 "nbformat_minor": 5
}
