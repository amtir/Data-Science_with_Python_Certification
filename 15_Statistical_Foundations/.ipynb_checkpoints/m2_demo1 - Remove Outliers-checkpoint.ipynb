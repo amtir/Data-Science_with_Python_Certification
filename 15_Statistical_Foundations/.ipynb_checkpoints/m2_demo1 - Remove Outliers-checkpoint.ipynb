{
 "cells": [
  {
   "cell_type": "markdown",
   "metadata": {},
   "source": [
    "<h2><u>Statistical Foundations</u></h2>\n",
    "\n",
    "# Module 2 – Exploratory Data Analysis\n",
    "<h2>Demo 1: Detecting and Removing Outliers</h2>\n",
    "\n",
    "In this demo, you will be shown how to detect and remove outliers using Z-score and IQR score."
   ]
  },
  {
   "cell_type": "code",
   "execution_count": 20,
   "metadata": {},
   "outputs": [],
   "source": [
    "#Import the required libraries\n",
    "import pandas as pd\n",
    "from sklearn import datasets\n",
    "from scipy import stats\n",
    "import numpy as np"
   ]
  },
  {
   "cell_type": "code",
   "execution_count": 21,
   "metadata": {},
   "outputs": [],
   "source": [
    "#Load the Boston House Pricing Dataset which is included in the sklearn dataset API\n",
    "from sklearn.datasets import fetch_california_housing\n",
    "housing = fetch_california_housing()\n",
    "X = housing.data\n",
    "y = housing.target\n",
    "columns = housing.feature_names"
   ]
  },
  {
   "cell_type": "code",
   "execution_count": 22,
   "metadata": {},
   "outputs": [
    {
     "data": {
      "text/html": [
       "<div>\n",
       "<style scoped>\n",
       "    .dataframe tbody tr th:only-of-type {\n",
       "        vertical-align: middle;\n",
       "    }\n",
       "\n",
       "    .dataframe tbody tr th {\n",
       "        vertical-align: top;\n",
       "    }\n",
       "\n",
       "    .dataframe thead th {\n",
       "        text-align: right;\n",
       "    }\n",
       "</style>\n",
       "<table border=\"1\" class=\"dataframe\">\n",
       "  <thead>\n",
       "    <tr style=\"text-align: right;\">\n",
       "      <th></th>\n",
       "      <th>MedInc</th>\n",
       "      <th>HouseAge</th>\n",
       "      <th>AveRooms</th>\n",
       "      <th>AveBedrms</th>\n",
       "      <th>Population</th>\n",
       "      <th>AveOccup</th>\n",
       "      <th>Latitude</th>\n",
       "      <th>Longitude</th>\n",
       "    </tr>\n",
       "  </thead>\n",
       "  <tbody>\n",
       "    <tr>\n",
       "      <th>0</th>\n",
       "      <td>8.3252</td>\n",
       "      <td>41.0</td>\n",
       "      <td>6.984127</td>\n",
       "      <td>1.023810</td>\n",
       "      <td>322.0</td>\n",
       "      <td>2.555556</td>\n",
       "      <td>37.88</td>\n",
       "      <td>-122.23</td>\n",
       "    </tr>\n",
       "    <tr>\n",
       "      <th>1</th>\n",
       "      <td>8.3014</td>\n",
       "      <td>21.0</td>\n",
       "      <td>6.238137</td>\n",
       "      <td>0.971880</td>\n",
       "      <td>2401.0</td>\n",
       "      <td>2.109842</td>\n",
       "      <td>37.86</td>\n",
       "      <td>-122.22</td>\n",
       "    </tr>\n",
       "    <tr>\n",
       "      <th>2</th>\n",
       "      <td>7.2574</td>\n",
       "      <td>52.0</td>\n",
       "      <td>8.288136</td>\n",
       "      <td>1.073446</td>\n",
       "      <td>496.0</td>\n",
       "      <td>2.802260</td>\n",
       "      <td>37.85</td>\n",
       "      <td>-122.24</td>\n",
       "    </tr>\n",
       "    <tr>\n",
       "      <th>3</th>\n",
       "      <td>5.6431</td>\n",
       "      <td>52.0</td>\n",
       "      <td>5.817352</td>\n",
       "      <td>1.073059</td>\n",
       "      <td>558.0</td>\n",
       "      <td>2.547945</td>\n",
       "      <td>37.85</td>\n",
       "      <td>-122.25</td>\n",
       "    </tr>\n",
       "    <tr>\n",
       "      <th>4</th>\n",
       "      <td>3.8462</td>\n",
       "      <td>52.0</td>\n",
       "      <td>6.281853</td>\n",
       "      <td>1.081081</td>\n",
       "      <td>565.0</td>\n",
       "      <td>2.181467</td>\n",
       "      <td>37.85</td>\n",
       "      <td>-122.25</td>\n",
       "    </tr>\n",
       "  </tbody>\n",
       "</table>\n",
       "</div>"
      ],
      "text/plain": [
       "   MedInc  HouseAge  AveRooms  AveBedrms  Population  AveOccup  Latitude  \\\n",
       "0  8.3252      41.0  6.984127   1.023810       322.0  2.555556     37.88   \n",
       "1  8.3014      21.0  6.238137   0.971880      2401.0  2.109842     37.86   \n",
       "2  7.2574      52.0  8.288136   1.073446       496.0  2.802260     37.85   \n",
       "3  5.6431      52.0  5.817352   1.073059       558.0  2.547945     37.85   \n",
       "4  3.8462      52.0  6.281853   1.081081       565.0  2.181467     37.85   \n",
       "\n",
       "   Longitude  \n",
       "0    -122.23  \n",
       "1    -122.22  \n",
       "2    -122.24  \n",
       "3    -122.25  \n",
       "4    -122.25  "
      ]
     },
     "execution_count": 22,
     "metadata": {},
     "output_type": "execute_result"
    }
   ],
   "source": [
    "#Create the dataframe\n",
    "boston_df = pd.DataFrame(housing.data)\n",
    "boston_df.columns = columns\n",
    "boston_df.head()"
   ]
  },
  {
   "cell_type": "markdown",
   "metadata": {},
   "source": [
    "### Using Z-Score"
   ]
  },
  {
   "cell_type": "code",
   "execution_count": 23,
   "metadata": {},
   "outputs": [
    {
     "name": "stdout",
     "output_type": "stream",
     "text": [
      "         MedInc  HouseAge  AveRooms  AveBedrms  Population  AveOccup  \\\n",
      "0      2.344766  0.982143  0.628559   0.153758    0.974429  0.049597   \n",
      "1      2.332238  0.607019  0.327041   0.263336    0.861439  0.092512   \n",
      "2      1.782699  1.856182  1.155620   0.049016    0.820777  0.025843   \n",
      "3      0.932968  1.856182  0.156966   0.049833    0.766028  0.050329   \n",
      "4      0.012881  1.856182  0.344711   0.032906    0.759847  0.085616   \n",
      "...         ...       ...       ...        ...         ...       ...   \n",
      "20635  1.216128  0.289187  0.155023   0.077354    0.512592  0.049110   \n",
      "20636  0.691593  0.845393  0.276881   0.462365    0.944405  0.005021   \n",
      "20637  1.142593  0.924851  0.090318   0.049414    0.369537  0.071735   \n",
      "20638  1.054583  0.845393  0.040211   0.158778    0.604429  0.091225   \n",
      "20639  0.780129  1.004309  0.070443   0.138403    0.033977  0.043682   \n",
      "\n",
      "       Latitude  Longitude  \n",
      "0      1.052548   1.327835  \n",
      "1      1.043185   1.322844  \n",
      "2      1.038503   1.332827  \n",
      "3      1.038503   1.337818  \n",
      "4      1.038503   1.337818  \n",
      "...         ...        ...  \n",
      "20635  1.801647   0.758826  \n",
      "20636  1.806329   0.818722  \n",
      "20637  1.778237   0.823713  \n",
      "20638  1.778237   0.873626  \n",
      "20639  1.750146   0.833696  \n",
      "\n",
      "[20640 rows x 8 columns]\n"
     ]
    }
   ],
   "source": [
    "#Step1: Use Z-score function defined in scipy library to detect the outliers\n",
    "boston_df_z = boston_df\n",
    "z = np.abs(stats.zscore(boston_df))\n",
    "print(z)"
   ]
  },
  {
   "cell_type": "markdown",
   "metadata": {},
   "source": [
    "Looking at the code and the output above, it is difficult to say which data point is an outlier.\n",
    "So let’s define a threshold to identify an outlier."
   ]
  },
  {
   "cell_type": "code",
   "execution_count": 24,
   "metadata": {},
   "outputs": [
    {
     "name": "stdout",
     "output_type": "stream",
     "text": [
      "(array([  131,   283,   409,   510,   511,   512,   514,   570,   576,\n",
      "         710,   780,   799,   864,   865,   867,   869,   871,   922,\n",
      "         923,   977,   985,   986,   995,  1010,  1021,  1024,  1024,\n",
      "        1039,  1060,  1086,  1102,  1102,  1233,  1233,  1234,  1234,\n",
      "        1235,  1235,  1238,  1238,  1239,  1239,  1240,  1240,  1541,\n",
      "        1560,  1561,  1563,  1564,  1566,  1566,  1574,  1582,  1583,\n",
      "        1586,  1591,  1593,  1602,  1617,  1621,  1636,  1637,  1642,\n",
      "        1644,  1645,  1646,  1700,  1867,  1867,  1872,  1872,  1879,\n",
      "        1889,  1889,  1910,  1910,  1911,  1911,  1912,  1912,  1913,\n",
      "        1913,  1914,  1914,  1925,  1926,  1926,  1930,  1978,  1978,\n",
      "        1979,  1979,  2025,  2119,  2213,  2294,  2311,  2392,  2392,\n",
      "        2395,  2395,  2396,  2396,  2397,  2397,  2398,  2398,  2511,\n",
      "        2511,  2776,  2826,  2963,  2969,  2975,  2978,  2999,  3004,\n",
      "        3086,  3086,  3167,  3177,  3258,  3258,  3292,  3334,  3350,\n",
      "        3350,  3364,  3413,  3486,  3533,  3542,  3554,  3560,  3603,\n",
      "        3607,  3621,  3648,  3829,  3858,  3871,  3942,  3953,  3981,\n",
      "        4014,  4018,  4035,  4042,  4044,  4045,  4046,  4047,  4049,\n",
      "        4050,  4056,  4070,  4074,  4111,  4116,  4220,  4229,  4264,\n",
      "        4266,  4267,  4319,  4345,  4352,  4492,  4579,  4604,  4605,\n",
      "        4606,  4616,  4622,  4626,  4634,  4636,  4670,  4677,  4678,\n",
      "        5242,  5243,  5244,  5246,  5247,  5248,  5250,  5252,  5253,\n",
      "        5254,  5256,  5257,  5258,  5259,  5260,  5264,  5269,  5271,\n",
      "        5272,  5275,  5277,  5281,  5291,  5292,  5304,  5318,  5352,\n",
      "        5360,  5361,  5368,  5493,  5494,  5538,  5540,  5724,  5728,\n",
      "        5738,  5815,  5921,  5924,  5963,  5964,  5968,  5983,  6055,\n",
      "        6057,  6058,  6061,  6063,  6065,  6066,  6070,  6073,  6143,\n",
      "        6204,  6226,  6287,  6289,  6297,  6298,  6303,  6328,  6329,\n",
      "        6338,  6340,  6389,  6391,  6399,  6401,  6502,  6516,  6518,\n",
      "        6550,  6551,  6576,  6590,  6591,  6592,  6712,  6720,  6724,\n",
      "        6725,  6726,  6727,  6728,  6731,  6732,  6735,  6736,  6844,\n",
      "        6915,  6919,  7130,  7357,  7361,  7617,  7864,  7907,  8311,\n",
      "        8467,  8468,  8520,  8716,  8717,  8728,  8768,  8790,  8792,\n",
      "        8793,  8794,  8795,  8796,  8797,  8799,  8800,  8804,  8805,\n",
      "        8806,  8809,  8814,  8816,  8817,  8846,  8847,  8848,  8849,\n",
      "        8850,  8851,  8852,  8853,  8854,  8874,  8875,  8876,  8878,\n",
      "        8882,  8985,  8986,  9004,  9010,  9011,  9013,  9018,  9019,\n",
      "        9027,  9036,  9040,  9064,  9081,  9084,  9114,  9118,  9122,\n",
      "        9123,  9128,  9131,  9133,  9135,  9136,  9145,  9149,  9154,\n",
      "        9159,  9166,  9167,  9170,  9172,  9172,  9183,  9185,  9193,\n",
      "        9193,  9282,  9286,  9289,  9316,  9331,  9354,  9356,  9370,\n",
      "        9381,  9382,  9418,  9431,  9431,  9451,  9451,  9579,  9671,\n",
      "        9671,  9672,  9676,  9676,  9678,  9678,  9681,  9681,  9682,\n",
      "        9682,  9683,  9683,  9692,  9693,  9697,  9716,  9744,  9748,\n",
      "        9794,  9811,  9880,  9881, 10067, 10067, 10076, 10076, 10077,\n",
      "       10077, 10078, 10079, 10079, 10080, 10080, 10081, 10081, 10082,\n",
      "       10082, 10083, 10083, 10084, 10155, 10166, 10169, 10309, 10317,\n",
      "       10318, 10324, 10332, 10376, 10389, 10401, 10402, 10405, 10417,\n",
      "       10458, 10464, 10472, 10483, 10484, 10517, 10519, 10527, 10539,\n",
      "       10562, 10644, 10661, 10664, 10667, 10670, 10671, 10673, 10682,\n",
      "       10724, 10725, 10726, 10727, 10742, 10743, 10744, 10745, 10749,\n",
      "       10757, 10759, 10760, 10761, 10763, 10839, 10842, 10910, 10921,\n",
      "       10934, 10948, 10957, 10997, 10999, 11000, 11007, 11008, 11010,\n",
      "       11020, 11037, 11038, 11041, 11042, 11066, 11067, 11083, 11349,\n",
      "       11469, 11490, 11518, 11519, 11520, 11521, 11704, 11705, 11705,\n",
      "       11706, 11706, 11707, 11707, 11708, 11708, 11709, 11709, 11710,\n",
      "       11710, 11713, 11713, 11714, 11714, 11715, 11715, 11716, 11716,\n",
      "       11717, 11717, 11719, 11720, 11720, 11721, 11721, 11722, 11722,\n",
      "       11725, 11725, 11729, 11729, 11775, 11828, 11831, 11831, 11832,\n",
      "       11832, 11833, 11833, 11834, 11834, 11848, 11848, 11849, 11849,\n",
      "       11862, 11862, 11865, 11866, 11866, 11867, 11867, 11870, 11870,\n",
      "       11912, 11960, 11970, 11976, 11982, 11989, 12002, 12006, 12022,\n",
      "       12039, 12040, 12041, 12067, 12072, 12077, 12097, 12104, 12106,\n",
      "       12109, 12114, 12115, 12119, 12122, 12126, 12127, 12128, 12129,\n",
      "       12132, 12133, 12135, 12136, 12136, 12137, 12144, 12152, 12191,\n",
      "       12194, 12201, 12204, 12214, 12215, 12218, 12227, 12258, 12303,\n",
      "       12303, 12305, 12306, 12306, 12307, 12344, 12344, 12349, 12349,\n",
      "       12354, 12361, 12365, 12371, 12372, 12376, 12376, 12390, 12394,\n",
      "       12394, 12396, 12411, 12422, 12430, 12430, 12430, 12441, 12447,\n",
      "       12447, 12623, 12658, 12663, 12671, 12703, 12813, 12814, 12817,\n",
      "       12868, 12872, 12948, 12954, 12957, 13034, 13034, 13047, 13051,\n",
      "       13053, 13080, 13098, 13099, 13132, 13139, 13176, 13181, 13182,\n",
      "       13221, 13223, 13226, 13316, 13370, 13374, 13377, 13378, 13379,\n",
      "       13382, 13383, 13387, 13399, 13403, 13422, 13423, 13424, 13459,\n",
      "       13517, 13519, 13715, 13742, 13788, 13816, 13834, 13848, 13878,\n",
      "       13889, 13890, 13900, 13911, 13912, 13919, 13923, 13923, 13924,\n",
      "       13939, 13939, 13940, 13940, 13941, 13941, 13942, 13942, 13943,\n",
      "       13943, 13944, 13944, 13945, 13945, 13946, 13946, 13947, 13947,\n",
      "       13948, 13948, 13950, 13950, 13955, 13955, 13956, 13956, 13958,\n",
      "       13958, 13959, 13961, 13961, 13963, 13963, 13964, 13964, 13965,\n",
      "       13965, 13966, 13966, 13967, 13967, 13970, 13970, 13971, 13971,\n",
      "       13972, 13972, 13973, 13973, 13975, 13976, 13976, 13978, 13978,\n",
      "       13979, 13979, 13980, 13980, 14209, 14459, 14467, 14469, 14471,\n",
      "       14482, 14486, 14491, 14505, 14515, 14543, 14553, 14558, 14686,\n",
      "       14718, 14756, 14805, 14913, 14931, 14959, 15049, 15059, 15061,\n",
      "       15105, 15108, 15114, 15117, 15152, 15183, 15203, 15215, 15220,\n",
      "       15230, 15231, 15232, 15233, 15235, 15241, 15286, 15336, 15337,\n",
      "       15360, 15413, 15459, 15491, 15500, 15523, 15524, 15526, 15527,\n",
      "       15533, 15544, 15574, 15579, 15691, 15693, 15694, 15697, 15698,\n",
      "       15996, 16011, 16019, 16020, 16137, 16171, 16175, 16304, 16420,\n",
      "       16559, 16606, 16669, 16669, 16818, 16820, 16828, 16839, 16908,\n",
      "       16909, 16910, 16911, 16912, 16913, 16914, 16915, 16918, 16938,\n",
      "       17024, 17073, 17106, 17107, 17108, 17109, 17110, 17111, 17112,\n",
      "       17113, 17118, 17157, 17158, 17160, 17161, 17162, 17166, 17167,\n",
      "       17170, 17171, 17173, 17185, 17310, 17310, 17413, 17460, 17493,\n",
      "       17494, 17551, 17690, 17752, 17754, 17761, 17770, 17777, 17798,\n",
      "       17845, 17854, 17855, 17858, 18043, 18052, 18053, 18055, 18059,\n",
      "       18061, 18065, 18066, 18067, 18069, 18076, 18078, 18079, 18080,\n",
      "       18081, 18087, 18209, 18269, 18277, 18280, 18281, 18282, 18283,\n",
      "       18287, 18298, 18325, 18327, 18341, 18346, 18347, 18348, 18349,\n",
      "       18351, 18352, 18353, 18354, 18355, 18356, 18360, 18361, 18362,\n",
      "       18363, 18366, 18462, 18501, 18504, 18505, 18619, 18681, 18681,\n",
      "       18745, 18858, 18860, 18875, 18911, 18926, 18980, 18985, 19006,\n",
      "       19006, 19006, 19362, 19362, 19421, 19452, 19536, 19536, 19574,\n",
      "       19658, 19736, 19736, 19789, 19800, 19802, 19803, 19806, 19807,\n",
      "       19975, 19975, 19976, 19976, 19977, 19977, 20093, 20093, 20094,\n",
      "       20094, 20112, 20113, 20113, 20121, 20163, 20249, 20278, 20305,\n",
      "       20308, 20316, 20318, 20333, 20336, 20376, 20380, 20389, 20424,\n",
      "       20426, 20427, 20436, 20440, 20451, 20529, 20530, 20544, 20563,\n",
      "       20629]), array([0, 4, 0, 0, 0, 0, 0, 4, 4, 3, 4, 4, 4, 4, 4, 4, 4, 4, 0, 0, 4, 0,\n",
      "       4, 4, 4, 2, 3, 4, 4, 4, 2, 3, 2, 3, 2, 3, 2, 3, 2, 3, 2, 3, 2, 3,\n",
      "       0, 4, 0, 0, 0, 0, 2, 0, 0, 0, 0, 0, 0, 0, 0, 0, 0, 0, 4, 0, 0, 0,\n",
      "       4, 2, 3, 2, 3, 2, 2, 3, 2, 3, 2, 3, 2, 3, 2, 3, 2, 3, 3, 2, 3, 4,\n",
      "       2, 3, 2, 3, 4, 4, 0, 4, 4, 2, 3, 2, 3, 2, 3, 2, 3, 2, 3, 2, 3, 3,\n",
      "       0, 4, 0, 4, 4, 4, 4, 2, 3, 4, 4, 2, 3, 2, 3, 2, 3, 5, 4, 0, 0, 0,\n",
      "       4, 4, 4, 4, 4, 4, 4, 0, 4, 4, 0, 4, 0, 0, 4, 0, 0, 0, 0, 0, 0, 0,\n",
      "       0, 0, 0, 0, 0, 0, 0, 4, 4, 4, 0, 0, 0, 0, 4, 0, 0, 0, 4, 0, 0, 4,\n",
      "       4, 4, 0, 0, 0, 0, 0, 0, 0, 0, 0, 0, 0, 0, 0, 0, 0, 0, 0, 0, 0, 0,\n",
      "       0, 0, 0, 0, 0, 0, 0, 0, 0, 0, 0, 0, 0, 0, 2, 4, 4, 0, 0, 4, 4, 4,\n",
      "       4, 4, 4, 4, 4, 4, 4, 4, 4, 4, 4, 4, 0, 4, 0, 0, 4, 4, 4, 4, 4, 4,\n",
      "       4, 4, 4, 0, 0, 0, 4, 4, 4, 4, 4, 0, 0, 0, 0, 0, 0, 0, 0, 0, 0, 0,\n",
      "       0, 0, 0, 0, 0, 4, 0, 0, 4, 4, 4, 4, 4, 4, 0, 4, 4, 4, 4, 4, 4, 0,\n",
      "       0, 0, 0, 0, 0, 0, 0, 0, 0, 4, 0, 0, 0, 0, 0, 0, 0, 0, 0, 0, 0, 0,\n",
      "       0, 0, 0, 5, 0, 0, 0, 0, 4, 4, 4, 0, 0, 4, 4, 4, 4, 4, 4, 4, 4, 4,\n",
      "       4, 4, 4, 4, 4, 4, 4, 4, 0, 4, 4, 4, 4, 4, 4, 4, 4, 5, 4, 4, 2, 3,\n",
      "       4, 4, 4, 0, 4, 0, 0, 0, 0, 0, 0, 2, 3, 2, 3, 4, 2, 3, 3, 2, 3, 2,\n",
      "       3, 2, 3, 2, 3, 2, 3, 4, 4, 4, 4, 4, 4, 0, 0, 4, 4, 2, 3, 2, 3, 2,\n",
      "       3, 2, 2, 3, 2, 3, 2, 3, 2, 3, 2, 3, 2, 0, 0, 0, 4, 0, 0, 0, 0, 0,\n",
      "       0, 0, 0, 0, 0, 0, 0, 0, 0, 0, 0, 0, 0, 4, 0, 0, 0, 4, 0, 0, 0, 0,\n",
      "       0, 0, 0, 0, 0, 0, 0, 0, 0, 0, 0, 0, 0, 0, 0, 0, 4, 4, 4, 4, 4, 4,\n",
      "       4, 0, 0, 0, 0, 0, 0, 0, 0, 0, 0, 4, 4, 4, 4, 0, 0, 0, 0, 0, 0, 0,\n",
      "       2, 3, 2, 3, 2, 3, 2, 3, 2, 3, 2, 3, 2, 3, 2, 3, 2, 3, 2, 3, 2, 3,\n",
      "       2, 2, 3, 2, 3, 2, 3, 2, 3, 2, 3, 4, 0, 2, 3, 2, 3, 2, 3, 2, 3, 2,\n",
      "       3, 2, 3, 2, 3, 2, 2, 3, 2, 3, 2, 3, 0, 4, 4, 4, 4, 4, 4, 4, 4, 4,\n",
      "       4, 4, 4, 4, 4, 4, 5, 4, 4, 4, 4, 4, 4, 4, 4, 4, 4, 4, 4, 4, 2, 3,\n",
      "       4, 4, 4, 4, 4, 4, 4, 4, 4, 4, 4, 4, 2, 3, 3, 2, 3, 3, 2, 3, 2, 3,\n",
      "       3, 3, 4, 2, 2, 2, 3, 3, 2, 3, 2, 4, 4, 0, 2, 3, 4, 2, 3, 4, 4, 4,\n",
      "       4, 4, 4, 4, 4, 4, 4, 0, 4, 4, 4, 5, 4, 4, 4, 4, 4, 4, 4, 4, 4, 4,\n",
      "       4, 4, 4, 4, 4, 4, 2, 4, 4, 4, 4, 4, 4, 4, 4, 4, 4, 4, 4, 4, 4, 4,\n",
      "       0, 4, 4, 4, 4, 4, 4, 4, 3, 3, 3, 3, 2, 3, 3, 2, 3, 2, 3, 2, 3, 2,\n",
      "       3, 2, 3, 2, 3, 2, 3, 2, 3, 2, 3, 2, 3, 2, 3, 2, 3, 2, 3, 2, 3, 3,\n",
      "       2, 3, 2, 3, 2, 3, 2, 3, 2, 3, 2, 3, 2, 3, 2, 3, 2, 3, 2, 3, 3, 2,\n",
      "       3, 2, 3, 2, 3, 2, 3, 4, 0, 0, 0, 4, 0, 0, 0, 4, 4, 4, 4, 4, 0, 0,\n",
      "       4, 3, 4, 4, 4, 4, 4, 4, 4, 4, 4, 4, 0, 4, 4, 4, 4, 0, 0, 0, 0, 0,\n",
      "       0, 4, 4, 4, 4, 4, 4, 4, 2, 4, 4, 4, 4, 4, 4, 4, 4, 0, 0, 0, 0, 0,\n",
      "       0, 0, 0, 0, 0, 0, 0, 0, 5, 4, 4, 4, 5, 4, 4, 0, 4, 0, 0, 0, 0, 0,\n",
      "       0, 0, 0, 0, 0, 4, 4, 0, 0, 0, 0, 0, 0, 0, 0, 0, 0, 0, 0, 0, 0, 0,\n",
      "       0, 0, 0, 0, 4, 0, 2, 4, 4, 0, 0, 4, 4, 4, 4, 4, 4, 4, 0, 4, 0, 0,\n",
      "       0, 0, 0, 0, 0, 0, 0, 0, 0, 0, 0, 0, 0, 0, 0, 0, 0, 4, 0, 0, 0, 0,\n",
      "       0, 0, 0, 0, 0, 0, 0, 4, 0, 0, 4, 0, 0, 0, 0, 0, 0, 0, 0, 0, 0, 0,\n",
      "       4, 0, 0, 0, 0, 2, 3, 4, 3, 4, 4, 4, 4, 4, 4, 0, 4, 5, 2, 3, 4, 4,\n",
      "       2, 3, 4, 4, 2, 3, 3, 3, 3, 3, 3, 3, 2, 3, 2, 3, 2, 3, 2, 3, 2, 3,\n",
      "       3, 2, 3, 4, 0, 4, 4, 4, 4, 4, 4, 4, 4, 0, 0, 0, 4, 0, 4, 0, 4, 4,\n",
      "       4, 4, 4, 4, 4]))\n"
     ]
    }
   ],
   "source": [
    "#Step2: Define a threshold\n",
    "threshold = 3\n",
    "print(np.where(z > 3))"
   ]
  },
  {
   "cell_type": "markdown",
   "metadata": {},
   "source": [
    "The first array contains the list of row numbers and second array contains the respective column numbers, which means that <b><i>z[55][1]</i> has a z-score higher than 3</b>."
   ]
  },
  {
   "cell_type": "code",
   "execution_count": 25,
   "metadata": {},
   "outputs": [
    {
     "name": "stdout",
     "output_type": "stream",
     "text": [
      "1.8561815225324745\n"
     ]
    }
   ],
   "source": [
    "#Step3: Print the z-score of z[55][1]\n",
    "#print(z[55][1])\n",
    "\n",
    "# Step 3: Access z-score for specific row and column in a pandas DataFrame\n",
    "print(z.iloc[55, 1])  # Use iloc for integer-based indexing"
   ]
  },
  {
   "cell_type": "markdown",
   "metadata": {},
   "source": [
    "So, the data point — 55th record on column ZN is an outlier."
   ]
  },
  {
   "cell_type": "code",
   "execution_count": 26,
   "metadata": {},
   "outputs": [
    {
     "name": "stdout",
     "output_type": "stream",
     "text": [
      "The no. of rows before outlier filtering was:  (20640, 8)\n",
      "The no. of rows after outlier filtering is:  (19794, 8)\n"
     ]
    }
   ],
   "source": [
    "#Step4: Remove the outliers using the z-score\n",
    "boston_df_z = boston_df_z[(z < 3).all(axis=1)]\n",
    "\n",
    "print(\"The no. of rows before outlier filtering was: \", boston_df.shape)\n",
    "print(\"The no. of rows after outlier filtering is: \", boston_df_z.shape)"
   ]
  },
  {
   "cell_type": "markdown",
   "metadata": {},
   "source": [
    "Hence, we filtered out around 90+ rows from the dataset i.e. outliers have been removed."
   ]
  },
  {
   "cell_type": "markdown",
   "metadata": {},
   "source": [
    "### Using IQR Score"
   ]
  },
  {
   "cell_type": "code",
   "execution_count": 27,
   "metadata": {},
   "outputs": [
    {
     "name": "stdout",
     "output_type": "stream",
     "text": [
      "MedInc          2.179850\n",
      "HouseAge       19.000000\n",
      "AveRooms        1.611665\n",
      "AveBedrms       0.093447\n",
      "Population    938.000000\n",
      "AveOccup        0.852520\n",
      "Latitude        3.780000\n",
      "Longitude       3.790000\n",
      "dtype: float64\n"
     ]
    }
   ],
   "source": [
    "#Step1: Calculate the IQR\n",
    "boston_df_iqr = boston_df\n",
    "Q1 = boston_df_iqr.quantile(0.25)\n",
    "Q3 = boston_df_iqr.quantile(0.75)\n",
    "IQR = Q3 - Q1\n",
    "print(IQR)"
   ]
  },
  {
   "cell_type": "code",
   "execution_count": 28,
   "metadata": {},
   "outputs": [
    {
     "name": "stdout",
     "output_type": "stream",
     "text": [
      "       MedInc  HouseAge  AveRooms  AveBedrms  Population  AveOccup  Latitude  \\\n",
      "0       False     False     False      False       False     False     False   \n",
      "1       False     False     False      False       False     False     False   \n",
      "2       False     False     False      False       False     False     False   \n",
      "3       False     False     False      False       False     False     False   \n",
      "4       False     False     False      False       False     False     False   \n",
      "...       ...       ...       ...        ...         ...       ...       ...   \n",
      "20635   False     False     False      False       False     False     False   \n",
      "20636   False     False     False      False       False     False     False   \n",
      "20637   False     False     False      False       False     False     False   \n",
      "20638   False     False     False      False       False     False     False   \n",
      "20639   False     False     False      False       False     False     False   \n",
      "\n",
      "       Longitude  \n",
      "0          False  \n",
      "1          False  \n",
      "2          False  \n",
      "3          False  \n",
      "4          False  \n",
      "...          ...  \n",
      "20635      False  \n",
      "20636      False  \n",
      "20637      False  \n",
      "20638      False  \n",
      "20639      False  \n",
      "\n",
      "[20640 rows x 8 columns]\n"
     ]
    },
    {
     "ename": "TypeError",
     "evalue": "Cannot perform 'ror_' with a dtyped [bool] array and scalar of type [NoneType]",
     "output_type": "error",
     "traceback": [
      "\u001b[1;31m---------------------------------------------------------------------------\u001b[0m",
      "\u001b[1;31mTypeError\u001b[0m                                 Traceback (most recent call last)",
      "File \u001b[1;32m~\\AppData\\Local\\Programs\\Python\\Python310\\lib\\site-packages\\pandas\\core\\ops\\array_ops.py:362\u001b[0m, in \u001b[0;36mna_logical_op\u001b[1;34m(x, y, op)\u001b[0m\n\u001b[0;32m    353\u001b[0m \u001b[38;5;28;01mtry\u001b[39;00m:\n\u001b[0;32m    354\u001b[0m     \u001b[38;5;66;03m# For exposition, write:\u001b[39;00m\n\u001b[0;32m    355\u001b[0m     \u001b[38;5;66;03m#  yarr = isinstance(y, np.ndarray)\u001b[39;00m\n\u001b[1;32m   (...)\u001b[0m\n\u001b[0;32m    360\u001b[0m     \u001b[38;5;66;03m# Then Cases where this goes through without raising include:\u001b[39;00m\n\u001b[0;32m    361\u001b[0m     \u001b[38;5;66;03m#  (xint or xbool) and (yint or bool)\u001b[39;00m\n\u001b[1;32m--> 362\u001b[0m     result \u001b[38;5;241m=\u001b[39m \u001b[43mop\u001b[49m\u001b[43m(\u001b[49m\u001b[43mx\u001b[49m\u001b[43m,\u001b[49m\u001b[43m \u001b[49m\u001b[43my\u001b[49m\u001b[43m)\u001b[49m\n\u001b[0;32m    363\u001b[0m \u001b[38;5;28;01mexcept\u001b[39;00m \u001b[38;5;167;01mTypeError\u001b[39;00m:\n",
      "File \u001b[1;32m~\\AppData\\Local\\Programs\\Python\\Python310\\lib\\site-packages\\pandas\\core\\roperator.py:58\u001b[0m, in \u001b[0;36mror_\u001b[1;34m(left, right)\u001b[0m\n\u001b[0;32m     57\u001b[0m \u001b[38;5;28;01mdef\u001b[39;00m \u001b[38;5;21mror_\u001b[39m(left, right):\n\u001b[1;32m---> 58\u001b[0m     \u001b[38;5;28;01mreturn\u001b[39;00m \u001b[43moperator\u001b[49m\u001b[38;5;241;43m.\u001b[39;49m\u001b[43mor_\u001b[49m\u001b[43m(\u001b[49m\u001b[43mright\u001b[49m\u001b[43m,\u001b[49m\u001b[43m \u001b[49m\u001b[43mleft\u001b[49m\u001b[43m)\u001b[49m\n",
      "\u001b[1;31mTypeError\u001b[0m: unsupported operand type(s) for |: 'NoneType' and 'bool'",
      "\nDuring handling of the above exception, another exception occurred:\n",
      "\u001b[1;31mValueError\u001b[0m                                Traceback (most recent call last)",
      "File \u001b[1;32m~\\AppData\\Local\\Programs\\Python\\Python310\\lib\\site-packages\\pandas\\core\\ops\\array_ops.py:376\u001b[0m, in \u001b[0;36mna_logical_op\u001b[1;34m(x, y, op)\u001b[0m\n\u001b[0;32m    375\u001b[0m \u001b[38;5;28;01mtry\u001b[39;00m:\n\u001b[1;32m--> 376\u001b[0m     result \u001b[38;5;241m=\u001b[39m \u001b[43mlibops\u001b[49m\u001b[38;5;241;43m.\u001b[39;49m\u001b[43mscalar_binop\u001b[49m\u001b[43m(\u001b[49m\u001b[43mx\u001b[49m\u001b[43m,\u001b[49m\u001b[43m \u001b[49m\u001b[43my\u001b[49m\u001b[43m,\u001b[49m\u001b[43m \u001b[49m\u001b[43mop\u001b[49m\u001b[43m)\u001b[49m\n\u001b[0;32m    377\u001b[0m \u001b[38;5;28;01mexcept\u001b[39;00m (\n\u001b[0;32m    378\u001b[0m     \u001b[38;5;167;01mTypeError\u001b[39;00m,\n\u001b[0;32m    379\u001b[0m     \u001b[38;5;167;01mValueError\u001b[39;00m,\n\u001b[1;32m   (...)\u001b[0m\n\u001b[0;32m    382\u001b[0m     \u001b[38;5;167;01mNotImplementedError\u001b[39;00m,\n\u001b[0;32m    383\u001b[0m ) \u001b[38;5;28;01mas\u001b[39;00m err:\n",
      "File \u001b[1;32mops.pyx:180\u001b[0m, in \u001b[0;36mpandas._libs.ops.scalar_binop\u001b[1;34m()\u001b[0m\n",
      "\u001b[1;31mValueError\u001b[0m: Buffer has wrong number of dimensions (expected 1, got 2)",
      "\nThe above exception was the direct cause of the following exception:\n",
      "\u001b[1;31mTypeError\u001b[0m                                 Traceback (most recent call last)",
      "Cell \u001b[1;32mIn[28], line 2\u001b[0m\n\u001b[0;32m      1\u001b[0m \u001b[38;5;66;03m#Step2: Detect the outliers\u001b[39;00m\n\u001b[1;32m----> 2\u001b[0m \u001b[38;5;28;43mprint\u001b[39;49m\u001b[43m(\u001b[49m\u001b[43mboston_df_iqr\u001b[49m\u001b[43m \u001b[49m\u001b[38;5;241;43m<\u001b[39;49m\u001b[43m \u001b[49m\u001b[43m(\u001b[49m\u001b[43mQ1\u001b[49m\u001b[43m \u001b[49m\u001b[38;5;241;43m-\u001b[39;49m\u001b[43m \u001b[49m\u001b[38;5;241;43m1.5\u001b[39;49m\u001b[43m \u001b[49m\u001b[38;5;241;43m*\u001b[39;49m\u001b[43m \u001b[49m\u001b[43mIQR\u001b[49m\u001b[43m)\u001b[49m\u001b[43m)\u001b[49m\u001b[43m \u001b[49m\u001b[38;5;241;43m|\u001b[39;49m\u001b[43m(\u001b[49m\u001b[43mboston_df_iqr\u001b[49m\u001b[43m \u001b[49m\u001b[38;5;241;43m>\u001b[39;49m\u001b[43m \u001b[49m\u001b[43m(\u001b[49m\u001b[43mQ3\u001b[49m\u001b[43m \u001b[49m\u001b[38;5;241;43m+\u001b[39;49m\u001b[43m \u001b[49m\u001b[38;5;241;43m1.5\u001b[39;49m\u001b[43m \u001b[49m\u001b[38;5;241;43m*\u001b[39;49m\u001b[43m \u001b[49m\u001b[43mIQR\u001b[49m\u001b[43m)\u001b[49m\u001b[43m)\u001b[49m\n",
      "File \u001b[1;32m~\\AppData\\Local\\Programs\\Python\\Python310\\lib\\site-packages\\pandas\\core\\ops\\common.py:76\u001b[0m, in \u001b[0;36m_unpack_zerodim_and_defer.<locals>.new_method\u001b[1;34m(self, other)\u001b[0m\n\u001b[0;32m     72\u001b[0m             \u001b[38;5;28;01mreturn\u001b[39;00m \u001b[38;5;28mNotImplemented\u001b[39m\n\u001b[0;32m     74\u001b[0m other \u001b[38;5;241m=\u001b[39m item_from_zerodim(other)\n\u001b[1;32m---> 76\u001b[0m \u001b[38;5;28;01mreturn\u001b[39;00m \u001b[43mmethod\u001b[49m\u001b[43m(\u001b[49m\u001b[38;5;28;43mself\u001b[39;49m\u001b[43m,\u001b[49m\u001b[43m \u001b[49m\u001b[43mother\u001b[49m\u001b[43m)\u001b[49m\n",
      "File \u001b[1;32m~\\AppData\\Local\\Programs\\Python\\Python310\\lib\\site-packages\\pandas\\core\\arraylike.py:82\u001b[0m, in \u001b[0;36mOpsMixin.__ror__\u001b[1;34m(self, other)\u001b[0m\n\u001b[0;32m     80\u001b[0m \u001b[38;5;129m@unpack_zerodim_and_defer\u001b[39m(\u001b[38;5;124m\"\u001b[39m\u001b[38;5;124m__ror__\u001b[39m\u001b[38;5;124m\"\u001b[39m)\n\u001b[0;32m     81\u001b[0m \u001b[38;5;28;01mdef\u001b[39;00m \u001b[38;5;21m__ror__\u001b[39m(\u001b[38;5;28mself\u001b[39m, other):\n\u001b[1;32m---> 82\u001b[0m     \u001b[38;5;28;01mreturn\u001b[39;00m \u001b[38;5;28;43mself\u001b[39;49m\u001b[38;5;241;43m.\u001b[39;49m\u001b[43m_logical_method\u001b[49m\u001b[43m(\u001b[49m\u001b[43mother\u001b[49m\u001b[43m,\u001b[49m\u001b[43m \u001b[49m\u001b[43mroperator\u001b[49m\u001b[38;5;241;43m.\u001b[39;49m\u001b[43mror_\u001b[49m\u001b[43m)\u001b[49m\n",
      "File \u001b[1;32m~\\AppData\\Local\\Programs\\Python\\Python310\\lib\\site-packages\\pandas\\core\\frame.py:7913\u001b[0m, in \u001b[0;36mDataFrame._arith_method\u001b[1;34m(self, other, op)\u001b[0m\n\u001b[0;32m   7910\u001b[0m \u001b[38;5;28mself\u001b[39m, other \u001b[38;5;241m=\u001b[39m \u001b[38;5;28mself\u001b[39m\u001b[38;5;241m.\u001b[39m_align_for_op(other, axis, flex\u001b[38;5;241m=\u001b[39m\u001b[38;5;28;01mTrue\u001b[39;00m, level\u001b[38;5;241m=\u001b[39m\u001b[38;5;28;01mNone\u001b[39;00m)\n\u001b[0;32m   7912\u001b[0m \u001b[38;5;28;01mwith\u001b[39;00m np\u001b[38;5;241m.\u001b[39merrstate(\u001b[38;5;28mall\u001b[39m\u001b[38;5;241m=\u001b[39m\u001b[38;5;124m\"\u001b[39m\u001b[38;5;124mignore\u001b[39m\u001b[38;5;124m\"\u001b[39m):\n\u001b[1;32m-> 7913\u001b[0m     new_data \u001b[38;5;241m=\u001b[39m \u001b[38;5;28;43mself\u001b[39;49m\u001b[38;5;241;43m.\u001b[39;49m\u001b[43m_dispatch_frame_op\u001b[49m\u001b[43m(\u001b[49m\u001b[43mother\u001b[49m\u001b[43m,\u001b[49m\u001b[43m \u001b[49m\u001b[43mop\u001b[49m\u001b[43m,\u001b[49m\u001b[43m \u001b[49m\u001b[43maxis\u001b[49m\u001b[38;5;241;43m=\u001b[39;49m\u001b[43maxis\u001b[49m\u001b[43m)\u001b[49m\n\u001b[0;32m   7914\u001b[0m \u001b[38;5;28;01mreturn\u001b[39;00m \u001b[38;5;28mself\u001b[39m\u001b[38;5;241m.\u001b[39m_construct_result(new_data)\n",
      "File \u001b[1;32m~\\AppData\\Local\\Programs\\Python\\Python310\\lib\\site-packages\\pandas\\core\\frame.py:7945\u001b[0m, in \u001b[0;36mDataFrame._dispatch_frame_op\u001b[1;34m(self, right, func, axis)\u001b[0m\n\u001b[0;32m   7942\u001b[0m right \u001b[38;5;241m=\u001b[39m lib\u001b[38;5;241m.\u001b[39mitem_from_zerodim(right)\n\u001b[0;32m   7943\u001b[0m \u001b[38;5;28;01mif\u001b[39;00m \u001b[38;5;129;01mnot\u001b[39;00m is_list_like(right):\n\u001b[0;32m   7944\u001b[0m     \u001b[38;5;66;03m# i.e. scalar, faster than checking np.ndim(right) == 0\u001b[39;00m\n\u001b[1;32m-> 7945\u001b[0m     bm \u001b[38;5;241m=\u001b[39m \u001b[38;5;28;43mself\u001b[39;49m\u001b[38;5;241;43m.\u001b[39;49m\u001b[43m_mgr\u001b[49m\u001b[38;5;241;43m.\u001b[39;49m\u001b[43mapply\u001b[49m\u001b[43m(\u001b[49m\u001b[43marray_op\u001b[49m\u001b[43m,\u001b[49m\u001b[43m \u001b[49m\u001b[43mright\u001b[49m\u001b[38;5;241;43m=\u001b[39;49m\u001b[43mright\u001b[49m\u001b[43m)\u001b[49m\n\u001b[0;32m   7946\u001b[0m     \u001b[38;5;28;01mreturn\u001b[39;00m \u001b[38;5;28mself\u001b[39m\u001b[38;5;241m.\u001b[39m_constructor_from_mgr(bm, axes\u001b[38;5;241m=\u001b[39mbm\u001b[38;5;241m.\u001b[39maxes)\n\u001b[0;32m   7948\u001b[0m \u001b[38;5;28;01melif\u001b[39;00m \u001b[38;5;28misinstance\u001b[39m(right, DataFrame):\n",
      "File \u001b[1;32m~\\AppData\\Local\\Programs\\Python\\Python310\\lib\\site-packages\\pandas\\core\\internals\\managers.py:361\u001b[0m, in \u001b[0;36mBaseBlockManager.apply\u001b[1;34m(self, f, align_keys, **kwargs)\u001b[0m\n\u001b[0;32m    358\u001b[0m             kwargs[k] \u001b[38;5;241m=\u001b[39m obj[b\u001b[38;5;241m.\u001b[39mmgr_locs\u001b[38;5;241m.\u001b[39mindexer]\n\u001b[0;32m    360\u001b[0m \u001b[38;5;28;01mif\u001b[39;00m \u001b[38;5;28mcallable\u001b[39m(f):\n\u001b[1;32m--> 361\u001b[0m     applied \u001b[38;5;241m=\u001b[39m b\u001b[38;5;241m.\u001b[39mapply(f, \u001b[38;5;241m*\u001b[39m\u001b[38;5;241m*\u001b[39mkwargs)\n\u001b[0;32m    362\u001b[0m \u001b[38;5;28;01melse\u001b[39;00m:\n\u001b[0;32m    363\u001b[0m     applied \u001b[38;5;241m=\u001b[39m \u001b[38;5;28mgetattr\u001b[39m(b, f)(\u001b[38;5;241m*\u001b[39m\u001b[38;5;241m*\u001b[39mkwargs)\n",
      "File \u001b[1;32m~\\AppData\\Local\\Programs\\Python\\Python310\\lib\\site-packages\\pandas\\core\\internals\\blocks.py:393\u001b[0m, in \u001b[0;36mBlock.apply\u001b[1;34m(self, func, **kwargs)\u001b[0m\n\u001b[0;32m    387\u001b[0m \u001b[38;5;129m@final\u001b[39m\n\u001b[0;32m    388\u001b[0m \u001b[38;5;28;01mdef\u001b[39;00m \u001b[38;5;21mapply\u001b[39m(\u001b[38;5;28mself\u001b[39m, func, \u001b[38;5;241m*\u001b[39m\u001b[38;5;241m*\u001b[39mkwargs) \u001b[38;5;241m-\u001b[39m\u001b[38;5;241m>\u001b[39m \u001b[38;5;28mlist\u001b[39m[Block]:\n\u001b[0;32m    389\u001b[0m \u001b[38;5;250m    \u001b[39m\u001b[38;5;124;03m\"\"\"\u001b[39;00m\n\u001b[0;32m    390\u001b[0m \u001b[38;5;124;03m    apply the function to my values; return a block if we are not\u001b[39;00m\n\u001b[0;32m    391\u001b[0m \u001b[38;5;124;03m    one\u001b[39;00m\n\u001b[0;32m    392\u001b[0m \u001b[38;5;124;03m    \"\"\"\u001b[39;00m\n\u001b[1;32m--> 393\u001b[0m     result \u001b[38;5;241m=\u001b[39m func(\u001b[38;5;28mself\u001b[39m\u001b[38;5;241m.\u001b[39mvalues, \u001b[38;5;241m*\u001b[39m\u001b[38;5;241m*\u001b[39mkwargs)\n\u001b[0;32m    395\u001b[0m     result \u001b[38;5;241m=\u001b[39m maybe_coerce_values(result)\n\u001b[0;32m    396\u001b[0m     \u001b[38;5;28;01mreturn\u001b[39;00m \u001b[38;5;28mself\u001b[39m\u001b[38;5;241m.\u001b[39m_split_op_result(result)\n",
      "File \u001b[1;32m~\\AppData\\Local\\Programs\\Python\\Python310\\lib\\site-packages\\pandas\\core\\ops\\array_ops.py:454\u001b[0m, in \u001b[0;36mlogical_op\u001b[1;34m(left, right, op)\u001b[0m\n\u001b[0;32m    450\u001b[0m \u001b[38;5;28;01melse\u001b[39;00m:\n\u001b[0;32m    451\u001b[0m     \u001b[38;5;66;03m# i.e. scalar\u001b[39;00m\n\u001b[0;32m    452\u001b[0m     is_other_int_dtype \u001b[38;5;241m=\u001b[39m lib\u001b[38;5;241m.\u001b[39mis_integer(rvalues)\n\u001b[1;32m--> 454\u001b[0m res_values \u001b[38;5;241m=\u001b[39m \u001b[43mna_logical_op\u001b[49m\u001b[43m(\u001b[49m\u001b[43mlvalues\u001b[49m\u001b[43m,\u001b[49m\u001b[43m \u001b[49m\u001b[43mrvalues\u001b[49m\u001b[43m,\u001b[49m\u001b[43m \u001b[49m\u001b[43mop\u001b[49m\u001b[43m)\u001b[49m\n\u001b[0;32m    456\u001b[0m \u001b[38;5;66;03m# For int vs int `^`, `|`, `&` are bitwise operators and return\u001b[39;00m\n\u001b[0;32m    457\u001b[0m \u001b[38;5;66;03m#   integer dtypes.  Otherwise these are boolean ops\u001b[39;00m\n\u001b[0;32m    458\u001b[0m \u001b[38;5;28;01mif\u001b[39;00m \u001b[38;5;129;01mnot\u001b[39;00m (left\u001b[38;5;241m.\u001b[39mdtype\u001b[38;5;241m.\u001b[39mkind \u001b[38;5;129;01min\u001b[39;00m \u001b[38;5;124m\"\u001b[39m\u001b[38;5;124miu\u001b[39m\u001b[38;5;124m\"\u001b[39m \u001b[38;5;129;01mand\u001b[39;00m is_other_int_dtype):\n",
      "File \u001b[1;32m~\\AppData\\Local\\Programs\\Python\\Python310\\lib\\site-packages\\pandas\\core\\ops\\array_ops.py:385\u001b[0m, in \u001b[0;36mna_logical_op\u001b[1;34m(x, y, op)\u001b[0m\n\u001b[0;32m    377\u001b[0m         \u001b[38;5;28;01mexcept\u001b[39;00m (\n\u001b[0;32m    378\u001b[0m             \u001b[38;5;167;01mTypeError\u001b[39;00m,\n\u001b[0;32m    379\u001b[0m             \u001b[38;5;167;01mValueError\u001b[39;00m,\n\u001b[1;32m   (...)\u001b[0m\n\u001b[0;32m    382\u001b[0m             \u001b[38;5;167;01mNotImplementedError\u001b[39;00m,\n\u001b[0;32m    383\u001b[0m         ) \u001b[38;5;28;01mas\u001b[39;00m err:\n\u001b[0;32m    384\u001b[0m             typ \u001b[38;5;241m=\u001b[39m \u001b[38;5;28mtype\u001b[39m(y)\u001b[38;5;241m.\u001b[39m\u001b[38;5;18m__name__\u001b[39m\n\u001b[1;32m--> 385\u001b[0m             \u001b[38;5;28;01mraise\u001b[39;00m \u001b[38;5;167;01mTypeError\u001b[39;00m(\n\u001b[0;32m    386\u001b[0m                 \u001b[38;5;124mf\u001b[39m\u001b[38;5;124m\"\u001b[39m\u001b[38;5;124mCannot perform \u001b[39m\u001b[38;5;124m'\u001b[39m\u001b[38;5;132;01m{\u001b[39;00mop\u001b[38;5;241m.\u001b[39m\u001b[38;5;18m__name__\u001b[39m\u001b[38;5;132;01m}\u001b[39;00m\u001b[38;5;124m'\u001b[39m\u001b[38;5;124m with a dtyped [\u001b[39m\u001b[38;5;132;01m{\u001b[39;00mx\u001b[38;5;241m.\u001b[39mdtype\u001b[38;5;132;01m}\u001b[39;00m\u001b[38;5;124m] array \u001b[39m\u001b[38;5;124m\"\u001b[39m\n\u001b[0;32m    387\u001b[0m                 \u001b[38;5;124mf\u001b[39m\u001b[38;5;124m\"\u001b[39m\u001b[38;5;124mand scalar of type [\u001b[39m\u001b[38;5;132;01m{\u001b[39;00mtyp\u001b[38;5;132;01m}\u001b[39;00m\u001b[38;5;124m]\u001b[39m\u001b[38;5;124m\"\u001b[39m\n\u001b[0;32m    388\u001b[0m             ) \u001b[38;5;28;01mfrom\u001b[39;00m \u001b[38;5;21;01merr\u001b[39;00m\n\u001b[0;32m    390\u001b[0m \u001b[38;5;28;01mreturn\u001b[39;00m result\u001b[38;5;241m.\u001b[39mreshape(x\u001b[38;5;241m.\u001b[39mshape)\n",
      "\u001b[1;31mTypeError\u001b[0m: Cannot perform 'ror_' with a dtyped [bool] array and scalar of type [NoneType]"
     ]
    }
   ],
   "source": [
    "#Step2: Detect the outliers\n",
    "#print(boston_df_iqr < (Q1 - 1.5 * IQR)) |(boston_df_iqr > (Q3 + 1.5 * IQR))\n",
    "\n",
    "# Step 2: Detect outliers using IQR\n",
    "outliers = (boston_df < (Q1 - 1.5 * IQR)) | (boston_df > (Q3 + 1.5 * IQR))\n",
    "\n",
    "# Print the outliers DataFrame\n",
    "print(outliers)"
   ]
  },
  {
   "cell_type": "markdown",
   "metadata": {},
   "source": [
    "The data point where we have False that means these values are valid whereas <b><i>True</i> indicates presence of an outlier</b>."
   ]
  },
  {
   "cell_type": "code",
   "execution_count": null,
   "metadata": {},
   "outputs": [],
   "source": [
    "#Step3: Remove the outliers using the IQR score\n",
    "boston_df_out = boston_df_iqr[~((boston_df_iqr < (Q1 - 1.5 * IQR)) |(boston_df_iqr > (Q3 + 1.5 * IQR))).any(axis=1)]\n",
    "\n",
    "print(\"The no. of rows before outlier filtering was: \", boston_df_iqr.shape)\n",
    "print(\"The no. of rows after outlier filtering is: \", boston_df_out.shape)"
   ]
  },
  {
   "cell_type": "markdown",
   "metadata": {},
   "source": [
    "Hence, the outliers have been removed."
   ]
  }
 ],
 "metadata": {
  "kernelspec": {
   "display_name": "Python 3 (ipykernel)",
   "language": "python",
   "name": "python3"
  },
  "language_info": {
   "codemirror_mode": {
    "name": "ipython",
    "version": 3
   },
   "file_extension": ".py",
   "mimetype": "text/x-python",
   "name": "python",
   "nbconvert_exporter": "python",
   "pygments_lexer": "ipython3",
   "version": "3.10.1"
  }
 },
 "nbformat": 4,
 "nbformat_minor": 4
}
