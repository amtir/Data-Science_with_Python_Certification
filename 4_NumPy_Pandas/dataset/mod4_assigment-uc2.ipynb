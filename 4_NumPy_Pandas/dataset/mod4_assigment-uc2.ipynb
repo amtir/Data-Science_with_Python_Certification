{
 "cells": [
  {
   "cell_type": "markdown",
   "id": "7d366385-a88a-46c4-b818-0ce53d273ee7",
   "metadata": {},
   "source": [
    "# Module4: Numpy, Pandas, Matplotlib\n",
    "## Assignment:  Use-Case II"
   ]
  },
  {
   "cell_type": "code",
   "execution_count": 27,
   "id": "5c3c763e-8809-4772-91ac-f5bbd3de487b",
   "metadata": {},
   "outputs": [
    {
     "name": "stdout",
     "output_type": "stream",
     "text": [
      "\n",
      "Data-Strucutre:\n",
      "-------------  \n",
      "<class 'pandas.core.frame.DataFrame'>\n",
      "RangeIndex: 599 entries, 0 to 598\n",
      "Data columns (total 7 columns):\n",
      " #   Column      Non-Null Count  Dtype  \n",
      "---  ------      --------------  -----  \n",
      " 0   Name        599 non-null    object \n",
      " 1   Score       591 non-null    float64\n",
      " 2   Age         599 non-null    int64  \n",
      " 3   Ethinicity  599 non-null    object \n",
      " 4   Subject     599 non-null    object \n",
      " 5   Sex         599 non-null    object \n",
      " 6   ID          599 non-null    int64  \n",
      "dtypes: float64(1), int64(2), object(4)\n",
      "memory usage: 32.9+ KB\n",
      "None\n",
      "             Name  Score  Age         Ethinicity        Subject Sex  ID\n",
      "0  AI-KYUNG CHUNG   82.0   18     White American  Data Structue   M   1\n",
      "1     ALAN HARVEY   79.0   19  European American  Data Structue   M   2\n",
      "2    ALAN REYNAUD   39.0   19  European American  Data Structue   M   3\n",
      "3  ALBERT CENDANA   76.0   18     White American  Data Structue   M   4\n",
      "4  ALBERT HOLT JR   76.0   18     White American  Data Structue   F   5\n",
      "\n",
      "Maths:\n",
      "-------------  \n",
      "<class 'pandas.core.frame.DataFrame'>\n",
      "RangeIndex: 599 entries, 0 to 598\n",
      "Data columns (total 7 columns):\n",
      " #   Column      Non-Null Count  Dtype  \n",
      "---  ------      --------------  -----  \n",
      " 0   Name        599 non-null    object \n",
      " 1   Score       596 non-null    float64\n",
      " 2   Age         599 non-null    int64  \n",
      " 3   Ethinicity  599 non-null    object \n",
      " 4   Subject     599 non-null    object \n",
      " 5   Sex         599 non-null    object \n",
      " 6   ID          599 non-null    int64  \n",
      "dtypes: float64(1), int64(2), object(4)\n",
      "memory usage: 32.9+ KB\n",
      "None\n",
      "             Name  Score  Age         Ethinicity Subject Sex  ID\n",
      "0  AI-KYUNG CHUNG   88.0   18     White American   Maths   M   1\n",
      "1     ALAN HARVEY   85.0   19  European American   Maths   M   2\n",
      "2    ALAN REYNAUD   45.0   19  European American   Maths   M   3\n",
      "3  ALBERT CENDANA   82.0   18     White American   Maths   M   4\n",
      "4  ALBERT HOLT JR   82.0   18     White American   Maths   F   5\n",
      "\n",
      "Physics:\n",
      "------------- \n",
      "<class 'pandas.core.frame.DataFrame'>\n",
      "RangeIndex: 599 entries, 0 to 598\n",
      "Data columns (total 7 columns):\n",
      " #   Column      Non-Null Count  Dtype  \n",
      "---  ------      --------------  -----  \n",
      " 0   Name        599 non-null    object \n",
      " 1   Score       593 non-null    float64\n",
      " 2   Age         599 non-null    int64  \n",
      " 3   Ethinicity  599 non-null    object \n",
      " 4   Subject     599 non-null    object \n",
      " 5   Sex         599 non-null    object \n",
      " 6   ID          599 non-null    int64  \n",
      "dtypes: float64(1), int64(2), object(4)\n",
      "memory usage: 32.9+ KB\n",
      "None\n",
      "             Name  Score  Age         Ethinicity  Subject Sex  ID\n",
      "0  AI-KYUNG CHUNG   84.0   18     White American  Physics   M   1\n",
      "1     ALAN HARVEY   81.0   19  European American  Physics   M   2\n",
      "2    ALAN REYNAUD   41.0   19  European American  Physics   M   3\n",
      "3  ALBERT CENDANA   78.0   18     White American  Physics   M   4\n",
      "4  ALBERT HOLT JR   78.0   18     White American  Physics   F   5\n"
     ]
    }
   ],
   "source": [
    "#1  Load the Data\n",
    "import pandas as pd\n",
    "from matplotlib import pyplot as plt\n",
    "\n",
    "# Load the data\n",
    "ds_data = pd.read_csv('DSScoreTerm1.csv')\n",
    "maths_data = pd.read_csv('MathScoreTerm1.csv')\n",
    "physics_data = pd.read_csv('PhysicsScoreTerm1.csv')\n",
    "\n",
    "# Print basic information about the data (Optional)\n",
    "print(\"\\nData-Strucutre:\\n-------------  \")\n",
    "print(ds_data.info())  \n",
    "print(ds_data.head())\n",
    "\n",
    "print(\"\\nMaths:\\n-------------  \")\n",
    "print(maths_data.info())  \n",
    "print(maths_data.head())\n",
    "\n",
    "print(\"\\nPhysics:\\n------------- \")\n",
    "print(physics_data.info())  \n",
    "print(physics_data.head())\n",
    "\n"
   ]
  },
  {
   "cell_type": "code",
   "execution_count": 28,
   "id": "a0ac91fe-2601-4c00-a6cc-65018bd8c27b",
   "metadata": {},
   "outputs": [],
   "source": [
    "#2 Remove Confidential Columns: Drop the Name and Ethnicity columns to maintain confidentiality.\n",
    "\n",
    "# Remove 'Name' and 'Ethnicity' columns\n",
    "ds_data = ds_data.drop(columns=['Name', 'Ethinicity'])\n",
    "maths_data = maths_data.drop(columns=['Name', 'Ethinicity'])\n",
    "physics_data = physics_data.drop(columns=['Name', 'Ethinicity'])"
   ]
  },
  {
   "cell_type": "code",
   "execution_count": 29,
   "id": "0b9cb201-a903-4456-8c84-0b1fbf940c82",
   "metadata": {},
   "outputs": [],
   "source": [
    "#3 Fill Missing Score Data: Replace any missing Score values with 0.\n",
    "\n",
    "# Fill missing 'Score' values with 0\n",
    "ds_data['Score'] = ds_data['Score'].fillna(0)\n",
    "maths_data['Score'] = maths_data['Score'].fillna(0)\n",
    "physics_data['Score'] = physics_data['Score'].fillna(0)"
   ]
  },
  {
   "cell_type": "code",
   "execution_count": 30,
   "id": "6023ea6b-dfaf-4bcd-a8a3-c4dc39bf1dcb",
   "metadata": {},
   "outputs": [],
   "source": [
    "#4 Merge the Files: Combine the three datasets based on the common column ID.\n",
    "\n",
    "# Rename 'Score' column to reflect each subject for clarity\n",
    "ds_data = ds_data.rename(columns={'Score': 'DS_Score'})\n",
    "maths_data = maths_data.rename(columns={'Score': 'Math_Score'})\n",
    "physics_data = physics_data.rename(columns={'Score': 'Physics_Score'})\n",
    "\n",
    "# Drop the 'Subject' column as it is redundant\n",
    "ds_data = ds_data.drop(columns=['Subject'])\n",
    "\n",
    "# Merge data on 'ID' (each dataset contains the same students)\n",
    "merged_data = ds_data.merge(maths_data[['ID', 'Math_Score']], on='ID').merge(physics_data[['ID', 'Physics_Score']], on='ID')\n"
   ]
  },
  {
   "cell_type": "code",
   "execution_count": 31,
   "id": "ffbc981c-298b-4ebc-b889-1c07a747125e",
   "metadata": {},
   "outputs": [],
   "source": [
    "#5 Convert Sex Column: Change Sex column values to 1 for males and 2 for females.\n",
    "# Convert 'Sex' column from 'M'/'F' to 1/2\n",
    "merged_data['Sex'] = merged_data['Sex'].map({'M': 1, 'F': 2})"
   ]
  },
  {
   "cell_type": "code",
   "execution_count": 32,
   "id": "5cff6ef1-1422-4019-af7b-ed426cee68b5",
   "metadata": {},
   "outputs": [
    {
     "name": "stdout",
     "output_type": "stream",
     "text": [
      "Data has been processed and saved to 'ScoreFinal.csv'\n",
      "<class 'pandas.core.frame.DataFrame'>\n",
      "RangeIndex: 599 entries, 0 to 598\n",
      "Data columns (total 6 columns):\n",
      " #   Column         Non-Null Count  Dtype  \n",
      "---  ------         --------------  -----  \n",
      " 0   DS_Score       599 non-null    float64\n",
      " 1   Age            599 non-null    int64  \n",
      " 2   Sex            599 non-null    int64  \n",
      " 3   ID             599 non-null    int64  \n",
      " 4   Math_Score     599 non-null    float64\n",
      " 5   Physics_Score  599 non-null    float64\n",
      "dtypes: float64(3), int64(3)\n",
      "memory usage: 28.2 KB\n",
      "None\n",
      "   DS_Score  Age  Sex  ID  Math_Score  Physics_Score\n",
      "0      82.0   18    1   1        88.0           84.0\n",
      "1      79.0   19    1   2        85.0           81.0\n",
      "2      39.0   19    1   3        45.0           41.0\n",
      "3      76.0   18    1   4        82.0           78.0\n",
      "4      76.0   18    2   5        82.0           78.0\n"
     ]
    }
   ],
   "source": [
    "#6 Save the Processed Data: Write the final cleaned and merged data to a new CSV file, ScoreFinal.csv.\n",
    "# Save the final processed data to 'ScoreFinal.csv'\n",
    "merged_data.to_csv('ScoreFinal.csv', index=False)\n",
    "# Print info and first few rows of the merged data for confirmation\n",
    "print(\"Data has been processed and saved to 'ScoreFinal.csv'\")\n",
    "print(merged_data.info())\n",
    "print(merged_data.head())"
   ]
  }
 ],
 "metadata": {
  "kernelspec": {
   "display_name": "Python 3 (ipykernel)",
   "language": "python",
   "name": "python3"
  },
  "language_info": {
   "codemirror_mode": {
    "name": "ipython",
    "version": 3
   },
   "file_extension": ".py",
   "mimetype": "text/x-python",
   "name": "python",
   "nbconvert_exporter": "python",
   "pygments_lexer": "ipython3",
   "version": "3.10.1"
  }
 },
 "nbformat": 4,
 "nbformat_minor": 5
}
