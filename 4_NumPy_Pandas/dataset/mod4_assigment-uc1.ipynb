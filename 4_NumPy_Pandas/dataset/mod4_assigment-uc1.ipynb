{
 "cells": [
  {
   "cell_type": "markdown",
   "id": "7d366385-a88a-46c4-b818-0ce53d273ee7",
   "metadata": {},
   "source": [
    "# Module4: Numpy, Pandas, Matplotlib\n",
    "## Assignment:  Use-Case I"
   ]
  },
  {
   "cell_type": "code",
   "execution_count": 1,
   "id": "5c3c763e-8809-4772-91ac-f5bbd3de487b",
   "metadata": {},
   "outputs": [
    {
     "name": "stdout",
     "output_type": "stream",
     "text": [
      "DATA INFO: \n",
      "<class 'pandas.core.frame.DataFrame'>\n",
      "RangeIndex: 100 entries, 0 to 99\n",
      "Data columns (total 4 columns):\n",
      " #   Column  Non-Null Count  Dtype  \n",
      "---  ------  --------------  -----  \n",
      " 0   Salary  100 non-null    float64\n",
      " 1   Gender  100 non-null    int64  \n",
      " 2   Age     100 non-null    int64  \n",
      " 3   PhD     100 non-null    int64  \n",
      "dtypes: float64(1), int64(3)\n",
      "memory usage: 3.2 KB\n",
      "None\n",
      "\n",
      "DATA HEAD: \n",
      "   Salary  Gender  Age  PhD\n",
      "0   140.0       1   47    1\n",
      "1    30.0       0   65    1\n",
      "2    35.1       0   56    0\n",
      "3    30.0       1   23    0\n",
      "4    80.0       0   53    1\n",
      "Salary Array:  [140.    30.    35.1   30.    80.    30.    60.    31.1  125.    51.\n",
      "   3.    46.   150.     3.   130.    15.   130.    84.   190.    74.\n",
      "  73.    10.    50.     7.     9.5   15.2   28.6   20.    72.    81.\n",
      " 100.    90.    90.    35.    30.    25.    52.     9.    63.    72.\n",
      "  16.    92.   106.     2.5    9.    32.    32.    55.    52.    28.\n",
      "  20.    14.7   22.3   34.8   84.    19.   160.    65.    55.     4.6\n",
      " 102.    20.    62.    55.    45.6   40.    24.    35.    48.    20.\n",
      "  40.7   15.     0.25 152.    39.8   12.    30.   120.     1.7   36.\n",
      "  96.    38.    90.     9.    25.8   22.    38.8   72.    89.    41.\n",
      "  89.    25.    52.   115.    66.    18.6  152.     1.8   35.     4.  ]\n",
      "Gender Array:  [1 0 0 1 0 0 1 0 1 1 1 1 1 1 1 0 1 0 1 1 0 0 0 0 0 1 1 0 0 1 0 0 0 1 0 1 0\n",
      " 0 1 1 1 0 1 1 0 0 0 1 1 0 0 0 1 0 0 1 1 0 0 1 1 1 0 1 1 0 0 1 0 0 0 1 0 1\n",
      " 0 0 1 1 1 1 1 0 1 1 0 0 0 1 1 0 1 0 1 0 0 1 1 1 0 0]\n",
      "Age Array:  [47 65 56 23 53 27 53 30 44 63 22 59 60 28 65 25 65 47 66 45 46 24 60 63\n",
      " 27 66 36 30 51 65 45 52 54 30 52 26 49 22 34 60 28 58 77 67 27 48 45 49\n",
      " 36 65 32 49 67 22 49 43 61 43 52 51 66 29 62 56 61 56 41 24 60 43 57 23\n",
      " 53 71 20 27 69 58 37 32 33 32 60 71 30 62 54 42 62 51 71 29 55 54 55 26\n",
      " 56 28 44 24]\n",
      "PhD Array:  [1 1 0 0 1 0 0 0 1 1 0 0 1 0 0 0 0 1 1 1 0 0 0 0 0 1 1 0 1 1 1 1 1 0 0 0 0\n",
      " 0 1 0 0 1 1 0 0 1 0 1 0 1 0 0 0 0 1 0 1 1 0 0 1 0 0 1 0 0 0 0 0 0 0 0 0 1\n",
      " 0 0 1 1 0 1 1 1 0 0 0 0 0 1 0 1 1 0 1 0 1 0 1 0 0 0]\n"
     ]
    }
   ],
   "source": [
    "#1\n",
    "import pandas as pd\n",
    "import numpy as np\n",
    "\n",
    "\n",
    "# Load the data\n",
    "data = pd.read_csv('SalaryGender.csv')\n",
    "\n",
    "# Print basic information about the data (Optional)\n",
    "print('DATA INFO: ')\n",
    "print(data.info())  \n",
    "print('\\nDATA HEAD: ')\n",
    "print(data.head())\n",
    "\n",
    "#1 Extract data from the given SalaryGender CSV file and store the data from each column in a separate NumPy array \n",
    "\n",
    "# Extract each column into a separate NumPy array\n",
    "salary = np.array(data['Salary'])\n",
    "gender = np.array(data['Gender'])\n",
    "age = np.array(data['Age'])\n",
    "phd = np.array(data['PhD'])\n",
    "\n",
    "print(\"Salary Array: \", salary)\n",
    "print(\"Gender Array: \", gender)\n",
    "print(\"Age Array: \", age)\n",
    "print(\"PhD Array: \", phd)\n",
    "\n"
   ]
  },
  {
   "cell_type": "code",
   "execution_count": 30,
   "id": "a0ac91fe-2601-4c00-a6cc-65018bd8c27b",
   "metadata": {},
   "outputs": [
    {
     "name": "stdout",
     "output_type": "stream",
     "text": [
      "Number of men with a PhD: 24\n",
      "Number of women with a PhD: 15\n"
     ]
    }
   ],
   "source": [
    "#2 Find:\n",
    "# The number of men with a PhD\n",
    "# The number of women with a PhD\n",
    "\n",
    "# Men with a PhD\n",
    "men_with_phd = np.sum((gender == 1) & (phd == 1))\n",
    "print(\"Number of men with a PhD:\", men_with_phd)\n",
    "\n",
    "# Women with a PhD\n",
    "women_with_phd = np.sum((gender == 0) & (phd == 1))\n",
    "print(\"Number of women with a PhD:\", women_with_phd)"
   ]
  },
  {
   "cell_type": "code",
   "execution_count": 36,
   "id": "284bdff9-a4ce-42f3-8702-c7d1f896c7ae",
   "metadata": {},
   "outputs": [
    {
     "name": "stdout",
     "output_type": "stream",
     "text": [
      "    Age  PhD\n",
      "0    47    1\n",
      "1    65    1\n",
      "4    53    1\n",
      "8    44    1\n",
      "9    63    1\n",
      "12   60    1\n",
      "17   47    1\n",
      "18   66    1\n",
      "19   45    1\n",
      "25   66    1\n",
      "26   36    1\n",
      "28   51    1\n",
      "29   65    1\n",
      "30   45    1\n",
      "31   52    1\n",
      "32   54    1\n",
      "38   34    1\n",
      "41   58    1\n",
      "42   77    1\n",
      "45   48    1\n",
      "47   49    1\n",
      "49   65    1\n",
      "54   49    1\n",
      "56   61    1\n",
      "57   43    1\n",
      "60   66    1\n",
      "63   56    1\n",
      "73   71    1\n",
      "76   69    1\n",
      "77   58    1\n",
      "79   32    1\n",
      "80   33    1\n",
      "81   32    1\n",
      "87   42    1\n",
      "89   51    1\n",
      "90   71    1\n",
      "92   55    1\n",
      "94   55    1\n",
      "96   56    1\n"
     ]
    },
    {
     "data": {
      "text/plain": [
       "(39, 2)"
      ]
     },
     "execution_count": 36,
     "metadata": {},
     "output_type": "execute_result"
    }
   ],
   "source": [
    "#3 Store the \"Age\" and \"Ph.D.\" columns in one DataFrame and delete the data of all people who don’t have a PhD\n",
    "\n",
    "# Create a new DataFrame with 'Age' and 'PhD' columns\n",
    "age_phd_df = data[['Age', 'PhD']]\n",
    "\n",
    "# Filter out people who don't have a PhD\n",
    "age_phd_with_phd = age_phd_df[age_phd_df['PhD'] == 1]\n",
    "print(age_phd_with_phd)\n",
    "age_phd_with_phd.shape\n"
   ]
  },
  {
   "cell_type": "code",
   "execution_count": 32,
   "id": "4c6acd76-584d-4651-be18-20fd21bf429e",
   "metadata": {},
   "outputs": [
    {
     "name": "stdout",
     "output_type": "stream",
     "text": [
      "Total number of people with a PhD: 39\n"
     ]
    }
   ],
   "source": [
    "#4 Calculate the total number of people who have a PhD degree from the SalaryGender CSV file\n",
    "# Total number of people with a PhD\n",
    "total_with_phd = np.sum(phd == 1)\n",
    "print(\"Total number of people with a PhD:\", total_with_phd)\n"
   ]
  },
  {
   "cell_type": "code",
   "execution_count": 43,
   "id": "0b9cb201-a903-4456-8c84-0b1fbf940c82",
   "metadata": {},
   "outputs": [
    {
     "name": "stdout",
     "output_type": "stream",
     "text": [
      "Counts:  [4 2 1 1 3 2 0 0 0 1]\n"
     ]
    },
    {
     "data": {
      "text/plain": [
       "array([0, 1, 2, 3, 4, 5, 6, 7, 8, 9])"
      ]
     },
     "execution_count": 43,
     "metadata": {},
     "output_type": "execute_result"
    }
   ],
   "source": [
    "#5 Count The Number Of Times Each Value Appears In An Array Of Integers Input: [0, 5, 4, 0, 4, 4, 3, 0, 0, 5, 2, 1, 1, 9] Expected Output: array([4, 2, 1, 1, 3, 2, 0, 0, 0, 1])\n",
    "arr = np.array([0, 5, 4, 0, 4, 4, 3, 0, 0, 5, 2, 1, 1, 9])\n",
    "\n",
    "# Count the occurrences of each number from 0 to 9\n",
    "counts = np.bincount(arr, minlength=10)\n",
    "\n",
    "print(\"Counts: \", counts)\n",
    "#set(sorted(arr))\n",
    "np.arange(10)"
   ]
  },
  {
   "cell_type": "code",
   "execution_count": 47,
   "id": "6023ea6b-dfaf-4bcd-a8a3-c4dc39bf1dcb",
   "metadata": {},
   "outputs": [
    {
     "name": "stdout",
     "output_type": "stream",
     "text": [
      "[[False False False]\n",
      " [False False False]\n",
      " [ True  True  True]\n",
      " [ True  True  True]]\n",
      "Elements greater than 5:  [ 6  7  8  9 10 11]\n"
     ]
    },
    {
     "data": {
      "text/plain": [
       "array([[ 0,  1,  2],\n",
       "       [ 3,  4,  5],\n",
       "       [ 6,  7,  8],\n",
       "       [ 9, 10, 11]])"
      ]
     },
     "execution_count": 47,
     "metadata": {},
     "output_type": "execute_result"
    }
   ],
   "source": [
    "6# Create a NumPy array [[0, 1, 2], [3, 4, 5], [6, 7, 8], [9, 10, 11]] and filter the elements greater than 5\n",
    "# Create the array\n",
    "arr = np.array([[0, 1, 2], [3, 4, 5], [6, 7, 8], [9, 10, 11]])\n",
    "\n",
    "# Filter elements greater than 5\n",
    "print(arr>5)\n",
    "filtered_arr = arr[arr > 5]\n",
    "print(\"Elements greater than 5: \", filtered_arr)\n"
   ]
  },
  {
   "cell_type": "code",
   "execution_count": 50,
   "id": "2f352ff3-70e3-4308-95ac-9c561a8dcd17",
   "metadata": {},
   "outputs": [
    {
     "name": "stdout",
     "output_type": "stream",
     "text": [
      "Array with NaN:  [nan  1.  2. nan  3.  4.  5.]\n",
      "[ True False False  True False False False]\n",
      "[False  True  True False  True  True  True]\n",
      "Array without NaN:  [1. 2. 3. 4. 5.]\n"
     ]
    }
   ],
   "source": [
    "#7 Create a NumPy array having NaN (Not a Number) and print it. Then print the same array omitting all elements which are NaN\n",
    "# Create a NumPy array with NaN values\n",
    "arr_with_nan = np.array([np.nan, 1, 2, np.nan, 3, 4, 5])\n",
    "\n",
    "# Print the array with NaN\n",
    "print(\"Array with NaN: \", arr_with_nan)\n",
    "\n",
    "# Print the array omitting NaN values\n",
    "print(np.isnan(arr_with_nan))\n",
    "print(~np.isnan(arr_with_nan))\n",
    "arr_without_nan = arr_with_nan[~np.isnan(arr_with_nan)]\n",
    "print(\"Array without NaN: \", arr_without_nan)\n"
   ]
  },
  {
   "cell_type": "code",
   "execution_count": 53,
   "id": "3f233b37-83ef-4b39-a161-42b0164501d9",
   "metadata": {},
   "outputs": [
    {
     "name": "stdout",
     "output_type": "stream",
     "text": [
      "10x10 array with random values [[0.9065555  0.77404733 0.33314515 0.08110139 0.40724117 0.23223414\n",
      "  0.13248763 0.05342718 0.72559436 0.01142746]\n",
      " [0.77058075 0.14694665 0.07952208 0.08960303 0.67204781 0.24536721\n",
      "  0.42053947 0.55736879 0.86055117 0.72704426]\n",
      " [0.27032791 0.1314828  0.05537432 0.30159863 0.26211815 0.45614057\n",
      "  0.68328134 0.69562545 0.28351885 0.37992696]\n",
      " [0.18115096 0.78854551 0.05684808 0.69699724 0.7786954  0.77740756\n",
      "  0.25942256 0.37381314 0.58759964 0.2728219 ]\n",
      " [0.3708528  0.19705428 0.45985588 0.0446123  0.79979588 0.07695645\n",
      "  0.51883515 0.3068101  0.57754295 0.95943334]\n",
      " [0.64557024 0.03536244 0.43040244 0.51001685 0.53617749 0.68139251\n",
      "  0.2775961  0.12886057 0.39267568 0.95640572]\n",
      " [0.18713089 0.90398395 0.54380595 0.45691142 0.88204141 0.45860396\n",
      "  0.72416764 0.39902532 0.90404439 0.69002502]\n",
      " [0.69962205 0.3277204  0.75677864 0.63606106 0.24002027 0.16053882\n",
      "  0.79639147 0.9591666  0.45813883 0.59098417]\n",
      " [0.85772264 0.45722345 0.95187448 0.57575116 0.82076712 0.90884372\n",
      "  0.81552382 0.15941446 0.62889844 0.39843426]\n",
      " [0.06271295 0.42403225 0.25868407 0.84903831 0.03330463 0.95898272\n",
      "  0.35536885 0.35670689 0.0163285  0.18523233]]\n",
      "Minimum value:  0.011427458625031028\n",
      "Maximum value:  0.9594333408334251\n"
     ]
    }
   ],
   "source": [
    "#8 Create a 10x10 array with random values and find the minimum and maximum value\n",
    "# Create a 10x10 array with random values\n",
    "random_array = np.random.random((10, 10))\n",
    "print(\"10x10 array with random values\", random_array)\n",
    "# Find the minimum and maximum values\n",
    "min_value = random_array.min()\n",
    "max_value = random_array.max()\n",
    "\n",
    "print(\"Minimum value: \", min_value)\n",
    "print(\"Maximum value: \", max_value)\n",
    "\n"
   ]
  },
  {
   "cell_type": "code",
   "execution_count": 55,
   "id": "179e4fcb-4795-499c-97f6-29aa7df2fb0e",
   "metadata": {},
   "outputs": [
    {
     "name": "stdout",
     "output_type": "stream",
     "text": [
      "random vector of size 30:  [0.24141862 0.66250457 0.24606318 0.66585912 0.51730852 0.42408899\n",
      " 0.55468781 0.28705152 0.70657471 0.41485687 0.36054556 0.82865691\n",
      " 0.92496691 0.04600731 0.23262699 0.34851937 0.81496648 0.98549143\n",
      " 0.9689717  0.90494835 0.29655627 0.99201124 0.24942004 0.10590615\n",
      " 0.95095261 0.23342026 0.68976827 0.05835636 0.7307091  0.88172021]\n",
      "Mean value:  0.5441645142627912\n"
     ]
    }
   ],
   "source": [
    "#9 Create a random vector of size 30 and find the mean value\n",
    "# Create a random vector of size 30\n",
    "random_vector = np.random.random(30)\n",
    "print(\"random vector of size 30: \", random_vector)\n",
    "\n",
    "# Find the mean value\n",
    "mean_value = np.mean(random_vector)\n",
    "print(\"Mean value: \", mean_value)\n"
   ]
  },
  {
   "cell_type": "code",
   "execution_count": 56,
   "id": "1fdb21db-7fb4-4942-b96c-3b22c3a244a8",
   "metadata": {},
   "outputs": [
    {
     "name": "stdout",
     "output_type": "stream",
     "text": [
      "Modified array:  [ 0  1  2 -3 -4 -5 -6 -7 -8 -9 10]\n"
     ]
    }
   ],
   "source": [
    "#10 Create a NumPy array having elements 0 to 10 and negate all the elements between 3 and 9\n",
    "# Create a NumPy array with elements from 0 to 10\n",
    "arr = np.arange(11)\n",
    "\n",
    "# Negate all the elements between 3 and 9\n",
    "arr[(arr >= 3) & (arr <= 9)] *= -1\n",
    "\n",
    "print(\"Modified array: \", arr)\n"
   ]
  },
  {
   "cell_type": "code",
   "execution_count": 59,
   "id": "a4f432f7-ae62-4b6f-918f-de9b6fc17abd",
   "metadata": {},
   "outputs": [
    {
     "name": "stdout",
     "output_type": "stream",
     "text": [
      "Original Array:\n",
      " [[0.99440079 0.45182168 0.07086978]\n",
      " [0.29279403 0.15235471 0.41748637]\n",
      " [0.13128933 0.6041178  0.38280806]]\n",
      "[0.99440079 0.29279403 0.13128933]\n",
      "[2 1 0]\n",
      "Sorted by 1st column:\n",
      " [[0.13128933 0.6041178  0.38280806]\n",
      " [0.29279403 0.15235471 0.41748637]\n",
      " [0.99440079 0.45182168 0.07086978]]\n",
      "Sorted by 2nd column:\n",
      " [[0.29279403 0.15235471 0.41748637]\n",
      " [0.99440079 0.45182168 0.07086978]\n",
      " [0.13128933 0.6041178  0.38280806]]\n",
      "Sorted by 3rd column:\n",
      " [[0.99440079 0.45182168 0.07086978]\n",
      " [0.13128933 0.6041178  0.38280806]\n",
      " [0.29279403 0.15235471 0.41748637]]\n"
     ]
    }
   ],
   "source": [
    "#11 Create a random array of 3 rows and 3 columns and sort it according to 1st column, 2nd column, or 3rd column\n",
    "# Create a random 3x3 array\n",
    "random_array = np.random.rand(3, 3)\n",
    "\n",
    "print(\"Original Array:\\n\", random_array)\n",
    "\n",
    "# Sort according to the 1st column\n",
    "print(random_array[:, 0])\n",
    "print(random_array[:, 0].argsort())\n",
    "sorted_by_first = random_array[random_array[:, 0].argsort()]\n",
    "print(\"Sorted by 1st column:\\n\", sorted_by_first)\n",
    "\n",
    "# Sort according to the 2nd column\n",
    "sorted_by_second = random_array[random_array[:, 1].argsort()]\n",
    "print(\"Sorted by 2nd column:\\n\", sorted_by_second)\n",
    "\n",
    "# Sort according to the 3rd column\n",
    "sorted_by_third = random_array[random_array[:, 2].argsort()]\n",
    "print(\"Sorted by 3rd column:\\n\", sorted_by_third)\n"
   ]
  },
  {
   "cell_type": "code",
   "execution_count": 61,
   "id": "a2f2b93d-b906-41d9-a46a-a461a85d527f",
   "metadata": {
    "scrolled": true
   },
   "outputs": [
    {
     "name": "stdout",
     "output_type": "stream",
     "text": [
      "(3, 3, 3, 3)\n",
      "4D array:\n",
      " [[[[0.82989737 0.96828641 0.91978281]\n",
      "   [0.03603382 0.174772   0.38913468]\n",
      "   [0.9521427  0.30002892 0.16046764]]\n",
      "\n",
      "  [[0.88630467 0.44639442 0.90787559]\n",
      "   [0.16023047 0.66111751 0.44026375]\n",
      "   [0.07648677 0.69646314 0.24739876]]\n",
      "\n",
      "  [[0.03961552 0.0599443  0.06107854]\n",
      "   [0.90773296 0.73988392 0.89806236]\n",
      "   [0.67258231 0.52893993 0.30444636]]]\n",
      "\n",
      "\n",
      " [[[0.99796225 0.36218906 0.47064895]\n",
      "   [0.37824517 0.97952693 0.17465839]\n",
      "   [0.327988   0.68034867 0.06320762]]\n",
      "\n",
      "  [[0.60724937 0.4776465  0.28399998]\n",
      "   [0.23841328 0.51451274 0.36792758]\n",
      "   [0.45651989 0.33747738 0.97049369]]\n",
      "\n",
      "  [[0.13343943 0.09680395 0.34339173]\n",
      "   [0.5910269  0.65917647 0.39725675]\n",
      "   [0.99927799 0.351893   0.72140667]]]\n",
      "\n",
      "\n",
      " [[[0.63758269 0.81305386 0.97622566]\n",
      "   [0.88979366 0.76456197 0.69824848]\n",
      "   [0.33549817 0.14768558 0.062636  ]]\n",
      "\n",
      "  [[0.2419017  0.43228148 0.52199627]\n",
      "   [0.77308355 0.95874092 0.11732048]\n",
      "   [0.10700414 0.58969472 0.74539807]]\n",
      "\n",
      "  [[0.84815038 0.93583208 0.98342624]\n",
      "   [0.39980169 0.38033518 0.14780868]\n",
      "   [0.68493444 0.65676196 0.8620626 ]]]]\n",
      "Sum over the last two axes:\n",
      " [[4.73054635 4.52253508 4.2122862 ]\n",
      " [4.43477503 4.25424043 4.29367289]\n",
      " [5.32528608 4.48742135 5.89911325]]\n"
     ]
    }
   ],
   "source": [
    "#12 Create a four-dimensional array and get the sum over the last two axes at once\n",
    "# Create a 4D array\n",
    "arr_4d = np.random.rand(3, 3, 3, 3)\n",
    "print(arr_4d.shape)\n",
    "\n",
    "# Sum over the last two axes (axis -2 and axis -1)\n",
    "sum_over_last_two_axes = arr_4d.sum(axis=(-2, -1))\n",
    "\n",
    "print(\"4D array:\\n\", arr_4d)\n",
    "print(\"Sum over the last two axes:\\n\", sum_over_last_two_axes)\n"
   ]
  },
  {
   "cell_type": "code",
   "execution_count": 4,
   "id": "957baf02-c301-44b7-b0b4-d41971b3ac78",
   "metadata": {},
   "outputs": [
    {
     "name": "stdout",
     "output_type": "stream",
     "text": [
      "Original array:\n",
      " [[1.89152073e-01 1.96626252e-01 3.65948707e-01 8.76776091e-01\n",
      "  7.76790978e-02]\n",
      " [7.52615299e-01 1.78932447e-01 9.94956263e-01 1.03324310e-01\n",
      "  5.85217421e-01]\n",
      " [6.64687215e-01 5.87745711e-01 9.59305608e-01 2.85732083e-02\n",
      "  8.15608816e-01]\n",
      " [4.08820235e-01 4.18236707e-01 3.89478732e-01 1.35041905e-01\n",
      "  9.14065228e-01]\n",
      " [4.89470263e-01 1.91618268e-01 8.80028242e-01 3.12385668e-04\n",
      "  9.34146003e-01]]\n",
      "[[0.18915207 0.19662625 0.36594871 0.87677609 0.0776791 ]\n",
      " [0.66468722 0.58774571 0.95930561 0.02857321 0.81560882]]\n",
      "Array after swapping first and third row:\n",
      " [[6.64687215e-01 5.87745711e-01 9.59305608e-01 2.85732083e-02\n",
      "  8.15608816e-01]\n",
      " [7.52615299e-01 1.78932447e-01 9.94956263e-01 1.03324310e-01\n",
      "  5.85217421e-01]\n",
      " [1.89152073e-01 1.96626252e-01 3.65948707e-01 8.76776091e-01\n",
      "  7.76790978e-02]\n",
      " [4.08820235e-01 4.18236707e-01 3.89478732e-01 1.35041905e-01\n",
      "  9.14065228e-01]\n",
      " [4.89470263e-01 1.91618268e-01 8.80028242e-01 3.12385668e-04\n",
      "  9.34146003e-01]]\n"
     ]
    }
   ],
   "source": [
    "#13 Create a random array and swap two rows of an array\n",
    "# Create a random 5x5 array\n",
    "arr = np.random.rand(5, 5)\n",
    "\n",
    "print(\"Original array:\\n\", arr)\n",
    "\n",
    "print(arr[[0,2]])\n",
    "# Swap the first and third row\n",
    "arr[[0, 2]] = arr[[2, 0]]\n",
    "\n",
    "print(\"Array after swapping first and third row:\\n\", arr)\n"
   ]
  },
  {
   "cell_type": "code",
   "execution_count": 63,
   "id": "37ea18d3-3b66-4cb8-8acc-4861738e64c2",
   "metadata": {},
   "outputs": [
    {
     "name": "stdout",
     "output_type": "stream",
     "text": [
      "Matrix:\n",
      " [[0.82240674 0.65342116 0.72634246 0.536923   0.11047711]\n",
      " [0.40503561 0.40537358 0.32104299 0.02995032 0.73725424]\n",
      " [0.10978446 0.60630813 0.7032175  0.63478632 0.95914225]\n",
      " [0.10329816 0.86716716 0.02919023 0.53491685 0.40424362]\n",
      " [0.52418386 0.36509988 0.19056691 0.0191229  0.51814981]]\n",
      "Rank of the matrix:  5\n"
     ]
    }
   ],
   "source": [
    "#14 Create a random matrix and compute a matrix rank\n",
    "# Create a random matrix (5x5)\n",
    "matrix = np.random.rand(5, 5)\n",
    "\n",
    "print(\"Matrix:\\n\", matrix)\n",
    "\n",
    "# Compute the rank of the matrix\n",
    "matrix_rank = np.linalg.matrix_rank(matrix)\n",
    "\n",
    "print(\"Rank of the matrix: \", matrix_rank)\n"
   ]
  },
  {
   "cell_type": "code",
   "execution_count": 26,
   "id": "302ff93a-6eea-4d82-ae68-187e1fada6e4",
   "metadata": {},
   "outputs": [
    {
     "name": "stdout",
     "output_type": "stream",
     "text": [
      "<class 'pandas.core.frame.DataFrame'>\n",
      "RangeIndex: 347 entries, 0 to 346\n",
      "Data columns (total 15 columns):\n",
      " #   Column               Non-Null Count  Dtype  \n",
      "---  ------               --------------  -----  \n",
      " 0   name                 347 non-null    object \n",
      " 1   school_rating        347 non-null    float64\n",
      " 2   size                 347 non-null    float64\n",
      " 3   reduced_lunch        347 non-null    float64\n",
      " 4   state_percentile_16  347 non-null    float64\n",
      " 5   state_percentile_15  341 non-null    float64\n",
      " 6   stu_teach_ratio      347 non-null    float64\n",
      " 7   school_type          347 non-null    object \n",
      " 8   avg_score_15         341 non-null    float64\n",
      " 9   avg_score_16         347 non-null    float64\n",
      " 10  full_time_teachers   347 non-null    float64\n",
      " 11  percent_black        347 non-null    float64\n",
      " 12  percent_white        347 non-null    float64\n",
      " 13  percent_asian        347 non-null    float64\n",
      " 14  percent_hispanic     347 non-null    float64\n",
      "dtypes: float64(13), object(2)\n",
      "memory usage: 40.8+ KB\n",
      "       school_rating         size  reduced_lunch  state_percentile_16  \\\n",
      "count     347.000000   347.000000     347.000000           347.000000   \n",
      "mean        2.968300   699.472622      50.279539            58.801729   \n",
      "std         1.690377   400.598636      25.480236            32.540747   \n",
      "min         0.000000    53.000000       2.000000             0.200000   \n",
      "25%         2.000000   420.500000      30.000000            30.950000   \n",
      "50%         3.000000   595.000000      51.000000            66.400000   \n",
      "75%         4.000000   851.000000      71.500000            88.000000   \n",
      "max         5.000000  2314.000000      98.000000            99.800000   \n",
      "\n",
      "       state_percentile_15  stu_teach_ratio  avg_score_15  avg_score_16  \\\n",
      "count           341.000000       347.000000    341.000000    347.000000   \n",
      "mean             58.249267        15.461671     57.004692     57.049856   \n",
      "std              32.702630         5.725170     26.696450     27.968974   \n",
      "min               0.600000         4.700000      1.500000      0.100000   \n",
      "25%              27.100000        13.700000     37.600000     37.000000   \n",
      "50%              65.800000        15.000000     61.800000     60.700000   \n",
      "75%              88.600000        16.700000     79.600000     80.250000   \n",
      "max              99.800000       111.000000     99.000000     98.900000   \n",
      "\n",
      "       full_time_teachers  percent_black  percent_white  percent_asian  \\\n",
      "count          347.000000     347.000000     347.000000     347.000000   \n",
      "mean            44.939481      21.197983      61.673487       2.642651   \n",
      "std             22.053386      23.562538      27.274859       3.109629   \n",
      "min              2.000000       0.000000       1.100000       0.000000   \n",
      "25%             30.000000       3.600000      40.600000       0.750000   \n",
      "50%             40.000000      13.500000      68.700000       1.600000   \n",
      "75%             54.000000      28.350000      85.950000       3.100000   \n",
      "max            140.000000      97.400000      99.700000      21.100000   \n",
      "\n",
      "       percent_hispanic  \n",
      "count        347.000000  \n",
      "mean          11.164553  \n",
      "std           12.030608  \n",
      "min            0.000000  \n",
      "25%            3.800000  \n",
      "50%            6.400000  \n",
      "75%           13.800000  \n",
      "max           65.200000  \n"
     ]
    },
    {
     "data": {
      "text/html": [
       "<div>\n",
       "<style scoped>\n",
       "    .dataframe tbody tr th:only-of-type {\n",
       "        vertical-align: middle;\n",
       "    }\n",
       "\n",
       "    .dataframe tbody tr th {\n",
       "        vertical-align: top;\n",
       "    }\n",
       "\n",
       "    .dataframe thead th {\n",
       "        text-align: right;\n",
       "    }\n",
       "</style>\n",
       "<table border=\"1\" class=\"dataframe\">\n",
       "  <thead>\n",
       "    <tr style=\"text-align: right;\">\n",
       "      <th></th>\n",
       "      <th>name</th>\n",
       "      <th>school_rating</th>\n",
       "      <th>size</th>\n",
       "      <th>reduced_lunch</th>\n",
       "      <th>state_percentile_16</th>\n",
       "      <th>state_percentile_15</th>\n",
       "      <th>stu_teach_ratio</th>\n",
       "      <th>school_type</th>\n",
       "      <th>avg_score_15</th>\n",
       "      <th>avg_score_16</th>\n",
       "      <th>full_time_teachers</th>\n",
       "      <th>percent_black</th>\n",
       "      <th>percent_white</th>\n",
       "      <th>percent_asian</th>\n",
       "      <th>percent_hispanic</th>\n",
       "    </tr>\n",
       "  </thead>\n",
       "  <tbody>\n",
       "    <tr>\n",
       "      <th>0</th>\n",
       "      <td>Allendale Elementary School</td>\n",
       "      <td>5.0</td>\n",
       "      <td>851.0</td>\n",
       "      <td>10.0</td>\n",
       "      <td>90.2</td>\n",
       "      <td>95.8</td>\n",
       "      <td>15.7</td>\n",
       "      <td>Public</td>\n",
       "      <td>89.4</td>\n",
       "      <td>85.2</td>\n",
       "      <td>54.0</td>\n",
       "      <td>2.9</td>\n",
       "      <td>85.5</td>\n",
       "      <td>1.6</td>\n",
       "      <td>5.6</td>\n",
       "    </tr>\n",
       "    <tr>\n",
       "      <th>1</th>\n",
       "      <td>Anderson Elementary</td>\n",
       "      <td>2.0</td>\n",
       "      <td>412.0</td>\n",
       "      <td>71.0</td>\n",
       "      <td>32.8</td>\n",
       "      <td>37.3</td>\n",
       "      <td>12.8</td>\n",
       "      <td>Public</td>\n",
       "      <td>43.0</td>\n",
       "      <td>38.3</td>\n",
       "      <td>32.0</td>\n",
       "      <td>3.9</td>\n",
       "      <td>86.7</td>\n",
       "      <td>1.0</td>\n",
       "      <td>4.9</td>\n",
       "    </tr>\n",
       "    <tr>\n",
       "      <th>2</th>\n",
       "      <td>Avoca Elementary</td>\n",
       "      <td>4.0</td>\n",
       "      <td>482.0</td>\n",
       "      <td>43.0</td>\n",
       "      <td>78.4</td>\n",
       "      <td>83.6</td>\n",
       "      <td>16.6</td>\n",
       "      <td>Public</td>\n",
       "      <td>75.7</td>\n",
       "      <td>73.0</td>\n",
       "      <td>29.0</td>\n",
       "      <td>1.0</td>\n",
       "      <td>91.5</td>\n",
       "      <td>1.2</td>\n",
       "      <td>4.4</td>\n",
       "    </tr>\n",
       "    <tr>\n",
       "      <th>3</th>\n",
       "      <td>Bailey Middle</td>\n",
       "      <td>0.0</td>\n",
       "      <td>394.0</td>\n",
       "      <td>91.0</td>\n",
       "      <td>1.6</td>\n",
       "      <td>1.0</td>\n",
       "      <td>13.1</td>\n",
       "      <td>Public Magnet</td>\n",
       "      <td>2.1</td>\n",
       "      <td>4.4</td>\n",
       "      <td>30.0</td>\n",
       "      <td>80.7</td>\n",
       "      <td>11.7</td>\n",
       "      <td>2.3</td>\n",
       "      <td>4.3</td>\n",
       "    </tr>\n",
       "    <tr>\n",
       "      <th>4</th>\n",
       "      <td>Barfield Elementary</td>\n",
       "      <td>4.0</td>\n",
       "      <td>948.0</td>\n",
       "      <td>26.0</td>\n",
       "      <td>85.3</td>\n",
       "      <td>89.2</td>\n",
       "      <td>14.8</td>\n",
       "      <td>Public</td>\n",
       "      <td>81.3</td>\n",
       "      <td>79.6</td>\n",
       "      <td>64.0</td>\n",
       "      <td>11.8</td>\n",
       "      <td>71.2</td>\n",
       "      <td>7.1</td>\n",
       "      <td>6.0</td>\n",
       "    </tr>\n",
       "  </tbody>\n",
       "</table>\n",
       "</div>"
      ],
      "text/plain": [
       "                          name  school_rating   size  reduced_lunch  \\\n",
       "0  Allendale Elementary School            5.0  851.0           10.0   \n",
       "1          Anderson Elementary            2.0  412.0           71.0   \n",
       "2             Avoca Elementary            4.0  482.0           43.0   \n",
       "3                Bailey Middle            0.0  394.0           91.0   \n",
       "4          Barfield Elementary            4.0  948.0           26.0   \n",
       "\n",
       "   state_percentile_16  state_percentile_15  stu_teach_ratio    school_type  \\\n",
       "0                 90.2                 95.8             15.7         Public   \n",
       "1                 32.8                 37.3             12.8         Public   \n",
       "2                 78.4                 83.6             16.6         Public   \n",
       "3                  1.6                  1.0             13.1  Public Magnet   \n",
       "4                 85.3                 89.2             14.8         Public   \n",
       "\n",
       "   avg_score_15  avg_score_16  full_time_teachers  percent_black  \\\n",
       "0          89.4          85.2                54.0            2.9   \n",
       "1          43.0          38.3                32.0            3.9   \n",
       "2          75.7          73.0                29.0            1.0   \n",
       "3           2.1           4.4                30.0           80.7   \n",
       "4          81.3          79.6                64.0           11.8   \n",
       "\n",
       "   percent_white  percent_asian  percent_hispanic  \n",
       "0           85.5            1.6               5.6  \n",
       "1           86.7            1.0               4.9  \n",
       "2           91.5            1.2               4.4  \n",
       "3           11.7            2.3               4.3  \n",
       "4           71.2            7.1               6.0  "
      ]
     },
     "execution_count": 26,
     "metadata": {},
     "output_type": "execute_result"
    }
   ],
   "source": [
    "#15 \n",
    "import pandas as pd\n",
    "import matplotlib.pyplot as plt\n",
    "import seaborn as sns\n",
    "\n",
    "data = pd.read_csv('middle_tn_schools.csv')\n",
    "data.info()\n",
    "print( data.describe() )\n",
    "data.head()"
   ]
  },
  {
   "cell_type": "code",
   "execution_count": 58,
   "id": "1771815f-ea21-4b6f-8484-7d47a1b680ca",
   "metadata": {},
   "outputs": [
    {
     "name": "stdout",
     "output_type": "stream",
     "text": [
      "Grouped Data by School Rating:\n",
      "                count       mean        std   min    25%   50%    75%   max\n",
      "school_rating                                                             \n",
      "0.0             43.0  83.581395   8.813498  53.0  79.50  86.0  90.00  98.0\n",
      "1.0             40.0  74.950000  11.644191  53.0  65.00  74.5  84.25  98.0\n",
      "2.0             44.0  64.272727  11.956051  37.0  54.75  62.5  74.00  88.0\n",
      "3.0             56.0  50.285714  13.550866  24.0  41.00  48.5  63.00  78.0\n",
      "4.0             86.0  41.000000  16.681092   4.0  30.00  41.5  50.00  87.0\n",
      "5.0             78.0  21.602564  17.651268   2.0   8.00  19.0  29.75  87.0\n"
     ]
    }
   ],
   "source": [
    "\n",
    "#grouped_data = data.groupby('school_rating')['reduced_lunch']\n",
    "#print(type(grouped_data))\n",
    "\n",
    "# Iterate through each group and print all the entries for that rating\n",
    "#for rating, group in grouped_data:\n",
    "#    print(f\"School Rating: {rating}\")\n",
    "#    print(group)\n",
    "#    print(\"\\n\")\n",
    "\n",
    "# Phase 2: Group data by school_rating and describe reduced_lunch statistics for each rating group\n",
    "grouped_data = data.groupby('school_rating')['reduced_lunch'].describe()\n",
    "print(\"Grouped Data by School Rating:\\n\", grouped_data)\n",
    "\n",
    "\n"
   ]
  },
  {
   "cell_type": "code",
   "execution_count": 59,
   "id": "81d3fb95-a53b-49f6-a037-c0e9646cf2c8",
   "metadata": {},
   "outputs": [
    {
     "name": "stdout",
     "output_type": "stream",
     "text": [
      "\n",
      "Correlation between Reduced Lunch and School Rating:\n",
      "                reduced_lunch  school_rating\n",
      "reduced_lunch       1.000000      -0.815757\n",
      "school_rating      -0.815757       1.000000\n"
     ]
    }
   ],
   "source": [
    "# Phase 3: Correlation analysis between reduced_lunch and school_rating\n",
    "correlation = data[['reduced_lunch', 'school_rating']].corr()\n",
    "print(\"\\nCorrelation between Reduced Lunch and School Rating:\\n\", correlation)\n"
   ]
  },
  {
   "cell_type": "code",
   "execution_count": 60,
   "id": "e3b38765-1895-4fc1-b6d9-2d24e3d622c1",
   "metadata": {},
   "outputs": [
    {
     "data": {
      "image/png": "[encoded data removed]",
      "text/plain": [
       "<Figure size 800x600 with 1 Axes>"
      ]
     },
     "metadata": {},
     "output_type": "display_data"
    }
   ],
   "source": [
    "# Phase 4: Scatter plot between reduced_lunch and school_rating\n",
    "plt.figure(figsize=(8, 6))\n",
    "sns.scatterplot(x='reduced_lunch', y='school_rating', data=data)\n",
    "plt.title('Scatter Plot: School Rating vs Reduced Lunch Percentage')\n",
    "plt.xlabel('Reduced Lunch Percentage (%)')\n",
    "plt.ylabel('School Rating')\n",
    "plt.grid(True)\n",
    "\n",
    "# Display a trend line (regression line) for the scatter plot\n",
    "sns.regplot(x='reduced_lunch', y='school_rating', data=data, scatter=False, color='red')\n",
    "\n",
    "plt.show()"
   ]
  },
  {
   "cell_type": "code",
   "execution_count": 61,
   "id": "f174a864-5f3d-46af-8e7b-75bda3c6d7ca",
   "metadata": {},
   "outputs": [
    {
     "data": {
      "image/png": "[encoded data removed]",
      "text/plain": [
       "<Figure size 1000x800 with 2 Axes>"
      ]
     },
     "metadata": {},
     "output_type": "display_data"
    }
   ],
   "source": [
    "# Phase 5: Correlation Matrix Visualization (including important fields)\n",
    "plt.figure(figsize=(10, 8))\n",
    "\n",
    "# Create a correlation matrix of important fields in the dataset\n",
    "important_columns = ['school_rating', 'size', 'reduced_lunch', 'state_percentile_16', \n",
    "                     'stu_teach_ratio', 'avg_score_16', 'full_time_teachers']\n",
    "correlation_matrix = data[important_columns].corr()\n",
    "\n",
    "# Visualize the correlation matrix using a heatmap\n",
    "sns.heatmap(correlation_matrix, annot=True, cmap='coolwarm', fmt=\".2f\", linewidths=0.5)\n",
    "plt.title('Correlation Matrix of Key School Performance Variables')\n",
    "plt.show()\n"
   ]
  },
  {
   "cell_type": "markdown",
   "id": "06549551-bab8-4ced-8404-8eb874e05dc8",
   "metadata": {},
   "source": [
    "Akram MTir 23-10-2024"
   ]
  }
 ],
 "metadata": {
  "kernelspec": {
   "display_name": "Python 3 (ipykernel)",
   "language": "python",
   "name": "python3"
  },
  "language_info": {
   "codemirror_mode": {
    "name": "ipython",
    "version": 3
   },
   "file_extension": ".py",
   "mimetype": "text/x-python",
   "name": "python",
   "nbconvert_exporter": "python",
   "pygments_lexer": "ipython3",
   "version": "3.10.1"
  }
 },
 "nbformat": 4,
 "nbformat_minor": 5
}
