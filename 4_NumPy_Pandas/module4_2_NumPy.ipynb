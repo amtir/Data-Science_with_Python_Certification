{
 "cells": [
  {
   "cell_type": "markdown",
   "id": "dcb2607a-9140-436d-aca2-2bd10b49211b",
   "metadata": {},
   "source": [
    "# Module NumPy \n",
    "### Numerical Python: package for scientific computing \n",
    "https://numpy.org/ \n",
    "#### Features:\n",
    "* Multi dimensional array\n",
    "* Element by element operations\n",
    "* Mathematical operations like linear algebra\n",
    "* Method for procession arrays"
   ]
  },
  {
   "cell_type": "code",
   "execution_count": 1,
   "id": "6f2a3bae-8fa1-46b3-b699-8ec8d4525959",
   "metadata": {},
   "outputs": [
    {
     "name": "stdout",
     "output_type": "stream",
     "text": [
      "Requirement already satisfied: numpy in c:\\users\\akram\\appdata\\roaming\\python\\python310\\site-packages (2.1.1)\n"
     ]
    }
   ],
   "source": [
    "!pip install numpy"
   ]
  },
  {
   "cell_type": "code",
   "execution_count": 5,
   "id": "aef8c7e9-cd33-47bb-b4cb-a2373cb87d39",
   "metadata": {},
   "outputs": [
    {
     "name": "stdout",
     "output_type": "stream",
     "text": [
      "[1 2 3] <class 'numpy.ndarray'>\n",
      "int64\n"
     ]
    }
   ],
   "source": [
    "import numpy as np\n",
    "a = np.array([1,2,3])\n",
    "print(a, type(a))\n",
    "print(a.dtype)"
   ]
  },
  {
   "cell_type": "code",
   "execution_count": 6,
   "id": "df537087-f3e2-445f-8bdc-b056e0e14cf6",
   "metadata": {},
   "outputs": [
    {
     "name": "stdout",
     "output_type": "stream",
     "text": [
      "['1' '2' '3' '4'] <class 'numpy.ndarray'>\n",
      "<U21\n"
     ]
    }
   ],
   "source": [
    "b = np.array([1,2,3,'4'])\n",
    "print(b, type(b))\n",
    "print(b.dtype)"
   ]
  },
  {
   "cell_type": "code",
   "execution_count": 8,
   "id": "3bf91d00-ff2f-45c6-b863-21d95ef89be2",
   "metadata": {},
   "outputs": [
    {
     "name": "stdout",
     "output_type": "stream",
     "text": [
      "[10 11 12 13 14 15 16 17 18 19] <class 'numpy.ndarray'>\n",
      "No of dimention:  1\n"
     ]
    }
   ],
   "source": [
    "c=np.arange(10,20)\n",
    "print(c, type(c))\n",
    "\n",
    "# Check dimention\n",
    "print('No of dimention: ',c.ndim)"
   ]
  },
  {
   "cell_type": "code",
   "execution_count": 1,
   "id": "d35accfb-5b10-472e-ab26-97e49fa46dbd",
   "metadata": {},
   "outputs": [
    {
     "name": "stdout",
     "output_type": "stream",
     "text": [
      "[[ 10  20  30 100]\n",
      " [ 40  50  60 110]\n",
      " [ 70  80  90 120]] <class 'numpy.ndarray'>\n",
      "Number of dimensions:  2\n",
      "Shape:  (3, 4)\n",
      "Size:  12\n",
      "Size of each element (in bytes):  8\n"
     ]
    }
   ],
   "source": [
    "import numpy as np\n",
    "\n",
    "# Define the array\n",
    "d = np.array([[10, 20, 30, 100], [40, 50, 60, 110], [70, 80, 90, 120]])\n",
    "\n",
    "# Print the array and its type\n",
    "print(d, type(d))\n",
    "\n",
    "# Check dimension\n",
    "print('Number of dimensions: ', d.ndim)\n",
    "print('Shape: ', d.shape)  # Rows come first\n",
    "print('Size: ', d.size)    # Total number of elements\n",
    "\n",
    "# Get size of each element in bytes\n",
    "print('Size of each element (in bytes): ', d.itemsize)\n"
   ]
  },
  {
   "cell_type": "code",
   "execution_count": 3,
   "id": "cfb65ae4-c3c0-47db-872c-65904456277d",
   "metadata": {},
   "outputs": [
    {
     "data": {
      "text/plain": [
       "np.int64(80)"
      ]
     },
     "execution_count": 3,
     "metadata": {},
     "output_type": "execute_result"
    }
   ],
   "source": [
    "#Indexing 2D array\n",
    "d[2][1]"
   ]
  },
  {
   "cell_type": "code",
   "execution_count": 5,
   "id": "37155ad9-22dd-4b3a-a40c-4ce5a40e5e76",
   "metadata": {},
   "outputs": [
    {
     "name": "stdout",
     "output_type": "stream",
     "text": [
      "[ 10  20  30 100]\n",
      "[ 40  50  60 110]\n",
      "[ 70  80  90 120]\n"
     ]
    }
   ],
   "source": [
    "for i in d:\n",
    "    print(i)"
   ]
  },
  {
   "cell_type": "code",
   "execution_count": 7,
   "id": "048ae473-d9c8-407d-9034-eab63c3ea331",
   "metadata": {},
   "outputs": [
    {
     "name": "stdout",
     "output_type": "stream",
     "text": [
      "10\n",
      "20\n",
      "30\n",
      "100\n",
      "40\n",
      "50\n",
      "60\n",
      "110\n",
      "70\n",
      "80\n",
      "90\n",
      "120\n"
     ]
    }
   ],
   "source": [
    "#nditer nd iter \n",
    "# nditer = n dimesional iteration to iterate all elements in the array\n",
    "for i in np.nditer(d):\n",
    "    print(i)"
   ]
  },
  {
   "cell_type": "code",
   "execution_count": 13,
   "id": "ea3cc97a-cf0e-4068-898e-f8bd5b623f14",
   "metadata": {},
   "outputs": [
    {
     "name": "stdout",
     "output_type": "stream",
     "text": [
      "[[140 146]\n",
      " [320 335]] \n",
      "\n",
      "[[ 54  75  96]\n",
      " [104 145 186]\n",
      " [154 215 276]]\n"
     ]
    }
   ],
   "source": [
    "# Matrix multiplication\n",
    "A=[[1,2,3],[4,5,6]]\n",
    "B=[[10,11],[20,21],[30,31]]\n",
    "C=np.dot(A,B)\n",
    "print(C,'\\n')\n",
    "D=np.dot(B,A)\n",
    "print(D)"
   ]
  },
  {
   "cell_type": "code",
   "execution_count": 37,
   "id": "0616db2e-661c-4196-95d9-7b1a887b2e2b",
   "metadata": {},
   "outputs": [
    {
     "name": "stdout",
     "output_type": "stream",
     "text": [
      "(130,) 1 130 8 <class 'numpy.ndarray'>\n",
      "(130,) 1 130 4 <class 'numpy.ndarray'>\n",
      "[420 280 350 269 317 470 333 365 305 350 460 474 409 377 415 382 298 462\n",
      " 370 313 464 302 252 259 308 392 424 403 370 328 398 434 291 472 263 439\n",
      " 464 449 401 364 296 292 438 357 331 317 429 407 321 274 447 274 437 411\n",
      " 257 310 396 270 311 459 378 316 283 266 381 409 313 306 448 348 292 400\n",
      " 352 441 428 309 441 439 264 281 302 432 423 336 383 321 469 270 341 281\n",
      " 403 333 323 348 345 397 449 261 456 370 322 379 446 404 301 254 351 444\n",
      " 264 286 463 273 316 324 465 398 324 340 414 346 408 332 394 474 398 262\n",
      " 410 391 444 461]\n",
      "Total Marks:  47356\n",
      "Average Marks:  364.2769230769231\n",
      "Max Marks:  474\n",
      "Min Marks:  252\n",
      "Standard Deviation:  66.17947803971762\n",
      "variance Marks:  4379.723313609467\n"
     ]
    }
   ],
   "source": [
    "#Import data from a file \n",
    "# a specific column \n",
    "# default read is float  --> int32\n",
    "data = np.loadtxt('marks.csv',delimiter=',',usecols=(5),skiprows=1)\n",
    "print(data.shape, data.ndim, data.size, data.itemsize,type(data))\n",
    "data = np.loadtxt('marks.csv',delimiter=',',usecols=(5),skiprows=1,dtype='int32')\n",
    "print(data.shape, data.ndim, data.size, data.itemsize,type(data))\n",
    "print(data)\n",
    "print('Total Marks: ', data.sum())\n",
    "print('Average Marks: ', data.mean())\n",
    "print('Max Marks: ', data.max())\n",
    "print('Min Marks: ', data.min())\n",
    "print('Standard Deviation: ', data.std())\n",
    "print('variance Marks: ', data.var())\n"
   ]
  },
  {
   "cell_type": "code",
   "execution_count": null,
   "id": "cd62954b-685d-429f-84c3-0bf4f477f99a",
   "metadata": {},
   "outputs": [],
   "source": [
    "#Pandas --> data analysis & manipulation tool \n",
    "# --> works with structured data \n",
    "# ML Machine Learning: Fetch data, prepocess, ETL, clean, manipulate, ... to the ML machine \n",
    "# 40% work done in Pandas\n",
    "\n",
    "# Data Structures Panel Data in Pandas \n",
    "# DataFrame --> Table \n",
    "# Data Series --> Column\n",
    "\n",
    "#Raw data --> Data Frame --> (merge, clean ...)--> Processed Data --> ML \n",
    "\n",
    "import pandas as pd  \n",
    "\n"
   ]
  }
 ],
 "metadata": {
  "kernelspec": {
   "display_name": "Python 3 (ipykernel)",
   "language": "python",
   "name": "python3"
  },
  "language_info": {
   "codemirror_mode": {
    "name": "ipython",
    "version": 3
   },
   "file_extension": ".py",
   "mimetype": "text/x-python",
   "name": "python",
   "nbconvert_exporter": "python",
   "pygments_lexer": "ipython3",
   "version": "3.10.1"
  }
 },
 "nbformat": 4,
 "nbformat_minor": 5
}
