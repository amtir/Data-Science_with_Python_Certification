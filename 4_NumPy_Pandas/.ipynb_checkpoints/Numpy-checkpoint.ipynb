{
 "cells": [
  {
   "cell_type": "code",
   "execution_count": 4,
   "id": "800ce010-f535-41f2-bf06-786a4e6b4aee",
   "metadata": {},
   "outputs": [
    {
     "name": "stdout",
     "output_type": "stream",
     "text": [
      "['45' '36' '98' '75' '23' '41' '52' '63' 'abc' '45.36']\n",
      "<class 'numpy.ndarray'>\n",
      "<U32\n"
     ]
    }
   ],
   "source": [
    "import numpy as np\n",
    "#Creating Numpy array\n",
    "ar=np.array([45,36,98,75,23,41,52,63])\n",
    "#ar=np.array([45,36,98,75,23,41,52,63,'abc',45.36])\n",
    "print(ar)\n",
    "print(type(ar))\n",
    "print(ar.dtype)"
   ]
  },
  {
   "cell_type": "code",
   "execution_count": 14,
   "id": "9d0f8758-1be0-45cc-916b-a758f4823497",
   "metadata": {},
   "outputs": [
    {
     "name": "stdout",
     "output_type": "stream",
     "text": [
      "[10 11 12 13 14 15 16 17 18 19]\n",
      "<class 'numpy.ndarray'>\n",
      "[10 12 14 16 18 20 22 24 26 28 30 32 34 36 38 40 42 44 46 48]\n",
      "<class 'numpy.ndarray'>\n"
     ]
    }
   ],
   "source": [
    "#arange(start,stop,step)\n",
    "ar=np.arange(10,20)\n",
    "print(ar)\n",
    "print(type(ar))\n",
    "ar=np.arange(10,50,2)\n",
    "print(ar)\n",
    "print(type(ar))"
   ]
  },
  {
   "cell_type": "code",
   "execution_count": 15,
   "id": "f98dfb11-8569-4df1-95cc-7b19133dae1e",
   "metadata": {},
   "outputs": [
    {
     "name": "stdout",
     "output_type": "stream",
     "text": [
      "[10 12 14 16 18 20 22 24 26 28 30 32 34 36 38 40 42 44 46 48]\n",
      "16\n",
      "No of Dim: 1\n"
     ]
    }
   ],
   "source": [
    "#index \n",
    "print(ar)\n",
    "print(ar[3])\n",
    "print(\"No of Dim:\",ar.ndim)"
   ]
  },
  {
   "cell_type": "code",
   "execution_count": 18,
   "id": "4615ac1d-8d93-4a91-9d9a-816de785f21a",
   "metadata": {},
   "outputs": [
    {
     "name": "stdout",
     "output_type": "stream",
     "text": [
      "[[ 10  20  30 100]\n",
      " [ 40  50  60 200]\n",
      " [ 70  80  90 300]]\n",
      "No of Dim: 2\n",
      "Shape: (3, 4)\n",
      "Size: 12\n"
     ]
    }
   ],
   "source": [
    "#2D Array [rows and columns]\n",
    "#ar=np.array([[10,20,30],[40,50,60],[70,80,90]])\n",
    "ar=np.array([[10,20,30,100],[40,50,60,200],[70,80,90,300]])\n",
    "print(ar)\n",
    "print(\"No of Dim:\",ar.ndim)\n",
    "print(\"Shape:\",ar.shape)\n",
    "print(\"Size:\",ar.size)"
   ]
  },
  {
   "cell_type": "code",
   "execution_count": 19,
   "id": "70b88221-4cc5-4f4b-9175-f7dc84185d5c",
   "metadata": {},
   "outputs": [
    {
     "name": "stdout",
     "output_type": "stream",
     "text": [
      "60\n"
     ]
    }
   ],
   "source": [
    "#Indexing in 2D array\n",
    "print(ar[1][2])"
   ]
  },
  {
   "cell_type": "code",
   "execution_count": 20,
   "id": "a58c05ee-58df-44b7-ab5e-07825499065a",
   "metadata": {},
   "outputs": [
    {
     "name": "stdout",
     "output_type": "stream",
     "text": [
      "[ 10  20  30 100]\n",
      "[ 40  50  60 200]\n",
      "[ 70  80  90 300]\n"
     ]
    }
   ],
   "source": [
    "for i in ar:\n",
    "    print(i)"
   ]
  },
  {
   "cell_type": "code",
   "execution_count": 23,
   "id": "9f00c864-aaa3-42d2-9aab-8dad1176ff85",
   "metadata": {},
   "outputs": [
    {
     "name": "stdout",
     "output_type": "stream",
     "text": [
      "Index:0 Item:10\n",
      "Index:1 Item:20\n",
      "Index:2 Item:30\n",
      "Index:3 Item:100\n",
      "Index:4 Item:40\n",
      "Index:5 Item:50\n",
      "Index:6 Item:60\n",
      "Index:7 Item:200\n",
      "Index:8 Item:70\n",
      "Index:9 Item:80\n",
      "Index:10 Item:90\n",
      "Index:11 Item:300\n"
     ]
    }
   ],
   "source": [
    "ind=0\n",
    "for i in np.nditer(ar):\n",
    "    print(f\"Index:{ind} Item:{i}\")\n",
    "    ind+=1"
   ]
  },
  {
   "cell_type": "code",
   "execution_count": 27,
   "id": "0bc1e012-764d-40c6-b4d2-5c7edf8dbc22",
   "metadata": {},
   "outputs": [
    {
     "name": "stdout",
     "output_type": "stream",
     "text": [
      "[[1 2 3]\n",
      " [4 5 6]]\n",
      "[[10 11]\n",
      " [20 21]\n",
      " [30 31]]\n",
      "[[140 146]\n",
      " [320 335]]\n"
     ]
    }
   ],
   "source": [
    "#Matrix Multiplications\n",
    "ar1=np.array([[1,2,3],[4,5,6]])\n",
    "ar2=np.array([[10,11],[20,21],[30,31]])\n",
    "print(ar1)\n",
    "print(ar2)\n",
    "ar3=np.dot(ar1,ar2)\n",
    "print(ar3)"
   ]
  },
  {
   "cell_type": "code",
   "execution_count": 30,
   "id": "230f01c5-4661-4e38-a65d-ed761253dee1",
   "metadata": {},
   "outputs": [
    {
     "name": "stdout",
     "output_type": "stream",
     "text": [
      "[420 280 350 269 317 470 333 365 305 350 460 474 409 377 415 382 298 462\n",
      " 370 313 464 302 252 259 308 392 424 403 370 328 398 434 291 472 263 439\n",
      " 464 449 401 364 296 292 438 357 331 317 429 407 321 274 447 274 437 411\n",
      " 257 310 396 270 311 459 378 316 283 266 381 409 313 306 448 348 292 400\n",
      " 352 441 428 309 441 439 264 281 302 432 423 336 383 321 469 270 341 281\n",
      " 403 333 323 348 345 397 449 261 456 370 322 379 446 404 301 254 351 444\n",
      " 264 286 463 273 316 324 465 398 324 340 414 346 408 332 394 474 398 262\n",
      " 410 391 444 461]\n",
      "<class 'numpy.ndarray'>\n"
     ]
    }
   ],
   "source": [
    "#Import-export: loadtxt() and savetxt()--->csv\n",
    "data=np.loadtxt(\"marks.csv\",delimiter=',',usecols=(5),skiprows=1,dtype='int')\n",
    "print(data)\n",
    "print(type(data))"
   ]
  },
  {
   "cell_type": "code",
   "execution_count": 36,
   "id": "ad7e18eb-20ba-4f69-af8f-fca83c7a22eb",
   "metadata": {},
   "outputs": [
    {
     "name": "stdout",
     "output_type": "stream",
     "text": [
      "Sum: 47356\n",
      "Max: 474\n",
      "Min: 252\n",
      "Average: 364.2769230769231\n",
      "Stadard Deviation: 66.17947803971762\n",
      "Variance: 4379.723313609467\n"
     ]
    }
   ],
   "source": [
    "#Useful Functions in Numpy\n",
    "print(\"Sum:\",data.sum())\n",
    "print(\"Max:\",data.max())\n",
    "print(\"Min:\",data.min())\n",
    "print(\"Average:\",data.mean())\n",
    "print(\"Stadard Deviation:\",data.std())\n",
    "print(\"Variance:\",data.var())"
   ]
  },
  {
   "cell_type": "code",
   "execution_count": 40,
   "id": "2dfc27bd-6db4-4531-b2e2-469843d00667",
   "metadata": {},
   "outputs": [
    {
     "name": "stdout",
     "output_type": "stream",
     "text": [
      "(6,)\n",
      "[[36 87 51]\n",
      " [21 96 32]]\n",
      "[[36 87]\n",
      " [51 21]\n",
      " [96 32]]\n"
     ]
    },
    {
     "ename": "ValueError",
     "evalue": "cannot reshape array of size 6 into shape (3,3)",
     "output_type": "error",
     "traceback": [
      "\u001b[1;31m---------------------------------------------------------------------------\u001b[0m",
      "\u001b[1;31mValueError\u001b[0m                                Traceback (most recent call last)",
      "Cell \u001b[1;32mIn[40], line 9\u001b[0m\n\u001b[0;32m      7\u001b[0m ar_new\u001b[38;5;241m=\u001b[39mar\u001b[38;5;241m.\u001b[39mreshape(\u001b[38;5;241m3\u001b[39m,\u001b[38;5;241m2\u001b[39m)\n\u001b[0;32m      8\u001b[0m \u001b[38;5;28mprint\u001b[39m(ar_new)\n\u001b[1;32m----> 9\u001b[0m ar_new\u001b[38;5;241m=\u001b[39m\u001b[43mar\u001b[49m\u001b[38;5;241;43m.\u001b[39;49m\u001b[43mreshape\u001b[49m\u001b[43m(\u001b[49m\u001b[38;5;241;43m3\u001b[39;49m\u001b[43m,\u001b[49m\u001b[38;5;241;43m3\u001b[39;49m\u001b[43m)\u001b[49m \u001b[38;5;66;03m#error !\u001b[39;00m\n\u001b[0;32m     10\u001b[0m \u001b[38;5;28mprint\u001b[39m(ar_new)\n",
      "\u001b[1;31mValueError\u001b[0m: cannot reshape array of size 6 into shape (3,3)"
     ]
    }
   ],
   "source": [
    "#Reshaping in numpy array\n",
    "ar=np.array([36,87,51,21,96,32])\n",
    "print(ar.shape)\n",
    "#2,3\n",
    "ar_new=ar.reshape(2,3)\n",
    "print(ar_new)\n",
    "ar_new=ar.reshape(3,2)\n",
    "print(ar_new)\n",
    "ar_new=ar.reshape(3,3) #error !\n",
    "print(ar_new)"
   ]
  },
  {
   "cell_type": "code",
   "execution_count": 43,
   "id": "98a411d6-ef2c-4d33-bc3f-a228b9926185",
   "metadata": {},
   "outputs": [
    {
     "name": "stdout",
     "output_type": "stream",
     "text": [
      "[[10 11]\n",
      " [20 21]\n",
      " [30 31]]\n",
      "(3, 2)\n",
      "[[10 20 30]\n",
      " [11 21 31]]\n"
     ]
    }
   ],
   "source": [
    "#Transpose\n",
    "ar=np.array([[10,11],[20,21],[30,31]])\n",
    "print(ar)\n",
    "print(ar.shape)\n",
    "print(ar.transpose())"
   ]
  },
  {
   "cell_type": "code",
   "execution_count": 46,
   "id": "f4661b48-93d7-4076-b889-9637d5fa7b75",
   "metadata": {},
   "outputs": [
    {
     "name": "stdout",
     "output_type": "stream",
     "text": [
      "[36 87 51 21 96 32]\n",
      "[[36]\n",
      " [87]\n",
      " [51]\n",
      " [21]\n",
      " [96]\n",
      " [32]]\n",
      "[36 87 51 21 96 32]\n"
     ]
    }
   ],
   "source": [
    "#short trics\n",
    "ar=np.array([36,87,51,21,96,32])\n",
    "print(ar)\n",
    "print(ar.reshape(-1,1))\n",
    "print(ar.transpose())"
   ]
  },
  {
   "cell_type": "code",
   "execution_count": 47,
   "id": "d82e00fa-a6ca-419a-b17d-ee8738097e31",
   "metadata": {},
   "outputs": [
    {
     "name": "stdout",
     "output_type": "stream",
     "text": [
      "[32 96 21 51 87 36]\n"
     ]
    }
   ],
   "source": [
    "#Reverse\n",
    "print(ar[::-1])"
   ]
  },
  {
   "cell_type": "code",
   "execution_count": 50,
   "id": "06a739fc-0072-4664-af36-94c2088753ec",
   "metadata": {},
   "outputs": [
    {
     "name": "stdout",
     "output_type": "stream",
     "text": [
      "[10, 20, 30, 40, 50, 10, 20, 30, 40, 50]\n",
      "[ 20  40  60  80 100]\n",
      "[  1000   8000  27000  64000 125000]\n"
     ]
    }
   ],
   "source": [
    "#Broadcasting operations\n",
    "lst=[10,20,30,40,50]\n",
    "print(lst*2)\n",
    "ar=np.array([10,20,30,40,50])\n",
    "print(ar*2)\n",
    "print(ar**3)"
   ]
  },
  {
   "cell_type": "code",
   "execution_count": null,
   "id": "839b3cca-03f7-4642-8e25-ca1bfff6a1ec",
   "metadata": {},
   "outputs": [],
   "source": [
    "#Things to do by your self: stack(),Fancy indexing"
   ]
  },
  {
   "cell_type": "code",
   "execution_count": 52,
   "id": "8ad8904c-dee3-4382-97e6-d54c72af54cd",
   "metadata": {},
   "outputs": [
    {
     "name": "stdout",
     "output_type": "stream",
     "text": [
      "21\n",
      "[[ 10  11]\n",
      " [ 20 100]\n",
      " [ 30  31]]\n"
     ]
    }
   ],
   "source": [
    "ar=np.array([[10,11],[20,21],[30,31]])\n",
    "print(ar[1][1])\n",
    "ar[1][1]=100\n",
    "print(ar)"
   ]
  },
  {
   "cell_type": "code",
   "execution_count": null,
   "id": "5e681eec-3418-43b5-8c52-78104951f43f",
   "metadata": {},
   "outputs": [],
   "source": []
  }
 ],
 "metadata": {
  "kernelspec": {
   "display_name": "Python 3 (ipykernel)",
   "language": "python",
   "name": "python3"
  },
  "language_info": {
   "codemirror_mode": {
    "name": "ipython",
    "version": 3
   },
   "file_extension": ".py",
   "mimetype": "text/x-python",
   "name": "python",
   "nbconvert_exporter": "python",
   "pygments_lexer": "ipython3",
   "version": "3.12.1"
  }
 },
 "nbformat": 4,
 "nbformat_minor": 5
}
