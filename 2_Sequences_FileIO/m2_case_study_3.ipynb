{
 "cells": [
  {
   "cell_type": "markdown",
   "id": "58cb2dad-e5f5-4e39-9257-5676b27dd15f",
   "metadata": {},
   "source": [
    "# Module 2 – Sequences and File Operations"
   ]
  },
  {
   "cell_type": "markdown",
   "id": "5b1d0864-07f8-4228-a096-4b3b488a9619",
   "metadata": {},
   "source": [
    "## Case Study – 3"
   ]
  },
  {
   "cell_type": "markdown",
   "id": "b497e9aa-72b8-4631-8e0b-2d62236d2ae9",
   "metadata": {},
   "source": [
    "> LifeTel Telecom needs to implement a secure system for verifying users through a new government-issued Reference ID linked to their fingerprints. \n",
    "The requirement is to encrypt the Reference ID to protect it from hackers, ensuring secure and automated verification during SIM issuance.\n",
    "The system must replace the manual verification process with an efficient, secure, and scalable solution."
   ]
  },
  {
   "cell_type": "code",
   "execution_count": 9,
   "id": "9c3c9fc3-9fb2-4ad0-8605-148c10fc0912",
   "metadata": {},
   "outputs": [
    {
     "name": "stdout",
     "output_type": "stream",
     "text": [
      "Requirement already satisfied: cryptography in c:\\users\\akram\\appdata\\local\\programs\\python\\python310\\lib\\site-packages (43.0.1)\n",
      "Requirement already satisfied: cffi>=1.12 in c:\\users\\akram\\appdata\\roaming\\python\\python310\\site-packages (from cryptography) (1.17.1)\n",
      "Requirement already satisfied: pycparser in c:\\users\\akram\\appdata\\roaming\\python\\python310\\site-packages (from cffi>=1.12->cryptography) (2.22)\n"
     ]
    }
   ],
   "source": [
    "!pip install cryptography"
   ]
  },
  {
   "cell_type": "code",
   "execution_count": 11,
   "id": "bfc62e20-9271-456f-b61c-ee3bd9e72d1b",
   "metadata": {},
   "outputs": [
    {
     "name": "stdin",
     "output_type": "stream",
     "text": [
      "Enter 12 Digits ID:  123456789ABC\n"
     ]
    },
    {
     "name": "stdout",
     "output_type": "stream",
     "text": [
      "Encrypted data: b'\\x9f\\xc4>\\xdb\\xca\\x90\\xe1\\x96t*\\xce\\xdf\\xd8\\xf3|\\xdd9.\\xd9\\\\\\xa9\\x88\\x16m%\\x0e\\xd2\\xde\\xd7\\x011\\x9a'\n",
      "Decrypted Reference ID: 123456789ABC\n"
     ]
    }
   ],
   "source": [
    "from cryptography.hazmat.primitives.ciphers import Cipher, algorithms, modes\n",
    "from cryptography.hazmat.backends import default_backend\n",
    "from cryptography.hazmat.primitives import padding\n",
    "import os\n",
    "\n",
    "def encrypt_reference_id(reference_id, key):\n",
    "    \"\"\"\n",
    "    Encrypts the Reference ID using AES encryption, returns ciphertext with IV prepended.\n",
    "    \"\"\"\n",
    "    # Generate a random IV\n",
    "    iv = os.urandom(16)\n",
    "\n",
    "    # Create the AES cipher\n",
    "    cipher = Cipher(algorithms.AES(key), modes.CBC(iv), backend=default_backend())\n",
    "    encryptor = cipher.encryptor()\n",
    "\n",
    "    # Pad the reference ID to match block size\n",
    "    padder = padding.PKCS7(algorithms.AES.block_size).padder()\n",
    "    padded_data = padder.update(reference_id.encode()) + padder.finalize()\n",
    "\n",
    "    # Encrypt the padded data\n",
    "    ciphertext = encryptor.update(padded_data) + encryptor.finalize()\n",
    "\n",
    "    # Return the IV concatenated with the ciphertext\n",
    "    return iv + ciphertext\n",
    "\n",
    "def decrypt_reference_id(encrypted_data, key):\n",
    "    \"\"\"\n",
    "    Decrypts the data by splitting the IV and ciphertext, then using AES decryption.\n",
    "    \"\"\"\n",
    "    # Extract the IV and ciphertext\n",
    "    iv = encrypted_data[:16]\n",
    "    ciphertext = encrypted_data[16:]\n",
    "\n",
    "    # Create the AES cipher\n",
    "    cipher = Cipher(algorithms.AES(key), modes.CBC(iv), backend=default_backend())\n",
    "    decryptor = cipher.decryptor()\n",
    "\n",
    "    # Decrypt the ciphertext\n",
    "    padded_data = decryptor.update(ciphertext) + decryptor.finalize()\n",
    "\n",
    "    # Remove padding\n",
    "    unpadder = padding.PKCS7(algorithms.AES.block_size).unpadder()\n",
    "    data = unpadder.update(padded_data) + unpadder.finalize()\n",
    "\n",
    "    return data.decode()\n",
    "\n",
    "# Example usage\n",
    "if __name__ == \"__main__\":\n",
    "    # Sample Reference ID\n",
    "    reference_id = input(\"Enter 12 Digits ID: \")\n",
    "\n",
    "    # Generate a 32-byte key for AES-256\n",
    "    key = os.urandom(32)\n",
    "\n",
    "    # Encrypt the Reference ID\n",
    "    encrypted_data = encrypt_reference_id(reference_id, key)\n",
    "    print(f\"Encrypted data: {encrypted_data}\")\n",
    "\n",
    "    # Decrypt the Reference ID\n",
    "    decrypted_data = decrypt_reference_id(encrypted_data, key)\n",
    "    print(f\"Decrypted Reference ID: {decrypted_data}\")\n"
   ]
  },
  {
   "cell_type": "markdown",
   "id": "5c75af74-c532-4ae3-bcc6-096b8da1fc55",
   "metadata": {},
   "source": [
    "## Encryption for Securing Reference IDs in the Telecom System\n",
    "For securing the Reference ID in the telecom system, AES (Advanced Encryption Standard) is recommended as the encryption algorithm. AES is a highly secure, efficient, and standardized encryption method, making it an excellent choice for safeguarding sensitive data like the Reference ID.\n",
    "\n",
    "### Why AES?\n",
    "Security: AES is a widely trusted symmetric encryption algorithm, used by governments and industries globally. It offers a high level of security for sensitive data.\n",
    "Efficiency: AES can encrypt and decrypt large volumes of data quickly, making it well-suited for telecom systems that require scalability as user volume increases.\n",
    "Standardization: AES is an industry-standard encryption method, which ensures compatibility across systems and provides confidence in its long-standing security properties.\n",
    "\n",
    "### Key Aspects of the Encryption Process:\n",
    "AES Encryption: The function encrypt_reference_id() encrypts the Reference ID using AES in CBC mode. It generates a unique Initialization Vector (IV) for each encryption process to enhance security.\n",
    "\n",
    "### Padding: \n",
    "Since AES operates on fixed block sizes (16 bytes), if the Reference ID is shorter than the block size, padding is applied using the PKCS7 padding scheme to ensure it fits properly into the encryption process.\n",
    "\n",
    "### Key Management: \n",
    "The encryption key is a critical component of the system's security. Proper key management is essential. In a production environment, keys should be securely stored and managed using systems such as a Key Management Service (KMS).\n",
    "\n",
    "### Decryption: \n",
    "The function decrypt_reference_id() handles decryption by reversing the encryption process. It decrypts the data and removes any padding to retrieve the original Reference ID.\n",
    "\n",
    "### Why Use an Initialization Vector (IV)?\n",
    "The Initialization Vector (IV) plays a crucial role in AES encryption by ensuring that even if the same Reference ID is encrypted multiple times, the resulting ciphertext will be different each time. This enhances confidentiality by preventing attackers from recognizing patterns. While the IV is randomly generated for each encryption, it does not need to be kept secret and can be safely stored alongside the ciphertext.\n",
    "\n",
    "### Security Considerations:\n",
    "#### Secure Key Storage: \n",
    "The entire security of the encryption process relies on keeping the encryption key secure. \n",
    "Best practices for key storage, such as using encrypted databases or hardware security modules (HSM), are essential to avoid key compromise.\n",
    "\n",
    "#### IV Management:\n",
    "For each encryption, a new IV must be generated to prevent ciphertext reuse. \n",
    "The IV should be stored or transmitted alongside the ciphertext, as it is required during the decryption process.\n",
    "\n",
    "### Next Steps for Integration:\n",
    "To fully integrate this encryption process into the telecom system:\n",
    "\n",
    "#### Incorporate Encryption in User Registration: \n",
    "Implement the encryption process during user registration and verification to securely handle Reference IDs.\n",
    "\n",
    "#### Utilize Key Management Solutions: \n",
    "Consider deploying a secure Key Management Solution (KMS) to manage the encryption keys, ensuring that keys are handled safely and rotated as needed.\n",
    "\n",
    "#### Storing the IV Along with the Ciphertext:\n",
    "In practical implementations, the IV is often stored or transmitted with the ciphertext, as it is necessary for decryption. \n",
    "The IV can be prepended to the ciphertext, allowing it to be easily extracted and used during decryption. \n",
    "This ensures that even though the IV changes for each encryption, decryption can still be done correctly with the stored IV and the encryption key."
   ]
  },
  {
   "cell_type": "code",
   "execution_count": 6,
   "id": "6ce9d69c-c5fa-44fb-8aa6-a664ca4692a4",
   "metadata": {},
   "outputs": [],
   "source": [
    "#### Mr Akram M'Tir 10-10-2024"
   ]
  },
  {
   "cell_type": "code",
   "execution_count": null,
   "id": "335f8a92-a0aa-4732-a412-7600158b2d14",
   "metadata": {},
   "outputs": [],
   "source": []
  }
 ],
 "metadata": {
  "kernelspec": {
   "display_name": "Python 3 (ipykernel)",
   "language": "python",
   "name": "python3"
  },
  "language_info": {
   "codemirror_mode": {
    "name": "ipython",
    "version": 3
   },
   "file_extension": ".py",
   "mimetype": "text/x-python",
   "name": "python",
   "nbconvert_exporter": "python",
   "pygments_lexer": "ipython3",
   "version": "3.10.1"
  }
 },
 "nbformat": 4,
 "nbformat_minor": 5
}
