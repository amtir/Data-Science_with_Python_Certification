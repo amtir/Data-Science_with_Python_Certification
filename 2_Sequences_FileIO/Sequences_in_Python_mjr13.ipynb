{
 "cells": [
  {
   "cell_type": "code",
   "execution_count": null,
   "id": "0771a58a-67bb-45c7-aed1-d7466403d0c6",
   "metadata": {},
   "outputs": [],
   "source": [
    "#Sequences in Python/Collection Datatypes/Build-in Data structure\n",
    "#Strings,List,Tuple,Set,Dict\n",
    "\n",
    "#Ordered/Unordered(Index)\n",
    "#Mutable/Immutable(Change element)\n",
    "#Allows Duplicates\n",
    "\n",
    "#All the Sequences allow any types of values"
   ]
  },
  {
   "cell_type": "code",
   "execution_count": null,
   "id": "4cfcfdd0-aea3-45b2-b2ee-2bee5eb7572c",
   "metadata": {},
   "outputs": [],
   "source": [
    "#1.String:Ordered(Index),Immutable,Allows Duplicates\n",
    "#2.List[]:Ordered(index),Mutable,Allows duplicates\n",
    "#3.Tuple():Ordered(index),Immutable,allows duplicates\n",
    "#4.Set{}:Unordered(No Indexing),Mutable,DO NOT allow duplicates\n",
    "#5.Dict{key:vlaue}:Unordered(No indexing),Keys-Immutable,Values-Mutable,keys-can not be duplicates,vlaues can be du[licates"
   ]
  },
  {
   "cell_type": "code",
   "execution_count": 4,
   "id": "13c6a6c6-308c-478a-95bc-92e56804e278",
   "metadata": {},
   "outputs": [
    {
     "name": "stdout",
     "output_type": "stream",
     "text": [
      "a\n"
     ]
    }
   ],
   "source": [
    "#Python Strings:Ordered(Index),Immutable,Allows Duplicates\n",
    "name=\"Amit Sharma\"\n",
    "#type(name)\n",
    "print(name[2])"
   ]
  },
  {
   "cell_type": "code",
   "execution_count": 7,
   "id": "f9087a77-72f7-41f3-b52c-bdf73f0fff36",
   "metadata": {},
   "outputs": [
    {
     "ename": "TypeError",
     "evalue": "'str' object does not support item assignment",
     "output_type": "error",
     "traceback": [
      "\u001b[1;31m---------------------------------------------------------------------------\u001b[0m",
      "\u001b[1;31mTypeError\u001b[0m                                 Traceback (most recent call last)",
      "Cell \u001b[1;32mIn[7], line 1\u001b[0m\n\u001b[1;32m----> 1\u001b[0m \u001b[43mname\u001b[49m\u001b[43m[\u001b[49m\u001b[38;5;241;43m2\u001b[39;49m\u001b[43m]\u001b[49m\u001b[38;5;241m=\u001b[39m\u001b[38;5;124m'\u001b[39m\u001b[38;5;124mT\u001b[39m\u001b[38;5;124m'\u001b[39m\n",
      "\u001b[1;31mTypeError\u001b[0m: 'str' object does not support item assignment"
     ]
    }
   ],
   "source": [
    "name[2]='T'  #Strings are immutable"
   ]
  },
  {
   "cell_type": "code",
   "execution_count": 11,
   "id": "2f02c45e-7645-4f95-85c4-86a43d33defa",
   "metadata": {},
   "outputs": [
    {
     "name": "stdout",
     "output_type": "stream",
     "text": [
      "11\n",
      "AMIT SHARMA\n",
      "amit sharma\n"
     ]
    }
   ],
   "source": [
    "#Length of strings\n",
    "print(len(name))\n",
    "\n",
    "print(name.upper())\n",
    "print(name.lower())"
   ]
  },
  {
   "cell_type": "code",
   "execution_count": 12,
   "id": "5783630b-984b-402a-92cd-7f4d2f777f52",
   "metadata": {},
   "outputs": [
    {
     "name": "stdout",
     "output_type": "stream",
     "text": [
      "The \"Sun\" rises in east\n"
     ]
    }
   ],
   "source": [
    "str='The \"Sun\" rises in east'\n",
    "print(str)"
   ]
  },
  {
   "cell_type": "code",
   "execution_count": 15,
   "id": "2b8f34df-2132-4452-afba-2d507f55030e",
   "metadata": {},
   "outputs": [
    {
     "name": "stdout",
     "output_type": "stream",
     "text": [
      "This is a sample string,\n",
      " this is another string\n"
     ]
    }
   ],
   "source": [
    "str='This is a sample string,\\n this is another string'\n",
    "print(str)"
   ]
  },
  {
   "cell_type": "code",
   "execution_count": 21,
   "id": "2f4db9e6-2162-4403-81fe-f83f118db1bb",
   "metadata": {},
   "outputs": [
    {
     "name": "stdout",
     "output_type": "stream",
     "text": [
      "Hi, Rohan you got 75 marks.\n"
     ]
    }
   ],
   "source": [
    "#String Interpolations(embedding)\n",
    "name='Rohan'\n",
    "marks=75\n",
    "#Hi,Amit you got 80 marks\n",
    "\n",
    "#f-strings,format,modulo %s%f\n",
    "\n",
    "print(f'Hi, {name} you got {marks} marks.')"
   ]
  },
  {
   "cell_type": "code",
   "execution_count": 20,
   "id": "b030fabf-0aa4-4b09-a6ca-6e841b5c4065",
   "metadata": {},
   "outputs": [
    {
     "name": "stdout",
     "output_type": "stream",
     "text": [
      "Hi,Rohan you got 75 marks\n",
      "Hi,75 you got Rohan marks\n",
      "Hi,Rohan you got 75 marks\n"
     ]
    }
   ],
   "source": [
    "#Format\n",
    "print(\"Hi,{} you got {} marks\".format(name,marks))\n",
    "print(\"Hi,{} you got {} marks\".format(marks,name))\n",
    "print(\"Hi,{1} you got {0} marks\".format(marks,name))"
   ]
  },
  {
   "cell_type": "code",
   "execution_count": 22,
   "id": "e9b2c38a-9e6a-4949-b44f-2ca540856448",
   "metadata": {},
   "outputs": [
    {
     "name": "stdout",
     "output_type": "stream",
     "text": [
      "Hi,Rohan you got 85 marks\n"
     ]
    }
   ],
   "source": [
    "print(\"Hi,{} you got {} marks\".format(name,85))"
   ]
  },
  {
   "cell_type": "code",
   "execution_count": 23,
   "id": "790f2e81-14ae-4fd5-a22a-6ed18a3ffe57",
   "metadata": {},
   "outputs": [
    {
     "data": {
      "text/plain": [
       "'Hi,Rohan you got 75 marks'"
      ]
     },
     "execution_count": 23,
     "metadata": {},
     "output_type": "execute_result"
    }
   ],
   "source": [
    "\"Hi,{} you got {} marks\".format(name,marks)"
   ]
  },
  {
   "cell_type": "code",
   "execution_count": 24,
   "id": "645b9654-a29a-4402-80d3-1dcfb8acdf87",
   "metadata": {},
   "outputs": [
    {
     "data": {
      "text/plain": [
       "list"
      ]
     },
     "execution_count": 24,
     "metadata": {},
     "output_type": "execute_result"
    }
   ],
   "source": [
    "#Python List[]:Ordered(index),Mutable,Allows duplicates\n",
    "\n",
    "lst=[45,69,87,53,24,56,98,78,87,98]\n",
    "type(lst)"
   ]
  },
  {
   "cell_type": "code",
   "execution_count": 31,
   "id": "edcb59b1-76f3-4a19-8dc9-9a4decfce04d",
   "metadata": {},
   "outputs": [
    {
     "name": "stdout",
     "output_type": "stream",
     "text": [
      "1001\n",
      "['proj1', 'proj2']\n",
      "proj2\n"
     ]
    },
    {
     "ename": "IndexError",
     "evalue": "list index out of range",
     "output_type": "error",
     "traceback": [
      "\u001b[1;31m---------------------------------------------------------------------------\u001b[0m",
      "\u001b[1;31mIndexError\u001b[0m                                Traceback (most recent call last)",
      "Cell \u001b[1;32mIn[31], line 6\u001b[0m\n\u001b[0;32m      4\u001b[0m \u001b[38;5;28mprint\u001b[39m(emp[\u001b[38;5;241m4\u001b[39m])\n\u001b[0;32m      5\u001b[0m \u001b[38;5;28mprint\u001b[39m(emp[\u001b[38;5;241m4\u001b[39m][\u001b[38;5;241m1\u001b[39m])  \u001b[38;5;66;03m#Forwarded indexing\u001b[39;00m\n\u001b[1;32m----> 6\u001b[0m \u001b[38;5;28mprint\u001b[39m(\u001b[43memp\u001b[49m\u001b[43m[\u001b[49m\u001b[38;5;241;43m10\u001b[39;49m\u001b[43m]\u001b[49m)\n",
      "\u001b[1;31mIndexError\u001b[0m: list index out of range"
     ]
    }
   ],
   "source": [
    "emp=[1001,'Amit Sharma',35000,4.6,['proj1','proj2']]\n",
    "#type(emp)\n",
    "print(emp[0])\n",
    "print(emp[4])\n",
    "print(emp[4][1])  #Forwarded indexing\n",
    "print(emp[10])"
   ]
  },
  {
   "cell_type": "code",
   "execution_count": 32,
   "id": "0e415519-4ba1-4db5-ba4c-ee8322b00b15",
   "metadata": {},
   "outputs": [
    {
     "name": "stdout",
     "output_type": "stream",
     "text": [
      "1001\n",
      "Amit Sharma\n",
      "35000\n",
      "4.6\n",
      "['proj1', 'proj2']\n"
     ]
    }
   ],
   "source": [
    "#Sequential Access\n",
    "for item in emp:\n",
    "    print(item)"
   ]
  },
  {
   "cell_type": "code",
   "execution_count": 34,
   "id": "18e7a160-529a-4a01-bebe-15cbf1cb8199",
   "metadata": {},
   "outputs": [
    {
     "name": "stdout",
     "output_type": "stream",
     "text": [
      "[1001, 'Amit Sharma', 35000, 4.6, ['proj1', 'proj2']]\n",
      "[1001, 'Amit Sharma', 45000, 4.6, ['proj1', 'proj2']]\n"
     ]
    }
   ],
   "source": [
    "#Mutable\n",
    "print(emp)\n",
    "emp[2]=45000\n",
    "print(emp)"
   ]
  },
  {
   "cell_type": "code",
   "execution_count": 39,
   "id": "33be2515-ed4b-426d-bf25-a79cd92795c6",
   "metadata": {},
   "outputs": [
    {
     "name": "stdout",
     "output_type": "stream",
     "text": [
      "[56, 23, 78]\n",
      "[45, 63, 98, 56]\n",
      "[45, 98, 23, 45, 69]\n",
      "[63, 69, 23, 45, 78, 23, 56, 98, 63, 45]\n"
     ]
    }
   ],
   "source": [
    "#Slicing,Insert/delete items\n",
    "lst=[45,63,98,56,23,78,45,23,69,63]\n",
    "#[start:stop:step]\n",
    "print(lst[3:6])\n",
    "print(lst[0:4])\n",
    "print(lst[0::2])\n",
    "print(lst[::-1]) #Reverse entire list"
   ]
  },
  {
   "cell_type": "code",
   "execution_count": 44,
   "id": "ac7cb34e-104b-4270-8307-0f83fd73badf",
   "metadata": {},
   "outputs": [
    {
     "name": "stdout",
     "output_type": "stream",
     "text": [
      "[45, 63, 98, 56, 23, 78, 45, 23, 69, 63, 100]\n",
      "[45, 63, 98, 56, 23, 78, 45, 23, 69, 63, 100, 200, 300, 400]\n",
      "[1000, 45, 63, 98, 56, 23, 78, 45, 23, 69, 63, 100, 200, 300, 400]\n",
      "[1000, 45, 63, 98, 'abc', 56, 23, 78, 45, 23, 69, 63, 100, 200, 300, 400]\n"
     ]
    }
   ],
   "source": [
    "#Insertion and Deletion\n",
    "#Adding items: append(),insert(),extend()\n",
    "lst=[45,63,98,56,23,78,45,23,69,63]\n",
    "lst.append(100)  #one item at a time at the end of the list\n",
    "print(lst)\n",
    "\n",
    "lst.extend([200,300,400]) #Many values add at the end\n",
    "print(lst)\n",
    "\n",
    "lst.insert(0,1000)  #insert(index,item),one value at a time\n",
    "print(lst)\n",
    "\n",
    "lst.insert(4,'abc')\n",
    "print(lst)"
   ]
  },
  {
   "cell_type": "code",
   "execution_count": 47,
   "id": "42a3c437-c482-4af8-be55-bb4b30b65be7",
   "metadata": {},
   "outputs": [
    {
     "name": "stdout",
     "output_type": "stream",
     "text": [
      "[1000, 45, 63, 98, 'abc', 56, 23, 78, 45, 23, 69, 63, 100, 200, 300]\n",
      "[1000, 45, 63, 98, 'abc', 56, 23, 78, 45, 23, 69, 63, 100, 200]\n",
      "[1000, 45, 63, 98, 56, 23, 78, 45, 23, 69, 63, 100, 200]\n"
     ]
    }
   ],
   "source": [
    "#Deletion: pop(),remove()\n",
    "print(lst)\n",
    "\n",
    "lst.pop()  #Default last item will popped off\n",
    "print(lst)\n",
    "\n",
    "lst.pop(4)\n",
    "print(lst)"
   ]
  },
  {
   "cell_type": "code",
   "execution_count": 50,
   "id": "9b5cab06-7361-4304-a2f6-eb56eacfe497",
   "metadata": {},
   "outputs": [
    {
     "name": "stdout",
     "output_type": "stream",
     "text": [
      "[1000, 45, 63, 98, 56, 23, 78, 45, 23, 69, 63, 200]\n"
     ]
    },
    {
     "ename": "ValueError",
     "evalue": "list.remove(x): x not in list",
     "output_type": "error",
     "traceback": [
      "\u001b[1;31m---------------------------------------------------------------------------\u001b[0m",
      "\u001b[1;31mValueError\u001b[0m                                Traceback (most recent call last)",
      "Cell \u001b[1;32mIn[50], line 2\u001b[0m\n\u001b[0;32m      1\u001b[0m \u001b[38;5;28mprint\u001b[39m(lst)\n\u001b[1;32m----> 2\u001b[0m \u001b[43mlst\u001b[49m\u001b[38;5;241;43m.\u001b[39;49m\u001b[43mremove\u001b[49m\u001b[43m(\u001b[49m\u001b[38;5;241;43m100\u001b[39;49m\u001b[43m)\u001b[49m\n\u001b[0;32m      3\u001b[0m \u001b[38;5;28mprint\u001b[39m(lst)\n\u001b[0;32m      5\u001b[0m lst\u001b[38;5;241m.\u001b[39mremove(\u001b[38;5;241m63\u001b[39m)\n",
      "\u001b[1;31mValueError\u001b[0m: list.remove(x): x not in list"
     ]
    }
   ],
   "source": [
    "print(lst)\n",
    "lst.remove(100)\n",
    "print(lst)"
   ]
  },
  {
   "cell_type": "code",
   "execution_count": 51,
   "id": "b3c4439c-0566-4283-840d-1bc5908996d5",
   "metadata": {},
   "outputs": [
    {
     "name": "stdout",
     "output_type": "stream",
     "text": [
      "[1000, 45, 98, 56, 23, 78, 45, 23, 69, 63, 200]\n"
     ]
    }
   ],
   "source": [
    "lst.remove(63)   #Only first Occurance will be removed\n",
    "print(lst)"
   ]
  },
  {
   "cell_type": "code",
   "execution_count": 52,
   "id": "9bbe59af-9d24-4587-94fa-c87def55fff4",
   "metadata": {},
   "outputs": [
    {
     "name": "stdout",
     "output_type": "stream",
     "text": [
      "[1000, 98, 56, 23, 78, 23, 69, 63, 200]\n"
     ]
    }
   ],
   "source": [
    "for item in lst:\n",
    "    if item==45:\n",
    "        lst.remove(45)\n",
    "\n",
    "print(lst)"
   ]
  },
  {
   "cell_type": "code",
   "execution_count": 53,
   "id": "74143351-09da-486a-af47-10dded929d90",
   "metadata": {},
   "outputs": [
    {
     "name": "stdout",
     "output_type": "stream",
     "text": [
      "3\n"
     ]
    }
   ],
   "source": [
    "#index()\n",
    "print(lst.index(23))"
   ]
  },
  {
   "cell_type": "code",
   "execution_count": 59,
   "id": "698186c7-df59-4536-8dd1-6a2df0e657b6",
   "metadata": {},
   "outputs": [
    {
     "name": "stdout",
     "output_type": "stream",
     "text": [
      "4\n"
     ]
    }
   ],
   "source": [
    "#count()\n",
    "lst=[45,56,36,98,85,85,78,78,52,32,62,42,85,85]\n",
    "print(lst.count(85))  #Freuqency of an item"
   ]
  },
  {
   "cell_type": "code",
   "execution_count": 60,
   "id": "0982ade0-f112-4523-9bb8-3bec6309151d",
   "metadata": {},
   "outputs": [
    {
     "name": "stdout",
     "output_type": "stream",
     "text": [
      "[45, 56, 36, 98, 85, 85, 78, 78, 52, 32, 62, 42, 85, 85]\n",
      "[32, 36, 42, 45, 52, 56, 62, 78, 78, 85, 85, 85, 85, 98]\n",
      "[98, 85, 85, 85, 85, 78, 78, 62, 56, 52, 45, 42, 36, 32]\n"
     ]
    }
   ],
   "source": [
    "#Sort()--->all numerical values in list\n",
    "print(lst)\n",
    "lst.sort() #by default Ascending\n",
    "print(lst)#Change the position in orignal list\n",
    "print(lst[::-1])"
   ]
  },
  {
   "cell_type": "code",
   "execution_count": 62,
   "id": "40ef3d8b-4858-419b-a870-31f9efad245e",
   "metadata": {},
   "outputs": [
    {
     "name": "stdout",
     "output_type": "stream",
     "text": [
      "[32, 36, 42, 45, 52, 56, 62, 78, 78, 85, 85, 85, 85, 98]\n",
      "[45, 56, 36, 98, 85, 85, 78, 78, 52, 32, 62, 42, 85, 85]\n"
     ]
    }
   ],
   "source": [
    "lst=[45,56,36,98,85,85,78,78,52,32,62,42,85,85]\n",
    "print(sorted(lst)) #Showing items sorted\n",
    "print(lst)"
   ]
  },
  {
   "cell_type": "code",
   "execution_count": 64,
   "id": "e7041b81-77db-4ca8-8441-98a8edf6dcbe",
   "metadata": {},
   "outputs": [
    {
     "name": "stdout",
     "output_type": "stream",
     "text": [
      "False\n",
      "True\n"
     ]
    }
   ],
   "source": [
    "#membership operators: in and not in\n",
    "print(100 in lst)\n",
    "print(78 in lst)"
   ]
  },
  {
   "cell_type": "code",
   "execution_count": 67,
   "id": "8393fda3-3a05-4a63-91cd-79497406cdf3",
   "metadata": {},
   "outputs": [
    {
     "name": "stdout",
     "output_type": "stream",
     "text": [
      "Male\n"
     ]
    },
    {
     "ename": "TypeError",
     "evalue": "'tuple' object does not support item assignment",
     "output_type": "error",
     "traceback": [
      "\u001b[1;31m---------------------------------------------------------------------------\u001b[0m",
      "\u001b[1;31mTypeError\u001b[0m                                 Traceback (most recent call last)",
      "Cell \u001b[1;32mIn[67], line 6\u001b[0m\n\u001b[0;32m      3\u001b[0m \u001b[38;5;66;03m#type(tup)\u001b[39;00m\n\u001b[0;32m      4\u001b[0m \u001b[38;5;28mprint\u001b[39m(tup[\u001b[38;5;241m0\u001b[39m])\n\u001b[1;32m----> 6\u001b[0m \u001b[43mtup\u001b[49m\u001b[43m[\u001b[49m\u001b[38;5;241;43m0\u001b[39;49m\u001b[43m]\u001b[49m\u001b[38;5;241m=\u001b[39m\u001b[38;5;124m'\u001b[39m\u001b[38;5;124mabc\u001b[39m\u001b[38;5;124m'\u001b[39m\n",
      "\u001b[1;31mTypeError\u001b[0m: 'tuple' object does not support item assignment"
     ]
    }
   ],
   "source": [
    "#3.Tuple():Ordered(index),Immutable,allows duplicates\n",
    "tup=('Male','Female','others')\n",
    "#type(tup)\n",
    "print(tup[0])\n",
    "\n",
    "tup[0]='abc'"
   ]
  },
  {
   "cell_type": "code",
   "execution_count": null,
   "id": "527c7512-673d-40f4-92d4-11664b87d550",
   "metadata": {},
   "outputs": [],
   "source": [
    "#DIY\n",
    "#1.Can we create Mutable Tuple and Immutable Lists ???"
   ]
  },
  {
   "cell_type": "code",
   "execution_count": null,
   "id": "14c6530a-f5d7-4025-86bb-e928b5f97041",
   "metadata": {},
   "outputs": [],
   "source": [
    "#Python Set{}:Unordered(No Indexing),Mutable,DO NOT allow duplicates"
   ]
  },
  {
   "cell_type": "code",
   "execution_count": 70,
   "id": "e362ba1a-c0b4-4abe-9dfb-76a5131646b9",
   "metadata": {},
   "outputs": [
    {
     "name": "stdout",
     "output_type": "stream",
     "text": [
      "{450, 70, 10, 50, 20, 90, 60, 30}\n"
     ]
    },
    {
     "ename": "TypeError",
     "evalue": "'set' object is not subscriptable",
     "output_type": "error",
     "traceback": [
      "\u001b[1;31m---------------------------------------------------------------------------\u001b[0m",
      "\u001b[1;31mTypeError\u001b[0m                                 Traceback (most recent call last)",
      "Cell \u001b[1;32mIn[70], line 4\u001b[0m\n\u001b[0;32m      2\u001b[0m \u001b[38;5;28mtype\u001b[39m(st)\n\u001b[0;32m      3\u001b[0m \u001b[38;5;28mprint\u001b[39m(st)\n\u001b[1;32m----> 4\u001b[0m \u001b[38;5;28mprint\u001b[39m(\u001b[43mst\u001b[49m\u001b[43m[\u001b[49m\u001b[38;5;241;43m0\u001b[39;49m\u001b[43m]\u001b[49m)\n",
      "\u001b[1;31mTypeError\u001b[0m: 'set' object is not subscriptable"
     ]
    }
   ],
   "source": [
    "st={10,10,10,20,20,30,50,60,90,70,450}\n",
    "type(st)\n",
    "print(st)\n",
    "print(st[0])  #Unordered"
   ]
  },
  {
   "cell_type": "code",
   "execution_count": 74,
   "id": "c3c6e00b-2e57-4094-b1c1-162c105fdf86",
   "metadata": {},
   "outputs": [
    {
     "name": "stdout",
     "output_type": "stream",
     "text": [
      "Union of Sets: {0, 1, 2, 3, 4, 6, 8, 51, 23, 58}\n",
      "Intersection of sets: {8, 1, 3, 4}\n",
      "Elements in set_a but not in set_b {0, 2, 6}\n",
      "Elements in set_b but not in set_a {58, 51, 23}\n"
     ]
    }
   ],
   "source": [
    "#Set operations\n",
    "set_a={0,8,6,3,2,1,4,6,4,8,0,1}\n",
    "set_b={4,23,58,51,3,23,8,1}\n",
    "\n",
    "print(\"Union of Sets:\",set_a.union(set_b))\n",
    "print(\"Intersection of sets:\",set_a.intersection(set_b))\n",
    "\n",
    "#Set Diffrence Operation\n",
    "print(\"Elements in set_a but not in set_b\",set_a-set_b)\n",
    "print(\"Elements in set_b but not in set_a\",set_b-set_a)"
   ]
  },
  {
   "cell_type": "code",
   "execution_count": 75,
   "id": "24a072d8-3d7d-4107-aa56-3454056bc638",
   "metadata": {},
   "outputs": [
    {
     "name": "stdout",
     "output_type": "stream",
     "text": [
      "0\n",
      "1\n",
      "2\n",
      "3\n",
      "4\n",
      "6\n",
      "8\n"
     ]
    }
   ],
   "source": [
    "for i in set_a:\n",
    "    print(i)"
   ]
  },
  {
   "cell_type": "code",
   "execution_count": null,
   "id": "5d997a2f-e091-459c-9b34-4b33a29dc3b9",
   "metadata": {},
   "outputs": [],
   "source": [
    "#Python Dict{key:vlaue}:Unordered(No indexing),Keys-Immutable,Values-Mutable,keys-can not be duplicates,vlaues can be du[licates"
   ]
  },
  {
   "cell_type": "code",
   "execution_count": 76,
   "id": "1033c300-5b64-4d1f-9965-37e07e4309ce",
   "metadata": {},
   "outputs": [
    {
     "data": {
      "text/plain": [
       "dict"
      ]
     },
     "execution_count": 76,
     "metadata": {},
     "output_type": "execute_result"
    }
   ],
   "source": [
    "#{key:value}\n",
    "emp_dict={'id':1001,'name':'Amit Sharma','salary':25000,'Ratings':4.5,'projects':['P1','P2','P3']}\n",
    "type(emp_dict)"
   ]
  },
  {
   "cell_type": "code",
   "execution_count": 77,
   "id": "da32a2f6-8e2c-4202-981b-24922c41aa15",
   "metadata": {},
   "outputs": [
    {
     "name": "stdout",
     "output_type": "stream",
     "text": [
      "{'id': 1001, 'name': 'Amit Sharma', 'salary': 25000, 'Ratings': 4.5, 'projects': ['P1', 'P2', 'P3']}\n"
     ]
    }
   ],
   "source": [
    "print(emp_dict)"
   ]
  },
  {
   "cell_type": "code",
   "execution_count": 78,
   "id": "2d39d64c-0fe0-4100-9924-f66223b4294b",
   "metadata": {},
   "outputs": [
    {
     "name": "stdout",
     "output_type": "stream",
     "text": [
      "Amit Sharma\n"
     ]
    }
   ],
   "source": [
    "print(emp_dict['name'])"
   ]
  },
  {
   "cell_type": "code",
   "execution_count": 79,
   "id": "b877efd9-be5e-4d87-9d6d-5755e5ede16c",
   "metadata": {},
   "outputs": [
    {
     "name": "stdout",
     "output_type": "stream",
     "text": [
      "25000\n"
     ]
    }
   ],
   "source": [
    "print(emp_dict['salary'])"
   ]
  },
  {
   "cell_type": "code",
   "execution_count": 81,
   "id": "d80985fe-52f3-4afa-89ab-c20800783246",
   "metadata": {},
   "outputs": [
    {
     "name": "stdout",
     "output_type": "stream",
     "text": [
      "{'id': 1001, 'name': 'Amit Sharma', 'salary': 45000, 'Ratings': 4.5, 'projects': ['P1', 'P2', 'P3']}\n",
      "{'id': 1001, 'name': 'Amit Sharma', 'salary': 45000, 'Ratings': 4.5, 'projects': ['P1', 'P2', 'P3'], 'city': 'Mumbai'}\n"
     ]
    }
   ],
   "source": [
    "#Insertion and deletion Dict\n",
    "emp_dict['salary']=45000\n",
    "print(emp_dict)\n",
    "\n",
    "#New key value pair\n",
    "emp_dict['city']='Mumbai'\n",
    "print(emp_dict)"
   ]
  },
  {
   "cell_type": "code",
   "execution_count": 83,
   "id": "222fb377-6c03-4a9c-957b-e757bafb59f7",
   "metadata": {},
   "outputs": [
    {
     "name": "stdout",
     "output_type": "stream",
     "text": [
      "{'id': 1001, 'name': 'Amit Sharma', 'salary': 45000, 'projects': ['P1', 'P2', 'P3'], 'city': 'Mumbai'}\n"
     ]
    }
   ],
   "source": [
    "#Delete key pair\n",
    "emp_dict.pop('Ratings')   #Keys are case sensetive in dict\n",
    "print(emp_dict)"
   ]
  },
  {
   "cell_type": "code",
   "execution_count": null,
   "id": "9accbd72-501f-47b9-9a9b-3408f43257b7",
   "metadata": {},
   "outputs": [],
   "source": [
    "#DIY: fromkeys()---->try explore"
   ]
  }
 ],
 "metadata": {
  "kernelspec": {
   "display_name": "Python 3 (ipykernel)",
   "language": "python",
   "name": "python3"
  },
  "language_info": {
   "codemirror_mode": {
    "name": "ipython",
    "version": 3
   },
   "file_extension": ".py",
   "mimetype": "text/x-python",
   "name": "python",
   "nbconvert_exporter": "python",
   "pygments_lexer": "ipython3",
   "version": "3.12.4"
  }
 },
 "nbformat": 4,
 "nbformat_minor": 5
}
