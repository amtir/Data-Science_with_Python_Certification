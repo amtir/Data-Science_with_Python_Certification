{
 "cells": [
  {
   "cell_type": "markdown",
   "id": "58cb2dad-e5f5-4e39-9257-5676b27dd15f",
   "metadata": {},
   "source": [
    "# Module 2 – Sequences and File Operations"
   ]
  },
  {
   "cell_type": "markdown",
   "id": "5b1d0864-07f8-4228-a096-4b3b488a9619",
   "metadata": {},
   "source": [
    "## Case Study – 3"
   ]
  },
  {
   "cell_type": "code",
   "execution_count": 5,
   "id": "bfc62e20-9271-456f-b61c-ee3bd9e72d1b",
   "metadata": {},
   "outputs": [
    {
     "name": "stdout",
     "output_type": "stream",
     "text": [
      "Encrypted data: b'\\x17\\xd0\"g\\x95|2\\xfa0B\\xe5\\x98\\x97\\x96+\\x041*gJF\\xe0Z \\xbb\\xe1\\xfe;\\xc5G\\xd4\\xaf'\n",
      "Decrypted Reference ID: 1234567890\n"
     ]
    }
   ],
   "source": [
    "from cryptography.hazmat.primitives.ciphers import Cipher, algorithms, modes\n",
    "from cryptography.hazmat.backends import default_backend\n",
    "from cryptography.hazmat.primitives import padding\n",
    "import os\n",
    "\n",
    "def encrypt_reference_id(reference_id, key):\n",
    "    \"\"\"\n",
    "    Encrypts the Reference ID using AES encryption, returns ciphertext with IV prepended.\n",
    "    \"\"\"\n",
    "    # Generate a random IV\n",
    "    iv = os.urandom(16)\n",
    "\n",
    "    # Create the AES cipher\n",
    "    cipher = Cipher(algorithms.AES(key), modes.CBC(iv), backend=default_backend())\n",
    "    encryptor = cipher.encryptor()\n",
    "\n",
    "    # Pad the reference ID to match block size\n",
    "    padder = padding.PKCS7(algorithms.AES.block_size).padder()\n",
    "    padded_data = padder.update(reference_id.encode()) + padder.finalize()\n",
    "\n",
    "    # Encrypt the padded data\n",
    "    ciphertext = encryptor.update(padded_data) + encryptor.finalize()\n",
    "\n",
    "    # Return the IV concatenated with the ciphertext\n",
    "    return iv + ciphertext\n",
    "\n",
    "def decrypt_reference_id(encrypted_data, key):\n",
    "    \"\"\"\n",
    "    Decrypts the data by splitting the IV and ciphertext, then using AES decryption.\n",
    "    \"\"\"\n",
    "    # Extract the IV and ciphertext\n",
    "    iv = encrypted_data[:16]\n",
    "    ciphertext = encrypted_data[16:]\n",
    "\n",
    "    # Create the AES cipher\n",
    "    cipher = Cipher(algorithms.AES(key), modes.CBC(iv), backend=default_backend())\n",
    "    decryptor = cipher.decryptor()\n",
    "\n",
    "    # Decrypt the ciphertext\n",
    "    padded_data = decryptor.update(ciphertext) + decryptor.finalize()\n",
    "\n",
    "    # Remove padding\n",
    "    unpadder = padding.PKCS7(algorithms.AES.block_size).unpadder()\n",
    "    data = unpadder.update(padded_data) + unpadder.finalize()\n",
    "\n",
    "    return data.decode()\n",
    "\n",
    "# Example usage\n",
    "if __name__ == \"__main__\":\n",
    "    # Sample Reference ID\n",
    "    reference_id = input(\"Enter 12 Digits ID: \")\n",
    "\n",
    "    # Generate a 32-byte key for AES-256\n",
    "    key = os.urandom(32)\n",
    "\n",
    "    # Encrypt the Reference ID\n",
    "    encrypted_data = encrypt_reference_id(reference_id, key)\n",
    "    print(f\"Encrypted data: {encrypted_data}\")\n",
    "\n",
    "    # Decrypt the Reference ID\n",
    "    decrypted_data = decrypt_reference_id(encrypted_data, key)\n",
    "    print(f\"Decrypted Reference ID: {decrypted_data}\")\n"
   ]
  },
  {
   "cell_type": "code",
   "execution_count": 3,
   "id": "2f83d0ad-ad85-4cb3-9812-e66b5d3f99b9",
   "metadata": {},
   "outputs": [
    {
     "name": "stdout",
     "output_type": "stream",
     "text": [
      "['john', 'peter']\n",
      "[40, 45]\n",
      "john 40\n",
      "peter 45\n"
     ]
    }
   ],
   "source": [
    "#2. What will be the output?\n",
    "d = {\"john\":40, \"peter\":45}\n",
    "print(list(d.keys()))\n",
    "print(list(d.values()))\n",
    "for k,v in d.items():\n",
    "    print(k,v)\n",
    "#Hint: d.keys() is the function that will show keys."
   ]
  },
  {
   "cell_type": "markdown",
   "id": "6b1e0446-713f-425f-a28e-f6279c90ac8b",
   "metadata": {},
   "source": [
    "### 3. A website requires a user to input a username and password to register. Write a program to check the validity of the password given by the user. Following are the criteria for checking password:\n",
    "1. At least 1 letter between [a-z]\n",
    "2. At least 1 number between [0-9]\n",
    "1. At least 1 letter between [A-Z]\n",
    "3. At least 1 character from [$#@]\n",
    "4. Minimum length of transaction password: 6\n",
    "5. Maximum length of transaction password: 12\n",
    "Hint: In the case of input data being supplied to the question, it should be assumed to \n",
    "be a console input."
   ]
  },
  {
   "cell_type": "code",
   "execution_count": 10,
   "id": "bd4cd6c8-060d-4f55-b5fa-3f903b409aac",
   "metadata": {},
   "outputs": [
    {
     "name": "stdin",
     "output_type": "stream",
     "text": [
      "Enter a password to check its validity:  Pa$$W0rd\n"
     ]
    },
    {
     "name": "stdout",
     "output_type": "stream",
     "text": [
      "Password is valid.\n"
     ]
    }
   ],
   "source": [
    "import re\n",
    "\n",
    "def check_password_validity(password):\n",
    "    \"\"\"\n",
    "    This function checks the validity of a password based on several criteria:\n",
    "    1. At least 1 letter between [a-z]\n",
    "    2. At least 1 letter between [A-Z]\n",
    "    3. At least 1 number between [0-9]\n",
    "    4. At least 1 character from [$#@]\n",
    "    5. Length of password must be between 6 and 12 characters\n",
    "\n",
    "    Parameters:\n",
    "    password (str): The password to be validated.\n",
    "\n",
    "    Returns:\n",
    "    None: It prints whether the password is valid or not.\n",
    "    \"\"\"\n",
    "\n",
    "    # Criteria checks using regular expressions\n",
    "    if (len(password) < 6 or len(password) > 12):\n",
    "        print(\"Invalid password! The password must be between 6 and 12 characters.\")\n",
    "        return\n",
    "    \n",
    "    if not re.search(\"[a-z]\", password):\n",
    "        print(\"Invalid password! The password must contain at least one lowercase letter.\")\n",
    "        return\n",
    "    \n",
    "    if not re.search(\"[A-Z]\", password):\n",
    "        print(\"Invalid password! The password must contain at least one uppercase letter.\")\n",
    "        return\n",
    "    \n",
    "    if not re.search(\"[0-9]\", password):\n",
    "        print(\"Invalid password! The password must contain at least one digit.\")\n",
    "        return\n",
    "    \n",
    "    if not re.search(\"[$#@]\", password):\n",
    "        print(\"Invalid password! The password must contain at least one special character from [$#@].\")\n",
    "        return\n",
    "\n",
    "    # If all criteria are met\n",
    "    print(\"Password is valid.\")\n",
    "\n",
    "# Input: Asking the user to input a password\n",
    "password = input(\"Enter a password to check its validity: \")\n",
    "\n",
    "# Function call\n",
    "check_password_validity(password)\n"
   ]
  },
  {
   "cell_type": "markdown",
   "id": "be015eea-2f2d-4ccf-bb72-8fced2a4c509",
   "metadata": {},
   "source": [
    "### 4. Write a for loop that prints all elements of a list and their position in the list.\n",
    " a = [4,7,3,2,5,9] \n",
    " \n",
    "Hint: Use Loop to iterate through list elements"
   ]
  },
  {
   "cell_type": "code",
   "execution_count": 12,
   "id": "053ad4e2-dbbf-4886-b25e-584b9f3397d5",
   "metadata": {},
   "outputs": [
    {
     "name": "stdout",
     "output_type": "stream",
     "text": [
      "Element at position 0: 4\n",
      "Element at position 1: 7\n",
      "Element at position 2: 3\n",
      "Element at position 3: 2\n",
      "Element at position 4: 5\n",
      "Element at position 5: 9\n"
     ]
    }
   ],
   "source": [
    "# Given list\n",
    "a = [4, 7, 3, 2, 5, 9]\n",
    "\n",
    "# Using a for loop to iterate through the list elements\n",
    "for index in range(len(a)):\n",
    "    # Print the index and the corresponding element\n",
    "    print(f\"Element at position {index}: {a[index]}\")\n"
   ]
  },
  {
   "cell_type": "markdown",
   "id": "070ab359-e4be-4472-a596-f377d6b1a53e",
   "metadata": {},
   "source": [
    "### 6. Please write a program that accepts a string from the console and print it in reverse order.\n",
    " Example: If the following string is given as input to the program: \n",
    " rise to vote sir\n",
    " Then, the output of the program should be:\n",
    " ris etov ot esir"
   ]
  },
  {
   "cell_type": "code",
   "execution_count": 15,
   "id": "92d67021-612b-407f-8944-497e2c6c0bc0",
   "metadata": {},
   "outputs": [
    {
     "name": "stdin",
     "output_type": "stream",
     "text": [
      "Enter a string:  rise to vote sir\n"
     ]
    },
    {
     "name": "stdout",
     "output_type": "stream",
     "text": [
      "Reversed string: ris etov ot esir\n"
     ]
    }
   ],
   "source": [
    "def reverse_string(input_string):\n",
    "    \"\"\"\n",
    "    This function takes a string as input and prints it in reverse order.\n",
    "\n",
    "    Parameters:\n",
    "    input_string (str): The string to be reversed.\n",
    "\n",
    "    Returns:\n",
    "    None: It prints the reversed string.\n",
    "    \"\"\"\n",
    "    \n",
    "    # Reverse the string using string slicing\n",
    "    reversed_string = input_string[::-1]\n",
    "    \n",
    "    # Print the reversed string\n",
    "    print(\"Reversed string:\", reversed_string)\n",
    "\n",
    "# Input: Asking user to input a string\n",
    "input_string = input(\"Enter a string: \")\n",
    "\n",
    "# Function call\n",
    "reverse_string(input_string)\n"
   ]
  },
  {
   "cell_type": "markdown",
   "id": "f6aecfc5-00a7-417b-aa01-7b155aa8d6d9",
   "metadata": {},
   "source": [
    "### 7. Please write a program that counts and prints the numbers of each character in a string input by the console.\n",
    " Example: If the following string is given as input to the program:\n",
    " abcdefgabc\n",
    " Then, the output of the program should be:\n",
    "a,2\n",
    "c,2\n",
    "b,2\n",
    "e,1\n",
    "d,1\n",
    "g,1\n",
    "f,1"
   ]
  },
  {
   "cell_type": "code",
   "execution_count": 16,
   "id": "80a5907a-d57e-491f-8fd1-5843e1611863",
   "metadata": {},
   "outputs": [
    {
     "name": "stdin",
     "output_type": "stream",
     "text": [
      "Enter a string:  Gimme! Gimme! Gimme!\n"
     ]
    },
    {
     "name": "stdout",
     "output_type": "stream",
     "text": [
      "G,3\n",
      "i,3\n",
      "m,6\n",
      "e,3\n",
      "!,3\n",
      " ,2\n"
     ]
    }
   ],
   "source": [
    "def count_characters(input_string):\n",
    "    \"\"\"\n",
    "    This function counts and prints the occurrences of each character in the input string.\n",
    "\n",
    "    Parameters:\n",
    "    input_string (str): The string to be analyzed.\n",
    "\n",
    "    Returns:\n",
    "    None: It prints each character and its count.\n",
    "    \"\"\"\n",
    "    \n",
    "    # Create an empty dictionary to store character counts\n",
    "    char_count = {}\n",
    "\n",
    "    # Loop through each character in the input string\n",
    "    for char in input_string:\n",
    "        # Update the count for each character\n",
    "        if char in char_count:\n",
    "            char_count[char] += 1\n",
    "        else:\n",
    "            char_count[char] = 1\n",
    "\n",
    "    # Print the characters and their counts\n",
    "    for char, count in char_count.items():\n",
    "        print(f\"{char},{count}\")\n",
    "\n",
    "# Input: Asking user to input a string\n",
    "input_string = input(\"Enter a string: \")\n",
    "\n",
    "# Function call\n",
    "count_characters(input_string)\n"
   ]
  },
  {
   "cell_type": "markdown",
   "id": "fae107f2-ce82-4cee-90f8-9d7f037dbdd7",
   "metadata": {},
   "source": [
    "### 8. With two given lists [1,3,6,78,35,55] and [12,24,35,24,88,120,155], write a program to make a list whose elements are intersection of the above given lists.\n"
   ]
  },
  {
   "cell_type": "code",
   "execution_count": 18,
   "id": "9bc9d778-eda0-4d54-8ed5-18c1fa01b957",
   "metadata": {},
   "outputs": [
    {
     "name": "stdout",
     "output_type": "stream",
     "text": [
      "The intersection of the two lists is: [35]\n"
     ]
    }
   ],
   "source": [
    "def list_intersection(list1, list2):\n",
    "    \"\"\"\n",
    "    This function finds the intersection of two lists using the set intersection method \n",
    "    and returns a new list with common elements.\n",
    "\n",
    "    Parameters:\n",
    "    list1 (list): The first list.\n",
    "    list2 (list): The second list.\n",
    "\n",
    "    Returns:\n",
    "    list: A new list containing the elements that are common to both list1 and list2.\n",
    "    \"\"\"\n",
    "    \n",
    "    # Convert both lists to sets and find the intersection using the intersection() method\n",
    "    intersection = list(set(list1).intersection(set(list2)))\n",
    "    \n",
    "    # Return the intersection\n",
    "    return intersection\n",
    "\n",
    "# Given lists\n",
    "list1 = [1, 3, 6, 78, 35, 55]\n",
    "list2 = [12, 24, 35, 24, 88, 120, 155]\n",
    "\n",
    "# Function call and result\n",
    "result = list_intersection(list1, list2)\n",
    "\n",
    "# Print the result\n",
    "print(\"The intersection of the two lists is:\", result)\n"
   ]
  },
  {
   "cell_type": "markdown",
   "id": "4e317a4d-166f-4692-9e52-068bb105fc0b",
   "metadata": {},
   "source": [
    "### 9. By using list comprehension, please write a program to print the list after removing the value 24 in [12,24,35,24,88,120,155]."
   ]
  },
  {
   "cell_type": "code",
   "execution_count": 23,
   "id": "d7842e60-7af3-4fb4-87ed-e25bf1acd570",
   "metadata": {},
   "outputs": [
    {
     "name": "stdout",
     "output_type": "stream",
     "text": [
      "List after removing 24: [12, 35, 88, 120, 155]\n"
     ]
    }
   ],
   "source": [
    "# Original list\n",
    "numbers = [12, 24, 35, 24, 88, 120, 155]\n",
    "\n",
    "# Using list comprehension to remove all occurrences of 24\n",
    "filtered_list = [num for num in numbers if num != 24]\n",
    "\n",
    "# Print the resulting list\n",
    "print(\"List after removing 24:\", filtered_list)\n"
   ]
  },
  {
   "cell_type": "markdown",
   "id": "89fb35d4-67bd-4d3d-995e-b8b8ee48c338",
   "metadata": {},
   "source": [
    "### 10.By using list comprehension, please write a program to print the list after removing the 0th,4th, and 5th numbers in [12,24,35,70,88,120,155]."
   ]
  },
  {
   "cell_type": "code",
   "execution_count": 31,
   "id": "28d585f3-71ca-4016-a72b-36e2355debe4",
   "metadata": {},
   "outputs": [
    {
     "name": "stdout",
     "output_type": "stream",
     "text": [
      "List after removing the 0th, 4th, and 5th elements: [24, 35, 70, 155]\n"
     ]
    }
   ],
   "source": [
    "# Original list\n",
    "numbers = [12, 24, 35, 70, 88, 120, 155]\n",
    "\n",
    "# Using list comprehension to exclude the 0th, 4th, and 5th elements\n",
    "filtered_list = [num for index, num in enumerate(numbers) if index not in (0, 4, 5)]\n",
    "\n",
    "# Print the resulting list\n",
    "print(\"List after removing the 0th, 4th, and 5th elements:\", filtered_list)\n"
   ]
  },
  {
   "cell_type": "markdown",
   "id": "37c79380-7bf4-4e61-b4b7-ace7532b005b",
   "metadata": {},
   "source": [
    "### 11.By using list comprehension, please write a program to print the list after removing deleted numbers that are divisible by 5 and 7 in [12,24,35,70,88,120,155].\n"
   ]
  },
  {
   "cell_type": "code",
   "execution_count": 36,
   "id": "50b4fa87-ebb7-4af1-b825-e5713a83748f",
   "metadata": {},
   "outputs": [
    {
     "name": "stdout",
     "output_type": "stream",
     "text": [
      "List after removing numbers divisible by both 5 and 7: [12, 24, 88, 120, 155]\n"
     ]
    }
   ],
   "source": [
    "# Original list\n",
    "numbers = [12, 24, 35, 70, 88, 120, 155]\n",
    "\n",
    "# Using list comprehension to remove numbers divisible by both 5 and 7\n",
    "filtered_list = [num for num in numbers if not (num % 5 == 0 and num % 7 == 0)]\n",
    "\n",
    "# Print the resulting list\n",
    "print(\"List after removing numbers divisible by both 5 and 7:\", filtered_list)\n"
   ]
  },
  {
   "cell_type": "markdown",
   "id": "d6e7355c-bfd2-4c7a-a17a-0b5d1e2c5f8b",
   "metadata": {},
   "source": [
    "### 12.Write a program to compute 1/2+2/3+3/4+...+n/n+1 with a given n input by console (n>0).\n",
    "Example:\n",
    "\n",
    "If the following n is given as input to the program: 5\n",
    "\n",
    "Then, the output of the program should be: 3.55"
   ]
  },
  {
   "cell_type": "code",
   "execution_count": 42,
   "id": "1c8d3685-a3f6-4b5f-a1c5-6385394b735a",
   "metadata": {},
   "outputs": [
    {
     "name": "stdin",
     "output_type": "stream",
     "text": [
      "Enter a positive integer n:  100\n"
     ]
    },
    {
     "name": "stdout",
     "output_type": "stream",
     "text": [
      "The result of the series is: 95.8\n"
     ]
    }
   ],
   "source": [
    "def compute_series(n):\n",
    "    \"\"\"\n",
    "    This function computes the sum of the series 1/2 + 2/3 + 3/4 + ... + n/(n+1).\n",
    "\n",
    "    Parameters:\n",
    "    n (int): The value of n for the series.\n",
    "\n",
    "    Returns:\n",
    "    float: The computed result of the series.\n",
    "    \"\"\"\n",
    "    \n",
    "    # Initialize the sum\n",
    "    series_sum = 0\n",
    "    \n",
    "    # Loop to compute the sum of the series\n",
    "    for i in range(1, n+1):\n",
    "        series_sum += i / (i + 1)\n",
    "    \n",
    "    return series_sum\n",
    "\n",
    "# Input: Asking the user to input a positive integer n\n",
    "n = int(input(\"Enter a positive integer n: \"))\n",
    "\n",
    "# Check if n is greater than 0\n",
    "if n > 0:\n",
    "    result = compute_series(n)\n",
    "    # Print the result, rounded to 2 decimal places\n",
    "    print(f\"The result of the series is: {round(result, 2)}\")\n",
    "else:\n",
    "    print(\"Please enter a number greater than 0.\")\n"
   ]
  },
  {
   "cell_type": "code",
   "execution_count": null,
   "id": "8ec96743-5b83-402e-9a2d-6348085886b4",
   "metadata": {},
   "outputs": [],
   "source": []
  },
  {
   "cell_type": "code",
   "execution_count": 6,
   "id": "6ce9d69c-c5fa-44fb-8aa6-a664ca4692a4",
   "metadata": {},
   "outputs": [],
   "source": [
    "#### Mr Akram M'Tir 10-10-2024"
   ]
  },
  {
   "cell_type": "code",
   "execution_count": null,
   "id": "335f8a92-a0aa-4732-a412-7600158b2d14",
   "metadata": {},
   "outputs": [],
   "source": []
  }
 ],
 "metadata": {
  "kernelspec": {
   "display_name": "Python 3 (ipykernel)",
   "language": "python",
   "name": "python3"
  },
  "language_info": {
   "codemirror_mode": {
    "name": "ipython",
    "version": 3
   },
   "file_extension": ".py",
   "mimetype": "text/x-python",
   "name": "python",
   "nbconvert_exporter": "python",
   "pygments_lexer": "ipython3",
   "version": "3.10.1"
  }
 },
 "nbformat": 4,
 "nbformat_minor": 5
}
