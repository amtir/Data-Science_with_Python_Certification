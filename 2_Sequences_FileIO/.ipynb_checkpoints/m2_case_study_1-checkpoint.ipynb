{
 "cells": [
  {
   "cell_type": "markdown",
   "id": "58cb2dad-e5f5-4e39-9257-5676b27dd15f",
   "metadata": {},
   "source": [
    "# Module 2 – Sequences and File Operations"
   ]
  },
  {
   "cell_type": "markdown",
   "id": "5b1d0864-07f8-4228-a096-4b3b488a9619",
   "metadata": {},
   "source": [
    "## Case Study – 1"
   ]
  },
  {
   "cell_type": "markdown",
   "id": "0651d64c-6fdb-4bc4-a8e0-1d4a86f3444e",
   "metadata": {},
   "source": [
    "### 1. Write a program that will find factors of the given number and find whether the factor is even or odd.\n",
    "Hint: Use Loop with if-else statements"
   ]
  },
  {
   "cell_type": "code",
   "execution_count": 1,
   "id": "2f83d0ad-ad85-4cb3-9812-e66b5d3f99b9",
   "metadata": {},
   "outputs": [
    {
     "name": "stdin",
     "output_type": "stream",
     "text": [
      "Enter a number:  10\n"
     ]
    },
    {
     "name": "stdout",
     "output_type": "stream",
     "text": [
      "Factors of 10 and their classification:\n",
      "1 is odd\n",
      "2 is even\n",
      "5 is odd\n",
      "10 is even\n"
     ]
    }
   ],
   "source": [
    "def find_factors_and_classify(num):\n",
    "    \"\"\"\n",
    "    This function finds all factors of a given number and classifies \n",
    "    each factor as either even or odd.\n",
    "\n",
    "    Parameters:\n",
    "    num (int): The number for which the factors are to be found.\n",
    "\n",
    "    Returns:\n",
    "    None: It prints out the factors and their classifications (even or odd).\n",
    "    \"\"\"\n",
    "    \n",
    "    print(f\"Factors of {num} and their classification:\")\n",
    "    \n",
    "    # Loop through all numbers from 1 to the given number\n",
    "    for i in range(1, num + 1):\n",
    "        # Check if i is a factor of num\n",
    "        if num % i == 0:\n",
    "            # Determine if the factor is even or odd\n",
    "            if i % 2 == 0:\n",
    "                print(f\"{i} is even\")\n",
    "            else:\n",
    "                print(f\"{i} is odd\")\n",
    "\n",
    "\n",
    "# Input: Asking user to input a number\n",
    "number = int(input(\"Enter a number: \"))\n",
    "\n",
    "# Function call\n",
    "find_factors_and_classify(number)\n"
   ]
  },
  {
   "cell_type": "markdown",
   "id": "6b1e0446-713f-425f-a28e-f6279c90ac8b",
   "metadata": {},
   "source": [
    "### 2. Write a code that accepts a sequence of words as input and prints the words in a sequence after sorting them alphabetically. \n",
    "Hint: In the case of input data being supplied to the question, it should be \n",
    "assumed to be a console input."
   ]
  },
  {
   "cell_type": "code",
   "execution_count": 2,
   "id": "bd4cd6c8-060d-4f55-b5fa-3f903b409aac",
   "metadata": {},
   "outputs": [
    {
     "name": "stdin",
     "output_type": "stream",
     "text": [
      "Enter a sequence of words (separated by spaces):  Orange Kiwi Banana Raspberry Apple Cherry\n"
     ]
    },
    {
     "name": "stdout",
     "output_type": "stream",
     "text": [
      "Sorted sequence of words:\n",
      "Apple Banana Cherry Kiwi Orange Raspberry\n"
     ]
    }
   ],
   "source": [
    "def sort_words():\n",
    "    \"\"\"\n",
    "    This function accepts a sequence of words as input, sorts them alphabetically, \n",
    "    and prints the sorted sequence.\n",
    "\n",
    "    Parameters:\n",
    "    None: The function reads input directly from the console.\n",
    "\n",
    "    Returns:\n",
    "    None: The sorted words are printed as output.\n",
    "    \"\"\"\n",
    "    \n",
    "    # Input: Accepting a sequence of words from the user\n",
    "    words = input(\"Enter a sequence of words (separated by spaces): \").split()\n",
    "\n",
    "    # Sorting the words alphabetically\n",
    "    words.sort()\n",
    "\n",
    "    # Printing the sorted words\n",
    "    print(\"Sorted sequence of words:\")\n",
    "    print(\" \".join(words))\n",
    "\n",
    "# Function call\n",
    "sort_words()\n"
   ]
  },
  {
   "cell_type": "markdown",
   "id": "f5f83d09-96ee-44e3-885f-5ac9f7767a02",
   "metadata": {},
   "source": [
    "### 3. Write a program, which will find all the numbers between 1000 and 3000 (both included) such that each digit of a number is an even number.\n",
    "The numbers \n",
    "obtained should be printed in a comma-separated sequence on a single line.\n",
    "Hint: In the case of input data being supplied to the question, it should be \n",
    "assumed to be a console input. Divide each digit by 2 and verify whether is it \n",
    "even or not."
   ]
  },
  {
   "cell_type": "code",
   "execution_count": 3,
   "id": "ff0cbbbf-a7fb-4c61-993d-47b93fcaf762",
   "metadata": {},
   "outputs": [
    {
     "name": "stdout",
     "output_type": "stream",
     "text": [
      "2000,2002,2004,2006,2008,2020,2022,2024,2026,2028,2040,2042,2044,2046,2048,2060,2062,2064,2066,2068,2080,2082,2084,2086,2088,2200,2202,2204,2206,2208,2220,2222,2224,2226,2228,2240,2242,2244,2246,2248,2260,2262,2264,2266,2268,2280,2282,2284,2286,2288,2400,2402,2404,2406,2408,2420,2422,2424,2426,2428,2440,2442,2444,2446,2448,2460,2462,2464,2466,2468,2480,2482,2484,2486,2488,2600,2602,2604,2606,2608,2620,2622,2624,2626,2628,2640,2642,2644,2646,2648,2660,2662,2664,2666,2668,2680,2682,2684,2686,2688,2800,2802,2804,2806,2808,2820,2822,2824,2826,2828,2840,2842,2844,2846,2848,2860,2862,2864,2866,2868,2880,2882,2884,2886,2888\n"
     ]
    }
   ],
   "source": [
    "def find_even_digit_numbers():\n",
    "    \"\"\"\n",
    "    This function finds all numbers between 1000 and 3000 (both inclusive) \n",
    "    where each digit of the number is an even number. It prints these numbers \n",
    "    in a comma-separated sequence on a single line.\n",
    "\n",
    "    Parameters:\n",
    "    None: The function operates within the specified range without any input.\n",
    "\n",
    "    Returns:\n",
    "    None: It prints the result as a comma-separated sequence.\n",
    "    \"\"\"\n",
    "\n",
    "    even_digit_numbers = []\n",
    "\n",
    "    # Loop through numbers from 1000 to 3000 (inclusive)\n",
    "    for num in range(1000, 3001):\n",
    "        num_str = str(num)  # Convert the number to string for digit-wise checking\n",
    "        if all(int(digit) % 2 == 0 for digit in num_str):  # Check if all digits are even\n",
    "            even_digit_numbers.append(num_str)  # Append the number if all digits are even\n",
    "\n",
    "    # Print the numbers in a comma-separated sequence\n",
    "    print(\",\".join(even_digit_numbers))\n",
    "\n",
    "# Function call\n",
    "find_even_digit_numbers()\n",
    "\n",
    "'''\n",
    "Difference between List Comprehension and Generator Expression:\n",
    "List comprehension would create an entire list in memory (e.g., [int(digit) % 2 == 0 for digit in num_str]), evaluating each element and storing the results in a list.\n",
    "Generator expression is more memory efficient because it generates the values on the fly, without creating and storing an entire list in memory. It’s evaluated lazily, meaning the values are generated one by one only when needed.\n",
    "\n",
    "This creates a generator that yields one True or False at a time, which is then consumed by the all() function.\n",
    "'''\n"
   ]
  },
  {
   "cell_type": "markdown",
   "id": "070ab359-e4be-4472-a596-f377d6b1a53e",
   "metadata": {},
   "source": [
    "### 4. Write a program that accepts a sentence and calculates the number of letters and digits.\n",
    "Suppose the entered string is: Python0325\n",
    "Then the output will be:\n",
    "LETTERS: 6\n",
    "DIGITS:4\n",
    "Hint: Use built-in functions of string."
   ]
  },
  {
   "cell_type": "code",
   "execution_count": 4,
   "id": "92d67021-612b-407f-8944-497e2c6c0bc0",
   "metadata": {},
   "outputs": [
    {
     "name": "stdin",
     "output_type": "stream",
     "text": [
      "Enter a sentence:  Alpha12345K5\n"
     ]
    },
    {
     "name": "stdout",
     "output_type": "stream",
     "text": [
      "LETTERS: 6\n",
      "DIGITS: 6\n"
     ]
    }
   ],
   "source": [
    "def count_letters_digits(sentence):\n",
    "    \"\"\"\n",
    "    This function accepts a sentence and calculates the number of letters and digits in it.\n",
    "\n",
    "    Parameters:\n",
    "    sentence (str): The input sentence to be analyzed.\n",
    "\n",
    "    Returns:\n",
    "    None: It prints the count of letters and digits.\n",
    "    \"\"\"\n",
    "    \n",
    "    letters = 0\n",
    "    digits = 0\n",
    "\n",
    "    # Loop through each character in the sentence\n",
    "    for char in sentence:\n",
    "        if char.isalpha():  # Check if the character is a letter\n",
    "            letters += 1\n",
    "        elif char.isdigit():  # Check if the character is a digit\n",
    "            digits += 1\n",
    "\n",
    "    # Print the results\n",
    "    print(f\"LETTERS: {letters}\")\n",
    "    print(f\"DIGITS: {digits}\")\n",
    "\n",
    "# Input: Asking user to input a sentence\n",
    "sentence = input(\"Enter a sentence: \")\n",
    "\n",
    "# Function call\n",
    "count_letters_digits(sentence)\n"
   ]
  },
  {
   "cell_type": "markdown",
   "id": "f6aecfc5-00a7-417b-aa01-7b155aa8d6d9",
   "metadata": {},
   "source": [
    "### 5. Design a code that will find whether the given number is a Palindrome number or \n",
    "not.\n",
    "Hint: Use built-in functions of string"
   ]
  },
  {
   "cell_type": "code",
   "execution_count": 5,
   "id": "80a5907a-d57e-491f-8fd1-5843e1611863",
   "metadata": {},
   "outputs": [
    {
     "name": "stdin",
     "output_type": "stream",
     "text": [
      "Enter a number:  1234321\n"
     ]
    },
    {
     "name": "stdout",
     "output_type": "stream",
     "text": [
      "1234321 is a palindrome.\n"
     ]
    }
   ],
   "source": [
    "def is_palindrome(number):\n",
    "    \"\"\"\n",
    "    This function checks whether the given number is a palindrome or not.\n",
    "\n",
    "    Parameters:\n",
    "    number (int): The number to be checked.\n",
    "\n",
    "    Returns:\n",
    "    None: It prints whether the number is a palindrome or not.\n",
    "    \"\"\"\n",
    "    \n",
    "    # Convert the number to a string\n",
    "    num_str = str(number)\n",
    "\n",
    "    # Check if the string is equal to its reverse\n",
    "    if num_str == num_str[::-1]:\n",
    "        print(f\"{number} is a palindrome.\")\n",
    "    else:\n",
    "        print(f\"{number} is not a palindrome.\")\n",
    "\n",
    "# Input: Asking user to input a number\n",
    "number = int(input(\"Enter a number: \"))\n",
    "\n",
    "# Function call\n",
    "is_palindrome(number)\n"
   ]
  },
  {
   "cell_type": "code",
   "execution_count": 6,
   "id": "6ce9d69c-c5fa-44fb-8aa6-a664ca4692a4",
   "metadata": {},
   "outputs": [],
   "source": [
    "#### Mr Akram M'Tir 10-10-2024"
   ]
  },
  {
   "cell_type": "code",
   "execution_count": null,
   "id": "335f8a92-a0aa-4732-a412-7600158b2d14",
   "metadata": {},
   "outputs": [],
   "source": []
  }
 ],
 "metadata": {
  "kernelspec": {
   "display_name": "Python 3 (ipykernel)",
   "language": "python",
   "name": "python3"
  },
  "language_info": {
   "codemirror_mode": {
    "name": "ipython",
    "version": 3
   },
   "file_extension": ".py",
   "mimetype": "text/x-python",
   "name": "python",
   "nbconvert_exporter": "python",
   "pygments_lexer": "ipython3",
   "version": "3.10.1"
  }
 },
 "nbformat": 4,
 "nbformat_minor": 5
}
