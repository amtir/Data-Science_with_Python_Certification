{
 "cells": [
  {
   "cell_type": "code",
   "execution_count": null,
   "id": "deb6becf-95a3-438e-82c9-5a703ce0e5ed",
   "metadata": {},
   "outputs": [],
   "source": []
  },
  {
   "cell_type": "code",
   "execution_count": null,
   "id": "fedc2fd8-ab7e-4352-8fcc-2c47f1a9ac3f",
   "metadata": {},
   "outputs": [],
   "source": [
    "# Ordered/Unordered (Index)\n",
    "#Mutable/Immutable(change element)\n",
    "#Allows Duplicates\n",
    "\n",
    "# All the sequences allow any type of values"
   ]
  },
  {
   "cell_type": "code",
   "execution_count": null,
   "id": "22190667-b59b-4dc8-882c-5f96236b2859",
   "metadata": {},
   "outputs": [],
   "source": [
    "#1. String: Ordered (Index), Immutable, Allows Dupplicates \n",
    "#2. List[]: Ordered (index), Mutable, Alloows duples\n",
    "#3. Tuple(): Ordered (index), Immutable, allows dupplcates\n",
    "#4. Set{}: Unordered (No Indexing), Mutable, DO NOT allow dupplicates \n",
    "#5. Dict{key:value}: Unordered (No indexing), keys-Immutable, Values-Mutables, Keys cannot have duplicate, Values can have duplicates"
   ]
  },
  {
   "cell_type": "code",
   "execution_count": 11,
   "id": "4d08156b-2901-465c-9e55-5774115aa39e",
   "metadata": {},
   "outputs": [
    {
     "name": "stdout",
     "output_type": "stream",
     "text": [
      "11\n",
      "SIMPLE TEXT\n",
      "simple text\n",
      "The \"Sun\" rises in east\n",
      "This is a sample string,\n",
      " this is another string.\n",
      "Hi, Amit you got 80 marks.\n",
      "Hi, Amit you got 80 maarks\n"
     ]
    }
   ],
   "source": [
    "#Python Strings: Ordered (Index), Immutable, Allows Duplcates\n",
    "name=\"Simple text\"\n",
    "name[0]\n",
    "#name[0]='Z' # Immutable in nature\n",
    "type(name)\n",
    "# Length of string\n",
    "print(len(name))\n",
    "print(name.upper())\n",
    "print(name.lower())\n",
    "str='The \"Sun\" rises in east'\n",
    "print(str)\n",
    "str='This is a sample string,\\n this is another string.'\n",
    "print(str)\n",
    "#String Interpolations(embedding)\n",
    "name='Amit'\n",
    "marks=80\n",
    "#Hi, Amit you got 80 marks\n",
    "\n",
    "#f-strings, format, modulo %s%f\n",
    "print(f'Hi, {name} you got {marks} marks.')\n",
    "\n",
    "#Format\n",
    "print(\"Hi, {} you got {} maarks\".format(name, marks))\n",
    "print(\"Hi, {1} you got {0} maarks\".format(marks, name))"
   ]
  },
  {
   "cell_type": "code",
   "execution_count": null,
   "id": "113a5d80-0af7-457a-9590-ffceb77fa7f9",
   "metadata": {},
   "outputs": [],
   "source": []
  }
 ],
 "metadata": {
  "kernelspec": {
   "display_name": "Python 3 (ipykernel)",
   "language": "python",
   "name": "python3"
  },
  "language_info": {
   "codemirror_mode": {
    "name": "ipython",
    "version": 3
   },
   "file_extension": ".py",
   "mimetype": "text/x-python",
   "name": "python",
   "nbconvert_exporter": "python",
   "pygments_lexer": "ipython3",
   "version": "3.10.1"
  }
 },
 "nbformat": 4,
 "nbformat_minor": 5
}
