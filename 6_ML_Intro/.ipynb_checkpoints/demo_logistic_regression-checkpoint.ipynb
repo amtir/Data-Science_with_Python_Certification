{
 "cells": [
  {
   "cell_type": "code",
   "execution_count": 1,
   "id": "79975b41-29a2-43b5-a2fe-15d39ce18a61",
   "metadata": {},
   "outputs": [],
   "source": [
    "# Problem statement: Predict sales of a product based on TV, Radio, and Newspaper Adds.\n",
    "\n",
    "# Import libraries\n",
    "import numpy as np\n",
    "import pandas as pd\n",
    "import matplotlib.pyplot as plt\n",
    "import seaborn as sns\n",
    "from sklearn.linear_model import LinearRegression\n",
    "\n",
    "# For Evaluation \n",
    "import sklearn.metrics "
   ]
  },
  {
   "cell_type": "code",
   "execution_count": null,
   "id": "85f058fd-7b5d-484a-98ba-96deea7dad5e",
   "metadata": {},
   "outputs": [],
   "source": [
    "#Step2: reading data \n",
    "adv = pd.read_csv('Social_Network_Ads.csv')\n",
    "\n",
    "print(adv.info())\n",
    "print(adv.describe())\n",
    "print(adv.head())"
   ]
  }
 ],
 "metadata": {
  "kernelspec": {
   "display_name": "Python 3 (ipykernel)",
   "language": "python",
   "name": "python3"
  },
  "language_info": {
   "codemirror_mode": {
    "name": "ipython",
    "version": 3
   },
   "file_extension": ".py",
   "mimetype": "text/x-python",
   "name": "python",
   "nbconvert_exporter": "python",
   "pygments_lexer": "ipython3",
   "version": "3.10.1"
  }
 },
 "nbformat": 4,
 "nbformat_minor": 5
}
