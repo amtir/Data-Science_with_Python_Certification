{
 "cells": [
  {
   "cell_type": "code",
   "execution_count": null,
   "id": "ed2a7ab8-9d58-4426-b065-15b5b4f0ad37",
   "metadata": {},
   "outputs": [],
   "source": [
    "!pip install pandas"
   ]
  },
  {
   "cell_type": "code",
   "execution_count": 4,
   "id": "29d821ac-eb4f-472f-a13b-17283e052e3d",
   "metadata": {},
   "outputs": [
    {
     "name": "stdout",
     "output_type": "stream",
     "text": [
      "  Emp_name  Emp_salary\n",
      "0     Amit       45000\n",
      "1     John       25630\n",
      "2     Tina       78520\n",
      "3      Amy       96458\n",
      "<class 'pandas.core.frame.DataFrame'>\n"
     ]
    }
   ],
   "source": [
    "import pandas as pd\n",
    "raw_data={\n",
    "\"Emp_name\":['Amit','John','Tina','Amy'],\n",
    "\"Emp_salary\":[45000,25630,78520,96458]\n",
    "}\n",
    "\n",
    "df_emp=pd.DataFrame(raw_data)\n",
    "print(df_emp)\n",
    "print(type(df_emp))"
   ]
  },
  {
   "cell_type": "code",
   "execution_count": null,
   "id": "f59e7851-e1e3-4c90-922c-6f9fe0c05c07",
   "metadata": {},
   "outputs": [],
   "source": [
    "#Import and Export data \n",
    "#Import   file-->DF\n",
    "#Export   DF--->file\n",
    "#File types: CSV,Excel,JSON,HTML,URL file\n",
    "\n",
    "#import functions: read_csv(),read_excel(),read_json()\n",
    "#Export functions: to_csv(),to_excel(),to_json()"
   ]
  },
  {
   "cell_type": "code",
   "execution_count": 6,
   "id": "d4dbd109-93a0-4dc7-a702-48488b103a5f",
   "metadata": {},
   "outputs": [],
   "source": [
    "#Export Data  DF--->file\n",
    "df_emp.to_csv('example1.csv')"
   ]
  },
  {
   "cell_type": "code",
   "execution_count": 7,
   "id": "16e67a2f-1afd-42ea-9236-4f6d4c7f31ad",
   "metadata": {},
   "outputs": [],
   "source": [
    "df_emp.to_excel('example2.xlsx')"
   ]
  },
  {
   "cell_type": "code",
   "execution_count": 8,
   "id": "08ce19cb-ddb7-4175-a3be-43b5c1871d7f",
   "metadata": {},
   "outputs": [],
   "source": [
    "df_emp.to_json('example3.js')"
   ]
  },
  {
   "cell_type": "code",
   "execution_count": 10,
   "id": "924f8034-7a74-4efb-b01f-6cb2404dee3e",
   "metadata": {},
   "outputs": [],
   "source": [
    "#Without index\n",
    "df_emp.to_csv('D:\\\\Demo Dir\\\\example4.csv',index=False)"
   ]
  },
  {
   "cell_type": "code",
   "execution_count": null,
   "id": "cea2346b-6661-49b7-b27c-26a293fc87d9",
   "metadata": {},
   "outputs": [],
   "source": [
    "df_emp.read_csv('URL')"
   ]
  },
  {
   "cell_type": "code",
   "execution_count": 11,
   "id": "f3b656dd-1dcb-4971-b5fc-d7e83ecd0dec",
   "metadata": {},
   "outputs": [
    {
     "name": "stdout",
     "output_type": "stream",
     "text": [
      "      Pid  Pregnancies  Glucose  BloodPressure  SkinThickness  Insulin   BMI  \\\n",
      "0    1001            6      148             72             35    250.0  33.6   \n",
      "1    1002            1       85             66             29    300.0  26.6   \n",
      "2    1003            8      183             64              0      NaN  23.3   \n",
      "3    1004            1       89             66             23     94.0  28.1   \n",
      "4    1005            0      137             40             35    168.0  43.1   \n",
      "..    ...          ...      ...            ...            ...      ...   ...   \n",
      "763  1764           10      101             76             48    180.0  32.9   \n",
      "764  1765            2      122             70             27      0.0  36.8   \n",
      "765  1766            5      121             72             23    112.0  26.2   \n",
      "766  1767            1      126             60              0      0.0  30.1   \n",
      "767  1768            1       93             70             31      0.0  30.4   \n",
      "\n",
      "     DiabetesPedigreeFunction  Age  Outcome  \n",
      "0                       0.627   50        1  \n",
      "1                       0.351   31        0  \n",
      "2                       0.672   32        1  \n",
      "3                       0.167   21        0  \n",
      "4                       2.288   33        1  \n",
      "..                        ...  ...      ...  \n",
      "763                     0.171   63        0  \n",
      "764                     0.340   27        0  \n",
      "765                     0.245   30        0  \n",
      "766                     0.349   47        1  \n",
      "767                     0.315   23        0  \n",
      "\n",
      "[768 rows x 10 columns]\n"
     ]
    }
   ],
   "source": [
    "#Reading Data from Files\n",
    "df=pd.read_csv(\"diabetes.csv\")\n",
    "print(df)"
   ]
  },
  {
   "cell_type": "code",
   "execution_count": 12,
   "id": "3de3938f-e12c-485b-aa4e-94d52f72e11b",
   "metadata": {},
   "outputs": [
    {
     "name": "stdout",
     "output_type": "stream",
     "text": [
      "        0            1        2              3              4        5     6  \\\n",
      "0     Pid  Pregnancies  Glucose  BloodPressure  SkinThickness  Insulin   BMI   \n",
      "1    1001            6      148             72             35      250  33.6   \n",
      "2    1002            1       85             66             29      300  26.6   \n",
      "3    1003            8      183             64              0      NaN  23.3   \n",
      "4    1004            1       89             66             23       94  28.1   \n",
      "..    ...          ...      ...            ...            ...      ...   ...   \n",
      "764  1764           10      101             76             48      180  32.9   \n",
      "765  1765            2      122             70             27        0  36.8   \n",
      "766  1766            5      121             72             23      112  26.2   \n",
      "767  1767            1      126             60              0        0  30.1   \n",
      "768  1768            1       93             70             31        0  30.4   \n",
      "\n",
      "                            7    8        9  \n",
      "0    DiabetesPedigreeFunction  Age  Outcome  \n",
      "1                       0.627   50        1  \n",
      "2                       0.351   31        0  \n",
      "3                       0.672   32        1  \n",
      "4                       0.167   21        0  \n",
      "..                        ...  ...      ...  \n",
      "764                     0.171   63        0  \n",
      "765                      0.34   27        0  \n",
      "766                     0.245   30        0  \n",
      "767                     0.349   47        1  \n",
      "768                     0.315   23        0  \n",
      "\n",
      "[769 rows x 10 columns]\n"
     ]
    }
   ],
   "source": [
    "#Header\n",
    "df=pd.read_csv(\"diabetes.csv\",header=None)\n",
    "print(df)"
   ]
  },
  {
   "cell_type": "code",
   "execution_count": 13,
   "id": "32c11a61-6182-463a-bd37-327123b0ec56",
   "metadata": {},
   "outputs": [
    {
     "name": "stdout",
     "output_type": "stream",
     "text": [
      "      Pregnancies  Glucose  BloodPressure  SkinThickness  Insulin   BMI  \\\n",
      "Pid                                                                       \n",
      "1001            6      148             72             35    250.0  33.6   \n",
      "1002            1       85             66             29    300.0  26.6   \n",
      "1003            8      183             64              0      NaN  23.3   \n",
      "1004            1       89             66             23     94.0  28.1   \n",
      "1005            0      137             40             35    168.0  43.1   \n",
      "...           ...      ...            ...            ...      ...   ...   \n",
      "1764           10      101             76             48    180.0  32.9   \n",
      "1765            2      122             70             27      0.0  36.8   \n",
      "1766            5      121             72             23    112.0  26.2   \n",
      "1767            1      126             60              0      0.0  30.1   \n",
      "1768            1       93             70             31      0.0  30.4   \n",
      "\n",
      "      DiabetesPedigreeFunction  Age  Outcome  \n",
      "Pid                                           \n",
      "1001                     0.627   50        1  \n",
      "1002                     0.351   31        0  \n",
      "1003                     0.672   32        1  \n",
      "1004                     0.167   21        0  \n",
      "1005                     2.288   33        1  \n",
      "...                        ...  ...      ...  \n",
      "1764                     0.171   63        0  \n",
      "1765                     0.340   27        0  \n",
      "1766                     0.245   30        0  \n",
      "1767                     0.349   47        1  \n",
      "1768                     0.315   23        0  \n",
      "\n",
      "[768 rows x 9 columns]\n"
     ]
    }
   ],
   "source": [
    "df=pd.read_csv(\"diabetes.csv\",index_col=['Pid'])\n",
    "print(df)"
   ]
  },
  {
   "cell_type": "code",
   "execution_count": 14,
   "id": "d880b2a7-c162-44fe-81ee-2c8ed1952222",
   "metadata": {},
   "outputs": [
    {
     "name": "stdout",
     "output_type": "stream",
     "text": [
      "              Pregnancies  BloodPressure  SkinThickness  Insulin   BMI  \\\n",
      "Pid  Glucose                                                             \n",
      "1001 148                6             72             35    250.0  33.6   \n",
      "1002 85                 1             66             29    300.0  26.6   \n",
      "1003 183                8             64              0      NaN  23.3   \n",
      "1004 89                 1             66             23     94.0  28.1   \n",
      "1005 137                0             40             35    168.0  43.1   \n",
      "...                   ...            ...            ...      ...   ...   \n",
      "1764 101               10             76             48    180.0  32.9   \n",
      "1765 122                2             70             27      0.0  36.8   \n",
      "1766 121                5             72             23    112.0  26.2   \n",
      "1767 126                1             60              0      0.0  30.1   \n",
      "1768 93                 1             70             31      0.0  30.4   \n",
      "\n",
      "              DiabetesPedigreeFunction  Age  Outcome  \n",
      "Pid  Glucose                                          \n",
      "1001 148                         0.627   50        1  \n",
      "1002 85                          0.351   31        0  \n",
      "1003 183                         0.672   32        1  \n",
      "1004 89                          0.167   21        0  \n",
      "1005 137                         2.288   33        1  \n",
      "...                                ...  ...      ...  \n",
      "1764 101                         0.171   63        0  \n",
      "1765 122                         0.340   27        0  \n",
      "1766 121                         0.245   30        0  \n",
      "1767 126                         0.349   47        1  \n",
      "1768 93                          0.315   23        0  \n",
      "\n",
      "[768 rows x 8 columns]\n"
     ]
    }
   ],
   "source": [
    "df=pd.read_csv(\"diabetes.csv\",index_col=['Pid','Glucose'])\n",
    "print(df)"
   ]
  },
  {
   "cell_type": "code",
   "execution_count": null,
   "id": "8700f6d9-e95f-4e98-afce-cd9918535eaa",
   "metadata": {},
   "outputs": [],
   "source": [
    "#Selections: Specific Columns or rows\n",
    "#Label based selection: at[],loc[]\n",
    "#Index based selection: iloc[]\n",
    "#Conditonal Selections: df[condition(s)]"
   ]
  },
  {
   "cell_type": "code",
   "execution_count": 15,
   "id": "c6e09ddb-c331-4756-9c16-b3d0656bde1c",
   "metadata": {},
   "outputs": [
    {
     "name": "stdout",
     "output_type": "stream",
     "text": [
      "      Pregnancies  Glucose  BloodPressure  SkinThickness  Insulin   BMI  \\\n",
      "Pid                                                                       \n",
      "1001            6      148             72             35    250.0  33.6   \n",
      "1002            1       85             66             29    300.0  26.6   \n",
      "1003            8      183             64              0      NaN  23.3   \n",
      "1004            1       89             66             23     94.0  28.1   \n",
      "1005            0      137             40             35    168.0  43.1   \n",
      "...           ...      ...            ...            ...      ...   ...   \n",
      "1764           10      101             76             48    180.0  32.9   \n",
      "1765            2      122             70             27      0.0  36.8   \n",
      "1766            5      121             72             23    112.0  26.2   \n",
      "1767            1      126             60              0      0.0  30.1   \n",
      "1768            1       93             70             31      0.0  30.4   \n",
      "\n",
      "      DiabetesPedigreeFunction  Age  Outcome  \n",
      "Pid                                           \n",
      "1001                     0.627   50        1  \n",
      "1002                     0.351   31        0  \n",
      "1003                     0.672   32        1  \n",
      "1004                     0.167   21        0  \n",
      "1005                     2.288   33        1  \n",
      "...                        ...  ...      ...  \n",
      "1764                     0.171   63        0  \n",
      "1765                     0.340   27        0  \n",
      "1766                     0.245   30        0  \n",
      "1767                     0.349   47        1  \n",
      "1768                     0.315   23        0  \n",
      "\n",
      "[768 rows x 9 columns]\n"
     ]
    }
   ],
   "source": [
    "#Label based selection: at[],loc[]\n",
    "df=pd.read_csv(\"diabetes.csv\",index_col=['Pid'])\n",
    "print(df)"
   ]
  },
  {
   "cell_type": "code",
   "execution_count": 16,
   "id": "bb6fb90f-b72a-4505-9ad5-f8e2b0293a17",
   "metadata": {},
   "outputs": [
    {
     "name": "stdout",
     "output_type": "stream",
     "text": [
      "Age of ID:1004 21\n"
     ]
    }
   ],
   "source": [
    "#at[row_index,column_label]\n",
    "print(\"Age of ID:1004\",df.at[1004,'Age'])"
   ]
  },
  {
   "cell_type": "code",
   "execution_count": 17,
   "id": "8f016f07-93ca-4d99-8cda-c0b18ef5542c",
   "metadata": {},
   "outputs": [],
   "source": [
    "df.at[1004,'Age']=35"
   ]
  },
  {
   "cell_type": "code",
   "execution_count": 18,
   "id": "e547a46e-08a9-40f8-b997-84c072e1c7ff",
   "metadata": {},
   "outputs": [
    {
     "name": "stdout",
     "output_type": "stream",
     "text": [
      "      Pregnancies  Glucose  BloodPressure  SkinThickness  Insulin   BMI  \\\n",
      "Pid                                                                       \n",
      "1001            6      148             72             35    250.0  33.6   \n",
      "1002            1       85             66             29    300.0  26.6   \n",
      "1003            8      183             64              0      NaN  23.3   \n",
      "1004            1       89             66             23     94.0  28.1   \n",
      "1005            0      137             40             35    168.0  43.1   \n",
      "...           ...      ...            ...            ...      ...   ...   \n",
      "1764           10      101             76             48    180.0  32.9   \n",
      "1765            2      122             70             27      0.0  36.8   \n",
      "1766            5      121             72             23    112.0  26.2   \n",
      "1767            1      126             60              0      0.0  30.1   \n",
      "1768            1       93             70             31      0.0  30.4   \n",
      "\n",
      "      DiabetesPedigreeFunction  Age  Outcome  \n",
      "Pid                                           \n",
      "1001                     0.627   50        1  \n",
      "1002                     0.351   31        0  \n",
      "1003                     0.672   32        1  \n",
      "1004                     0.167   35        0  \n",
      "1005                     2.288   33        1  \n",
      "...                        ...  ...      ...  \n",
      "1764                     0.171   63        0  \n",
      "1765                     0.340   27        0  \n",
      "1766                     0.245   30        0  \n",
      "1767                     0.349   47        1  \n",
      "1768                     0.315   23        0  \n",
      "\n",
      "[768 rows x 9 columns]\n"
     ]
    }
   ],
   "source": [
    "print(df)"
   ]
  },
  {
   "cell_type": "code",
   "execution_count": 19,
   "id": "90f598a7-f36a-467b-b797-d10690e97715",
   "metadata": {},
   "outputs": [
    {
     "name": "stdout",
     "output_type": "stream",
     "text": [
      "      Pregnancies  BloodPressure  Age\n",
      "Pid                                  \n",
      "1001            6             72   50\n",
      "1002            1             66   31\n",
      "1003            8             64   32\n",
      "1004            1             66   35\n",
      "1005            0             40   33\n"
     ]
    }
   ],
   "source": [
    "#df.loc[row_index range,list of columns]\n",
    "print(df.loc[1001:1005,['Pregnancies','BloodPressure','Age']])"
   ]
  },
  {
   "cell_type": "code",
   "execution_count": 20,
   "id": "09fc1175-17e2-4798-b39f-cfa264939b85",
   "metadata": {},
   "outputs": [
    {
     "name": "stdout",
     "output_type": "stream",
     "text": [
      "      Pregnancies  BloodPressure  Age\n",
      "Pid                                  \n",
      "1001            6             72   50\n",
      "1040            4             72   56\n",
      "1544            4             90   25\n",
      "1766            5             72   30\n"
     ]
    }
   ],
   "source": [
    "print(df.loc[[1001,1040,1544,1766],['Pregnancies','BloodPressure','Age']])"
   ]
  },
  {
   "cell_type": "code",
   "execution_count": 21,
   "id": "5ac35d4f-9e28-415d-aeda-5ffc7e5eaa6e",
   "metadata": {},
   "outputs": [
    {
     "name": "stdout",
     "output_type": "stream",
     "text": [
      "      Pregnancies  BloodPressure  Age\n",
      "Pid                                  \n",
      "1001            6             72   50\n",
      "1040            4             72   56\n",
      "1544            4             90   25\n",
      "1766            5             72   30\n"
     ]
    }
   ],
   "source": [
    "df_new=df.loc[[1001,1040,1544,1766],['Pregnancies','BloodPressure','Age']]\n",
    "print(df_new)"
   ]
  },
  {
   "cell_type": "code",
   "execution_count": 23,
   "id": "93c0ce0c-e77a-4dac-aa23-421f7592d235",
   "metadata": {},
   "outputs": [
    {
     "name": "stdout",
     "output_type": "stream",
     "text": [
      "      Glucose  BloodPressure  SkinThickness\n",
      "Pid                                        \n",
      "1001      148             72             35\n",
      "1002       85             66             29\n",
      "1003      183             64              0\n",
      "1004       89             66             23\n",
      "1005      137             40             35\n"
     ]
    }
   ],
   "source": [
    "#2.Index based (can not use custom indices)\n",
    "#df.iloc[row index,column index]\n",
    "print(df.iloc[0:5,1:4])"
   ]
  },
  {
   "cell_type": "code",
   "execution_count": 26,
   "id": "127ae3e1-2ebb-478e-b8d5-cc1067e2effb",
   "metadata": {},
   "outputs": [
    {
     "name": "stdout",
     "output_type": "stream",
     "text": [
      "      Glucose  Insulin  Age\n",
      "Pid                        \n",
      "1002       85    300.0   31\n",
      "1046      180      0.0   25\n",
      "1064      141    128.0   24\n"
     ]
    }
   ],
   "source": [
    "print(df.iloc[[1,45,63],[1,4,7]])"
   ]
  },
  {
   "cell_type": "code",
   "execution_count": 27,
   "id": "5748ddca-73c9-4f06-869a-212d82d588da",
   "metadata": {},
   "outputs": [
    {
     "name": "stdout",
     "output_type": "stream",
     "text": [
      "<class 'pandas.core.frame.DataFrame'>\n",
      "Index: 768 entries, 1001 to 1768\n",
      "Data columns (total 9 columns):\n",
      " #   Column                    Non-Null Count  Dtype  \n",
      "---  ------                    --------------  -----  \n",
      " 0   Pregnancies               768 non-null    int64  \n",
      " 1   Glucose                   768 non-null    int64  \n",
      " 2   BloodPressure             768 non-null    int64  \n",
      " 3   SkinThickness             768 non-null    int64  \n",
      " 4   Insulin                   766 non-null    float64\n",
      " 5   BMI                       768 non-null    float64\n",
      " 6   DiabetesPedigreeFunction  768 non-null    float64\n",
      " 7   Age                       768 non-null    int64  \n",
      " 8   Outcome                   768 non-null    int64  \n",
      "dtypes: float64(3), int64(6)\n",
      "memory usage: 76.2 KB\n"
     ]
    }
   ],
   "source": [
    "df.info()"
   ]
  },
  {
   "cell_type": "code",
   "execution_count": 28,
   "id": "0144f40f-52bb-4834-840e-cb7136e13c04",
   "metadata": {},
   "outputs": [
    {
     "name": "stdout",
     "output_type": "stream",
     "text": [
      "      Pregnancies  Glucose  BloodPressure  SkinThickness  Insulin   BMI  \\\n",
      "Pid                                                                       \n",
      "1116            4      146             92              0      0.0  31.2   \n",
      "1124            5      132             80              0      0.0  26.8   \n",
      "1130            0      105             84              0      0.0  27.9   \n",
      "1149            5      147             78              0      0.0  33.7   \n",
      "1222            2      158             90              0      0.0  31.6   \n",
      "1224            7      142             60             33    190.0  28.8   \n",
      "1264            3      142             80             15      0.0  32.4   \n",
      "1295            0      161             50              0      0.0  21.9   \n",
      "1362            5      158             70              0      0.0  29.8   \n",
      "1363            5      103            108             37      0.0  39.2   \n",
      "1364            4      146             78              0      0.0  38.5   \n",
      "1454            2      119              0              0      0.0  19.6   \n",
      "1457            1      135             54              0      0.0  26.7   \n",
      "1460            9      134             74             33     60.0  25.9   \n",
      "1480            4      132             86             31      0.0  28.0   \n",
      "1490            8      194             80              0      0.0  26.1   \n",
      "1496            6      166             74              0      0.0  26.6   \n",
      "1510            8      120             78              0      0.0  25.0   \n",
      "1538            0       57             60              0      0.0  21.7   \n",
      "1553            6      114             88              0      0.0  27.8   \n",
      "1580            2      197             70             99      0.0  34.7   \n",
      "1583           12      121             78             17      0.0  26.5   \n",
      "1667            4      145             82             18      0.0  32.5   \n",
      "1675            8       91             82              0      0.0  35.6   \n",
      "1685            5      136             82              0      0.0   0.0   \n",
      "1760            6      190             92              0      0.0  35.5   \n",
      "1764           10      101             76             48    180.0  32.9   \n",
      "\n",
      "      DiabetesPedigreeFunction  Age  Outcome  \n",
      "Pid                                           \n",
      "1116                     0.539   61        1  \n",
      "1124                     0.186   69        0  \n",
      "1130                     0.741   62        1  \n",
      "1149                     0.218   65        0  \n",
      "1222                     0.805   66        1  \n",
      "1224                     0.687   61        0  \n",
      "1264                     0.200   63        0  \n",
      "1295                     0.254   65        0  \n",
      "1362                     0.207   63        0  \n",
      "1363                     0.305   65        0  \n",
      "1364                     0.520   67        1  \n",
      "1454                     0.832   72        0  \n",
      "1457                     0.687   62        0  \n",
      "1460                     0.460   81        0  \n",
      "1480                     0.419   63        0  \n",
      "1490                     0.551   67        0  \n",
      "1496                     0.304   66        0  \n",
      "1510                     0.409   64        0  \n",
      "1538                     0.735   67        0  \n",
      "1553                     0.247   66        0  \n",
      "1580                     0.575   62        1  \n",
      "1583                     0.259   62        0  \n",
      "1667                     0.235   70        1  \n",
      "1675                     0.587   68        0  \n",
      "1685                     0.640   69        0  \n",
      "1760                     0.278   66        1  \n",
      "1764                     0.171   63        0  \n"
     ]
    }
   ],
   "source": [
    "#3.Conditional selection\n",
    "print(df[df['Age']>60])"
   ]
  },
  {
   "cell_type": "code",
   "execution_count": 30,
   "id": "2b32c465-9930-4430-ab76-726f8ece217f",
   "metadata": {},
   "outputs": [
    {
     "data": {
      "text/html": [
       "<div>\n",
       "<style scoped>\n",
       "    .dataframe tbody tr th:only-of-type {\n",
       "        vertical-align: middle;\n",
       "    }\n",
       "\n",
       "    .dataframe tbody tr th {\n",
       "        vertical-align: top;\n",
       "    }\n",
       "\n",
       "    .dataframe thead th {\n",
       "        text-align: right;\n",
       "    }\n",
       "</style>\n",
       "<table border=\"1\" class=\"dataframe\">\n",
       "  <thead>\n",
       "    <tr style=\"text-align: right;\">\n",
       "      <th></th>\n",
       "      <th>Pregnancies</th>\n",
       "      <th>Glucose</th>\n",
       "      <th>BloodPressure</th>\n",
       "      <th>SkinThickness</th>\n",
       "      <th>Insulin</th>\n",
       "      <th>BMI</th>\n",
       "      <th>DiabetesPedigreeFunction</th>\n",
       "      <th>Age</th>\n",
       "      <th>Outcome</th>\n",
       "    </tr>\n",
       "    <tr>\n",
       "      <th>Pid</th>\n",
       "      <th></th>\n",
       "      <th></th>\n",
       "      <th></th>\n",
       "      <th></th>\n",
       "      <th></th>\n",
       "      <th></th>\n",
       "      <th></th>\n",
       "      <th></th>\n",
       "      <th></th>\n",
       "    </tr>\n",
       "  </thead>\n",
       "  <tbody>\n",
       "    <tr>\n",
       "      <th>1116</th>\n",
       "      <td>4</td>\n",
       "      <td>146</td>\n",
       "      <td>92</td>\n",
       "      <td>0</td>\n",
       "      <td>0.0</td>\n",
       "      <td>31.2</td>\n",
       "      <td>0.539</td>\n",
       "      <td>61</td>\n",
       "      <td>1</td>\n",
       "    </tr>\n",
       "    <tr>\n",
       "      <th>1363</th>\n",
       "      <td>5</td>\n",
       "      <td>103</td>\n",
       "      <td>108</td>\n",
       "      <td>37</td>\n",
       "      <td>0.0</td>\n",
       "      <td>39.2</td>\n",
       "      <td>0.305</td>\n",
       "      <td>65</td>\n",
       "      <td>0</td>\n",
       "    </tr>\n",
       "    <tr>\n",
       "      <th>1760</th>\n",
       "      <td>6</td>\n",
       "      <td>190</td>\n",
       "      <td>92</td>\n",
       "      <td>0</td>\n",
       "      <td>0.0</td>\n",
       "      <td>35.5</td>\n",
       "      <td>0.278</td>\n",
       "      <td>66</td>\n",
       "      <td>1</td>\n",
       "    </tr>\n",
       "  </tbody>\n",
       "</table>\n",
       "</div>"
      ],
      "text/plain": [
       "      Pregnancies  Glucose  BloodPressure  SkinThickness  Insulin   BMI  \\\n",
       "Pid                                                                       \n",
       "1116            4      146             92              0      0.0  31.2   \n",
       "1363            5      103            108             37      0.0  39.2   \n",
       "1760            6      190             92              0      0.0  35.5   \n",
       "\n",
       "      DiabetesPedigreeFunction  Age  Outcome  \n",
       "Pid                                           \n",
       "1116                     0.539   61        1  \n",
       "1363                     0.305   65        0  \n",
       "1760                     0.278   66        1  "
      ]
     },
     "execution_count": 30,
     "metadata": {},
     "output_type": "execute_result"
    }
   ],
   "source": [
    "#and-&, or-|\n",
    "df[(df['Age']>60) & (df['BloodPressure']>90)]"
   ]
  },
  {
   "cell_type": "code",
   "execution_count": 31,
   "id": "15d9ac03-fd2e-4619-8538-bde6507f4d17",
   "metadata": {},
   "outputs": [
    {
     "data": {
      "text/html": [
       "<div>\n",
       "<style scoped>\n",
       "    .dataframe tbody tr th:only-of-type {\n",
       "        vertical-align: middle;\n",
       "    }\n",
       "\n",
       "    .dataframe tbody tr th {\n",
       "        vertical-align: top;\n",
       "    }\n",
       "\n",
       "    .dataframe thead th {\n",
       "        text-align: right;\n",
       "    }\n",
       "</style>\n",
       "<table border=\"1\" class=\"dataframe\">\n",
       "  <thead>\n",
       "    <tr style=\"text-align: right;\">\n",
       "      <th></th>\n",
       "      <th>Pregnancies</th>\n",
       "      <th>Glucose</th>\n",
       "      <th>BloodPressure</th>\n",
       "      <th>SkinThickness</th>\n",
       "      <th>Insulin</th>\n",
       "      <th>BMI</th>\n",
       "      <th>DiabetesPedigreeFunction</th>\n",
       "      <th>Age</th>\n",
       "      <th>Outcome</th>\n",
       "    </tr>\n",
       "    <tr>\n",
       "      <th>Pid</th>\n",
       "      <th></th>\n",
       "      <th></th>\n",
       "      <th></th>\n",
       "      <th></th>\n",
       "      <th></th>\n",
       "      <th></th>\n",
       "      <th></th>\n",
       "      <th></th>\n",
       "      <th></th>\n",
       "    </tr>\n",
       "  </thead>\n",
       "  <tbody>\n",
       "    <tr>\n",
       "      <th>1010</th>\n",
       "      <td>8</td>\n",
       "      <td>125</td>\n",
       "      <td>96</td>\n",
       "      <td>0</td>\n",
       "      <td>0.0</td>\n",
       "      <td>0.0</td>\n",
       "      <td>0.232</td>\n",
       "      <td>54</td>\n",
       "      <td>1</td>\n",
       "    </tr>\n",
       "    <tr>\n",
       "      <th>1011</th>\n",
       "      <td>4</td>\n",
       "      <td>110</td>\n",
       "      <td>92</td>\n",
       "      <td>0</td>\n",
       "      <td>0.0</td>\n",
       "      <td>37.6</td>\n",
       "      <td>0.191</td>\n",
       "      <td>30</td>\n",
       "      <td>0</td>\n",
       "    </tr>\n",
       "    <tr>\n",
       "      <th>1025</th>\n",
       "      <td>11</td>\n",
       "      <td>143</td>\n",
       "      <td>94</td>\n",
       "      <td>33</td>\n",
       "      <td>146.0</td>\n",
       "      <td>36.6</td>\n",
       "      <td>0.254</td>\n",
       "      <td>51</td>\n",
       "      <td>1</td>\n",
       "    </tr>\n",
       "    <tr>\n",
       "      <th>1030</th>\n",
       "      <td>5</td>\n",
       "      <td>117</td>\n",
       "      <td>92</td>\n",
       "      <td>0</td>\n",
       "      <td>0.0</td>\n",
       "      <td>34.1</td>\n",
       "      <td>0.337</td>\n",
       "      <td>38</td>\n",
       "      <td>0</td>\n",
       "    </tr>\n",
       "    <tr>\n",
       "      <th>1034</th>\n",
       "      <td>6</td>\n",
       "      <td>92</td>\n",
       "      <td>92</td>\n",
       "      <td>0</td>\n",
       "      <td>0.0</td>\n",
       "      <td>19.9</td>\n",
       "      <td>0.188</td>\n",
       "      <td>28</td>\n",
       "      <td>0</td>\n",
       "    </tr>\n",
       "    <tr>\n",
       "      <th>...</th>\n",
       "      <td>...</td>\n",
       "      <td>...</td>\n",
       "      <td>...</td>\n",
       "      <td>...</td>\n",
       "      <td>...</td>\n",
       "      <td>...</td>\n",
       "      <td>...</td>\n",
       "      <td>...</td>\n",
       "      <td>...</td>\n",
       "    </tr>\n",
       "    <tr>\n",
       "      <th>1725</th>\n",
       "      <td>1</td>\n",
       "      <td>111</td>\n",
       "      <td>94</td>\n",
       "      <td>0</td>\n",
       "      <td>0.0</td>\n",
       "      <td>32.8</td>\n",
       "      <td>0.265</td>\n",
       "      <td>45</td>\n",
       "      <td>0</td>\n",
       "    </tr>\n",
       "    <tr>\n",
       "      <th>1744</th>\n",
       "      <td>9</td>\n",
       "      <td>140</td>\n",
       "      <td>94</td>\n",
       "      <td>0</td>\n",
       "      <td>0.0</td>\n",
       "      <td>32.7</td>\n",
       "      <td>0.734</td>\n",
       "      <td>45</td>\n",
       "      <td>1</td>\n",
       "    </tr>\n",
       "    <tr>\n",
       "      <th>1747</th>\n",
       "      <td>1</td>\n",
       "      <td>147</td>\n",
       "      <td>94</td>\n",
       "      <td>41</td>\n",
       "      <td>0.0</td>\n",
       "      <td>49.3</td>\n",
       "      <td>0.358</td>\n",
       "      <td>27</td>\n",
       "      <td>1</td>\n",
       "    </tr>\n",
       "    <tr>\n",
       "      <th>1760</th>\n",
       "      <td>6</td>\n",
       "      <td>190</td>\n",
       "      <td>92</td>\n",
       "      <td>0</td>\n",
       "      <td>0.0</td>\n",
       "      <td>35.5</td>\n",
       "      <td>0.278</td>\n",
       "      <td>66</td>\n",
       "      <td>1</td>\n",
       "    </tr>\n",
       "    <tr>\n",
       "      <th>1764</th>\n",
       "      <td>10</td>\n",
       "      <td>101</td>\n",
       "      <td>76</td>\n",
       "      <td>48</td>\n",
       "      <td>180.0</td>\n",
       "      <td>32.9</td>\n",
       "      <td>0.171</td>\n",
       "      <td>63</td>\n",
       "      <td>0</td>\n",
       "    </tr>\n",
       "  </tbody>\n",
       "</table>\n",
       "<p>62 rows × 9 columns</p>\n",
       "</div>"
      ],
      "text/plain": [
       "      Pregnancies  Glucose  BloodPressure  SkinThickness  Insulin   BMI  \\\n",
       "Pid                                                                       \n",
       "1010            8      125             96              0      0.0   0.0   \n",
       "1011            4      110             92              0      0.0  37.6   \n",
       "1025           11      143             94             33    146.0  36.6   \n",
       "1030            5      117             92              0      0.0  34.1   \n",
       "1034            6       92             92              0      0.0  19.9   \n",
       "...           ...      ...            ...            ...      ...   ...   \n",
       "1725            1      111             94              0      0.0  32.8   \n",
       "1744            9      140             94              0      0.0  32.7   \n",
       "1747            1      147             94             41      0.0  49.3   \n",
       "1760            6      190             92              0      0.0  35.5   \n",
       "1764           10      101             76             48    180.0  32.9   \n",
       "\n",
       "      DiabetesPedigreeFunction  Age  Outcome  \n",
       "Pid                                           \n",
       "1010                     0.232   54        1  \n",
       "1011                     0.191   30        0  \n",
       "1025                     0.254   51        1  \n",
       "1030                     0.337   38        0  \n",
       "1034                     0.188   28        0  \n",
       "...                        ...  ...      ...  \n",
       "1725                     0.265   45        0  \n",
       "1744                     0.734   45        1  \n",
       "1747                     0.358   27        1  \n",
       "1760                     0.278   66        1  \n",
       "1764                     0.171   63        0  \n",
       "\n",
       "[62 rows x 9 columns]"
      ]
     },
     "execution_count": 31,
     "metadata": {},
     "output_type": "execute_result"
    }
   ],
   "source": [
    "df[(df['Age']>60) | (df['BloodPressure']>90)]"
   ]
  },
  {
   "cell_type": "code",
   "execution_count": 34,
   "id": "53d7cd96-ce19-42bd-a25e-60d06e9497fd",
   "metadata": {},
   "outputs": [
    {
     "name": "stdout",
     "output_type": "stream",
     "text": [
      "      Pregnancies  Glucose  BloodPressure  SkinThickness  Insulin   BMI  \\\n",
      "Pid                                                                       \n",
      "1474            7      136             90              0      0.0  29.9   \n",
      "1661           10      162             84              0      0.0  27.7   \n",
      "1746           12      100             84             33    105.0  30.0   \n",
      "1158            1      109             56             21    135.0  25.2   \n",
      "1202            1      138             82              0      0.0  40.1   \n",
      "\n",
      "      DiabetesPedigreeFunction  Age  Outcome  \n",
      "Pid                                           \n",
      "1474                     0.210   50        0  \n",
      "1661                     0.182   54        0  \n",
      "1746                     0.488   46        0  \n",
      "1158                     0.833   23        0  \n",
      "1202                     0.236   28        0  \n"
     ]
    }
   ],
   "source": [
    "#Random Selections\n",
    "print(df.sample(5))"
   ]
  },
  {
   "cell_type": "code",
   "execution_count": 35,
   "id": "a3f80d19-5357-42ae-9a1b-dc594e684a88",
   "metadata": {},
   "outputs": [],
   "source": [
    "#Adding and Dropping Columns\n",
    "\n",
    "#Adding New Column\n",
    "df.loc[:,['City']]='Mumbai'"
   ]
  },
  {
   "cell_type": "code",
   "execution_count": 36,
   "id": "1dc45526-9e2f-4fe2-8456-e87222383734",
   "metadata": {},
   "outputs": [
    {
     "name": "stdout",
     "output_type": "stream",
     "text": [
      "      Pregnancies  Glucose  BloodPressure  SkinThickness  Insulin   BMI  \\\n",
      "Pid                                                                       \n",
      "1001            6      148             72             35    250.0  33.6   \n",
      "1002            1       85             66             29    300.0  26.6   \n",
      "1003            8      183             64              0      NaN  23.3   \n",
      "1004            1       89             66             23     94.0  28.1   \n",
      "1005            0      137             40             35    168.0  43.1   \n",
      "...           ...      ...            ...            ...      ...   ...   \n",
      "1764           10      101             76             48    180.0  32.9   \n",
      "1765            2      122             70             27      0.0  36.8   \n",
      "1766            5      121             72             23    112.0  26.2   \n",
      "1767            1      126             60              0      0.0  30.1   \n",
      "1768            1       93             70             31      0.0  30.4   \n",
      "\n",
      "      DiabetesPedigreeFunction  Age  Outcome    City  \n",
      "Pid                                                   \n",
      "1001                     0.627   50        1  Mumbai  \n",
      "1002                     0.351   31        0  Mumbai  \n",
      "1003                     0.672   32        1  Mumbai  \n",
      "1004                     0.167   35        0  Mumbai  \n",
      "1005                     2.288   33        1  Mumbai  \n",
      "...                        ...  ...      ...     ...  \n",
      "1764                     0.171   63        0  Mumbai  \n",
      "1765                     0.340   27        0  Mumbai  \n",
      "1766                     0.245   30        0  Mumbai  \n",
      "1767                     0.349   47        1  Mumbai  \n",
      "1768                     0.315   23        0  Mumbai  \n",
      "\n",
      "[768 rows x 10 columns]\n"
     ]
    }
   ],
   "source": [
    "print(df)"
   ]
  },
  {
   "cell_type": "code",
   "execution_count": 39,
   "id": "6f89570e-660e-4b2a-a2f1-cee1f975059d",
   "metadata": {},
   "outputs": [
    {
     "name": "stdout",
     "output_type": "stream",
     "text": [
      "      Pregnancies  Glucose  BloodPressure  SkinThickness  Insulin   BMI  \\\n",
      "Pid                                                                       \n",
      "1001            6      148             72             35    250.0  33.6   \n",
      "1002            1       85             66             29    300.0  26.6   \n",
      "1003            8      183             64              0      NaN  23.3   \n",
      "1004            1       89             66             23     94.0  28.1   \n",
      "1005            0      137             40             35    168.0  43.1   \n",
      "...           ...      ...            ...            ...      ...   ...   \n",
      "1764           10      101             76             48    180.0  32.9   \n",
      "1765            2      122             70             27      0.0  36.8   \n",
      "1766            5      121             72             23    112.0  26.2   \n",
      "1767            1      126             60              0      0.0  30.1   \n",
      "1768            1       93             70             31      0.0  30.4   \n",
      "\n",
      "      DiabetesPedigreeFunction  Age    City  \n",
      "Pid                                          \n",
      "1001                     0.627   50  Mumbai  \n",
      "1002                     0.351   31  Mumbai  \n",
      "1003                     0.672   32  Mumbai  \n",
      "1004                     0.167   35  Mumbai  \n",
      "1005                     2.288   33  Mumbai  \n",
      "...                        ...  ...     ...  \n",
      "1764                     0.171   63  Mumbai  \n",
      "1765                     0.340   27  Mumbai  \n",
      "1766                     0.245   30  Mumbai  \n",
      "1767                     0.349   47  Mumbai  \n",
      "1768                     0.315   23  Mumbai  \n",
      "\n",
      "[768 rows x 9 columns]\n"
     ]
    }
   ],
   "source": [
    "#Dropping Columns and rows: drop()\n",
    "df_updated=df.drop(['Outcome'],axis=1)  #axis=0 for rows\n",
    "print(df_updated)"
   ]
  },
  {
   "cell_type": "code",
   "execution_count": 40,
   "id": "24398783-ffda-44e3-84c5-34a586a4301a",
   "metadata": {},
   "outputs": [
    {
     "name": "stdout",
     "output_type": "stream",
     "text": [
      "      Pregnancies  Glucose  BloodPressure  SkinThickness  Insulin   BMI  \\\n",
      "Pid                                                                       \n",
      "1001            6      148             72             35    250.0  33.6   \n",
      "1002            1       85             66             29    300.0  26.6   \n",
      "1003            8      183             64              0      NaN  23.3   \n",
      "1004            1       89             66             23     94.0  28.1   \n",
      "1005            0      137             40             35    168.0  43.1   \n",
      "...           ...      ...            ...            ...      ...   ...   \n",
      "1764           10      101             76             48    180.0  32.9   \n",
      "1765            2      122             70             27      0.0  36.8   \n",
      "1766            5      121             72             23    112.0  26.2   \n",
      "1767            1      126             60              0      0.0  30.1   \n",
      "1768            1       93             70             31      0.0  30.4   \n",
      "\n",
      "      DiabetesPedigreeFunction  Age  Outcome    City  \n",
      "Pid                                                   \n",
      "1001                     0.627   50        1  Mumbai  \n",
      "1002                     0.351   31        0  Mumbai  \n",
      "1003                     0.672   32        1  Mumbai  \n",
      "1004                     0.167   35        0  Mumbai  \n",
      "1005                     2.288   33        1  Mumbai  \n",
      "...                        ...  ...      ...     ...  \n",
      "1764                     0.171   63        0  Mumbai  \n",
      "1765                     0.340   27        0  Mumbai  \n",
      "1766                     0.245   30        0  Mumbai  \n",
      "1767                     0.349   47        1  Mumbai  \n",
      "1768                     0.315   23        0  Mumbai  \n",
      "\n",
      "[768 rows x 10 columns]\n"
     ]
    }
   ],
   "source": [
    "print(df)"
   ]
  },
  {
   "cell_type": "code",
   "execution_count": 41,
   "id": "7f596572-f868-4b65-836b-eedaf6e3af9b",
   "metadata": {},
   "outputs": [],
   "source": [
    "df.drop(['Outcome'],axis=1,inplace=True)"
   ]
  },
  {
   "cell_type": "code",
   "execution_count": 42,
   "id": "e7be7f97-252b-4c6c-8f61-0dcb88975554",
   "metadata": {},
   "outputs": [
    {
     "name": "stdout",
     "output_type": "stream",
     "text": [
      "      Pregnancies  Glucose  BloodPressure  SkinThickness  Insulin   BMI  \\\n",
      "Pid                                                                       \n",
      "1001            6      148             72             35    250.0  33.6   \n",
      "1002            1       85             66             29    300.0  26.6   \n",
      "1003            8      183             64              0      NaN  23.3   \n",
      "1004            1       89             66             23     94.0  28.1   \n",
      "1005            0      137             40             35    168.0  43.1   \n",
      "...           ...      ...            ...            ...      ...   ...   \n",
      "1764           10      101             76             48    180.0  32.9   \n",
      "1765            2      122             70             27      0.0  36.8   \n",
      "1766            5      121             72             23    112.0  26.2   \n",
      "1767            1      126             60              0      0.0  30.1   \n",
      "1768            1       93             70             31      0.0  30.4   \n",
      "\n",
      "      DiabetesPedigreeFunction  Age    City  \n",
      "Pid                                          \n",
      "1001                     0.627   50  Mumbai  \n",
      "1002                     0.351   31  Mumbai  \n",
      "1003                     0.672   32  Mumbai  \n",
      "1004                     0.167   35  Mumbai  \n",
      "1005                     2.288   33  Mumbai  \n",
      "...                        ...  ...     ...  \n",
      "1764                     0.171   63  Mumbai  \n",
      "1765                     0.340   27  Mumbai  \n",
      "1766                     0.245   30  Mumbai  \n",
      "1767                     0.349   47  Mumbai  \n",
      "1768                     0.315   23  Mumbai  \n",
      "\n",
      "[768 rows x 9 columns]\n"
     ]
    }
   ],
   "source": [
    "print(df)"
   ]
  },
  {
   "cell_type": "code",
   "execution_count": 43,
   "id": "b20b51a9-ef0f-4d10-b653-19eec1947710",
   "metadata": {},
   "outputs": [
    {
     "name": "stdout",
     "output_type": "stream",
     "text": [
      "      Pregnancies  Glucose  BloodPressure  SkinThickness  Insulin   BMI  \\\n",
      "Pid                                                                       \n",
      "1002            1       85             66             29    300.0  26.6   \n",
      "1003            8      183             64              0      NaN  23.3   \n",
      "1004            1       89             66             23     94.0  28.1   \n",
      "1005            0      137             40             35    168.0  43.1   \n",
      "1006            5      116             74              0      NaN  25.6   \n",
      "...           ...      ...            ...            ...      ...   ...   \n",
      "1764           10      101             76             48    180.0  32.9   \n",
      "1765            2      122             70             27      0.0  36.8   \n",
      "1766            5      121             72             23    112.0  26.2   \n",
      "1767            1      126             60              0      0.0  30.1   \n",
      "1768            1       93             70             31      0.0  30.4   \n",
      "\n",
      "      DiabetesPedigreeFunction  Age    City  \n",
      "Pid                                          \n",
      "1002                     0.351   31  Mumbai  \n",
      "1003                     0.672   32  Mumbai  \n",
      "1004                     0.167   35  Mumbai  \n",
      "1005                     2.288   33  Mumbai  \n",
      "1006                     0.201   30  Mumbai  \n",
      "...                        ...  ...     ...  \n",
      "1764                     0.171   63  Mumbai  \n",
      "1765                     0.340   27  Mumbai  \n",
      "1766                     0.245   30  Mumbai  \n",
      "1767                     0.349   47  Mumbai  \n",
      "1768                     0.315   23  Mumbai  \n",
      "\n",
      "[767 rows x 9 columns]\n"
     ]
    }
   ],
   "source": [
    "#Deleting Rows\n",
    "df.drop([1001],axis=0,inplace=True)\n",
    "print(df)"
   ]
  },
  {
   "cell_type": "code",
   "execution_count": 45,
   "id": "525df587-c68e-4937-99a4-3035a5702d9c",
   "metadata": {},
   "outputs": [
    {
     "name": "stdout",
     "output_type": "stream",
     "text": [
      "      Pregnancies  Glucose  BloodPressure  SkinThickness  Insulin   BMI  \\\n",
      "Pid                                                                       \n",
      "1460            9      134             74             33     60.0  25.9   \n",
      "1454            2      119              0              0      0.0  19.6   \n",
      "1667            4      145             82             18      0.0  32.5   \n",
      "1685            5      136             82              0      0.0   0.0   \n",
      "1124            5      132             80              0      0.0  26.8   \n",
      "...           ...      ...            ...            ...      ...   ...   \n",
      "1241            1       91             64             24      0.0  29.2   \n",
      "1383            1      109             60              8    182.0  25.4   \n",
      "1393            1      131             64             14    415.0  23.7   \n",
      "1146            0      102             75             23      0.0   0.0   \n",
      "1274            1       71             78             50     45.0  33.2   \n",
      "\n",
      "      DiabetesPedigreeFunction  Age    City  \n",
      "Pid                                          \n",
      "1460                     0.460   81  Mumbai  \n",
      "1454                     0.832   72  Mumbai  \n",
      "1667                     0.235   70  Mumbai  \n",
      "1685                     0.640   69  Mumbai  \n",
      "1124                     0.186   69  Mumbai  \n",
      "...                        ...  ...     ...  \n",
      "1241                     0.192   21  Mumbai  \n",
      "1383                     0.947   21  Mumbai  \n",
      "1393                     0.389   21  Mumbai  \n",
      "1146                     0.572   21  Mumbai  \n",
      "1274                     0.422   21  Mumbai  \n",
      "\n",
      "[767 rows x 9 columns]\n"
     ]
    }
   ],
   "source": [
    "#Sorting of Records\n",
    "print(df.sort_values(by=['Age'],ascending=False))"
   ]
  },
  {
   "cell_type": "code",
   "execution_count": 46,
   "id": "1fca673c-5ba4-4b48-9753-643f73ea569c",
   "metadata": {},
   "outputs": [
    {
     "name": "stdout",
     "output_type": "stream",
     "text": [
      "      Pregnancies  Glucose  BloodPressure  SkinThickness  Insulin   BMI  \\\n",
      "Pid                                                                       \n",
      "1002            1       85             66             29    300.0  26.6   \n",
      "1003            8      183             64              0      NaN  23.3   \n",
      "1004            1       89             66             23     94.0  28.1   \n",
      "1005            0      137             40             35    168.0  43.1   \n",
      "1006            5      116             74              0      NaN  25.6   \n",
      "...           ...      ...            ...            ...      ...   ...   \n",
      "1764           10      101             76             48    180.0  32.9   \n",
      "1765            2      122             70             27      0.0  36.8   \n",
      "1766            5      121             72             23    112.0  26.2   \n",
      "1767            1      126             60              0      0.0  30.1   \n",
      "1768            1       93             70             31      0.0  30.4   \n",
      "\n",
      "      DiabetesPedigreeFunction  Age    City  \n",
      "Pid                                          \n",
      "1002                     0.351   36  Mumbai  \n",
      "1003                     0.672   37  Mumbai  \n",
      "1004                     0.167   40  Mumbai  \n",
      "1005                     2.288   38  Mumbai  \n",
      "1006                     0.201   35  Mumbai  \n",
      "...                        ...  ...     ...  \n",
      "1764                     0.171   68  Mumbai  \n",
      "1765                     0.340   32  Mumbai  \n",
      "1766                     0.245   35  Mumbai  \n",
      "1767                     0.349   52  Mumbai  \n",
      "1768                     0.315   28  Mumbai  \n",
      "\n",
      "[767 rows x 9 columns]\n"
     ]
    }
   ],
   "source": [
    "df['Age']=df['Age']+5\n",
    "print(df)"
   ]
  },
  {
   "cell_type": "code",
   "execution_count": 47,
   "id": "6dc33572-1593-4fd4-96bf-c12cd7e96cea",
   "metadata": {},
   "outputs": [
    {
     "name": "stdout",
     "output_type": "stream",
     "text": [
      "      Pregnancies  Glucose  BloodPressure  SkinThickness  Insulin   BMI  \\\n",
      "Pid                                                                       \n",
      "1002            1       85             66             29    300.0  26.6   \n",
      "1003            8      183             64              0      NaN  23.3   \n",
      "1004            1       89             66             23     94.0  28.1   \n",
      "1005            0      137             40             35    168.0  43.1   \n",
      "1006            5      116             74              0      NaN  25.6   \n",
      "...           ...      ...            ...            ...      ...   ...   \n",
      "1764           10      101             76             48    180.0  32.9   \n",
      "1765            2      122             70             27      0.0  36.8   \n",
      "1766            5      121             72             23    112.0  26.2   \n",
      "1767            1      126             60              0      0.0  30.1   \n",
      "1768            1       93             70             31      0.0  30.4   \n",
      "\n",
      "      DiabetesPedigreeFunction  Age    City  New_age  \n",
      "Pid                                                   \n",
      "1002                     0.351   36  Mumbai       31  \n",
      "1003                     0.672   37  Mumbai       32  \n",
      "1004                     0.167   40  Mumbai       35  \n",
      "1005                     2.288   38  Mumbai       33  \n",
      "1006                     0.201   35  Mumbai       30  \n",
      "...                        ...  ...     ...      ...  \n",
      "1764                     0.171   68  Mumbai       63  \n",
      "1765                     0.340   32  Mumbai       27  \n",
      "1766                     0.245   35  Mumbai       30  \n",
      "1767                     0.349   52  Mumbai       47  \n",
      "1768                     0.315   28  Mumbai       23  \n",
      "\n",
      "[767 rows x 10 columns]\n"
     ]
    }
   ],
   "source": [
    "df[\"New_age\"]=df['Age']-5\n",
    "print(df)"
   ]
  },
  {
   "cell_type": "code",
   "execution_count": 48,
   "id": "81b6a367-b621-45e3-9a47-644105b06650",
   "metadata": {},
   "outputs": [
    {
     "name": "stdout",
     "output_type": "stream",
     "text": [
      "<class 'pandas.core.frame.DataFrame'>\n",
      "Index: 767 entries, 1002 to 1768\n",
      "Data columns (total 10 columns):\n",
      " #   Column                    Non-Null Count  Dtype  \n",
      "---  ------                    --------------  -----  \n",
      " 0   Pregnancies               767 non-null    int64  \n",
      " 1   Glucose                   767 non-null    int64  \n",
      " 2   BloodPressure             767 non-null    int64  \n",
      " 3   SkinThickness             767 non-null    int64  \n",
      " 4   Insulin                   765 non-null    float64\n",
      " 5   BMI                       767 non-null    float64\n",
      " 6   DiabetesPedigreeFunction  767 non-null    float64\n",
      " 7   Age                       767 non-null    int64  \n",
      " 8   City                      767 non-null    object \n",
      " 9   New_age                   767 non-null    int64  \n",
      "dtypes: float64(3), int64(6), object(1)\n",
      "memory usage: 65.9+ KB\n"
     ]
    }
   ],
   "source": [
    "#More imp functions in Pandas\n",
    "df.info()"
   ]
  },
  {
   "cell_type": "code",
   "execution_count": 51,
   "id": "6e4955cf-2b83-4ff8-839a-04e79e5dba7c",
   "metadata": {},
   "outputs": [
    {
     "name": "stdout",
     "output_type": "stream",
     "text": [
      "       Pregnancies     Glucose  BloodPressure  SkinThickness     Insulin  \\\n",
      "count   767.000000  767.000000     767.000000     767.000000  765.000000   \n",
      "mean      3.842243  120.859192      69.101695      20.517601   81.027451   \n",
      "std       3.370877   31.978468      19.368155      15.954059  116.137040   \n",
      "min       0.000000    0.000000       0.000000       0.000000    0.000000   \n",
      "25%       1.000000   99.000000      62.000000       0.000000    0.000000   \n",
      "50%       3.000000  117.000000      72.000000      23.000000   36.000000   \n",
      "75%       6.000000  140.000000      80.000000      32.000000  130.000000   \n",
      "max      17.000000  199.000000     122.000000      99.000000  846.000000   \n",
      "\n",
      "              BMI  DiabetesPedigreeFunction         Age     New_age  \n",
      "count  767.000000                767.000000  767.000000  767.000000  \n",
      "mean    31.990482                  0.471674   38.237288   33.237288  \n",
      "std      7.889091                  0.331497   11.744162   11.744162  \n",
      "min      0.000000                  0.078000   26.000000   21.000000  \n",
      "25%     27.300000                  0.243500   29.000000   24.000000  \n",
      "50%     32.000000                  0.371000   34.000000   29.000000  \n",
      "75%     36.600000                  0.625000   46.000000   41.000000  \n",
      "max     67.100000                  2.420000   86.000000   81.000000  \n"
     ]
    },
    {
     "data": {
      "text/html": [
       "<div>\n",
       "<style scoped>\n",
       "    .dataframe tbody tr th:only-of-type {\n",
       "        vertical-align: middle;\n",
       "    }\n",
       "\n",
       "    .dataframe tbody tr th {\n",
       "        vertical-align: top;\n",
       "    }\n",
       "\n",
       "    .dataframe thead th {\n",
       "        text-align: right;\n",
       "    }\n",
       "</style>\n",
       "<table border=\"1\" class=\"dataframe\">\n",
       "  <thead>\n",
       "    <tr style=\"text-align: right;\">\n",
       "      <th></th>\n",
       "      <th>City</th>\n",
       "    </tr>\n",
       "  </thead>\n",
       "  <tbody>\n",
       "    <tr>\n",
       "      <th>count</th>\n",
       "      <td>767</td>\n",
       "    </tr>\n",
       "    <tr>\n",
       "      <th>unique</th>\n",
       "      <td>1</td>\n",
       "    </tr>\n",
       "    <tr>\n",
       "      <th>top</th>\n",
       "      <td>Mumbai</td>\n",
       "    </tr>\n",
       "    <tr>\n",
       "      <th>freq</th>\n",
       "      <td>767</td>\n",
       "    </tr>\n",
       "  </tbody>\n",
       "</table>\n",
       "</div>"
      ],
      "text/plain": [
       "          City\n",
       "count      767\n",
       "unique       1\n",
       "top     Mumbai\n",
       "freq       767"
      ]
     },
     "execution_count": 51,
     "metadata": {},
     "output_type": "execute_result"
    }
   ],
   "source": [
    "#for stats\n",
    "print(df.describe())  #Includes numerical columns only\n",
    "\n",
    "#df.describe(include='object')   #Include object datatypes also"
   ]
  },
  {
   "cell_type": "code",
   "execution_count": 52,
   "id": "c6723256-3b79-4bc7-8759-8b6d7d016766",
   "metadata": {},
   "outputs": [
    {
     "name": "stdout",
     "output_type": "stream",
     "text": [
      "      Pregnancies  Glucose  BloodPressure  SkinThickness  Insulin   BMI  \\\n",
      "Pid                                                                       \n",
      "1002            1       85             66             29    300.0  26.6   \n",
      "1003            8      183             64              0      NaN  23.3   \n",
      "1004            1       89             66             23     94.0  28.1   \n",
      "1005            0      137             40             35    168.0  43.1   \n",
      "1006            5      116             74              0      NaN  25.6   \n",
      "\n",
      "      DiabetesPedigreeFunction  Age    City  New_age  \n",
      "Pid                                                   \n",
      "1002                     0.351   36  Mumbai       31  \n",
      "1003                     0.672   37  Mumbai       32  \n",
      "1004                     0.167   40  Mumbai       35  \n",
      "1005                     2.288   38  Mumbai       33  \n",
      "1006                     0.201   35  Mumbai       30  \n"
     ]
    }
   ],
   "source": [
    "print(df.head())  #Top 5 rows"
   ]
  },
  {
   "cell_type": "code",
   "execution_count": 53,
   "id": "a3f63796-bef5-46fa-8994-b0bccaf199b8",
   "metadata": {},
   "outputs": [
    {
     "name": "stdout",
     "output_type": "stream",
     "text": [
      "      Pregnancies  Glucose  BloodPressure  SkinThickness  Insulin   BMI  \\\n",
      "Pid                                                                       \n",
      "1002            1       85             66             29    300.0  26.6   \n",
      "1003            8      183             64              0      NaN  23.3   \n",
      "1004            1       89             66             23     94.0  28.1   \n",
      "1005            0      137             40             35    168.0  43.1   \n",
      "1006            5      116             74              0      NaN  25.6   \n",
      "1007            3       78             50             32     88.0  31.0   \n",
      "1008           10      115              0              0    400.0  35.3   \n",
      "1009            2      197             70             45    543.0  30.5   \n",
      "1010            8      125             96              0      0.0   0.0   \n",
      "1011            4      110             92              0      0.0  37.6   \n",
      "\n",
      "      DiabetesPedigreeFunction  Age    City  New_age  \n",
      "Pid                                                   \n",
      "1002                     0.351   36  Mumbai       31  \n",
      "1003                     0.672   37  Mumbai       32  \n",
      "1004                     0.167   40  Mumbai       35  \n",
      "1005                     2.288   38  Mumbai       33  \n",
      "1006                     0.201   35  Mumbai       30  \n",
      "1007                     0.248   31  Mumbai       26  \n",
      "1008                     0.134   34  Mumbai       29  \n",
      "1009                     0.158   58  Mumbai       53  \n",
      "1010                     0.232   59  Mumbai       54  \n",
      "1011                     0.191   35  Mumbai       30  \n"
     ]
    }
   ],
   "source": [
    "print(df.head(10))"
   ]
  },
  {
   "cell_type": "code",
   "execution_count": 54,
   "id": "869b588c-0460-4d7f-85c0-7dc82f424d47",
   "metadata": {},
   "outputs": [
    {
     "name": "stdout",
     "output_type": "stream",
     "text": [
      "      Pregnancies  Glucose  BloodPressure  SkinThickness  Insulin   BMI  \\\n",
      "Pid                                                                       \n",
      "1764           10      101             76             48    180.0  32.9   \n",
      "1765            2      122             70             27      0.0  36.8   \n",
      "1766            5      121             72             23    112.0  26.2   \n",
      "1767            1      126             60              0      0.0  30.1   \n",
      "1768            1       93             70             31      0.0  30.4   \n",
      "\n",
      "      DiabetesPedigreeFunction  Age    City  New_age  \n",
      "Pid                                                   \n",
      "1764                     0.171   68  Mumbai       63  \n",
      "1765                     0.340   32  Mumbai       27  \n",
      "1766                     0.245   35  Mumbai       30  \n",
      "1767                     0.349   52  Mumbai       47  \n",
      "1768                     0.315   28  Mumbai       23  \n"
     ]
    }
   ],
   "source": [
    "print(df.tail())  #bottom 5 rows"
   ]
  },
  {
   "cell_type": "code",
   "execution_count": 55,
   "id": "93ddb49d-4450-4c00-b657-ec0550d3d247",
   "metadata": {},
   "outputs": [
    {
     "name": "stdout",
     "output_type": "stream",
     "text": [
      "      Pregnancies  Glucose  BloodPressure  SkinThickness  Insulin   BMI  \\\n",
      "Pid                                                                       \n",
      "1761            2       88             58             26     16.0  28.4   \n",
      "1762            9      170             74             31      0.0  44.0   \n",
      "1763            9       89             62              0      0.0  22.5   \n",
      "1764           10      101             76             48    180.0  32.9   \n",
      "1765            2      122             70             27      0.0  36.8   \n",
      "1766            5      121             72             23    112.0  26.2   \n",
      "1767            1      126             60              0      0.0  30.1   \n",
      "1768            1       93             70             31      0.0  30.4   \n",
      "\n",
      "      DiabetesPedigreeFunction  Age    City  New_age  \n",
      "Pid                                                   \n",
      "1761                     0.766   27  Mumbai       22  \n",
      "1762                     0.403   48  Mumbai       43  \n",
      "1763                     0.142   38  Mumbai       33  \n",
      "1764                     0.171   68  Mumbai       63  \n",
      "1765                     0.340   32  Mumbai       27  \n",
      "1766                     0.245   35  Mumbai       30  \n",
      "1767                     0.349   52  Mumbai       47  \n",
      "1768                     0.315   28  Mumbai       23  \n"
     ]
    }
   ],
   "source": [
    "print(df.tail(8)) "
   ]
  },
  {
   "cell_type": "code",
   "execution_count": null,
   "id": "0718a3c4-6dcc-4d72-b472-e2209f20f9c8",
   "metadata": {},
   "outputs": [],
   "source": []
  }
 ],
 "metadata": {
  "kernelspec": {
   "display_name": "Python 3 (ipykernel)",
   "language": "python",
   "name": "python3"
  },
  "language_info": {
   "codemirror_mode": {
    "name": "ipython",
    "version": 3
   },
   "file_extension": ".py",
   "mimetype": "text/x-python",
   "name": "python",
   "nbconvert_exporter": "python",
   "pygments_lexer": "ipython3",
   "version": "3.12.4"
  }
 },
 "nbformat": 4,
 "nbformat_minor": 5
}
