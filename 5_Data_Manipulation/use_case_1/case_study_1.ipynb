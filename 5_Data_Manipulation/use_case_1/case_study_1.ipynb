{
 "cells": [
  {
   "cell_type": "code",
   "execution_count": null,
   "id": "4d3eeacc-a9bb-4ff0-b2c0-d4b034197eb1",
   "metadata": {},
   "outputs": [],
   "source": []
  },
  {
   "cell_type": "markdown",
   "id": "3eec7f12-f507-43a6-ba49-a455580ba265",
   "metadata": {},
   "source": [
    "# Module 5: Data Manipulation \n",
    "## Case Study – 1  "
   ]
  },
  {
   "cell_type": "code",
   "execution_count": 47,
   "id": "5b05e53b-5189-4e12-a753-7fdcb8c9bab0",
   "metadata": {},
   "outputs": [],
   "source": [
    "from matplotlib import pyplot as plt\n",
    "import numpy as np\n",
    "import pandas as pd"
   ]
  },
  {
   "cell_type": "code",
   "execution_count": 48,
   "id": "eac63911-fad0-48b5-9a3c-fb63226a5cfb",
   "metadata": {},
   "outputs": [
    {
     "name": "stdout",
     "output_type": "stream",
     "text": [
      "<class 'pandas.core.frame.DataFrame'>\n",
      "RangeIndex: 970 entries, 0 to 969\n",
      "Data columns (total 16 columns):\n",
      " #   Column            Non-Null Count  Dtype  \n",
      "---  ------            --------------  -----  \n",
      " 0   Movie             970 non-null    object \n",
      " 1   LeadStudio        961 non-null    object \n",
      " 2   RottenTomatoes    913 non-null    float64\n",
      " 3   AudienceScore     907 non-null    float64\n",
      " 4   Story             641 non-null    object \n",
      " 5   Genre             691 non-null    object \n",
      " 6   TheatersOpenWeek  949 non-null    float64\n",
      " 7   OpeningWeekend    969 non-null    float64\n",
      " 8   BOAvgOpenWeekend  945 non-null    float64\n",
      " 9   DomesticGross     970 non-null    float64\n",
      " 10  ForeignGross      876 non-null    float64\n",
      " 11  WorldGross        914 non-null    float64\n",
      " 12  Budget            897 non-null    float64\n",
      " 13  Profitability     896 non-null    float64\n",
      " 14  OpenProfit        895 non-null    float64\n",
      " 15  Year              970 non-null    int64  \n",
      "dtypes: float64(11), int64(1), object(4)\n",
      "memory usage: 121.4+ KB\n"
     ]
    },
    {
     "data": {
      "text/html": [
       "<div>\n",
       "<style scoped>\n",
       "    .dataframe tbody tr th:only-of-type {\n",
       "        vertical-align: middle;\n",
       "    }\n",
       "\n",
       "    .dataframe tbody tr th {\n",
       "        vertical-align: top;\n",
       "    }\n",
       "\n",
       "    .dataframe thead th {\n",
       "        text-align: right;\n",
       "    }\n",
       "</style>\n",
       "<table border=\"1\" class=\"dataframe\">\n",
       "  <thead>\n",
       "    <tr style=\"text-align: right;\">\n",
       "      <th></th>\n",
       "      <th>Movie</th>\n",
       "      <th>LeadStudio</th>\n",
       "      <th>RottenTomatoes</th>\n",
       "      <th>AudienceScore</th>\n",
       "      <th>Story</th>\n",
       "      <th>Genre</th>\n",
       "      <th>TheatersOpenWeek</th>\n",
       "      <th>OpeningWeekend</th>\n",
       "      <th>BOAvgOpenWeekend</th>\n",
       "      <th>DomesticGross</th>\n",
       "      <th>ForeignGross</th>\n",
       "      <th>WorldGross</th>\n",
       "      <th>Budget</th>\n",
       "      <th>Profitability</th>\n",
       "      <th>OpenProfit</th>\n",
       "      <th>Year</th>\n",
       "    </tr>\n",
       "  </thead>\n",
       "  <tbody>\n",
       "    <tr>\n",
       "      <th>0</th>\n",
       "      <td>Spider-Man 3</td>\n",
       "      <td>Sony</td>\n",
       "      <td>61.0</td>\n",
       "      <td>54.0</td>\n",
       "      <td>Metamorphosis</td>\n",
       "      <td>Action</td>\n",
       "      <td>4252.0</td>\n",
       "      <td>151.1</td>\n",
       "      <td>35540.0</td>\n",
       "      <td>336.53</td>\n",
       "      <td>554.34</td>\n",
       "      <td>890.87</td>\n",
       "      <td>258.0</td>\n",
       "      <td>345.30</td>\n",
       "      <td>58.57</td>\n",
       "      <td>2007</td>\n",
       "    </tr>\n",
       "    <tr>\n",
       "      <th>1</th>\n",
       "      <td>Shrek the Third</td>\n",
       "      <td>Paramount</td>\n",
       "      <td>42.0</td>\n",
       "      <td>57.0</td>\n",
       "      <td>Quest</td>\n",
       "      <td>Animation</td>\n",
       "      <td>4122.0</td>\n",
       "      <td>121.6</td>\n",
       "      <td>29507.0</td>\n",
       "      <td>322.72</td>\n",
       "      <td>476.24</td>\n",
       "      <td>798.96</td>\n",
       "      <td>160.0</td>\n",
       "      <td>499.35</td>\n",
       "      <td>76.00</td>\n",
       "      <td>2007</td>\n",
       "    </tr>\n",
       "    <tr>\n",
       "      <th>2</th>\n",
       "      <td>Transformers</td>\n",
       "      <td>Paramount</td>\n",
       "      <td>57.0</td>\n",
       "      <td>89.0</td>\n",
       "      <td>Monster Force</td>\n",
       "      <td>Action</td>\n",
       "      <td>4011.0</td>\n",
       "      <td>70.5</td>\n",
       "      <td>17577.0</td>\n",
       "      <td>319.25</td>\n",
       "      <td>390.46</td>\n",
       "      <td>709.71</td>\n",
       "      <td>150.0</td>\n",
       "      <td>473.14</td>\n",
       "      <td>47.00</td>\n",
       "      <td>2007</td>\n",
       "    </tr>\n",
       "    <tr>\n",
       "      <th>3</th>\n",
       "      <td>Pirates of the Caribbean: At World's End</td>\n",
       "      <td>Disney</td>\n",
       "      <td>45.0</td>\n",
       "      <td>74.0</td>\n",
       "      <td>Rescue</td>\n",
       "      <td>Action</td>\n",
       "      <td>4362.0</td>\n",
       "      <td>114.7</td>\n",
       "      <td>26302.0</td>\n",
       "      <td>309.42</td>\n",
       "      <td>654.00</td>\n",
       "      <td>963.42</td>\n",
       "      <td>300.0</td>\n",
       "      <td>321.14</td>\n",
       "      <td>38.23</td>\n",
       "      <td>2007</td>\n",
       "    </tr>\n",
       "    <tr>\n",
       "      <th>4</th>\n",
       "      <td>Harry Potter and the Order of the Phoenix</td>\n",
       "      <td>Warner Bros</td>\n",
       "      <td>78.0</td>\n",
       "      <td>82.0</td>\n",
       "      <td>Quest</td>\n",
       "      <td>Adventure</td>\n",
       "      <td>4285.0</td>\n",
       "      <td>77.1</td>\n",
       "      <td>17998.0</td>\n",
       "      <td>292.00</td>\n",
       "      <td>647.88</td>\n",
       "      <td>939.89</td>\n",
       "      <td>150.0</td>\n",
       "      <td>626.59</td>\n",
       "      <td>51.40</td>\n",
       "      <td>2007</td>\n",
       "    </tr>\n",
       "  </tbody>\n",
       "</table>\n",
       "</div>"
      ],
      "text/plain": [
       "                                       Movie   LeadStudio  RottenTomatoes  \\\n",
       "0                               Spider-Man 3         Sony            61.0   \n",
       "1                            Shrek the Third    Paramount            42.0   \n",
       "2                               Transformers    Paramount            57.0   \n",
       "3   Pirates of the Caribbean: At World's End       Disney            45.0   \n",
       "4  Harry Potter and the Order of the Phoenix  Warner Bros            78.0   \n",
       "\n",
       "   AudienceScore          Story      Genre  TheatersOpenWeek  OpeningWeekend  \\\n",
       "0           54.0  Metamorphosis     Action            4252.0           151.1   \n",
       "1           57.0          Quest  Animation            4122.0           121.6   \n",
       "2           89.0  Monster Force     Action            4011.0            70.5   \n",
       "3           74.0         Rescue     Action            4362.0           114.7   \n",
       "4           82.0          Quest  Adventure            4285.0            77.1   \n",
       "\n",
       "   BOAvgOpenWeekend  DomesticGross  ForeignGross  WorldGross  Budget  \\\n",
       "0           35540.0         336.53        554.34      890.87   258.0   \n",
       "1           29507.0         322.72        476.24      798.96   160.0   \n",
       "2           17577.0         319.25        390.46      709.71   150.0   \n",
       "3           26302.0         309.42        654.00      963.42   300.0   \n",
       "4           17998.0         292.00        647.88      939.89   150.0   \n",
       "\n",
       "   Profitability  OpenProfit  Year  \n",
       "0         345.30       58.57  2007  \n",
       "1         499.35       76.00  2007  \n",
       "2         473.14       47.00  2007  \n",
       "3         321.14       38.23  2007  \n",
       "4         626.59       51.40  2007  "
      ]
     },
     "execution_count": 48,
     "metadata": {},
     "output_type": "execute_result"
    }
   ],
   "source": [
    "# Load the data\n",
    "data = pd.read_csv('HollywoodMovies.csv')\n",
    "data.info()\n",
    "data.head()"
   ]
  },
  {
   "cell_type": "code",
   "execution_count": 49,
   "id": "7b726295-7bb8-498c-a2f6-ee5b0b2c999c",
   "metadata": {},
   "outputs": [
    {
     "name": "stdout",
     "output_type": "stream",
     "text": [
      "Highest-rated movie in the 'Quest' story type: The Hurt Locker\n",
      "Movie               The Hurt Locker\n",
      "LeadStudio              Independent\n",
      "RottenTomatoes                 97.0\n",
      "AudienceScore                  83.0\n",
      "Story                         Quest\n",
      "Genre                         Drama\n",
      "TheatersOpenWeek                4.0\n",
      "OpeningWeekend                 0.14\n",
      "BOAvgOpenWeekend            36338.0\n",
      "DomesticGross                 17.01\n",
      "ForeignGross                  32.21\n",
      "WorldGross                    49.22\n",
      "Budget                         15.0\n",
      "Profitability                328.13\n",
      "OpenProfit                     0.93\n",
      "Year                           2009\n",
      "Name: 343, dtype: object\n"
     ]
    }
   ],
   "source": [
    "# Task 1: Find the highest-rated movie in the “Quest” story type.\n",
    "quest_movies = data[data['Story'] == 'Quest']\n",
    "highest_rated_quest_movie = quest_movies.loc[quest_movies['RottenTomatoes'].idxmax()]\n",
    "print(f\"Highest-rated movie in the 'Quest' story type: {highest_rated_quest_movie['Movie']}\")\n",
    "print(highest_rated_quest_movie)"
   ]
  },
  {
   "cell_type": "code",
   "execution_count": 50,
   "id": "ac1845e2-a1d0-4285-b4cd-d5b9b505e3be",
   "metadata": {},
   "outputs": [
    {
     "name": "stdout",
     "output_type": "stream",
     "text": [
      "Genre with the greatest number of movie releases: Comedy\n"
     ]
    },
    {
     "data": {
      "text/plain": [
       "Genre\n",
       "Comedy         177\n",
       "Action         166\n",
       "Drama          109\n",
       "Horror          52\n",
       "Animation       51\n",
       "Thriller        35\n",
       "Adventure       30\n",
       "Romance         20\n",
       "Crime           15\n",
       "Biography       14\n",
       "Documentary      7\n",
       "Fantasy          6\n",
       "Mystery          5\n",
       "Musical          4\n",
       "Name: count, dtype: int64"
      ]
     },
     "execution_count": 50,
     "metadata": {},
     "output_type": "execute_result"
    }
   ],
   "source": [
    "# Task 2: Find the genre with the greatest number of movie releases.\n",
    "most_common_genre = data['Genre'].value_counts().idxmax()\n",
    "print(f\"Genre with the greatest number of movie releases: {most_common_genre}\")\n",
    "\n",
    "data['Genre'].value_counts()"
   ]
  },
  {
   "cell_type": "code",
   "execution_count": 51,
   "id": "20ed4caf-0956-4b29-ad09-9e5213c2de4d",
   "metadata": {},
   "outputs": [
    {
     "name": "stdout",
     "output_type": "stream",
     "text": [
      "Top 5 costliest movies:\n",
      "                                          Movie  Budget\n",
      "3      Pirates of the Caribbean: At World's End   300.0\n",
      "468                                     Tangled   260.0\n",
      "0                                  Spider-Man 3   258.0\n",
      "241      Harry Potter and the Half-Blood Prince   250.0\n",
      "586  Pirates of the Caribbean:On Stranger Tides   250.0\n"
     ]
    }
   ],
   "source": [
    "# Task 3: Print the names of the top five movies with the costliest budgets.\n",
    "top_costliest_movies = data.nlargest(5, 'Budget')[['Movie', 'Budget']]\n",
    "print(\"Top 5 costliest movies:\")\n",
    "print(top_costliest_movies)"
   ]
  },
  {
   "cell_type": "code",
   "execution_count": 52,
   "id": "ceb28f8a-8864-42b3-8396-144e2f6e9d48",
   "metadata": {},
   "outputs": [
    {
     "data": {
      "image/png": "[encoded data removed]",
      "text/plain": [
       "<Figure size 1000x600 with 1 Axes>"
      ]
     },
     "metadata": {},
     "output_type": "display_data"
    }
   ],
   "source": [
    "# Task 4: Analyze correspondence between critics’ evaluation and audience acceptance.\n",
    "# Plotting profitability vs Rotten Tomatoes rating.\n",
    "plt.figure(figsize=(10, 6))\n",
    "plt.scatter(data['RottenTomatoes'], data['Profitability'], alpha=0.6)\n",
    "plt.title(\"Net Profitability vs Rotten Tomatoes Ratings\")\n",
    "plt.xlabel(\"Rotten Tomatoes Ratings\")\n",
    "plt.ylabel(\"Profitability\")\n",
    "plt.grid()\n",
    "plt.show()"
   ]
  },
  {
   "cell_type": "code",
   "execution_count": 67,
   "id": "5e68426b-9150-4cea-8cb2-8e871dbd6cc2",
   "metadata": {},
   "outputs": [
    {
     "name": "stdout",
     "output_type": "stream",
     "text": [
      "DataFrame read from example.csv:\n",
      "  first_name last_name  age preTestScore postTestScore\n",
      "0      Jason    Miller   42            4        25,000\n",
      "1      Molly  Jacobson   52           24        94,000\n",
      "2       Tina         .   36           31            57\n",
      "3       Jake    Milner   24            .            62\n",
      "4        Amy     Cooze   73            .            70\n",
      "<class 'pandas.core.frame.DataFrame'>\n",
      "RangeIndex: 5 entries, 0 to 4\n",
      "Data columns (total 5 columns):\n",
      " #   Column         Non-Null Count  Dtype \n",
      "---  ------         --------------  ----- \n",
      " 0   first_name     5 non-null      object\n",
      " 1   last_name      5 non-null      object\n",
      " 2   age            5 non-null      int64 \n",
      " 3   preTestScore   5 non-null      object\n",
      " 4   postTestScore  5 non-null      object\n",
      "dtypes: int64(1), object(4)\n",
      "memory usage: 328.0+ bytes\n",
      "None\n",
      "DataFrame read from example.csv without column headings:\n",
      "       0         1   2   3       4\n",
      "0  Jason    Miller  42   4  25,000\n",
      "1  Molly  Jacobson  52  24  94,000\n",
      "2   Tina         .  36  31      57\n",
      "3   Jake    Milner  24   .      62\n",
      "4    Amy     Cooze  73   .      70\n",
      "DataFrame with 'First Name' and 'Last Name' as index:\n",
      "                      age preTestScore postTestScore\n",
      "first_name last_name                                \n",
      "Jason      Miller      42            4        25,000\n",
      "Molly      Jacobson    52           24        94,000\n",
      "Tina       .           36           31            57\n",
      "Jake       Milner      24            .            62\n",
      "Amy        Cooze       73            .            70\n",
      "age                  42\n",
      "preTestScore          4\n",
      "postTestScore    25,000\n",
      "Name: (Jason, Miller), dtype: object\n",
      "Boolean DataFrame (True for Null, False for non-null):\n",
      "   first_name  last_name    age  preTestScore  postTestScore\n",
      "0       False      False  False         False          False\n",
      "1       False      False  False         False          False\n",
      "2       False      False  False         False          False\n",
      "3       False      False  False         False          False\n",
      "4       False      False  False         False          False\n",
      "DataFrame after skipping the first 3 rows (headers retained):\n",
      "  first_name last_name  age preTestScore  postTestScore\n",
      "0       Jake    Milner   24            .             62\n",
      "1        Amy     Cooze   73            .             70\n"
     ]
    }
   ],
   "source": [
    "# Task 5.1: Create a DataFrame from the raw data.\n",
    "data_dict = {\n",
    "    'first_name': ['Jason', 'Molly', 'Tina', 'Jake', 'Amy'],\n",
    "    'last_name': ['Miller', 'Jacobson', '.', 'Milner', 'Cooze'],\n",
    "    'age': [42, 52, 36, 24, 73],\n",
    "    'preTestScore': [4, 24, 31, \".\", \".\"],\n",
    "    'postTestScore': [\"25,000\", \"94,000\", 57, 62, 70]\n",
    "}\n",
    "df = pd.DataFrame(data_dict)\n",
    "\n",
    "# Task 5.2: Save the DataFrame into a CSV file as example.csv.\n",
    "df.to_csv('example.csv', index=False)\n",
    "\n",
    "# Task 5.3: Read the example.csv and print the DataFrame.\n",
    "read_df = pd.read_csv('example.csv')\n",
    "print(\"DataFrame read from example.csv:\")\n",
    "print(read_df)\n",
    "print(read_df.info())\n",
    "\n",
    "# Task 5.4: Read the example.csv without the column headings.\n",
    "read_no_header_df = pd.read_csv('example.csv', header=None)\n",
    "read_no_header_df = read_no_header_df.iloc[1:].reset_index(drop=True)  # Remove the first row (current header)\n",
    "print(\"DataFrame read from example.csv without column headings:\")\n",
    "print(read_no_header_df)\n",
    "\n",
    "# Task 5.5: Read example.csv and make the index columns 'First Name’ and 'Last Name'.\n",
    "indexed_df = pd.read_csv('example.csv', index_col=['first_name', 'last_name'])\n",
    "print(\"DataFrame with 'First Name' and 'Last Name' as index:\")\n",
    "print(indexed_df)\n",
    "# Using the 'first_name' and 'last_name' index for quick lookups, unique row identifiers\n",
    "print(indexed_df.loc[('Jason', 'Miller')])\n",
    "\n",
    "\n",
    "# Task 5.6: Print the DataFrame in a Boolean form indicating null values.\n",
    "bool_df = df.isnull()\n",
    "print(\"Boolean DataFrame (True for Null, False for non-null):\")\n",
    "print(bool_df)\n",
    "\n",
    "# Task 5.7: Skip the first 3 rows but retain the correct column headers\n",
    "n=3\n",
    "skipped_rows_df = pd.read_csv('example.csv', skiprows=range(1,n+1), header=0)\n",
    "#skipped_rows_df = pd.read_csv('example.csv', skiprows=[1,2,3], header=0)\n",
    "print(\"DataFrame after skipping the first 3 rows (headers retained):\")\n",
    "print(skipped_rows_df)\n",
    "\n",
    "# Task 5.8\n",
    "# Load the CSV while interpreting \",\" as a thousands separator\n",
    "df = pd.read_csv('example.csv', thousands=\",\")\n",
    "# Convert preTestScore to numeric, coercing invalid entries to NaN\n",
    "df['preTestScore'] = pd.to_numeric(df['preTestScore'], errors='coerce')\n",
    "\n",
    "# Display the updated DataFrame and data types\n",
    "print(\"DataFrame after cleaning 'preTestScore':\")\n",
    "print(df)\n",
    "\n",
    "print(\"\\nData types after cleaning:\")\n",
    "print(df.dtypes)\n"
   ]
  },
  {
   "cell_type": "code",
   "execution_count": 70,
   "id": "5ed2478a-5f01-4829-b58c-2a59211b1b74",
   "metadata": {},
   "outputs": [
    {
     "name": "stdout",
     "output_type": "stream",
     "text": [
      "Lowercase:\n",
      "0    amit\n",
      "1     bob\n",
      "2    kate\n",
      "3       a\n",
      "4       b\n",
      "5     NaN\n",
      "6     car\n",
      "7     dog\n",
      "8     cat\n",
      "dtype: object\n",
      "Uppercase:\n",
      "0    AMIT\n",
      "1     BOB\n",
      "2    KATE\n",
      "3       A\n",
      "4       B\n",
      "5     NaN\n",
      "6     CAR\n",
      "7     DOG\n",
      "8     CAT\n",
      "dtype: object\n",
      "Length of elements:\n",
      "0    4.0\n",
      "1    3.0\n",
      "2    4.0\n",
      "3    1.0\n",
      "4    1.0\n",
      "5    NaN\n",
      "6    3.0\n",
      "7    3.0\n",
      "8    3.0\n",
      "dtype: float64\n"
     ]
    }
   ],
   "source": [
    "# 6 6. Perform Operations on Files  \n",
    "# 6.1: From the raw data below create a Pandas Series\n",
    "\n",
    "# Raw data\n",
    "series_1 = pd.Series(['Amit', 'Bob', 'Kate', 'A', 'b', np.nan, 'Car', 'dog', 'cat'])\n",
    "\n",
    "# a) Print all elements in lower case\n",
    "print(\"Lowercase:\")\n",
    "print(series_1.str.lower())\n",
    "\n",
    "# b) Print all elements in upper case\n",
    "print(\"Uppercase:\")\n",
    "print(series_1.str.upper())\n",
    "\n",
    "# c) Print the length of all the elements\n",
    "print(\"Length of elements:\")\n",
    "print(series_1.str.len())"
   ]
  },
  {
   "cell_type": "code",
   "execution_count": 100,
   "id": "5f956200-8682-4b32-b24c-0c780c4ec106",
   "metadata": {},
   "outputs": [
    {
     "name": "stdout",
     "output_type": "stream",
     "text": [
      "Strip spaces from both sides:\n",
      "0    Atul\n",
      "1    John\n",
      "2    jack\n",
      "3     Sam\n",
      "dtype: object\n",
      "Strip spaces from the left only:\n",
      "0     Atul\n",
      "1    John \n",
      "2    jack \n",
      "3      Sam\n",
      "dtype: object\n",
      "Strip spaces from the right only:\n",
      "0     Atul\n",
      "1     John\n",
      "2     jack\n",
      "3      Sam\n",
      "dtype: object\n"
     ]
    }
   ],
   "source": [
    "# 6.2: From the raw data below create a Pandas Series\n",
    "# Raw data\n",
    "series_2 = pd.Series([' Atul', 'John ', ' jack ', 'Sam'])\n",
    "\n",
    "# a) Strip spaces from both sides\n",
    "print(\"Strip spaces from both sides:\")\n",
    "print(series_2.str.strip())\n",
    "#print(series_2.str.strip().str.len()) # to check\n",
    "\n",
    "# b) Remove spaces from the left only\n",
    "print(\"Strip spaces from the left only:\")\n",
    "print(series_2.str.lstrip())\n",
    "#print(series_2.str.lstrip().str.len()) # to check\n",
    "\n",
    "# c) Remove spaces from the right only\n",
    "print(\"Strip spaces from the right only:\")\n",
    "print(series_2.str.rstrip())\n",
    "# print(series_2.str.rstrip().str.len())  # to check\n"
   ]
  },
  {
   "cell_type": "code",
   "execution_count": 73,
   "id": "5ba7c77f-4359-47c1-b18e-91fc1cf7a750",
   "metadata": {},
   "outputs": [
    {
     "name": "stdout",
     "output_type": "stream",
     "text": [
      "Split strings into lists:\n",
      "0           [India, is, big]\n",
      "1     [Population, is, huge]\n",
      "2                        NaN\n",
      "3    [Has, diverse, culture]\n",
      "dtype: object\n",
      "Access individual elements of a list:\n",
      "is\n",
      "Expand elements:\n",
      "            0        1        2\n",
      "0       India       is      big\n",
      "1  Population       is     huge\n",
      "2         NaN      NaN      NaN\n",
      "3         Has  diverse  culture\n"
     ]
    }
   ],
   "source": [
    "# 6.3: -  Create a series from the raw data below \n",
    "# Raw data\n",
    "series_3 = pd.Series(['India_is_big', 'Population_is_huge', np.nan, 'Has_diverse_culture'])\n",
    "\n",
    "# a) Split strings wherever '_' occurs\n",
    "print(\"Split strings into lists:\")\n",
    "print(series_3.str.split('_'))\n",
    "\n",
    "# b) Access individual elements of a list\n",
    "print(\"Access individual elements of a list:\")\n",
    "split_series = series_3.str.split('_')\n",
    "print(split_series[0][1])  # Example: Access the second word of the first string\n",
    "\n",
    "# c) Expand elements so that individual components are separate\n",
    "print(\"Expand elements:\")\n",
    "print(series_3.str.split('_', expand=True))\n"
   ]
  },
  {
   "cell_type": "code",
   "execution_count": 74,
   "id": "8d0f9a99-f4d4-45aa-badd-3bed788d97d8",
   "metadata": {},
   "outputs": [
    {
     "name": "stdout",
     "output_type": "stream",
     "text": [
      "Replace 'X' or 'dog' with 'XX-XX':\n",
      "0           A\n",
      "1           B\n",
      "2           C\n",
      "3    AabXX-XX\n",
      "4    BacXX-XX\n",
      "5            \n",
      "6         NaN\n",
      "7        CABA\n",
      "8       XX-XX\n",
      "9         cat\n",
      "dtype: object\n"
     ]
    }
   ],
   "source": [
    "# 6.4: Create a series and replace either X or dog with XX-XX\n",
    "# Raw data\n",
    "series_4 = pd.Series(['A', 'B', 'C', 'AabX', 'BacX', '', np.nan, 'CABA', 'dog', 'cat'])\n",
    "\n",
    "# Replace 'X' or 'dog' with 'XX-XX'\n",
    "print(\"Replace 'X' or 'dog' with 'XX-XX':\")\n",
    "print(series_4.str.replace('X|dog', 'XX-XX', regex=True))\n"
   ]
  },
  {
   "cell_type": "code",
   "execution_count": 83,
   "id": "75d134c5-8fc2-47ee-82c0-abfc7681997c",
   "metadata": {},
   "outputs": [
    {
     "name": "stdout",
     "output_type": "stream",
     "text": [
      "Remove dollar signs:\n",
      "0       12.0\n",
      "1      -10.0\n",
      "2    10000.0\n",
      "dtype: float64\n"
     ]
    }
   ],
   "source": [
    "# 6.5: Create a series and remove the dollars from the numeric values\n",
    "# Raw data\n",
    "series_5 = pd.Series(['12', '-$10', '$10,000'])\n",
    "\n",
    "# Remove dollar signs\n",
    "print(\"Remove dollar signs:\")\n",
    "print(series_5.str.replace('[$,]', '', regex=True).astype(float))"
   ]
  },
  {
   "cell_type": "code",
   "execution_count": 84,
   "id": "2b6fb05c-c926-45b9-af4b-07fe9cae41c5",
   "metadata": {},
   "outputs": [
    {
     "name": "stdout",
     "output_type": "stream",
     "text": [
      "Reverse lowercase words:\n",
      "0     India 1998\n",
      "1    gib yrtnuoc\n",
      "2            NaN\n",
      "dtype: object\n"
     ]
    }
   ],
   "source": [
    "# 6.6:- Create a series and reverse all lower case words \n",
    "# Raw data\n",
    "series_6 = pd.Series(['India 1998', 'big country', np.nan])\n",
    "\n",
    "# Reverse lowercase words\n",
    "print(\"Reverse lowercase words:\")\n",
    "print(series_6.str.replace(r'\\b[a-z]+\\b', lambda x: x.group(0)[::-1], regex=True))\n"
   ]
  },
  {
   "cell_type": "code",
   "execution_count": 85,
   "id": "1d646134-49b0-4d0c-bb65-02a20514fedd",
   "metadata": {},
   "outputs": [
    {
     "name": "stdout",
     "output_type": "stream",
     "text": [
      "Check if values are alphanumeric:\n",
      "0    True\n",
      "1    True\n",
      "2    True\n",
      "3    True\n",
      "4    True\n",
      "dtype: bool\n"
     ]
    }
   ],
   "source": [
    "# 6.7: Create pandas series and print true if the value is alphanumeric in series or false if the value is not alphanumeric in series. \n",
    "# Raw data\n",
    "series_7 = pd.Series(['1', '2', '1a', '2b', '2003c'])\n",
    "\n",
    "# Check if values are alphanumeric\n",
    "print(\"Check if values are alphanumeric:\")\n",
    "print(series_7.str.isalnum())\n"
   ]
  },
  {
   "cell_type": "code",
   "execution_count": 86,
   "id": "00e82871-ea50-4120-be20-743f672eefaf",
   "metadata": {},
   "outputs": [
    {
     "name": "stdout",
     "output_type": "stream",
     "text": [
      "Check if values contain 'A':\n",
      "0    False\n",
      "1    False\n",
      "2     True\n",
      "3    False\n",
      "4     True\n",
      "5     True\n",
      "6     True\n",
      "7    False\n",
      "dtype: bool\n"
     ]
    }
   ],
   "source": [
    "# 6.8: Create pandas series and print true if the value is containing ‘A’ \n",
    "# Raw data\n",
    "series_8 = pd.Series(['1', '2', '1a', '2b', 'America', 'VietnAm', 'vietnam', '2003c'])\n",
    "\n",
    "# Check if values contain 'A'\n",
    "print(\"Check if values contain 'A':\")\n",
    "print(series_8.str.contains('A', case=False, na=False))\n"
   ]
  },
  {
   "cell_type": "code",
   "execution_count": 87,
   "id": "11a775d1-2f95-44c4-809f-94cac23a9fea",
   "metadata": {},
   "outputs": [
    {
     "name": "stdout",
     "output_type": "stream",
     "text": [
      "Check for 'a', 'b', or 'c':\n",
      "   contains_a  contains_b  contains_c\n",
      "0        True       False       False\n",
      "1        True        True       False\n",
      "2       False       False       False\n",
      "3        True       False        True\n"
     ]
    }
   ],
   "source": [
    "# 6.9: Create pandas series and print in three columns value 0 or 1 is a or b or c exists in values\n",
    "# Raw data\n",
    "series_9 = pd.Series(['a', 'a|b', np.nan, 'a|c'])\n",
    "\n",
    "# Check for 'a', 'b', or 'c'\n",
    "print(\"Check for 'a', 'b', or 'c':\")\n",
    "print(pd.DataFrame({\n",
    "    'contains_a': series_9.str.contains('a', na=False),\n",
    "    'contains_b': series_9.str.contains('b', na=False),\n",
    "    'contains_c': series_9.str.contains('c', na=False),\n",
    "}))\n"
   ]
  },
  {
   "cell_type": "code",
   "execution_count": 88,
   "id": "92b518c5-4005-43ff-b2df-6dee41b7844b",
   "metadata": {},
   "outputs": [
    {
     "name": "stdout",
     "output_type": "stream",
     "text": [
      "Merged table:\n",
      "   key  ltable  rtable\n",
      "0  One       1       4\n",
      "1  Two       2       5\n"
     ]
    }
   ],
   "source": [
    "# 6.10: Create pandas dataframe having keys and ltable and rtable as below \n",
    "# Left table\n",
    "ltable = pd.DataFrame({'key': ['One', 'Two'], 'ltable': [1, 2]})\n",
    "\n",
    "# Right table\n",
    "rtable = pd.DataFrame({'key': ['One', 'Two'], 'rtable': [4, 5]})\n",
    "\n",
    "# Merge tables on 'key'\n",
    "merged_table = pd.merge(ltable, rtable, on='key')\n",
    "print(\"Merged table:\")\n",
    "print(merged_table)\n"
   ]
  },
  {
   "cell_type": "code",
   "execution_count": null,
   "id": "b2ab00b9-57f2-4dbb-aa29-fa83c3823165",
   "metadata": {},
   "outputs": [],
   "source": []
  }
 ],
 "metadata": {
  "kernelspec": {
   "display_name": "Python 3 (ipykernel)",
   "language": "python",
   "name": "python3"
  },
  "language_info": {
   "codemirror_mode": {
    "name": "ipython",
    "version": 3
   },
   "file_extension": ".py",
   "mimetype": "text/x-python",
   "name": "python",
   "nbconvert_exporter": "python",
   "pygments_lexer": "ipython3",
   "version": "3.10.1"
  }
 },
 "nbformat": 4,
 "nbformat_minor": 5
}
