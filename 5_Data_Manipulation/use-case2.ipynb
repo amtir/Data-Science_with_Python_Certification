{
 "cells": [
  {
   "cell_type": "markdown",
   "id": "4ec06ef9-4aa9-4a2b-889d-281c2c87e37c",
   "metadata": {},
   "source": [
    "# Module 5: Data Manipulation \n",
    "## Case Study – 2"
   ]
  },
  {
   "cell_type": "code",
   "execution_count": 50,
   "id": "1815e186-e0b8-4e83-b107-e36459182bc0",
   "metadata": {},
   "outputs": [],
   "source": [
    "from matplotlib import pyplot as plt\n",
    "import numpy as np\n",
    "import pandas as pd"
   ]
  },
  {
   "cell_type": "code",
   "execution_count": 51,
   "id": "aa8faad0-4cbc-4012-b8fc-5f1025cbdc1b",
   "metadata": {},
   "outputs": [
    {
     "name": "stdout",
     "output_type": "stream",
     "text": [
      "<class 'pandas.core.frame.DataFrame'>\n",
      "RangeIndex: 148648 entries, 0 to 148647\n",
      "Data columns (total 13 columns):\n",
      " #   Column            Non-Null Count   Dtype  \n",
      "---  ------            --------------   -----  \n",
      " 0   Id                148648 non-null  int64  \n",
      " 1   EmployeeName      148648 non-null  object \n",
      " 2   JobTitle          148648 non-null  object \n",
      " 3   BasePay           148043 non-null  float64\n",
      " 4   OvertimePay       148648 non-null  float64\n",
      " 5   OtherPay          148648 non-null  float64\n",
      " 6   Benefits          112490 non-null  float64\n",
      " 7   TotalPay          148648 non-null  float64\n",
      " 8   TotalPayBenefits  148648 non-null  float64\n",
      " 9   Year              148648 non-null  int64  \n",
      " 10  Notes             0 non-null       float64\n",
      " 11  Agency            148648 non-null  object \n",
      " 12  Status            38119 non-null   object \n",
      "dtypes: float64(7), int64(2), object(4)\n",
      "memory usage: 14.7+ MB\n"
     ]
    },
    {
     "name": "stderr",
     "output_type": "stream",
     "text": [
      "C:\\Users\\akram\\AppData\\Local\\Temp\\ipykernel_19200\\2829350274.py:2: DtypeWarning: Columns (12) have mixed types. Specify dtype option on import or set low_memory=False.\n",
      "  data = pd.read_csv('Salaries.csv')\n"
     ]
    },
    {
     "data": {
      "text/html": [
       "<div>\n",
       "<style scoped>\n",
       "    .dataframe tbody tr th:only-of-type {\n",
       "        vertical-align: middle;\n",
       "    }\n",
       "\n",
       "    .dataframe tbody tr th {\n",
       "        vertical-align: top;\n",
       "    }\n",
       "\n",
       "    .dataframe thead th {\n",
       "        text-align: right;\n",
       "    }\n",
       "</style>\n",
       "<table border=\"1\" class=\"dataframe\">\n",
       "  <thead>\n",
       "    <tr style=\"text-align: right;\">\n",
       "      <th></th>\n",
       "      <th>Id</th>\n",
       "      <th>EmployeeName</th>\n",
       "      <th>JobTitle</th>\n",
       "      <th>BasePay</th>\n",
       "      <th>OvertimePay</th>\n",
       "      <th>OtherPay</th>\n",
       "      <th>Benefits</th>\n",
       "      <th>TotalPay</th>\n",
       "      <th>TotalPayBenefits</th>\n",
       "      <th>Year</th>\n",
       "      <th>Notes</th>\n",
       "      <th>Agency</th>\n",
       "      <th>Status</th>\n",
       "    </tr>\n",
       "  </thead>\n",
       "  <tbody>\n",
       "    <tr>\n",
       "      <th>0</th>\n",
       "      <td>1</td>\n",
       "      <td>NATHANIEL FORD</td>\n",
       "      <td>GENERAL MANAGER-METROPOLITAN TRANSIT AUTHORITY</td>\n",
       "      <td>167411.18</td>\n",
       "      <td>0.00</td>\n",
       "      <td>400184.25</td>\n",
       "      <td>NaN</td>\n",
       "      <td>567595.43</td>\n",
       "      <td>567595.43</td>\n",
       "      <td>2011</td>\n",
       "      <td>NaN</td>\n",
       "      <td>San Francisco</td>\n",
       "      <td>NaN</td>\n",
       "    </tr>\n",
       "    <tr>\n",
       "      <th>1</th>\n",
       "      <td>2</td>\n",
       "      <td>GARY JIMENEZ</td>\n",
       "      <td>CAPTAIN III (POLICE DEPARTMENT)</td>\n",
       "      <td>155966.02</td>\n",
       "      <td>245131.88</td>\n",
       "      <td>137811.38</td>\n",
       "      <td>NaN</td>\n",
       "      <td>538909.28</td>\n",
       "      <td>538909.28</td>\n",
       "      <td>2011</td>\n",
       "      <td>NaN</td>\n",
       "      <td>San Francisco</td>\n",
       "      <td>NaN</td>\n",
       "    </tr>\n",
       "    <tr>\n",
       "      <th>2</th>\n",
       "      <td>3</td>\n",
       "      <td>ALBERT PARDINI</td>\n",
       "      <td>CAPTAIN III (POLICE DEPARTMENT)</td>\n",
       "      <td>212739.13</td>\n",
       "      <td>106088.18</td>\n",
       "      <td>16452.60</td>\n",
       "      <td>NaN</td>\n",
       "      <td>335279.91</td>\n",
       "      <td>335279.91</td>\n",
       "      <td>2011</td>\n",
       "      <td>NaN</td>\n",
       "      <td>San Francisco</td>\n",
       "      <td>NaN</td>\n",
       "    </tr>\n",
       "    <tr>\n",
       "      <th>3</th>\n",
       "      <td>4</td>\n",
       "      <td>CHRISTOPHER CHONG</td>\n",
       "      <td>WIRE ROPE CABLE MAINTENANCE MECHANIC</td>\n",
       "      <td>77916.00</td>\n",
       "      <td>56120.71</td>\n",
       "      <td>198306.90</td>\n",
       "      <td>NaN</td>\n",
       "      <td>332343.61</td>\n",
       "      <td>332343.61</td>\n",
       "      <td>2011</td>\n",
       "      <td>NaN</td>\n",
       "      <td>San Francisco</td>\n",
       "      <td>NaN</td>\n",
       "    </tr>\n",
       "    <tr>\n",
       "      <th>4</th>\n",
       "      <td>5</td>\n",
       "      <td>PATRICK GARDNER</td>\n",
       "      <td>DEPUTY CHIEF OF DEPARTMENT,(FIRE DEPARTMENT)</td>\n",
       "      <td>134401.60</td>\n",
       "      <td>9737.00</td>\n",
       "      <td>182234.59</td>\n",
       "      <td>NaN</td>\n",
       "      <td>326373.19</td>\n",
       "      <td>326373.19</td>\n",
       "      <td>2011</td>\n",
       "      <td>NaN</td>\n",
       "      <td>San Francisco</td>\n",
       "      <td>NaN</td>\n",
       "    </tr>\n",
       "  </tbody>\n",
       "</table>\n",
       "</div>"
      ],
      "text/plain": [
       "   Id       EmployeeName                                        JobTitle  \\\n",
       "0   1     NATHANIEL FORD  GENERAL MANAGER-METROPOLITAN TRANSIT AUTHORITY   \n",
       "1   2       GARY JIMENEZ                 CAPTAIN III (POLICE DEPARTMENT)   \n",
       "2   3     ALBERT PARDINI                 CAPTAIN III (POLICE DEPARTMENT)   \n",
       "3   4  CHRISTOPHER CHONG            WIRE ROPE CABLE MAINTENANCE MECHANIC   \n",
       "4   5    PATRICK GARDNER    DEPUTY CHIEF OF DEPARTMENT,(FIRE DEPARTMENT)   \n",
       "\n",
       "     BasePay  OvertimePay   OtherPay  Benefits   TotalPay  TotalPayBenefits  \\\n",
       "0  167411.18         0.00  400184.25       NaN  567595.43         567595.43   \n",
       "1  155966.02    245131.88  137811.38       NaN  538909.28         538909.28   \n",
       "2  212739.13    106088.18   16452.60       NaN  335279.91         335279.91   \n",
       "3   77916.00     56120.71  198306.90       NaN  332343.61         332343.61   \n",
       "4  134401.60      9737.00  182234.59       NaN  326373.19         326373.19   \n",
       "\n",
       "   Year  Notes         Agency Status  \n",
       "0  2011    NaN  San Francisco    NaN  \n",
       "1  2011    NaN  San Francisco    NaN  \n",
       "2  2011    NaN  San Francisco    NaN  \n",
       "3  2011    NaN  San Francisco    NaN  \n",
       "4  2011    NaN  San Francisco    NaN  "
      ]
     },
     "execution_count": 51,
     "metadata": {},
     "output_type": "execute_result"
    }
   ],
   "source": [
    "# Load the data\n",
    "data = pd.read_csv('Salaries.csv')\n",
    "data.info()\n",
    "data.head()"
   ]
  },
  {
   "cell_type": "code",
   "execution_count": 52,
   "id": "ae0ae43e-c5fe-43ed-b2ee-805db65df0e7",
   "metadata": {},
   "outputs": [
    {
     "data": {
      "text/plain": [
       "Id                       0\n",
       "EmployeeName             0\n",
       "JobTitle                 0\n",
       "BasePay                605\n",
       "OvertimePay              0\n",
       "OtherPay                 0\n",
       "Benefits             36158\n",
       "TotalPay                 0\n",
       "TotalPayBenefits         0\n",
       "Year                     0\n",
       "Notes               148648\n",
       "Agency                   0\n",
       "Status              110529\n",
       "dtype: int64"
      ]
     },
     "execution_count": 52,
     "metadata": {},
     "output_type": "execute_result"
    }
   ],
   "source": [
    "# Check Null values\n",
    "data .isnull().sum()"
   ]
  },
  {
   "cell_type": "code",
   "execution_count": 53,
   "id": "1670ae7b-f6c4-4678-b053-9e693ab84ee7",
   "metadata": {},
   "outputs": [
    {
     "name": "stdout",
     "output_type": "stream",
     "text": [
      "<bound method Series.info of Year\n",
      "2011    2.594113e+09\n",
      "2012    3.696790e+09\n",
      "2013    3.814772e+09\n",
      "2014    3.821866e+09\n",
      "Name: TotalPayBenefits, dtype: float64>\n",
      "Year: 2011, Total Salary Cost: $2594113030.72\n",
      "Year: 2012, Total Salary Cost: $3696790118.45\n",
      "Year: 2013, Total Salary Cost: $3814772184.37\n",
      "Year: 2014, Total Salary Cost: $3821865780.60\n",
      "Total salary cost increased by: $1227752749.88\n"
     ]
    }
   ],
   "source": [
    "# 1. Compute how much total salary cost has increased from 2011 to 2014\n",
    "# Group data by year and sum TotalPayBenefits for each year\n",
    "total_cost_by_year = data.groupby('Year')['TotalPayBenefits'].sum()\n",
    "print(total_cost_by_year.info)\n",
    "# Iterate through the grouped data\n",
    "for year, tot_cost in total_cost_by_year.items():\n",
    "    print(f\"Year: {year}, Total Salary Cost: ${tot_cost:.2f}\")\n",
    "\n",
    "# Calculate the increase from 2011 to 2014\n",
    "cost_increase = total_cost_by_year[2014] - total_cost_by_year[2011]\n",
    "print(f\"Total salary cost increased by: ${cost_increase:.2f}\")\n"
   ]
  },
  {
   "cell_type": "code",
   "execution_count": 54,
   "id": "753bf80e-d01c-4e79-b955-62721e18c2f7",
   "metadata": {},
   "outputs": [
    {
     "name": "stdout",
     "output_type": "stream",
     "text": [
      "<class 'pandas.core.frame.DataFrame'>\n",
      "Index: 38119 entries, 110529 to 148647\n",
      "Data columns (total 13 columns):\n",
      " #   Column            Non-Null Count  Dtype  \n",
      "---  ------            --------------  -----  \n",
      " 0   Id                38119 non-null  int64  \n",
      " 1   EmployeeName      38119 non-null  object \n",
      " 2   JobTitle          38119 non-null  object \n",
      " 3   BasePay           38119 non-null  float64\n",
      " 4   OvertimePay       38119 non-null  float64\n",
      " 5   OtherPay          38119 non-null  float64\n",
      " 6   Benefits          38119 non-null  float64\n",
      " 7   TotalPay          38119 non-null  float64\n",
      " 8   TotalPayBenefits  38119 non-null  float64\n",
      " 9   Year              38119 non-null  int64  \n",
      " 10  Notes             0 non-null      float64\n",
      " 11  Agency            38119 non-null  object \n",
      " 12  Status            38119 non-null  object \n",
      "dtypes: float64(7), int64(2), object(4)\n",
      "memory usage: 4.1+ MB\n",
      "None\n",
      "Id                      0\n",
      "EmployeeName            0\n",
      "JobTitle                0\n",
      "BasePay                 0\n",
      "OvertimePay             0\n",
      "OtherPay                0\n",
      "Benefits                0\n",
      "TotalPay                0\n",
      "TotalPayBenefits        0\n",
      "Year                    0\n",
      "Notes               38119\n",
      "Agency                  0\n",
      "Status                  0\n",
      "dtype: int64\n",
      "            Id          EmployeeName                  JobTitle    BasePay  \\\n",
      "110529  110532           David Shinn            Deputy Chief 3  129150.01   \n",
      "110530  110533            Amy P Hart         Asst Med Examiner  318835.49   \n",
      "110531  110534  William J Coaker Jr.  Chief Investment Officer  257340.00   \n",
      "110532  110535        Gregory P Suhr           Chief of Police  307450.04   \n",
      "110533  110536  Joanne M Hayes-White    Chief, Fire Department  302068.00   \n",
      "\n",
      "        OvertimePay   OtherPay  Benefits   TotalPay  TotalPayBenefits  Year  \\\n",
      "110529         0.00  342802.63  38780.04  471952.64         510732.68  2014   \n",
      "110530     10712.95   60563.54  89540.23  390111.98         479652.21  2014   \n",
      "110531         0.00   82313.70  96570.66  339653.70         436224.36  2014   \n",
      "110532         0.00   19266.72  91302.46  326716.76         418019.22  2014   \n",
      "110533         0.00   24165.44  91201.66  326233.44         417435.10  2014   \n",
      "\n",
      "        Notes         Agency Status  \n",
      "110529    NaN  San Francisco     PT  \n",
      "110530    NaN  San Francisco     FT  \n",
      "110531    NaN  San Francisco     PT  \n",
      "110532    NaN  San Francisco     FT  \n",
      "110533    NaN  San Francisco     FT  \n",
      "\n",
      "Top 5 Job Titles with the highest mean salaries in 2014:\n",
      "Job Title: Chief of Police, Mean Salary: $307450.04\n",
      "Job Title: Chief, Fire Department, Mean Salary: $302068.00\n",
      "Job Title: Gen Mgr, Public Trnsp Dept, Mean Salary: $294000.18\n",
      "Job Title: Administrator, DPH, Mean Salary: $282619.96\n",
      "Job Title: Mayor, Mean Salary: $281537.17\n",
      "\n",
      "Job Title with the highest mean salary in 2014: Chief of Police\n"
     ]
    }
   ],
   "source": [
    "# 2. Which Job Title in the Year 2014 has the highest mean salary?\n",
    "# Filter data for the year 2014\n",
    "data_2014 = data[data['Year'] == 2014]\n",
    "print(data_2014.info())\n",
    "print(data_2014.isnull().sum())  # check null values\n",
    "print(data_2014.head(5))\n",
    "\n",
    "JobTitle_BasePay_2014 = data_2014.groupby('JobTitle')['BasePay'].mean()\n",
    "\n",
    "# Sort by BasePay in descending order and get the top 5\n",
    "top_jobs_2014 = JobTitle_BasePay_2014.sort_values(ascending=False)\n",
    "\n",
    "# Print the top 5 job titles with their mean salaries\n",
    "print(\"\\nTop 5 Job Titles with the highest mean salaries in 2014:\")\n",
    "for jobtitle, basepay in top_jobs_2014[:5].items():\n",
    "    print(f\"Job Title: {jobtitle}, Mean Salary: ${basepay:.2f}\")\n",
    "\n",
    "# Group by JobTitle and calculate mean BasePay\n",
    "highest_mean_salary_job = data_2014.groupby('JobTitle')['BasePay'].mean().idxmax()\n",
    "print(f\"\\nJob Title with the highest mean salary in 2014: {highest_mean_salary_job}\")\n"
   ]
  },
  {
   "cell_type": "code",
   "execution_count": 55,
   "id": "b4929467-2c9c-4083-be24-2a95ad2c41df",
   "metadata": {},
   "outputs": [
    {
     "name": "stdout",
     "output_type": "stream",
     "text": [
      "Money saved by stopping OverTimePay in 2014: $205918599.27\n"
     ]
    }
   ],
   "source": [
    "# 3. How much money could have been saved in the Year 2014 by stopping OverTimePay?\n",
    "# Sum OverTimePay for 2014\n",
    "overtime_cost_2014 = data_2014['OvertimePay'].sum()\n",
    "print(f\"Money saved by stopping OverTimePay in 2014: ${overtime_cost_2014:.2f}\")\n"
   ]
  },
  {
   "cell_type": "code",
   "execution_count": 56,
   "id": "593db2a9-3ce5-448f-ac01-f35cbd318ae3",
   "metadata": {},
   "outputs": [
    {
     "name": "stdout",
     "output_type": "stream",
     "text": [
      "Top 5 common jobs in 2014 \n",
      " JobTitle\n",
      "Transit Operator                2479\n",
      "Special Nurse                   1478\n",
      "Registered Nurse                1234\n",
      "Public Svc Aide-Public Works     916\n",
      "Firefighter                      815\n",
      "Name: count, dtype: int64\n",
      "\n",
      "Top 5 common jobs in 2014 and their total costs:\n",
      "JobTitle\n",
      "Firefighter                     1.448270e+08\n",
      "Public Svc Aide-Public Works    9.806317e+06\n",
      "Registered Nurse                1.872165e+08\n",
      "Special Nurse                   5.344305e+07\n",
      "Transit Operator                2.149764e+08\n",
      "Name: TotalPayBenefits, dtype: float64\n",
      "\n",
      "Top 5 common jobs in 2014 and their total costs:\n",
      "Job Title: Firefighter, Total Cost: $144,827,011.84\n",
      "Job Title: Public Svc Aide-Public Works, Total Cost: $9,806,317.44\n",
      "Job Title: Registered Nurse, Total Cost: $187,216,454.08\n",
      "Job Title: Special Nurse, Total Cost: $53,443,054.51\n",
      "Job Title: Transit Operator, Total Cost: $214,976,389.79\n"
     ]
    },
    {
     "data": {
      "image/png": "[encoded data removed]",
      "text/plain": [
       "<Figure size 640x480 with 1 Axes>"
      ]
     },
     "metadata": {},
     "output_type": "display_data"
    }
   ],
   "source": [
    "# 4. Top 5 common jobs in 2014 and their total cost to SFO # SFO stands for San Francisco\n",
    "# Finding Top 5 Common Jobs:\n",
    "top_5_jobs = data_2014['JobTitle'].value_counts().head(5)\n",
    "# The .value_counts() method in pandas returns the counts of unique values in a Series. It is commonly used to find the frequency of occurrences for each value in a column.\n",
    "\n",
    "print(\"Top 5 common jobs in 2014 \\n\", top_5_jobs)\n",
    "\n",
    "# Calculate the total cost for each of these jobs\n",
    "# Filtering Data for Top 5 Jobs: the 5 most common jobs in 2014\n",
    "data_top_5_jobs = data_2014[data_2014['JobTitle'].isin(top_5_jobs.index)]\n",
    "#print(data_top_5_jobs)\n",
    "\n",
    "# Calculating Total Costs: Calculate the total cost for each of these jobs\n",
    "top_5_jobs_cost = data_top_5_jobs.groupby('JobTitle')['TotalPayBenefits'].sum()\n",
    "print(\"\\nTop 5 common jobs in 2014 and their total costs:\")\n",
    "print(top_5_jobs_cost)\n",
    "\n",
    "\n",
    "print(\"\\nTop 5 common jobs in 2014 and their total costs:\")\n",
    "for job, cost in top_5_jobs_cost.items():\n",
    "    print(f\"Job Title: {job}, Total Cost: ${cost:,.2f}\")\n",
    "\n",
    "\n",
    "top_5_jobs_cost.plot(kind='bar', title='Top 5 Jobs and Total Costs in 2014', ylabel='Total Cost', xlabel='Job Titles')\n",
    "plt.show()"
   ]
  },
  {
   "cell_type": "code",
   "execution_count": 57,
   "id": "aeec3678-a8f2-41a8-971e-d79ad90b9960",
   "metadata": {},
   "outputs": [
    {
     "name": "stdout",
     "output_type": "stream",
     "text": [
      "Top earning employee across all years: NATHANIEL FORD with TotalPayBenefits: $567595.43\n",
      "\n",
      "Top 5 earning employees across all years:\n",
      "Employee: NATHANIEL FORD, Job Title: GENERAL MANAGER-METROPOLITAN TRANSIT AUTHORITY, TotalPayBenefits: $567595.43\n",
      "Employee: GARY JIMENEZ, Job Title: CAPTAIN III (POLICE DEPARTMENT), TotalPayBenefits: $538909.28\n",
      "Employee: David Shinn, Job Title: Deputy Chief 3, TotalPayBenefits: $510732.68\n",
      "Employee: Amy P Hart, Job Title: Asst Med Examiner, TotalPayBenefits: $479652.21\n",
      "Employee: William J Coaker Jr., Job Title: Chief Investment Officer, TotalPayBenefits: $436224.36\n"
     ]
    },
    {
     "data": {
      "image/png": "[encoded data removed]",
      "text/plain": [
       "<Figure size 800x500 with 1 Axes>"
      ]
     },
     "metadata": {},
     "output_type": "display_data"
    }
   ],
   "source": [
    "# 5. Who was the top earning employee across all the years?\n",
    "# Find the employee with the highest TotalPayBenefits\n",
    "top_earner = data.loc[data['TotalPayBenefits'].idxmax()]\n",
    "print(f\"Top earning employee across all years: {top_earner['EmployeeName']} with TotalPayBenefits: ${top_earner['TotalPayBenefits']:.2f}\")\n",
    "\n",
    "\n",
    "# Get the top 5 rows with the highest TotalPayBenefits\n",
    "top_5_earners = data.nlargest(5, 'TotalPayBenefits')\n",
    "\n",
    "# Print the results\n",
    "print(\"\\nTop 5 earning employees across all years:\")\n",
    "for index, row in top_5_earners.iterrows():\n",
    "    print(f\"Employee: {row['EmployeeName']}, Job Title: {row['JobTitle']}, TotalPayBenefits: ${row['TotalPayBenefits']:.2f}\")\n",
    "\n",
    "# Plot a bar chart\n",
    "plt.figure(figsize=(8, 5))\n",
    "plt.bar(top_5_earners['EmployeeName'], top_3_earners['TotalPayBenefits'], color='skyblue')\n",
    "\n",
    "# Add labels and title\n",
    "plt.xlabel('Employee Name')\n",
    "plt.ylabel('Total Pay Benefits ($)')\n",
    "plt.title('Top 5 Earning Employees')\n",
    "plt.xticks(rotation=45, ha='right')  # Rotate x-axis labels for better visibility\n",
    "\n",
    "# Display the plot\n",
    "plt.tight_layout()\n",
    "plt.show()"
   ]
  },
  {
   "cell_type": "code",
   "execution_count": 58,
   "id": "979a0fd6-1b7c-4dae-a341-fd5dbe41feff",
   "metadata": {},
   "outputs": [
    {
     "name": "stdout",
     "output_type": "stream",
     "text": [
      "Last 5 common jobs in 2014 and their total costs:\n",
      "JobTitle\n",
      "Baker                        14114.55\n",
      "Cashier 3                     2074.60\n",
      "Chief Investment Officer    436224.36\n",
      "Transit Planner 2            14803.33\n",
      "Transit Planner 4            16008.88\n",
      "Name: TotalPayBenefits, dtype: float64\n"
     ]
    }
   ],
   "source": [
    "#Enhancements\n",
    "# 6.1: Last 5 common jobs in 2014 and their total costs\n",
    "# Get the last 5 common jobs in 2014\n",
    "last_5_jobs = data_2014['JobTitle'].value_counts().tail(5).index\n",
    "\n",
    "# Calculate the total cost for each of these jobs\n",
    "last_5_jobs_cost = data_2014[data_2014['JobTitle'].isin(last_5_jobs)].groupby('JobTitle')['TotalPayBenefits'].sum()\n",
    "print(\"Last 5 common jobs in 2014 and their total costs:\")\n",
    "print(last_5_jobs_cost)\n"
   ]
  },
  {
   "cell_type": "code",
   "execution_count": 59,
   "id": "9607c939-c471-44f4-b066-033a7bad823d",
   "metadata": {},
   "outputs": [
    {
     "name": "stdout",
     "output_type": "stream",
     "text": [
      "OverTimePay as a percentage of TotalPayBenefits in 2011: 6.32%\n"
     ]
    }
   ],
   "source": [
    "# 6.2: OverTimePay as a percentage of TotalPayBenefits in 2011\n",
    "# Filter data for the year 2011\n",
    "data_2011 = data[data['Year'] == 2011]\n",
    "\n",
    "# Calculate percentage of OverTimePay to TotalPayBenefits\n",
    "overtime_percentage_2011 = (data_2011['OvertimePay'].sum() / data_2011['TotalPayBenefits'].sum()) * 100\n",
    "print(f\"OverTimePay as a percentage of TotalPayBenefits in 2011: {overtime_percentage_2011:.2f}%\")\n"
   ]
  },
  {
   "cell_type": "code",
   "execution_count": 60,
   "id": "04e82f69-600b-4850-8477-dad2397aea97",
   "metadata": {},
   "outputs": [
    {
     "name": "stdout",
     "output_type": "stream",
     "text": [
      "Job Title with the lowest mean salary in 2014: BdComm Mbr, Grp2,M=$25/Mtg\n",
      "Lowest mean salary in 2014: $345.42\n"
     ]
    }
   ],
   "source": [
    "# 6.3: Job Title in 2014 with the lowest mean salary\n",
    "# Job Title with the lowest mean BasePay in 2014\n",
    "# Group by JobTitle and calculate mean BasePay\n",
    "mean_salary_by_job = data_2014.groupby('JobTitle')['TotalPayBenefits'].mean()\n",
    "#mean_salary_by_job.info()\n",
    "\n",
    "# Find the Job Title with the lowest mean salary\n",
    "lowest_mean_salary_job = mean_salary_by_job.idxmin()\n",
    "lowest_mean_salary_value = mean_salary_by_job.min()\n",
    "\n",
    "# Print the results\n",
    "print(f\"Job Title with the lowest mean salary in 2014: {lowest_mean_salary_job}\")\n",
    "print(f\"Lowest mean salary in 2014: ${lowest_mean_salary_value:.2f}\")\n"
   ]
  },
  {
   "cell_type": "markdown",
   "id": "f27796f8-0249-48b9-9172-77aef2cdd901",
   "metadata": {},
   "source": [
    "### Summary of Outputs\n",
    "1. Salary increase: Difference in total costs between 2011 and 2014.\n",
    "2. Highest-paying job: Job title with the highest average BasePay in 2014.\n",
    "3. Savings by cutting OverTimePay: Total amount spent on OverTimePay in 2014.\n",
    "4. Top 5 jobs in 2014: List of jobs and their total costs.\n",
    "5. Top earner: Employee with the highest total pay benefits across all years.\n",
    "6. Additional insights: Last 5 jobs, overtime percentage, and lowest-paying job in 2014"
   ]
  },
  {
   "cell_type": "code",
   "execution_count": null,
   "id": "4e7239cc-0a50-4c8d-bba9-2f3df7acbb27",
   "metadata": {},
   "outputs": [],
   "source": []
  }
 ],
 "metadata": {
  "kernelspec": {
   "display_name": "Python 3 (ipykernel)",
   "language": "python",
   "name": "python3"
  },
  "language_info": {
   "codemirror_mode": {
    "name": "ipython",
    "version": 3
   },
   "file_extension": ".py",
   "mimetype": "text/x-python",
   "name": "python",
   "nbconvert_exporter": "python",
   "pygments_lexer": "ipython3",
   "version": "3.10.1"
  }
 },
 "nbformat": 4,
 "nbformat_minor": 5
}
